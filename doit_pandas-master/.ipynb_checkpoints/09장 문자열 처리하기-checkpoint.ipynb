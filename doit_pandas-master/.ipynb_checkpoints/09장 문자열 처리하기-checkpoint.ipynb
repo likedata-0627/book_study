{
 "cells": [
  {
   "cell_type": "markdown",
   "metadata": {},
   "source": [
    "# 9-1 문자열다루기"
   ]
  },
  {
   "cell_type": "code",
   "execution_count": 1,
   "metadata": {},
   "outputs": [
    {
     "name": "stdout",
     "output_type": "stream",
     "text": [
      "g\n",
      "a\n"
     ]
    }
   ],
   "source": [
    "#문자열도 인덱스로 추출할 수 있음\n",
    "word = 'grail'\n",
    "sent = 'a scratch'\n",
    "print(word[0])\n",
    "print(sent[0])"
   ]
  },
  {
   "cell_type": "code",
   "execution_count": 2,
   "metadata": {},
   "outputs": [
    {
     "name": "stdout",
     "output_type": "stream",
     "text": [
      "gra\n"
     ]
    }
   ],
   "source": [
    "print(word[0:3])"
   ]
  },
  {
   "cell_type": "code",
   "execution_count": 3,
   "metadata": {},
   "outputs": [
    {
     "name": "stdout",
     "output_type": "stream",
     "text": [
      "h\n"
     ]
    }
   ],
   "source": [
    "print(sent[-1])"
   ]
  },
  {
   "cell_type": "code",
   "execution_count": 4,
   "metadata": {},
   "outputs": [
    {
     "name": "stdout",
     "output_type": "stream",
     "text": [
      "a\n"
     ]
    }
   ],
   "source": [
    "print(sent[-9:-8])"
   ]
  },
  {
   "cell_type": "code",
   "execution_count": 5,
   "metadata": {},
   "outputs": [
    {
     "name": "stdout",
     "output_type": "stream",
     "text": [
      "a\n"
     ]
    }
   ],
   "source": [
    "print(sent[0:-8])"
   ]
  },
  {
   "cell_type": "code",
   "execution_count": 6,
   "metadata": {},
   "outputs": [
    {
     "name": "stdout",
     "output_type": "stream",
     "text": [
      "scratc\n"
     ]
    }
   ],
   "source": [
    "#전체 문자열을 추출할때 음수를 사용해서는 안된다. \n",
    "print(sent[2:-1])"
   ]
  },
  {
   "cell_type": "code",
   "execution_count": 7,
   "metadata": {},
   "outputs": [
    {
     "data": {
      "text/plain": [
       "'scratc'"
      ]
     },
     "execution_count": 7,
     "metadata": {},
     "output_type": "execute_result"
    }
   ],
   "source": [
    "sent[-7:-1]"
   ]
  },
  {
   "cell_type": "code",
   "execution_count": 8,
   "metadata": {},
   "outputs": [
    {
     "data": {
      "text/plain": [
       "9"
      ]
     },
     "execution_count": 8,
     "metadata": {},
     "output_type": "execute_result"
    }
   ],
   "source": [
    "s_len=len(sent)\n",
    "s_len"
   ]
  },
  {
   "cell_type": "code",
   "execution_count": 9,
   "metadata": {},
   "outputs": [
    {
     "data": {
      "text/plain": [
       "'scratch'"
      ]
     },
     "execution_count": 9,
     "metadata": {},
     "output_type": "execute_result"
    }
   ],
   "source": [
    "sent[2:s_len]"
   ]
  },
  {
   "cell_type": "code",
   "execution_count": 10,
   "metadata": {},
   "outputs": [
    {
     "name": "stdout",
     "output_type": "stream",
     "text": [
      "gra\n",
      "gra\n",
      "scratch\n",
      "scratch\n",
      "a scratch\n",
      "asrth\n"
     ]
    }
   ],
   "source": [
    "#왼쪽이나 오른쪽 범위를 지정하지 않고 문자열 추출하기\n",
    "print(word[0:3])\n",
    "print(word[:3])\n",
    "print(sent[2:len(sent)])\n",
    "print(sent[2:])\n",
    "print(sent[:])\n",
    "#일정한 간격으로 건너뛰며 추출해야 한다면 콜론을 : 를 하나더 추가한다. \n",
    "#거리가 2인 즉 한칸씩 건너뛰면 추출한다.\n",
    "print(sent[::2])"
   ]
  },
  {
   "cell_type": "markdown",
   "metadata": {},
   "source": [
    "# 9-2 문자열 메서드"
   ]
  },
  {
   "cell_type": "code",
   "execution_count": 11,
   "metadata": {},
   "outputs": [
    {
     "name": "stdout",
     "output_type": "stream",
     "text": [
      "40 46' 52.837\" N 73 58' 26.302 W\n"
     ]
    }
   ],
   "source": [
    "#join 메서드 => 문자열을 연결하여 새로운 문자열을 반환하는 메서드\n",
    "d1 = '40'\n",
    "m1=\"46'\"\n",
    "s1='52.837\"'\n",
    "u1='N'\n",
    "\n",
    "d2='73'\n",
    "m2=\"58'\"\n",
    "s2='26.302'\n",
    "u2='W'\n",
    "\n",
    "coords=' '.join([d1,m1,s1,u1,d2,m2,s2,u2])\n",
    "print(coords)"
   ]
  },
  {
   "cell_type": "code",
   "execution_count": 12,
   "metadata": {},
   "outputs": [
    {
     "name": "stdout",
     "output_type": "stream",
     "text": [
      "Guard: What? Ridden on a horse? \n",
      "King Arthur: Yes!\n",
      "Guard: You;re using coconuts!\n",
      "King Arthur: What?\n",
      "Guard: You're got ... coconut[s] and you're banjin' 'em together.\n",
      "\n"
     ]
    }
   ],
   "source": [
    "#splitlines 메서드 => 여러행을 가진 문자열을 분리하여 리스트로 반환\n",
    "multi_str = \"\"\"Guard: What? Ridden on a horse? \n",
    "King Arthur: Yes!\n",
    "Guard: You;re using coconuts!\n",
    "King Arthur: What?\n",
    "Guard: You're got ... coconut[s] and you're banjin' 'em together.\n",
    "\"\"\"\n",
    "print(multi_str)"
   ]
  },
  {
   "cell_type": "code",
   "execution_count": 13,
   "metadata": {},
   "outputs": [
    {
     "data": {
      "text/plain": [
       "['Guard: What? Ridden on a horse? ',\n",
       " 'King Arthur: Yes!',\n",
       " 'Guard: You;re using coconuts!',\n",
       " 'King Arthur: What?',\n",
       " \"Guard: You're got ... coconut[s] and you're banjin' 'em together.\"]"
      ]
     },
     "execution_count": 13,
     "metadata": {},
     "output_type": "execute_result"
    }
   ],
   "source": [
    "multi_str_split=multi_str.splitlines()\n",
    "multi_str_split"
   ]
  },
  {
   "cell_type": "code",
   "execution_count": 14,
   "metadata": {},
   "outputs": [
    {
     "data": {
      "text/plain": [
       "['Guard: What? Ridden on a horse? ',\n",
       " 'Guard: You;re using coconuts!',\n",
       " \"Guard: You're got ... coconut[s] and you're banjin' 'em together.\"]"
      ]
     },
     "execution_count": 14,
     "metadata": {},
     "output_type": "execute_result"
    }
   ],
   "source": [
    "#슬라이싱을 응용하면 특정문자열만 가져오기 가능 = ::2 는 한칸씩 건너띄며 문자열 추출\n",
    "guard = multi_str_split[::2]\n",
    "guard"
   ]
  },
  {
   "cell_type": "code",
   "execution_count": 15,
   "metadata": {},
   "outputs": [
    {
     "data": {
      "text/plain": [
       "['What? Ridden on a horse? ',\n",
       " 'You;re using coconuts!',\n",
       " \"You're got ... coconut[s] and you're banjin' 'em together.\"]"
      ]
     },
     "execution_count": 15,
     "metadata": {},
     "output_type": "execute_result"
    }
   ],
   "source": [
    "#replace 메서드 => 문자열을 치환해주는 메서드\n",
    "guard = multi_str.replace(\"Guard: \", \"\").splitlines()[::2]\n",
    "guard"
   ]
  },
  {
   "cell_type": "markdown",
   "metadata": {},
   "source": [
    "# 9-3 문자열 포매팅"
   ]
  },
  {
   "cell_type": "code",
   "execution_count": 16,
   "metadata": {},
   "outputs": [
    {
     "name": "stdout",
     "output_type": "stream",
     "text": [
      "It's just a flesh wound!\n",
      "It's just a scratch!\n"
     ]
    }
   ],
   "source": [
    "#문자열 포매팅 => 출력할 문자열의 형식을 지정하거나 변수를 조합하여 출력하는 방법\n",
    "var = 'flesh wound'\n",
    "s = \"It's just a {}!\"\n",
    "print(s.format(var))\n",
    "print(s.format('scratch'))"
   ]
  },
  {
   "cell_type": "code",
   "execution_count": 17,
   "metadata": {},
   "outputs": [
    {
     "name": "stdout",
     "output_type": "stream",
     "text": [
      "Black Knight: 'Tis but a scratch.\n",
      "King Arthur: A scratch? Your arm's off!\n",
      "\n"
     ]
    }
   ],
   "source": [
    "#format 메서드에 여러단어를 전달하려면 인덱스 개념을 응용해서 사용하면됨. \n",
    "s = \"\"\"Black Knight: 'Tis but a {0}.\n",
    "King Arthur: A {0}? Your arm's off!\n",
    "\"\"\"\n",
    "print(s.format('scratch'))"
   ]
  },
  {
   "cell_type": "code",
   "execution_count": 18,
   "metadata": {},
   "outputs": [
    {
     "name": "stdout",
     "output_type": "stream",
     "text": [
      "Hayden Planetarium Coordinates: 40.7815 N,3;.9733 W\n"
     ]
    }
   ],
   "source": [
    "#{ } = 플레이스 홀더 라고 부르자. 이 부분에 변수를 지정해도 된다. \n",
    "# 단, format 메서드에도 변수를 담아내야한다. \n",
    "s = 'Hayden Planetarium Coordinates: {lat},{lon}'\n",
    "print(s.format(lat='40.7815 N', lon='3\\73.9733 W'))"
   ]
  },
  {
   "cell_type": "code",
   "execution_count": 19,
   "metadata": {},
   "outputs": [
    {
     "name": "stdout",
     "output_type": "stream",
     "text": [
      "Some digits of pi : 3.141592665359\n"
     ]
    }
   ],
   "source": [
    "#숫자데이터도 플레이스 홀더를 사용할 수 있다. \n",
    "print('Some digits of pi : {}'.format(3.141592665359))"
   ]
  },
  {
   "cell_type": "code",
   "execution_count": 20,
   "metadata": {},
   "outputs": [
    {
     "name": "stdout",
     "output_type": "stream",
     "text": [
      "In 2..5, Lu Chao od china recited 67,890 digits of pi\n"
     ]
    }
   ],
   "source": [
    "#플레이스 홀더에 :,를 넣으면 쉼표를 넣어 숫자를 표현할 수도 있음\n",
    "print(\"In 2..5, Lu Chao od china recited {:,} digits of pi\".format(67890))"
   ]
  },
  {
   "cell_type": "code",
   "execution_count": 21,
   "metadata": {},
   "outputs": [
    {
     "name": "stdout",
     "output_type": "stream",
     "text": [
      "I remember 0.0001031 or 0.0103% of qhat Lu Chao recited\n"
     ]
    }
   ],
   "source": [
    "#소수를 좀 더 다양한 방법으로 포메팅 할 수도 있음\n",
    "#{0:4} => 0은 format에서 전달받은 (7/67890)의 인덱스를 의미하고 .4는 소수점이하의 숫자를 4개까지 출력하겠다는 의미\n",
    "#{0:.4%} => %를 사용하면 (7/67890) 의 결과값을 백분율로 환산하여 출력하겠다는 의미\n",
    "print(\"I remember {0:.4} or {0:.4%} of qhat Lu Chao recited\".format(7/67890))"
   ]
  },
  {
   "cell_type": "code",
   "execution_count": 22,
   "metadata": {},
   "outputs": [
    {
     "name": "stdout",
     "output_type": "stream",
     "text": [
      "My Id number is 00042\n"
     ]
    }
   ],
   "source": [
    "#5자리의 숫자로 표현되어야 한다면 42와 같은 두자리의 값은 00042로 출력해야함. \n",
    "#format의 0번째 값을 5자리의 수로 표현하되 빈칸을 0으로 채워 출력\n",
    "#d는 10진수를 의미\n",
    "print(\"My Id number is {0:05d}\".format(42))"
   ]
  },
  {
   "cell_type": "code",
   "execution_count": 23,
   "metadata": {},
   "outputs": [
    {
     "data": {
      "text/plain": [
       "'I only know 7 digits of pi'"
      ]
     },
     "execution_count": 23,
     "metadata": {},
     "output_type": "execute_result"
    }
   ],
   "source": [
    "# % 연산자로 포매팅 하기\n",
    "# 만약 삽입할 값이 10진수라면 값을 삽입할 위치에 %d라고 입력한 다음에\n",
    "# %연산자를 이용하여 삽입할 값을 지정한다. \n",
    "s = 'I only know %d digits of pi' %7\n",
    "s"
   ]
  },
  {
   "cell_type": "code",
   "execution_count": 24,
   "metadata": {},
   "outputs": [
    {
     "name": "stdout",
     "output_type": "stream",
     "text": [
      "Some digits of e: 2.72\n"
     ]
    }
   ],
   "source": [
    "# 만약할 삽입할 값이 문자열이라면 삽입할 위치에 %s 라고 입력을 하고\n",
    "# %와 s 사이에 소괄호를 사용하여 변수를 지정\n",
    "print('Some digits of %(cont)s: %(value).2f' % {'cont':'e', 'value':2.718})"
   ]
  },
  {
   "cell_type": "code",
   "execution_count": 25,
   "metadata": {},
   "outputs": [
    {
     "name": "stdout",
     "output_type": "stream",
     "text": [
      "It's just a flesh wound!\n"
     ]
    }
   ],
   "source": [
    "# f-string 포매팅 사용하기 => 파이썬 3.6 버전에서 사용가능\n",
    "# 문자열을 보다 쉽고 빠르게 처리 가능\n",
    "var = 'flesh wound'\n",
    "s = f\"It's just a {var}!\"\n",
    "print(s)"
   ]
  },
  {
   "cell_type": "code",
   "execution_count": 26,
   "metadata": {},
   "outputs": [
    {
     "data": {
      "text/plain": [
       "'Hayden Planetarium Coordinates: 40.7815 N,73.9733 W'"
      ]
     },
     "execution_count": 26,
     "metadata": {},
     "output_type": "execute_result"
    }
   ],
   "source": [
    "lat = '40.7815 N'\n",
    "lon = '73.9733 W'\n",
    "s = f'Hayden Planetarium Coordinates: {lat},{lon}'\n",
    "s"
   ]
  },
  {
   "cell_type": "markdown",
   "metadata": {},
   "source": [
    "# 9-4 정규식으로 문자열 처리에 날개 달기"
   ]
  },
  {
   "cell_type": "code",
   "execution_count": 27,
   "metadata": {},
   "outputs": [],
   "source": [
    "# 정규식으로 전화번호 패턴찾기\n",
    "import re\n",
    "tele_num = '1234567890'"
   ]
  },
  {
   "cell_type": "code",
   "execution_count": 28,
   "metadata": {},
   "outputs": [
    {
     "name": "stdout",
     "output_type": "stream",
     "text": [
      "<class 're.Match'>\n",
      "<re.Match object; span=(0, 10), match='1234567890'>\n"
     ]
    }
   ],
   "source": [
    "m = re.match(pattern='\\d\\d\\d\\d\\d\\d\\d\\d\\d\\d', string=tele_num)\n",
    "print(type(m))\n",
    "print(m)"
   ]
  },
  {
   "cell_type": "code",
   "execution_count": 29,
   "metadata": {},
   "outputs": [
    {
     "name": "stdout",
     "output_type": "stream",
     "text": [
      "True\n"
     ]
    }
   ],
   "source": [
    "print(bool(m))"
   ]
  },
  {
   "cell_type": "code",
   "execution_count": 30,
   "metadata": {},
   "outputs": [
    {
     "name": "stdout",
     "output_type": "stream",
     "text": [
      "match\n"
     ]
    }
   ],
   "source": [
    "if m:\n",
    "    print('match')\n",
    "else:\n",
    "    print('no match')"
   ]
  },
  {
   "cell_type": "code",
   "execution_count": 31,
   "metadata": {},
   "outputs": [
    {
     "name": "stdout",
     "output_type": "stream",
     "text": [
      "0\n",
      "10\n",
      "(0, 10)\n",
      "1234567890\n"
     ]
    }
   ],
   "source": [
    "# start와 end 메서드는 첫번쨰와 마지막 인덱스를 반환\n",
    "# span 메서드는 찾은 패턴의 첫번쨰와 마지막 인덱스를 반환\n",
    "#group 메서드는 찾아낸 패턴을 반환\n",
    "print(m.start())\n",
    "print(m.end())\n",
    "print(m.span())\n",
    "print(m.group())"
   ]
  },
  {
   "cell_type": "code",
   "execution_count": 32,
   "metadata": {},
   "outputs": [
    {
     "name": "stdout",
     "output_type": "stream",
     "text": [
      "None\n"
     ]
    }
   ],
   "source": [
    "# \\d\\d\\d\\d\\d\\d\\d\\d\\d\\d = \\d{10} 와 같은 표현\n",
    "tele_num_spaces = '123 456 7890'\n",
    "m = re.match(pattern='\\d{10}', string=tele_num_spaces)\n",
    "print(m)"
   ]
  },
  {
   "cell_type": "code",
   "execution_count": 33,
   "metadata": {},
   "outputs": [
    {
     "name": "stdout",
     "output_type": "stream",
     "text": [
      "None\n"
     ]
    }
   ],
   "source": [
    "# \\d\\d\\d\\d\\d\\d\\d\\d\\d\\d = \\d{10} 와 같은 표현\n",
    "tele_num_spaces = '123 456 7890'\n",
    "m = re.match(pattern='\\d{10}', string=tele_num_spaces)\n",
    "print(m)"
   ]
  },
  {
   "cell_type": "code",
   "execution_count": 34,
   "metadata": {},
   "outputs": [
    {
     "name": "stdout",
     "output_type": "stream",
     "text": [
      "<re.Match object; span=(0, 12), match='123 456 7890'>\n"
     ]
    }
   ],
   "source": [
    "# \\s? => 공백\n",
    "p = '\\d{3}\\s?\\d{3}\\s?\\d{4}'\n",
    "m = re.match(pattern=p, string=tele_num_spaces)\n",
    "print(m)"
   ]
  },
  {
   "cell_type": "code",
   "execution_count": 35,
   "metadata": {},
   "outputs": [
    {
     "name": "stdout",
     "output_type": "stream",
     "text": [
      "<re.Match object; span=(0, 14), match='(123) 456-7890'>\n"
     ]
    }
   ],
   "source": [
    "tele_num_space_dash = '(123) 456-7890'\n",
    "p='\\(?\\d{3}\\)?\\s?\\d{3}\\s?-?\\d{4}'\n",
    "m = re.match(pattern=p, string=tele_num_space_dash)\n",
    "print(m)"
   ]
  },
  {
   "cell_type": "code",
   "execution_count": 36,
   "metadata": {},
   "outputs": [
    {
     "name": "stdout",
     "output_type": "stream",
     "text": [
      "<re.Match object; span=(0, 17), match='+1 (123) 456-7890'>\n"
     ]
    }
   ],
   "source": [
    "cnty_tele_num_space_paren_dash = '+1 (123) 456-7890'\n",
    "p = '\\+?1\\s?\\(?\\d{3}\\)?\\s?\\d{3}\\s?-?\\d{4}'\n",
    "m=re.match(pattern=p, string=cnty_tele_num_space_paren_dash)\n",
    "print(m)"
   ]
  },
  {
   "cell_type": "code",
   "execution_count": 37,
   "metadata": {},
   "outputs": [
    {
     "name": "stdout",
     "output_type": "stream",
     "text": [
      "<re.Match object; span=(0, 10), match='1234567890'>\n"
     ]
    }
   ],
   "source": [
    "# compile 메서드로 정규식 메서드 사용하기\n",
    "# 패턴을 반복해서 사용하려면 compile메서드로 패턴을 컴파일하여 변수에 저장하여 사용\n",
    "# 이러면 변수에 저장을 하였기 때문에 정규식 메서드를 반복해서 사용이 가능 \n",
    "p =re.compile('\\d{10}')\n",
    "s ='1234567890'\n",
    "m = p.match(s)\n",
    "print(m)"
   ]
  }
 ],
 "metadata": {
  "kernelspec": {
   "display_name": "Python 3",
   "language": "python",
   "name": "python3"
  },
  "language_info": {
   "codemirror_mode": {
    "name": "ipython",
    "version": 3
   },
   "file_extension": ".py",
   "mimetype": "text/x-python",
   "name": "python",
   "nbconvert_exporter": "python",
   "pygments_lexer": "ipython3",
   "version": "3.7.6"
  }
 },
 "nbformat": 4,
 "nbformat_minor": 2
}
