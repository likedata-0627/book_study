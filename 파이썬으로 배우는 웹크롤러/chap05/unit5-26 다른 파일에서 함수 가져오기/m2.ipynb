{
 "cells": [
  {
   "cell_type": "code",
   "execution_count": null,
   "metadata": {},
   "outputs": [],
   "source": [
    "def f1():\n",
    "    print('m2 파일의 f1() 함수 호출')\n",
    "def f2():\n",
    "    print('m2 파일의 f2() 함수 호출')\n",
    "\n",
    "print('m2.py 파일 출력')"
   ]
  }
 ],
 "metadata": {
  "kernelspec": {
   "display_name": "Python 3",
   "language": "python",
   "name": "python3"
  },
  "language_info": {
   "codemirror_mode": {
    "name": "ipython",
    "version": 3
   },
   "file_extension": ".py",
   "mimetype": "text/x-python",
   "name": "python",
   "nbconvert_exporter": "python",
   "pygments_lexer": "ipython3",
   "version": "3.7.6"
  }
 },
 "nbformat": 4,
 "nbformat_minor": 4
}
