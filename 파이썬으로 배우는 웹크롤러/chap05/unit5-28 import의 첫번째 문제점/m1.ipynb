{
 "cells": [
  {
   "cell_type": "markdown",
   "metadata": {},
   "source": [
    "> * import만 할 경우에는 모든것을 다 가져다가 쓰게 됨.\n",
    "> * 또한 다른폴더에 있는 파일을 import할 수 없음\n",
    "> * 해결방법은 from import를 이용하면 됨(5-29보기)"
   ]
  },
  {
   "cell_type": "code",
   "execution_count": 4,
   "metadata": {},
   "outputs": [
    {
     "name": "stdout",
     "output_type": "stream",
     "text": [
      "hello\n",
      "world\n",
      "m2 f1()함수 호풀\n",
      "m2 f2()함수 호풀\n",
      "c1 객체생성\n",
      "c2 객체생성\n"
     ]
    }
   ],
   "source": [
    "import m2\n",
    "\n",
    "print(m2.var1)\n",
    "print(m2.var2)\n",
    "\n",
    "m2.f1()\n",
    "m2.f2()\n",
    "\n",
    "c1 = m2.c1()\n",
    "C2 = m2.c2()\n"
   ]
  }
 ],
 "metadata": {
  "kernelspec": {
   "display_name": "Python 3",
   "language": "python",
   "name": "python3"
  },
  "language_info": {
   "codemirror_mode": {
    "name": "ipython",
    "version": 3
   },
   "file_extension": ".py",
   "mimetype": "text/x-python",
   "name": "python",
   "nbconvert_exporter": "python",
   "pygments_lexer": "ipython3",
   "version": "3.7.6"
  }
 },
 "nbformat": 4,
 "nbformat_minor": 4
}
