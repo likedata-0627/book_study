{
 "cells": [
  {
   "cell_type": "code",
   "execution_count": 2,
   "metadata": {},
   "outputs": [
    {
     "name": "stdout",
     "output_type": "stream",
     "text": [
      "m2.py 파일 출력\n"
     ]
    }
   ],
   "source": [
    "var1 = \"hello\"\n",
    "var2 = \"world\"\n",
    "\n",
    "def f1():\n",
    "    print('m2 f1()함수 호풀')\n",
    "\n",
    "def f2():\n",
    "    print('m2 f2()함수 호풀')\n",
    "\n",
    "class c1:\n",
    "    def __init__(self):\n",
    "        print('c1 객체생성')\n",
    "\n",
    "class c2:\n",
    "    def __init__(self):\n",
    "        print('c2 객체생성')\n",
    "\n",
    "print('m2.py 파일 출력')"
   ]
  },
  {
   "cell_type": "code",
   "execution_count": null,
   "metadata": {},
   "outputs": [],
   "source": []
  }
 ],
 "metadata": {
  "kernelspec": {
   "display_name": "Python 3",
   "language": "python",
   "name": "python3"
  },
  "language_info": {
   "codemirror_mode": {
    "name": "ipython",
    "version": 3
   },
   "file_extension": ".py",
   "mimetype": "text/x-python",
   "name": "python",
   "nbconvert_exporter": "python",
   "pygments_lexer": "ipython3",
   "version": "3.7.6"
  }
 },
 "nbformat": 4,
 "nbformat_minor": 4
}
