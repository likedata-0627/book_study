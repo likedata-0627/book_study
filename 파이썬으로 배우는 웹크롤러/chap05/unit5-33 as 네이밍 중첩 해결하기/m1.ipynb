{
 "cells": [
  {
   "cell_type": "markdown",
   "metadata": {},
   "source": [
    ">* as를 이용하면 호출하는 파일과 호출된 파일의 네이밍 중복을 해결할 수 있음 \n",
    ">* 또한 as를 이용하면 네이밍이 복잡한 것을 간단하게 바꿀 수 있음"
   ]
  },
  {
   "cell_type": "code",
   "execution_count": 1,
   "metadata": {},
   "outputs": [
    {
     "name": "stdout",
     "output_type": "stream",
     "text": [
      "m2.py 파일 출력\n"
     ]
    }
   ],
   "source": [
    "from m2 import var1 as m2_var1, var2 as m2_var2, f1 as m2_f1"
   ]
  },
  {
   "cell_type": "code",
   "execution_count": 2,
   "metadata": {},
   "outputs": [],
   "source": [
    "var1 = 'm1 hello'\n",
    "var2 = 'm1 world'"
   ]
  },
  {
   "cell_type": "code",
   "execution_count": 3,
   "metadata": {},
   "outputs": [
    {
     "name": "stdout",
     "output_type": "stream",
     "text": [
      "m1 hello\n",
      "m1 world\n",
      "hello\n",
      "world\n",
      "m1.py f1() 함수\n",
      "m2.py f1() 함수\n"
     ]
    }
   ],
   "source": [
    "def f1():\n",
    "    print('m1.py f1() 함수')\n",
    "    \n",
    "print(var1)\n",
    "print(var2)\n",
    "print(m2_var1)\n",
    "print(m2_var2)\n",
    "f1()\n",
    "m2_f1()"
   ]
  },
  {
   "cell_type": "code",
   "execution_count": null,
   "metadata": {},
   "outputs": [],
   "source": []
  }
 ],
 "metadata": {
  "kernelspec": {
   "display_name": "Python 3",
   "language": "python",
   "name": "python3"
  },
  "language_info": {
   "codemirror_mode": {
    "name": "ipython",
    "version": 3
   },
   "file_extension": ".py",
   "mimetype": "text/x-python",
   "name": "python",
   "nbconvert_exporter": "python",
   "pygments_lexer": "ipython3",
   "version": "3.7.6"
  }
 },
 "nbformat": 4,
 "nbformat_minor": 4
}
