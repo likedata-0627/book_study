{
 "cells": [
  {
   "cell_type": "markdown",
   "metadata": {},
   "source": [
    ">* 다른 파일의 네이밍을 그그대로 가져다 쓸 경우, 네밍이 중첩됨\n",
    ">* 이럴때는 alias의 약자인 as라는 키워드를 이용하여 해결"
   ]
  },
  {
   "cell_type": "code",
   "execution_count": 1,
   "metadata": {},
   "outputs": [
    {
     "name": "stdout",
     "output_type": "stream",
     "text": [
      "m2.py 파일 출력\n",
      "hello\n",
      "world\n",
      "m1.py f1() 함수\n"
     ]
    }
   ],
   "source": [
    "from m2 import var1, var2, f1 as vvf\n",
    "\n",
    "def f1():\n",
    "    print('m1.py f1() 함수')\n",
    "    \n",
    "print(var1)\n",
    "print(var2)\n",
    "f1()"
   ]
  },
  {
   "cell_type": "code",
   "execution_count": null,
   "metadata": {},
   "outputs": [],
   "source": []
  }
 ],
 "metadata": {
  "kernelspec": {
   "display_name": "Python 3",
   "language": "python",
   "name": "python3"
  },
  "language_info": {
   "codemirror_mode": {
    "name": "ipython",
    "version": 3
   },
   "file_extension": ".py",
   "mimetype": "text/x-python",
   "name": "python",
   "nbconvert_exporter": "python",
   "pygments_lexer": "ipython3",
   "version": "3.7.6"
  }
 },
 "nbformat": 4,
 "nbformat_minor": 4
}
