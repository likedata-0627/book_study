{
 "cells": [
  {
   "cell_type": "markdown",
   "metadata": {},
   "source": [
    "### 9-1 로깅 모듈 사용하기\n",
    ">* 파이썬에서 로그를 관리해주는 모듈 중 logging이 있음"
   ]
  },
  {
   "cell_type": "code",
   "execution_count": 8,
   "metadata": {},
   "outputs": [
    {
     "name": "stderr",
     "output_type": "stream",
     "text": [
      "INFO:root:I'm ParkJeongTae\n",
      "WARNING:root:warning\n"
     ]
    }
   ],
   "source": [
    "import logging\n",
    "\n",
    "logging.info(\"I'm ParkJeongTae\")\n",
    "logging.warning(\"warning\")\n"
   ]
  },
  {
   "cell_type": "markdown",
   "metadata": {},
   "source": [
    "### 9-2 로그 5단계 모두 출력하기\n",
    ">* 5단계 debug (가장 심각하지 않음)\n",
    ">* 4단계 info\n",
    ">* 3단계 warning\n",
    ">* 2단계 error\n",
    ">* 1단계 critical (가장 심각)\n",
    ">* logging 모듈은 기본적으로 1~3단계 까지만 출력이 됨."
   ]
  },
  {
   "cell_type": "code",
   "execution_count": 9,
   "metadata": {},
   "outputs": [
    {
     "name": "stderr",
     "output_type": "stream",
     "text": [
      "DEBUG:root:debug\n",
      "INFO:root:info\n",
      "WARNING:root:warning\n",
      "ERROR:root:error\n",
      "CRITICAL:root:critical\n"
     ]
    }
   ],
   "source": [
    "import logging\n",
    "\n",
    "logging.debug('debug')\n",
    "logging.info(\"info\")\n",
    "logging.warning(\"warning\")\n",
    "logging.error(\"error\")\n",
    "logging.critical(\"critical\")"
   ]
  },
  {
   "cell_type": "markdown",
   "metadata": {},
   "source": [
    "### 9-3 로그 단계 레벨 설정\n",
    ">* basicConfig() 함수를 이용하여 로그 기본 설정을 바꿀 수 있음\n",
    ">* 5단계인 debug를 설정하였기 때문에 전부 다 찍힘."
   ]
  },
  {
   "cell_type": "code",
   "execution_count": 10,
   "metadata": {},
   "outputs": [
    {
     "name": "stderr",
     "output_type": "stream",
     "text": [
      "DEBUG:root:debug\n",
      "INFO:root:info\n",
      "WARNING:root:warning\n",
      "ERROR:root:error\n",
      "CRITICAL:root:critical\n"
     ]
    }
   ],
   "source": [
    "import logging\n",
    "\n",
    "logging.basicConfig(level = logging.DEBUG) \n",
    "\n",
    "logging.debug('debug')\n",
    "logging.info(\"info\")\n",
    "logging.warning(\"warning\")\n",
    "logging.error(\"error\")\n",
    "logging.critical(\"critical\")"
   ]
  },
  {
   "cell_type": "markdown",
   "metadata": {},
   "source": [
    "### 9-4 로그 파일 남기기\n",
    ">* 제대로 된 로그를 찍기 위해서는 콘솔창이 아니라 파일로 남겨야 함. \n",
    ">* 파일로 남기기 위해 파일명을 설정해 주어야 하는데 이때도 basicConfig() 함수를 이용"
   ]
  },
  {
   "cell_type": "code",
   "execution_count": 11,
   "metadata": {},
   "outputs": [
    {
     "name": "stderr",
     "output_type": "stream",
     "text": [
      "DEBUG:root:debug\n",
      "INFO:root:info\n",
      "WARNING:root:warning\n",
      "ERROR:root:error\n",
      "CRITICAL:root:critical\n"
     ]
    }
   ],
   "source": [
    "import logging\n",
    "\n",
    "logging.basicConfig(filename='ch.9.4.log', level=logging.DEBUG)\n",
    "\n",
    "logging.debug(\"debug\")        # 5 단계\n",
    "logging.info(\"info\")          # 4 단계\n",
    "logging.warning(\"warning\")    # 3 단계\n",
    "logging.error(\"error\")        # 2 단계\n",
    "logging.critical(\"critical\")  # 1 단계\n"
   ]
  },
  {
   "cell_type": "markdown",
   "metadata": {},
   "source": [
    "### 9-5 2개의 파일에 로그 남겨보기"
   ]
  },
  {
   "cell_type": "code",
   "execution_count": 5,
   "metadata": {},
   "outputs": [
    {
     "name": "stderr",
     "output_type": "stream",
     "text": [
      "WARNING:root:warning\n",
      "ERROR:root:error\n",
      "CRITICAL:root:critical\n",
      "WARNING:root:warning1\n",
      "ERROR:root:error1\n",
      "CRITICAL:root:critical1\n"
     ]
    }
   ],
   "source": [
    "import logging\n",
    "\n",
    "logging.basicConfig(filename='ch.9.4,log' ,level = logging.DEBUG)\n",
    "\n",
    "logging.debug('debug')\n",
    "logging.info(\"info\")\n",
    "logging.warning(\"warning\")\n",
    "logging.error(\"error\")\n",
    "logging.critical(\"critical\")\n",
    "\n",
    "logging.basicConfig(filename='ch.9.5,log' ,level = logging.warning)\n",
    "\n",
    "logging.debug('debug1')\n",
    "logging.info(\"info1\")\n",
    "logging.warning(\"warning1\")\n",
    "logging.error(\"error1\")\n",
    "logging.critical(\"critical1\")"
   ]
  },
  {
   "cell_type": "markdown",
   "metadata": {},
   "source": [
    "### 9-6 다른 파일로 분리해서 로그 기록\n",
    ">* 다른 파일 또는 다른 곳으로 로그를 출력라고 싶다면 핸들러를 이용하면 됨\n",
    ">* 2개 이상의 파일에 로그를 출력, 파일과 콘솔 모두 로그를 출력할 땐 각각의 핸들러를 생성하여 등록해야 함. \n",
    ">* 로깅에서 핸들러란 로길한 정보를 어느 위치에 출력시킬지 등록해 주는 것\n",
    ">* 예를 들어 debug단계는 debug.log 파일에 출력하고, error 단계는 error.log 단계에 출력 할 수도 있도록 등록을 함. \n",
    ">* 또한 파일 뿐만 아니라 콘솔 창도 등록이 가능\n",
    ">* 파일 핸들러를 만들어 준 후 로거에 등록을 해줌\n",
    ">* 파일 핸들러를 만들어 줄때 각각의 파일에 로그 단계를 설정\n",
    ">* info와 dug는 ch.9.6_debug.log 파일에만 저장됨\n",
    ">* 파일 핸들러를 생성할 때 파일마다 로그 단계를 설정해 주었기 때문에 해당 설정을 해준 단계까지만 저장됨.\n",
    ">* 마지막으로 저장된 시간, 로그 단계를 같이 저장하는 것이 좋음"
   ]
  },
  {
   "cell_type": "code",
   "execution_count": 13,
   "metadata": {},
   "outputs": [
    {
     "name": "stderr",
     "output_type": "stream",
     "text": [
      "DEBUG:test_log1:debug\n",
      "INFO:test_log1:info\n",
      "WARNING:test_log1:warning\n",
      "ERROR:test_log1:error\n",
      "CRITICAL:test_log1:critical\n"
     ]
    }
   ],
   "source": [
    "import logging\n",
    "\n",
    "# 로거 생성\n",
    "logger = logging.getLogger('test_log1')\n",
    "logger.setLevel(logging.DEBUG)\n",
    "\n",
    "# 파일 핸들러 생성\n",
    "fileHandler = logging.FileHandler('ch.9.6_debug.log')\n",
    "fileHandler.setLevel(logging.DEBUG)\n",
    "\n",
    "fileHandler1 = logging.FileHandler('ch.9.6_warning.log')\n",
    "fileHandler1.setLevel(logging.WARNING)\n",
    "\n",
    "# 핸들러 등록\n",
    "logger.addHandler(fileHandler)\n",
    "logger.addHandler(fileHandler1)\n",
    "\n",
    "logger.debug(\"debug\")        # 5 단계\n",
    "logger.info(\"info\")          # 4 단계\n",
    "logger.warning(\"warning\")    # 3 단계\n",
    "logger.error(\"error\")        # 2 단계\n",
    "logger.critical(\"critical\")  # 1 단계\n"
   ]
  },
  {
   "cell_type": "markdown",
   "metadata": {},
   "source": [
    "### 9-7 멋진 로그 남기기\n",
    ">* 파일 핸들러를 만들때 각각의 파일에 저장되는 데이터 포맷을 정할 수 있음\n",
    ">* 파일 핸들러 뿐만 아니라 콘솔에도 찍을 수 있음. 콘솔에 찍을 수 있도록 핸들러를 만들어 준 뒤 등록을 하면 됨"
   ]
  },
  {
   "cell_type": "code",
   "execution_count": 14,
   "metadata": {},
   "outputs": [
    {
     "name": "stderr",
     "output_type": "stream",
     "text": [
      "DEBUG:test_log1:debug\n",
      "INFO:test_log1:info\n",
      "WARNING:test_log1:warning\n",
      "ERROR:test_log1:error\n",
      "CRITICAL:test_log1:critical\n"
     ]
    }
   ],
   "source": [
    "import logging\n",
    "\n",
    "# 로거 생성\n",
    "logger = logging.getLogger('test_log1')\n",
    "logger.setLevel(logging.DEBUG)\n",
    "\n",
    "# 로그 포멧팅 설정\n",
    "formatter = logging.Formatter(\"%(asctime)s - %(name)s - %(levelname)s - %(message)s\")\n",
    "\n",
    "# 파일 핸들러 생성\n",
    "fileHandler = logging.FileHandler('ch.9.7_debug.log')\n",
    "fileHandler.setLevel(logging.DEBUG)\n",
    "fileHandler.setFormatter(formatter)\n",
    "\n",
    "fileHandler1 = logging.FileHandler('ch.9.7_warning.log')\n",
    "fileHandler1.setLevel(logging.WARNING)\n",
    "\n",
    "# 핸들러 등록\n",
    "logger.addHandler(fileHandler)\n",
    "logger.addHandler(fileHandler1)\n",
    "\n",
    "logger.debug(\"debug\")        # 5 단계\n",
    "logger.info(\"info\")          # 4 단계\n",
    "logger.warning(\"warning\")    # 3 단계\n",
    "logger.error(\"error\")        # 2 단계\n",
    "logger.critical(\"critical\")  # 1 단계\n"
   ]
  },
  {
   "cell_type": "markdown",
   "metadata": {},
   "source": [
    "### 9-8 파일, 스트림 동시 출력\n",
    ">* 터미널과 파일에 각각 정상적으로 로그가 찍힘\n",
    ">* 로거를 활용하면 로그 파일의 크기가 일정량 되면 새로운 파일을 생성할 수 있음"
   ]
  },
  {
   "cell_type": "code",
   "execution_count": 15,
   "metadata": {},
   "outputs": [
    {
     "name": "stderr",
     "output_type": "stream",
     "text": [
      "DEBUG:test_log1:debug\n",
      "INFO:test_log1:info\n",
      "WARNING:test_log1:warning\n",
      "2020-02-22 02:02:04,294 - test_log1 - ERROR - error\n",
      "ERROR:test_log1:error\n",
      "2020-02-22 02:02:04,298 - test_log1 - CRITICAL - critical\n",
      "CRITICAL:test_log1:critical\n"
     ]
    }
   ],
   "source": [
    "import logging\n",
    "\n",
    "# 로거 생성\n",
    "logger = logging.getLogger('test_log1')\n",
    "logger.setLevel(logging.DEBUG)\n",
    "\n",
    "# 로그 포멧팅 설정\n",
    "formatter = logging.Formatter(\"%(asctime)s - %(name)s - %(levelname)s - %(message)s\")\n",
    "\n",
    "# 파일 핸들러 생성\n",
    "fileHandler = logging.FileHandler('ch.9.8_debug.log')\n",
    "fileHandler.setLevel(logging.DEBUG)\n",
    "fileHandler.setFormatter(formatter)\n",
    "\n",
    "fileHandler1 = logging.FileHandler('ch.9.8_warning.log')\n",
    "fileHandler1.setLevel(logging.WARNING)\n",
    "\n",
    "# 스트림(터미널 출력) 핸들러 생성\n",
    "streamHandler = logging.StreamHandler()\n",
    "streamHandler.setLevel(logging.ERROR)\n",
    "streamHandler.setFormatter(formatter)\n",
    "\n",
    "# 핸들러 등록\n",
    "logger.addHandler(fileHandler)\n",
    "logger.addHandler(fileHandler1)\n",
    "logger.addHandler(streamHandler)\n",
    "\n",
    "logger.debug(\"debug\")        # 5 단계\n",
    "logger.info(\"info\")          # 4 단계\n",
    "logger.warning(\"warning\")    # 3 단계\n",
    "logger.error(\"error\")        # 2 단계\n",
    "logger.critical(\"critical\")  # 1 단계\n"
   ]
  },
  {
   "cell_type": "markdown",
   "metadata": {},
   "source": [
    "### 9-9 파일 분할\n",
    ">* 파일마다 용량을 제한하기 위해 import logging.handlers 해야함. \n",
    ">* logging을 이용하면 로그 레벨에 따라 파일 분할이 가능하며, 각 파일당 저장되는 로그의 용량을 제한할 수 있음\n",
    ">* 또한 로그를 만들 떄 다양한 포메팅에 맟춰 만들 수 있음"
   ]
  },
  {
   "cell_type": "code",
   "execution_count": 16,
   "metadata": {},
   "outputs": [
    {
     "name": "stderr",
     "output_type": "stream",
     "text": [
      "DEBUG:test_log1:debug\n",
      "INFO:test_log1:info\n",
      "WARNING:test_log1:warning\n",
      "2020-02-22 02:04:18,276 - test_log1 - ERROR - error\n",
      "ERROR:test_log1:error\n",
      "2020-02-22 02:04:18,282 - test_log1 - CRITICAL - critical\n",
      "CRITICAL:test_log1:critical\n"
     ]
    }
   ],
   "source": [
    "import logging\n",
    "import logging.handlers\n",
    "\n",
    "# 로거 생성\n",
    "logger = logging.getLogger('test_log1')\n",
    "logger.setLevel(logging.DEBUG)\n",
    "\n",
    "# 로그 포멧팅 설정\n",
    "formatter = logging.Formatter(\"%(asctime)s - %(name)s - %(levelname)s - %(message)s\")\n",
    "\n",
    "# 파일 용량 설정\n",
    "file_max_bytes = 10 * 1024 # 수치를 바꿔가면서 실행해보세요.(10 * 1024 =1 0Mb)\n",
    "\n",
    "# 파일 핸들러 생성\n",
    "fileHandler = logging.handlers.RotatingFileHandler(filename='ch.9.9.log', maxBytes=file_max_bytes, backupCount=10)\n",
    "fileHandler.setLevel(logging.ERROR)\n",
    "fileHandler.setFormatter(formatter)\n",
    "\n",
    "# 핸들러 등록\n",
    "logger.addHandler(fileHandler)\n",
    "\n",
    "logger.debug(\"debug\")        # 5 단계\n",
    "logger.info(\"info\")          # 4 단계\n",
    "logger.warning(\"warning\")    # 3 단계\n",
    "logger.error(\"error\")        # 2 단계\n",
    "logger.critical(\"critical\")  # 1 단계\n"
   ]
  },
  {
   "cell_type": "markdown",
   "metadata": {},
   "source": [
    "### 9-16 파일 생성\n",
    ">* open() 함수로 파일을 사용할 때 세가지 모드가 존재\n",
    ">>* w : 파일을 쓸때\n",
    ">>* a : 파일을 이어쓸 때\n",
    ">>* r : 파일을 읽을 때\n",
    ">* 해당 파일을 다 사용했다면 close() 함수를 이용하여 파일을 닫아야함. "
   ]
  },
  {
   "cell_type": "code",
   "execution_count": 21,
   "metadata": {},
   "outputs": [],
   "source": [
    "file = open('ch.9.txt','w')\n",
    "file.close()"
   ]
  },
  {
   "cell_type": "markdown",
   "metadata": {},
   "source": [
    "### 9-17 r 모드로 파일 열기\n",
    ">* r 모드에서는 파일이 없으므로 에러 발생\n",
    ">* a와 w 모드로 파일을 연다면 파일이 없기 때문에 파일을 생성함"
   ]
  },
  {
   "cell_type": "code",
   "execution_count": 23,
   "metadata": {},
   "outputs": [
    {
     "ename": "FileNotFoundError",
     "evalue": "[Errno 2] No such file or directory: 'ch.9.no.txt'",
     "output_type": "error",
     "traceback": [
      "\u001b[1;31m---------------------------------------------------------------------------\u001b[0m",
      "\u001b[1;31mFileNotFoundError\u001b[0m                         Traceback (most recent call last)",
      "\u001b[1;32m<ipython-input-23-0fd39e22b21c>\u001b[0m in \u001b[0;36m<module>\u001b[1;34m\u001b[0m\n\u001b[1;32m----> 1\u001b[1;33m \u001b[0mfile\u001b[0m \u001b[1;33m=\u001b[0m \u001b[0mopen\u001b[0m\u001b[1;33m(\u001b[0m\u001b[1;34m'ch.9.no.txt'\u001b[0m\u001b[1;33m,\u001b[0m \u001b[1;34m'r'\u001b[0m\u001b[1;33m)\u001b[0m\u001b[1;33m\u001b[0m\u001b[1;33m\u001b[0m\u001b[0m\n\u001b[0m\u001b[0;32m      2\u001b[0m \u001b[0mfile\u001b[0m\u001b[1;33m.\u001b[0m\u001b[0mclose\u001b[0m\u001b[1;33m(\u001b[0m\u001b[1;33m)\u001b[0m\u001b[1;33m\u001b[0m\u001b[1;33m\u001b[0m\u001b[0m\n",
      "\u001b[1;31mFileNotFoundError\u001b[0m: [Errno 2] No such file or directory: 'ch.9.no.txt'"
     ]
    }
   ],
   "source": [
    "file = open('ch.9.no.txt', 'r')\n",
    "file.close()"
   ]
  },
  {
   "cell_type": "markdown",
   "metadata": {},
   "source": [
    "### 9-18 w 모드로 파일 데이터 쓰기\n",
    ">* write() 함수로 데이터를 쓸 수 있음\n",
    ">* w 모드를 계속 실행해도 파일에는 계속 같은 데이터만 저장\n",
    ">* w 모드로 파일을 연다면 해당 파일을 다 비움, 만약 데이터를 지속해서 쌓고 싶다면 w 모드가 아니라 a모드로 열어야 함. "
   ]
  },
  {
   "cell_type": "code",
   "execution_count": 25,
   "metadata": {},
   "outputs": [],
   "source": [
    "file = open('ch.9.18.txt','w')\n",
    "\n",
    "for i in range(0,5):\n",
    "    file.write(str(i)+'\\n')\n",
    "    \n",
    "file.close()"
   ]
  },
  {
   "cell_type": "markdown",
   "metadata": {},
   "source": [
    "### 9-19 a모드로 파일 데이터 쓰기\n",
    ">* a모드는 실행한 횟수 만큼 저장 되어있음."
   ]
  },
  {
   "cell_type": "code",
   "execution_count": 26,
   "metadata": {},
   "outputs": [],
   "source": [
    "file = open('ch.9.n.txt','a')\n",
    "\n",
    "for i in range(0,5):\n",
    "    file.write(str(i)+'\\n')\n",
    "    \n",
    "file.close()"
   ]
  },
  {
   "cell_type": "markdown",
   "metadata": {},
   "source": [
    "### 9-20 r모드로 파일 열어 데이터 읽기\n",
    ">* r모드로 파일을 열면 readlines() 함수를 이용하여 파일에서 줄단위로 리스트를 만들어 줌"
   ]
  },
  {
   "cell_type": "code",
   "execution_count": 27,
   "metadata": {},
   "outputs": [
    {
     "name": "stdout",
     "output_type": "stream",
     "text": [
      "['0\\n', '1\\n', '2\\n', '3\\n', '4\\n'] <class 'list'>\n",
      "0\n",
      "\n",
      "1\n",
      "\n",
      "2\n",
      "\n",
      "3\n",
      "\n",
      "4\n",
      "\n"
     ]
    }
   ],
   "source": [
    "file = open('ch.9.n.txt','r')\n",
    "\n",
    "lines = file.readlines()\n",
    "\n",
    "print(lines, type(lines))\n",
    "\n",
    "for line in lines:\n",
    "    print(line)\n",
    "    \n",
    "file.close()"
   ]
  },
  {
   "cell_type": "markdown",
   "metadata": {},
   "source": [
    "### 9-21 with 키워드 사용\n",
    ">* open()과 close() 같이 쓰기 번거로움 이를 해결한게 with키워드\n",
    ">* with 구문이 끝나면 close()가 자동으로 호출"
   ]
  },
  {
   "cell_type": "code",
   "execution_count": 28,
   "metadata": {},
   "outputs": [],
   "source": [
    "with open('ch.9.221.txt','w') as f:\n",
    "    f.write('1\\n')\n",
    "    f.write('2\\n')\n",
    "    f.write('3\\n')"
   ]
  },
  {
   "cell_type": "markdown",
   "metadata": {},
   "source": [
    "### 9-22 csv 저장\n",
    ">* 파일을 저장할 때 콤마(,)를 사용해서 csv파일로 저장할 수 있음\n",
    ">* join() 함수를 이용하여 리스트로 만들 컬럼을 콤마(,)를 넣어 문자열 형태로 만들어 준 뒤 저장. \n",
    ">* 그리고 데이터 부분을 반복문을 돌려 저장"
   ]
  },
  {
   "cell_type": "code",
   "execution_count": 29,
   "metadata": {},
   "outputs": [],
   "source": [
    "columns = ['이름','나이','주소']\n",
    "\n",
    "names = ['철구', '맹구', '짱구', '유리']\n",
    "ages = ['20','21','20','22']\n",
    "address = ['경기도','강원도','경상도','전라도']\n",
    "\n",
    "with open('ch.9.22.csv','a') as f:\n",
    "    column = ','.join(columns) + '\\n'\n",
    "    f.write(column)\n",
    "    \n",
    "    for i in range(0,len(names)):\n",
    "        row = ('%s, %s, %s\\n')%(names[i], ages[i], address[i])\n",
    "        f.write(row)"
   ]
  },
  {
   "cell_type": "markdown",
   "metadata": {},
   "source": [
    "### 9-23 open 이용하여 이미지 파일 저장1)\n",
    ">* open과 requests를 사용하면 이미지를 다운 받을 수 있음\n",
    ">* xb는 바이너리 형태로 쓴다는 의미"
   ]
  },
  {
   "cell_type": "code",
   "execution_count": 30,
   "metadata": {},
   "outputs": [],
   "source": [
    "import requests as rq\n",
    "\n",
    "url = 'https://avatars2.githubusercontent.com/u/12229295?v=4&s=60'\n",
    "\n",
    "res = rq.get(url)\n",
    "\n",
    "with open('t.png','wb') as f:\n",
    "    f.write(res.content)"
   ]
  },
  {
   "cell_type": "markdown",
   "metadata": {},
   "source": [
    "### 9-24 open 이용하여 이미지 파일 저장 2)\n",
    ">* 함수를 만들어 모듈화\n",
    ">* open()을 이용하면 수치데이터뿐만 아니라 이미지데이터도 수집할 수 있음"
   ]
  },
  {
   "cell_type": "code",
   "execution_count": 31,
   "metadata": {},
   "outputs": [],
   "source": [
    "import requests as rq\n",
    "\n",
    "def image_download(url, file_name):\n",
    "    image_request_result = rq.get(url)\n",
    "    image = image_request_result.content\n",
    "    \n",
    "    with open(file_name, 'wb') as destination:\n",
    "        destination.write(image)\n",
    "        \n",
    "url = 'https://avatars2.githubusercontent.com/u/12229295?v=4&s=60'\n",
    "\n",
    "image_download(url, 't.png')"
   ]
  },
  {
   "cell_type": "markdown",
   "metadata": {},
   "source": [
    "### 9-25 pandas 로 csv 파일 읽기\n",
    ">* pandas로 데이터를 읽으면 각 줄마다 번호(인덱스)를 부여"
   ]
  },
  {
   "cell_type": "code",
   "execution_count": 33,
   "metadata": {},
   "outputs": [
    {
     "name": "stdout",
     "output_type": "stream",
     "text": [
      "    이름    나이   주소\n",
      "0  철구1  20.0  경기도\n",
      "1  맹구2  21.0  강원도\n",
      "2  짱구3  20.0  경상도\n",
      "3  유리4  12.0  전라도\n",
      "4  철구5  30.0  경기도\n",
      "5  맹구6  31.0  강원도\n",
      "6  짱구7  40.0  경상도\n",
      "7  유리8  30.0  전라도\n",
      "8  홍길동   NaN  충청도\n",
      "9  박정태  25.0  경기도\n"
     ]
    }
   ],
   "source": [
    "import pandas as pd\n",
    "df=pd.read_csv('test.csv')\n",
    "print(df)"
   ]
  },
  {
   "cell_type": "markdown",
   "metadata": {},
   "source": [
    "### 9-26 앞, 뒤 데이터 잘라 사용하기\n",
    ">* head()함수는 상위 데이터 5개\n",
    ">* tail()함수는 하위 데이터 5개"
   ]
  },
  {
   "cell_type": "code",
   "execution_count": 34,
   "metadata": {},
   "outputs": [
    {
     "name": "stdout",
     "output_type": "stream",
     "text": [
      "상위 데이터만 출력\n",
      "    이름    나이   주소\n",
      "0  철구1  20.0  경기도\n",
      "1  맹구2  21.0  강원도\n",
      "2  짱구3  20.0  경상도\n",
      "3  유리4  12.0  전라도\n",
      "4  철구5  30.0  경기도\n",
      "하위 데이터만 출력\n",
      "    이름    나이   주소\n",
      "5  맹구6  31.0  강원도\n",
      "6  짱구7  40.0  경상도\n",
      "7  유리8  30.0  전라도\n",
      "8  홍길동   NaN  충청도\n",
      "9  박정태  25.0  경기도\n"
     ]
    }
   ],
   "source": [
    "import pandas as pd\n",
    "\n",
    "df = pd.read_csv('test.csv')\n",
    "\n",
    "print('상위 데이터만 출력')\n",
    "print(df.head())\n",
    "\n",
    "print('하위 데이터만 출력')\n",
    "print(df.tail())"
   ]
  },
  {
   "cell_type": "markdown",
   "metadata": {},
   "source": [
    "### 9-27 슬라이싱 하기"
   ]
  },
  {
   "cell_type": "code",
   "execution_count": 35,
   "metadata": {},
   "outputs": [
    {
     "name": "stdout",
     "output_type": "stream",
     "text": [
      "    이름    나이   주소\n",
      "1  맹구2  21.0  강원도\n",
      "2  짱구3  20.0  경상도\n"
     ]
    }
   ],
   "source": [
    "import pandas as pd\n",
    "df = pd.read_csv('test.csv')\n",
    "\n",
    "print(df[1:3])"
   ]
  },
  {
   "cell_type": "markdown",
   "metadata": {},
   "source": [
    "### 9-30 인덱싱 시도 1)\n",
    ">* 5라인의 컬럼이 없기 때문에 에러 발생"
   ]
  },
  {
   "cell_type": "code",
   "execution_count": 38,
   "metadata": {},
   "outputs": [
    {
     "ename": "KeyError",
     "evalue": "5",
     "output_type": "error",
     "traceback": [
      "\u001b[1;31m---------------------------------------------------------------------------\u001b[0m",
      "\u001b[1;31mKeyError\u001b[0m                                  Traceback (most recent call last)",
      "\u001b[1;32mD:\\anaconda\\envs\\study\\lib\\site-packages\\pandas\\core\\indexes\\base.py\u001b[0m in \u001b[0;36mget_loc\u001b[1;34m(self, key, method, tolerance)\u001b[0m\n\u001b[0;32m   2645\u001b[0m             \u001b[1;32mtry\u001b[0m\u001b[1;33m:\u001b[0m\u001b[1;33m\u001b[0m\u001b[1;33m\u001b[0m\u001b[0m\n\u001b[1;32m-> 2646\u001b[1;33m                 \u001b[1;32mreturn\u001b[0m \u001b[0mself\u001b[0m\u001b[1;33m.\u001b[0m\u001b[0m_engine\u001b[0m\u001b[1;33m.\u001b[0m\u001b[0mget_loc\u001b[0m\u001b[1;33m(\u001b[0m\u001b[0mkey\u001b[0m\u001b[1;33m)\u001b[0m\u001b[1;33m\u001b[0m\u001b[1;33m\u001b[0m\u001b[0m\n\u001b[0m\u001b[0;32m   2647\u001b[0m             \u001b[1;32mexcept\u001b[0m \u001b[0mKeyError\u001b[0m\u001b[1;33m:\u001b[0m\u001b[1;33m\u001b[0m\u001b[1;33m\u001b[0m\u001b[0m\n",
      "\u001b[1;32mpandas\\_libs\\index.pyx\u001b[0m in \u001b[0;36mpandas._libs.index.IndexEngine.get_loc\u001b[1;34m()\u001b[0m\n",
      "\u001b[1;32mpandas\\_libs\\index.pyx\u001b[0m in \u001b[0;36mpandas._libs.index.IndexEngine.get_loc\u001b[1;34m()\u001b[0m\n",
      "\u001b[1;32mpandas\\_libs\\hashtable_class_helper.pxi\u001b[0m in \u001b[0;36mpandas._libs.hashtable.PyObjectHashTable.get_item\u001b[1;34m()\u001b[0m\n",
      "\u001b[1;32mpandas\\_libs\\hashtable_class_helper.pxi\u001b[0m in \u001b[0;36mpandas._libs.hashtable.PyObjectHashTable.get_item\u001b[1;34m()\u001b[0m\n",
      "\u001b[1;31mKeyError\u001b[0m: 5",
      "\nDuring handling of the above exception, another exception occurred:\n",
      "\u001b[1;31mKeyError\u001b[0m                                  Traceback (most recent call last)",
      "\u001b[1;32m<ipython-input-38-622346fe3a27>\u001b[0m in \u001b[0;36m<module>\u001b[1;34m\u001b[0m\n\u001b[0;32m      3\u001b[0m \u001b[0mdf\u001b[0m \u001b[1;33m=\u001b[0m \u001b[0mpd\u001b[0m\u001b[1;33m.\u001b[0m\u001b[0mread_csv\u001b[0m\u001b[1;33m(\u001b[0m\u001b[1;34m'test.csv'\u001b[0m\u001b[1;33m)\u001b[0m\u001b[1;33m\u001b[0m\u001b[1;33m\u001b[0m\u001b[0m\n\u001b[0;32m      4\u001b[0m \u001b[1;33m\u001b[0m\u001b[0m\n\u001b[1;32m----> 5\u001b[1;33m \u001b[0mprint\u001b[0m\u001b[1;33m(\u001b[0m\u001b[0mdf\u001b[0m\u001b[1;33m[\u001b[0m\u001b[1;36m5\u001b[0m\u001b[1;33m]\u001b[0m\u001b[1;33m)\u001b[0m\u001b[1;33m\u001b[0m\u001b[1;33m\u001b[0m\u001b[0m\n\u001b[0m",
      "\u001b[1;32mD:\\anaconda\\envs\\study\\lib\\site-packages\\pandas\\core\\frame.py\u001b[0m in \u001b[0;36m__getitem__\u001b[1;34m(self, key)\u001b[0m\n\u001b[0;32m   2798\u001b[0m             \u001b[1;32mif\u001b[0m \u001b[0mself\u001b[0m\u001b[1;33m.\u001b[0m\u001b[0mcolumns\u001b[0m\u001b[1;33m.\u001b[0m\u001b[0mnlevels\u001b[0m \u001b[1;33m>\u001b[0m \u001b[1;36m1\u001b[0m\u001b[1;33m:\u001b[0m\u001b[1;33m\u001b[0m\u001b[1;33m\u001b[0m\u001b[0m\n\u001b[0;32m   2799\u001b[0m                 \u001b[1;32mreturn\u001b[0m \u001b[0mself\u001b[0m\u001b[1;33m.\u001b[0m\u001b[0m_getitem_multilevel\u001b[0m\u001b[1;33m(\u001b[0m\u001b[0mkey\u001b[0m\u001b[1;33m)\u001b[0m\u001b[1;33m\u001b[0m\u001b[1;33m\u001b[0m\u001b[0m\n\u001b[1;32m-> 2800\u001b[1;33m             \u001b[0mindexer\u001b[0m \u001b[1;33m=\u001b[0m \u001b[0mself\u001b[0m\u001b[1;33m.\u001b[0m\u001b[0mcolumns\u001b[0m\u001b[1;33m.\u001b[0m\u001b[0mget_loc\u001b[0m\u001b[1;33m(\u001b[0m\u001b[0mkey\u001b[0m\u001b[1;33m)\u001b[0m\u001b[1;33m\u001b[0m\u001b[1;33m\u001b[0m\u001b[0m\n\u001b[0m\u001b[0;32m   2801\u001b[0m             \u001b[1;32mif\u001b[0m \u001b[0mis_integer\u001b[0m\u001b[1;33m(\u001b[0m\u001b[0mindexer\u001b[0m\u001b[1;33m)\u001b[0m\u001b[1;33m:\u001b[0m\u001b[1;33m\u001b[0m\u001b[1;33m\u001b[0m\u001b[0m\n\u001b[0;32m   2802\u001b[0m                 \u001b[0mindexer\u001b[0m \u001b[1;33m=\u001b[0m \u001b[1;33m[\u001b[0m\u001b[0mindexer\u001b[0m\u001b[1;33m]\u001b[0m\u001b[1;33m\u001b[0m\u001b[1;33m\u001b[0m\u001b[0m\n",
      "\u001b[1;32mD:\\anaconda\\envs\\study\\lib\\site-packages\\pandas\\core\\indexes\\base.py\u001b[0m in \u001b[0;36mget_loc\u001b[1;34m(self, key, method, tolerance)\u001b[0m\n\u001b[0;32m   2646\u001b[0m                 \u001b[1;32mreturn\u001b[0m \u001b[0mself\u001b[0m\u001b[1;33m.\u001b[0m\u001b[0m_engine\u001b[0m\u001b[1;33m.\u001b[0m\u001b[0mget_loc\u001b[0m\u001b[1;33m(\u001b[0m\u001b[0mkey\u001b[0m\u001b[1;33m)\u001b[0m\u001b[1;33m\u001b[0m\u001b[1;33m\u001b[0m\u001b[0m\n\u001b[0;32m   2647\u001b[0m             \u001b[1;32mexcept\u001b[0m \u001b[0mKeyError\u001b[0m\u001b[1;33m:\u001b[0m\u001b[1;33m\u001b[0m\u001b[1;33m\u001b[0m\u001b[0m\n\u001b[1;32m-> 2648\u001b[1;33m                 \u001b[1;32mreturn\u001b[0m \u001b[0mself\u001b[0m\u001b[1;33m.\u001b[0m\u001b[0m_engine\u001b[0m\u001b[1;33m.\u001b[0m\u001b[0mget_loc\u001b[0m\u001b[1;33m(\u001b[0m\u001b[0mself\u001b[0m\u001b[1;33m.\u001b[0m\u001b[0m_maybe_cast_indexer\u001b[0m\u001b[1;33m(\u001b[0m\u001b[0mkey\u001b[0m\u001b[1;33m)\u001b[0m\u001b[1;33m)\u001b[0m\u001b[1;33m\u001b[0m\u001b[1;33m\u001b[0m\u001b[0m\n\u001b[0m\u001b[0;32m   2649\u001b[0m         \u001b[0mindexer\u001b[0m \u001b[1;33m=\u001b[0m \u001b[0mself\u001b[0m\u001b[1;33m.\u001b[0m\u001b[0mget_indexer\u001b[0m\u001b[1;33m(\u001b[0m\u001b[1;33m[\u001b[0m\u001b[0mkey\u001b[0m\u001b[1;33m]\u001b[0m\u001b[1;33m,\u001b[0m \u001b[0mmethod\u001b[0m\u001b[1;33m=\u001b[0m\u001b[0mmethod\u001b[0m\u001b[1;33m,\u001b[0m \u001b[0mtolerance\u001b[0m\u001b[1;33m=\u001b[0m\u001b[0mtolerance\u001b[0m\u001b[1;33m)\u001b[0m\u001b[1;33m\u001b[0m\u001b[1;33m\u001b[0m\u001b[0m\n\u001b[0;32m   2650\u001b[0m         \u001b[1;32mif\u001b[0m \u001b[0mindexer\u001b[0m\u001b[1;33m.\u001b[0m\u001b[0mndim\u001b[0m \u001b[1;33m>\u001b[0m \u001b[1;36m1\u001b[0m \u001b[1;32mor\u001b[0m \u001b[0mindexer\u001b[0m\u001b[1;33m.\u001b[0m\u001b[0msize\u001b[0m \u001b[1;33m>\u001b[0m \u001b[1;36m1\u001b[0m\u001b[1;33m:\u001b[0m\u001b[1;33m\u001b[0m\u001b[1;33m\u001b[0m\u001b[0m\n",
      "\u001b[1;32mpandas\\_libs\\index.pyx\u001b[0m in \u001b[0;36mpandas._libs.index.IndexEngine.get_loc\u001b[1;34m()\u001b[0m\n",
      "\u001b[1;32mpandas\\_libs\\index.pyx\u001b[0m in \u001b[0;36mpandas._libs.index.IndexEngine.get_loc\u001b[1;34m()\u001b[0m\n",
      "\u001b[1;32mpandas\\_libs\\hashtable_class_helper.pxi\u001b[0m in \u001b[0;36mpandas._libs.hashtable.PyObjectHashTable.get_item\u001b[1;34m()\u001b[0m\n",
      "\u001b[1;32mpandas\\_libs\\hashtable_class_helper.pxi\u001b[0m in \u001b[0;36mpandas._libs.hashtable.PyObjectHashTable.get_item\u001b[1;34m()\u001b[0m\n",
      "\u001b[1;31mKeyError\u001b[0m: 5"
     ]
    }
   ],
   "source": [
    "import pandas as pd\n",
    "\n",
    "df = pd.read_csv('test.csv')\n",
    "\n",
    "print(df[5])"
   ]
  },
  {
   "cell_type": "markdown",
   "metadata": {},
   "source": [
    "### 9-31 인덱싱 시도 2)\n",
    ">* pandas에서 인덱싱은 컬럼을 분리하여 뽑는 역할"
   ]
  },
  {
   "cell_type": "code",
   "execution_count": 39,
   "metadata": {},
   "outputs": [
    {
     "name": "stdout",
     "output_type": "stream",
     "text": [
      "0    20.0\n",
      "1    21.0\n",
      "2    20.0\n",
      "3    12.0\n",
      "4    30.0\n",
      "5    31.0\n",
      "6    40.0\n",
      "7    30.0\n",
      "8     NaN\n",
      "9    25.0\n",
      "Name: 나이, dtype: float64\n",
      "0    철구1\n",
      "1    맹구2\n",
      "2    짱구3\n",
      "3    유리4\n",
      "4    철구5\n",
      "5    맹구6\n",
      "6    짱구7\n",
      "7    유리8\n",
      "8    홍길동\n",
      "9    박정태\n",
      "Name: 이름, dtype: object\n"
     ]
    }
   ],
   "source": [
    "import pandas as pd\n",
    "\n",
    "df = pd.read_csv('test.csv')\n",
    "\n",
    "print(df['나이'])\n",
    "print(df['이름'])"
   ]
  },
  {
   "cell_type": "markdown",
   "metadata": {},
   "source": [
    "### 9-32 데이터 재조합\n",
    ">* 인덱싱하여 특정 컬럼만 뽑은 뒤p pandas의 concat() 함수를 이용하여 다시 데이터를 만들 수 있음\n",
    ">* concat() 함수는 두번째 인자를 axis로 0과 1이 들어갈 수 있는데 1일 경우 컬럼 단위로 합치고, 0일 경우 로우로 합침\n",
    ">* 만약에 뽑은 데이터가 같은 컬럼이라면 axis를 0으로 하여 로우를 늘리고, 다른 컬럼이라면 axis를 1로 하여 컬럼을 늘리면 됨"
   ]
  },
  {
   "cell_type": "code",
   "execution_count": 44,
   "metadata": {},
   "outputs": [
    {
     "name": "stdout",
     "output_type": "stream",
     "text": [
      "axis가 1일 때\n",
      "     나이   이름\n",
      "0  20.0  철구1\n",
      "1  21.0  맹구2\n",
      "2  20.0  짱구3\n",
      "3  12.0  유리4\n",
      "4  30.0  철구5\n",
      "5  31.0  맹구6\n",
      "6  40.0  짱구7\n",
      "7  30.0  유리8\n",
      "8   NaN  홍길동\n",
      "9  25.0  박정태\n",
      "\n",
      "axis가 0일 때\n",
      "0     20\n",
      "1     21\n",
      "2     20\n",
      "3     12\n",
      "4     30\n",
      "5     31\n",
      "6     40\n",
      "7     30\n",
      "8    NaN\n",
      "9     25\n",
      "0    철구1\n",
      "1    맹구2\n",
      "2    짱구3\n",
      "3    유리4\n",
      "4    철구5\n",
      "5    맹구6\n",
      "6    짱구7\n",
      "7    유리8\n",
      "8    홍길동\n",
      "9    박정태\n",
      "dtype: object\n"
     ]
    }
   ],
   "source": [
    "import pandas as pd\n",
    "\n",
    "df = pd.read_csv('test.csv')\n",
    "\n",
    "name = df['나이']\n",
    "age = df['이름']\n",
    "\n",
    "print('axis가 1일 때')\n",
    "p1 = pd.concat([name, age], axis=1)\n",
    "print(p1)\n",
    "\n",
    "print('\\naxis가 0일 때')\n",
    "p2 = pd.concat([name, age], axis=0)\n",
    "print(p2)"
   ]
  },
  {
   "cell_type": "markdown",
   "metadata": {},
   "source": [
    "### 9-34 필터링 1)\n",
    ">* 값을 필터하여 뽑아내는 것이 가능"
   ]
  },
  {
   "cell_type": "code",
   "execution_count": 45,
   "metadata": {},
   "outputs": [
    {
     "name": "stdout",
     "output_type": "stream",
     "text": [
      "0    False\n",
      "1    False\n",
      "2    False\n",
      "3    False\n",
      "4    False\n",
      "5     True\n",
      "6     True\n",
      "7    False\n",
      "8    False\n",
      "9    False\n",
      "Name: 나이, dtype: bool\n"
     ]
    }
   ],
   "source": [
    "import pandas as pd\n",
    "\n",
    "df = pd.read_csv('test.csv')\n",
    "\n",
    "print(df['나이']>30)"
   ]
  },
  {
   "cell_type": "markdown",
   "metadata": {},
   "source": [
    "### 9-35 필터링 2)\n",
    ">* 값을 필터하여 뽑아내는 것이 가능\n",
    ">* 만약 30 이상인 컬럼만 뻡고 싶을 때는 아래와 같이 코드 작성"
   ]
  },
  {
   "cell_type": "code",
   "execution_count": 52,
   "metadata": {},
   "outputs": [
    {
     "name": "stdout",
     "output_type": "stream",
     "text": [
      "    이름    나이   주소\n",
      "5  맹구6  31.0  강원도\n",
      "6  짱구7  40.0  경상도\n"
     ]
    }
   ],
   "source": [
    "import pandas as pd\n",
    "\n",
    "df = pd.read_csv('test.csv')\n",
    "\n",
    "print(df[df['나이']>30])"
   ]
  },
  {
   "cell_type": "markdown",
   "metadata": {},
   "source": [
    "### 9-35 비어있는 값 필터링 1)\n",
    ">* notnull()함수는 값이 비어있는지 검사"
   ]
  },
  {
   "cell_type": "code",
   "execution_count": 46,
   "metadata": {},
   "outputs": [
    {
     "name": "stdout",
     "output_type": "stream",
     "text": [
      "0     True\n",
      "1     True\n",
      "2     True\n",
      "3     True\n",
      "4     True\n",
      "5     True\n",
      "6     True\n",
      "7     True\n",
      "8    False\n",
      "9     True\n",
      "Name: 나이, dtype: bool\n",
      "    이름    나이   주소\n",
      "0  철구1  20.0  경기도\n",
      "1  맹구2  21.0  강원도\n",
      "2  짱구3  20.0  경상도\n",
      "3  유리4  12.0  전라도\n",
      "4  철구5  30.0  경기도\n",
      "5  맹구6  31.0  강원도\n",
      "6  짱구7  40.0  경상도\n",
      "7  유리8  30.0  전라도\n",
      "9  박정태  25.0  경기도\n"
     ]
    }
   ],
   "source": [
    "import pandas as pd\n",
    "\n",
    "df = pd.read_csv('test.csv')\n",
    "\n",
    "print(df['나이'].notnull())\n",
    "print(df[df['나이'].notnull()])"
   ]
  },
  {
   "cell_type": "markdown",
   "metadata": {},
   "source": [
    "### 9-36 비어있는 값 필터링 2)\n",
    ">* notnull()함수를 사용하지 않고 단순히 ==' ' 형태로 검사하면 에러가 발생"
   ]
  },
  {
   "cell_type": "code",
   "execution_count": 47,
   "metadata": {},
   "outputs": [
    {
     "name": "stdout",
     "output_type": "stream",
     "text": [
      "0    False\n",
      "1    False\n",
      "2    False\n",
      "3    False\n",
      "4    False\n",
      "5    False\n",
      "6    False\n",
      "7    False\n",
      "8    False\n",
      "9    False\n",
      "Name: 나이, dtype: bool\n"
     ]
    },
    {
     "name": "stderr",
     "output_type": "stream",
     "text": [
      "D:\\anaconda\\envs\\study\\lib\\site-packages\\pandas\\core\\ops\\array_ops.py:253: FutureWarning: elementwise comparison failed; returning scalar instead, but in the future will perform elementwise comparison\n",
      "  res_values = method(rvalues)\n"
     ]
    }
   ],
   "source": [
    "import pandas as pd\n",
    "\n",
    "df = pd.read_csv('test.csv')\n",
    "\n",
    "print(df['나이']=='')"
   ]
  },
  {
   "cell_type": "markdown",
   "metadata": {},
   "source": [
    "### 9-37 필터링 시 주의할 점\n",
    ">* 숫자로 이루어진 컬럼\n",
    ">* 만약에 df[나이]=='1' 을 사용하게 되면 에러가 발생\n",
    ">* 문자열로 이루어진 이름 컬럼에서 숫자로 검사를 할 경우에는 에러가 발생 안함\n",
    ">* 고로 숫자 이루어진 컬럼은 신경써서 처리해주세용"
   ]
  },
  {
   "cell_type": "code",
   "execution_count": 48,
   "metadata": {},
   "outputs": [
    {
     "name": "stdout",
     "output_type": "stream",
     "text": [
      "0    False\n",
      "1    False\n",
      "2    False\n",
      "3    False\n",
      "4    False\n",
      "5    False\n",
      "6    False\n",
      "7    False\n",
      "8    False\n",
      "9    False\n",
      "Name: 나이, dtype: bool\n",
      "0    False\n",
      "1    False\n",
      "2    False\n",
      "3    False\n",
      "4    False\n",
      "5    False\n",
      "6    False\n",
      "7    False\n",
      "8    False\n",
      "9    False\n",
      "Name: 이름, dtype: bool\n"
     ]
    }
   ],
   "source": [
    "import pandas as pd\n",
    "\n",
    "df = pd.read_csv('test.csv')\n",
    "\n",
    "print(df['나이']==1)\n",
    "print(df['이름']==1)"
   ]
  },
  {
   "cell_type": "markdown",
   "metadata": {},
   "source": [
    "### 9-38 DataFrame 만들기\n",
    ">* DataFrame은 딕셔너리와 리스트의 형태로 이루어져 있음\n",
    ">* 컬럼은 딕셔너리 키, 로우는 키에 저장되는 리스트"
   ]
  },
  {
   "cell_type": "code",
   "execution_count": 50,
   "metadata": {},
   "outputs": [
    {
     "name": "stdout",
     "output_type": "stream",
     "text": [
      "    이름  나이   주소\n",
      "0  철구1  20  경기도\n",
      "1  맹구2  21  강원도\n",
      "2  짱구3  20  경상도\n",
      "3  유리4  12  전라도\n",
      "4  철구5  30  경기도\n",
      "5  맹구6  31  강원도\n",
      "6  짱구7  40  경상도\n",
      "7  유리8  30  전라도\n"
     ]
    }
   ],
   "source": [
    "from pandas import DataFrame\n",
    "\n",
    "raw_data = {'이름':['철구1', '맹구2', '짱구3', '유리4','철구5', '맹구6', '짱구7','유리8',],\n",
    "           '나이':[20,21,20,12,30,31,40,30],\n",
    "           '주소':['경기도','강원도','경상도','전라도','경기도','강원도','경상도','전라도'],\n",
    "           }\n",
    "\n",
    "data = DataFrame(raw_data)\n",
    "print(data)"
   ]
  },
  {
   "cell_type": "markdown",
   "metadata": {},
   "source": [
    "### 9-39 index, columns 지정"
   ]
  },
  {
   "cell_type": "code",
   "execution_count": 51,
   "metadata": {},
   "outputs": [
    {
     "name": "stdout",
     "output_type": "stream",
     "text": [
      "     나이   주소\n",
      "경기도  20  경기도\n",
      "강원도  21  강원도\n",
      "경상도  20  경상도\n",
      "전라도  12  전라도\n",
      "경기도  30  경기도\n",
      "강원도  31  강원도\n",
      "경상도  40  경상도\n",
      "전라도  30  전라도\n"
     ]
    }
   ],
   "source": [
    "from pandas import DataFrame\n",
    "\n",
    "data = {'이름':['철구1', '맹구2', '짱구3', '유리4','철구5', '맹구6', '짱구7','유리8',],\n",
    "           '나이':[20,21,20,12,30,31,40,30],\n",
    "           '주소':['경기도','강원도','경상도','전라도','경기도','강원도','경상도','전라도'],\n",
    "           }\n",
    "\n",
    "data = DataFrame(data, columns = ['나이','주소'], index = data['주소'])\n",
    "print(data)"
   ]
  },
  {
   "cell_type": "code",
   "execution_count": 60,
   "metadata": {},
   "outputs": [
    {
     "ename": "SyntaxError",
     "evalue": "invalid syntax (<ipython-input-60-f7ad44085440>, line 2)",
     "output_type": "error",
     "traceback": [
      "\u001b[1;36m  File \u001b[1;32m\"<ipython-input-60-f7ad44085440>\"\u001b[1;36m, line \u001b[1;32m2\u001b[0m\n\u001b[1;33m    >* 인덱스를 이용하여 접근하는게 저 빠름\u001b[0m\n\u001b[1;37m    ^\u001b[0m\n\u001b[1;31mSyntaxError\u001b[0m\u001b[1;31m:\u001b[0m invalid syntax\n"
     ]
    }
   ],
   "source": [
    "### 9-40 인덱스 접근, 컬럼 접근\n",
    ">* 인덱스를 이용하여 접근하는게 저 빠름"
   ]
  },
  {
   "cell_type": "code",
   "execution_count": 57,
   "metadata": {},
   "outputs": [
    {
     "name": "stdout",
     "output_type": "stream",
     "text": [
      "0 번째 테스트\n",
      "     나이   주소   이름\n",
      "경기도  20  경기도  철구1\n",
      "강원도  21  강원도  맹구2\n",
      "경상도  20  경상도  짱구3\n",
      "인덱스 검사 : 0.001995\n",
      "컬럼 검사 : 0.002993\n",
      "1 번째 테스트\n",
      "     나이   주소   이름\n",
      "경기도  20  경기도  철구1\n",
      "강원도  21  강원도  맹구2\n",
      "경상도  20  경상도  짱구3\n",
      "인덱스 검사 : 0.001995\n",
      "컬럼 검사 : 0.000996\n",
      "2 번째 테스트\n",
      "     나이   주소   이름\n",
      "경기도  20  경기도  철구1\n",
      "강원도  21  강원도  맹구2\n",
      "경상도  20  경상도  짱구3\n",
      "인덱스 검사 : 0.001040\n",
      "컬럼 검사 : 0.001951\n",
      "\n",
      "----- 검사결과 -----\n",
      "인덱스 검사 평균 : 0.0016765594482421875\n",
      "컬럼 검사 평균 : 0.001979986826578776\n"
     ]
    }
   ],
   "source": [
    "from pandas import DataFrame\n",
    "import time\n",
    "\n",
    "def test(i):\n",
    "    print((\"%d 번째 테스트\")%(i))\n",
    "\n",
    "    names = ['철구1', '맹구2', '짱구3', '유리4', '철구5', '맹구6', '짱구7', '유리8',]\n",
    "    ages = [20, 21, 20, 12, 30, 31, 40, 30,]\n",
    "    addresses = ['경기도', '강원도', '경상도', '전라도', '경기도', '강원도', '경상도', '전라도', ]\n",
    "\n",
    "    data = {\n",
    "        '이름': [],\n",
    "        '나이': [],\n",
    "        '주소': [],\n",
    "    }\n",
    "\n",
    "    data_length = 1000\n",
    "\n",
    "    for i in range(0, data_length):\n",
    "        data['이름'].extend(names)\n",
    "        data['나이'].extend(ages)\n",
    "        data['주소'].extend(addresses)\n",
    "\n",
    "    data = DataFrame(data, columns=['나이', '주소', '이름'], index=data['주소'])\n",
    "\n",
    "    print(data.head(3))\n",
    "\n",
    "    start1 = time.time()\n",
    "    new_add1 = data.loc['경기도']\n",
    "    end1 = time.time() - start1\n",
    "\n",
    "    start2 = time.time()\n",
    "    new_add2 = data[data['주소'] == '경기도']\n",
    "    end2 = time.time() - start2\n",
    "\n",
    "    print('인덱스 검사 : %f'%(end1))\n",
    "    print('컬럼 검사 : %f'%(end2))\n",
    "\n",
    "    return {\n",
    "        'index': end1,\n",
    "        'column': end2\n",
    "    }\n",
    "\n",
    "index_sum = 0\n",
    "column_sum = 0\n",
    "count = 3\n",
    "\n",
    "for i in range(count):\n",
    "    d = test(i)\n",
    "    column_sum += d['column']\n",
    "    index_sum += d['index']\n",
    "\n",
    "\n",
    "print('\\n----- 검사결과 -----')\n",
    "print('인덱스 검사 평균 : %s'%(index_sum/count))\n",
    "print('컬럼 검사 평균 : %s'%(column_sum/count))\n"
   ]
  },
  {
   "cell_type": "markdown",
   "metadata": {},
   "source": [
    "### 9-41 데이터 저장\n",
    ">* to_csv() 함수를 호출하면 DataFrame을 csv로 저장"
   ]
  },
  {
   "cell_type": "code",
   "execution_count": 59,
   "metadata": {},
   "outputs": [],
   "source": [
    "from pandas import DataFrame\n",
    "\n",
    "data = {'이름':['철구1', '맹구2', '짱구3', '유리4','철구5', '맹구6', '짱구7','유리8',],\n",
    "           '나이':[20,21,20,12,30,31,40,30],\n",
    "           '주소':['경기도','강원도','경상도','전라도','경기도','강원도','경상도','전라도'],\n",
    "           }\n",
    "\n",
    "df = DataFrame(data, columns=['나이','주소','이름'])\n",
    "\n",
    "df.to_csv('9.41.csv')"
   ]
  },
  {
   "cell_type": "code",
   "execution_count": null,
   "metadata": {},
   "outputs": [],
   "source": []
  }
 ],
 "metadata": {
  "kernelspec": {
   "display_name": "Python 3",
   "language": "python",
   "name": "python3"
  },
  "language_info": {
   "codemirror_mode": {
    "name": "ipython",
    "version": 3
   },
   "file_extension": ".py",
   "mimetype": "text/x-python",
   "name": "python",
   "nbconvert_exporter": "python",
   "pygments_lexer": "ipython3",
   "version": "3.7.6"
  }
 },
 "nbformat": 4,
 "nbformat_minor": 4
}
