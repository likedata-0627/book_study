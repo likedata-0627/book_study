{
 "cells": [
  {
   "cell_type": "markdown",
   "metadata": {},
   "source": [
    "### 6-1 requests 모듈 import \n",
    ">* requests 모듈은 파이썬에서 웹 데이터를 받아올 때 가장 많이 사용하는 모듈"
   ]
  },
  {
   "cell_type": "code",
   "execution_count": 1,
   "metadata": {},
   "outputs": [],
   "source": [
    "import requests"
   ]
  },
  {
   "cell_type": "markdown",
   "metadata": {},
   "source": [
    "### 6-2 requests 모듈 import \n",
    ">* requests 모듈을 이용하여 웹 페이지에 접속하기\n",
    ">* requests를 get과 post로 요청을 보낼 수 있음\n",
    ">* get 요청을 보낼때는 requests.get()을 이용\n",
    ">* post 요청을 보낼때는 requests.post()을 이용"
   ]
  },
  {
   "cell_type": "code",
   "execution_count": 3,
   "metadata": {},
   "outputs": [],
   "source": [
    "import requests as rq"
   ]
  },
  {
   "cell_type": "markdown",
   "metadata": {},
   "source": [
    "### 6-3 get요청 \n",
    ">* requests는 요청 후 응답 객체를 반환"
   ]
  },
  {
   "cell_type": "code",
   "execution_count": 4,
   "metadata": {},
   "outputs": [
    {
     "data": {
      "text/plain": [
       "<Response [200]>"
      ]
     },
     "execution_count": 4,
     "metadata": {},
     "output_type": "execute_result"
    }
   ],
   "source": [
    "import requests as rq\n",
    "\n",
    "url = 'https://pjt3591oo.github.io'\n",
    "\n",
    "rq.get(url)"
   ]
  },
  {
   "cell_type": "markdown",
   "metadata": {},
   "source": [
    "### 6-4 응답결과 "
   ]
  },
  {
   "cell_type": "code",
   "execution_count": 5,
   "metadata": {},
   "outputs": [
    {
     "name": "stdout",
     "output_type": "stream",
     "text": [
      "<Response [200]>\n"
     ]
    }
   ],
   "source": [
    "import requests as rq\n",
    "\n",
    "url = 'https://pjt3591oo.github.io'\n",
    "\n",
    "res = rq.get(url)\n",
    "print(res)"
   ]
  },
  {
   "cell_type": "markdown",
   "metadata": {},
   "source": [
    "### 6-5  응답코드 가져오기\n",
    ">* 응답객체에서 응답코드를 가져올 수 있음\n",
    ">* status_code 속성을 통해 응답코드를 확인 할 수 있음"
   ]
  },
  {
   "cell_type": "code",
   "execution_count": 7,
   "metadata": {},
   "outputs": [
    {
     "name": "stdout",
     "output_type": "stream",
     "text": [
      "<Response [200]>\n",
      "200\n"
     ]
    }
   ],
   "source": [
    "import requests as rq\n",
    "\n",
    "url = 'https://pjt3591oo.github.io'\n",
    "\n",
    "res= rq.get(url)\n",
    "print(res)\n",
    "print(res.status_code)"
   ]
  },
  {
   "cell_type": "markdown",
   "metadata": {},
   "source": [
    "### 6-6  없는 페이지 응답 코드 확인하기\n",
    ">* 404는 찾을 수 없다는 의미이며, 존재하지 않는 url에 접속하여 해당 페이지에 접속 할 수 없을 때 반환하는 코드"
   ]
  },
  {
   "cell_type": "code",
   "execution_count": 9,
   "metadata": {},
   "outputs": [
    {
     "name": "stdout",
     "output_type": "stream",
     "text": [
      "<Response [404]>\n",
      "404\n"
     ]
    }
   ],
   "source": [
    "import requests as rq\n",
    "\n",
    "url = 'https://pjt3591oo.github.io/a'\n",
    "\n",
    "res= rq.get(url)\n",
    "\n",
    "print(res)\n",
    "print(res.status_code)"
   ]
  },
  {
   "cell_type": "markdown",
   "metadata": {},
   "source": [
    "### 6-7  응답코드를 활용한 조건 분기\n",
    ">* 응답코드인 status_code에 따라 조건을 나누어 처리할 수 있음"
   ]
  },
  {
   "cell_type": "code",
   "execution_count": 14,
   "metadata": {},
   "outputs": [
    {
     "name": "stdout",
     "output_type": "stream",
     "text": [
      "<Response [200]>\n",
      "https://pjt3591oo.github.io/ 요청 성공\n",
      "<Response [404]>\n",
      "https://pjt3591oo.github.io//a 찾을 수 없음\n"
     ]
    }
   ],
   "source": [
    "import requests as rq\n",
    "\n",
    "def url_check(url):\n",
    "    res = rq.get(url)\n",
    "    \n",
    "    print(res)\n",
    "    \n",
    "    sc = res.status_code\n",
    "    \n",
    "    if sc ==200:\n",
    "        print('%s 요청 성공' %(url))\n",
    "        \n",
    "    elif sc == 404:\n",
    "        print('%s 찾을 수 없음' %(url))\n",
    "    else:\n",
    "        print('%s 알 수 없는 에러 : %s ' %(url, sc))\n",
    "        \n",
    "url_check('https://pjt3591oo.github.io/')\n",
    "url_check('https://pjt3591oo.github.io//a')"
   ]
  },
  {
   "cell_type": "markdown",
   "metadata": {},
   "source": [
    "### 6-8  헤더가져오기\n",
    ">* 응답 객체에서 헤더를 딕셔너리 형태로 가져옴"
   ]
  },
  {
   "cell_type": "code",
   "execution_count": 17,
   "metadata": {},
   "outputs": [
    {
     "name": "stdout",
     "output_type": "stream",
     "text": [
      "<Response [200]>\n",
      "{'Date': 'Thu, 20 Feb 2020 05:16:05 GMT', 'Content-Type': 'text/html;charset=UTF-8', 'Transfer-Encoding': 'chunked', 'Connection': 'close', 'Cache-Control': 'no-cache', 'Expires': 'Thu, 01 Jan 1970 00:00:00 GMT', 'Set-Cookie': 'JSESSIONID=EADA379BC390EC017C7FBC2D521A14C4.jvm1; Path=/; HttpOnly', 'P3P': 'CP=\"ALL CURa ADMa DEVa TAIa OUR BUS IND PHY ONL UNI PUR FIN COM NAV INT DEM CNT STA POL HEA PRE LOC OTC\"', 'Access-Control-Allow-Credentials': 'true', 'Access-Control-Allow-Headers': 'accept, content-type', 'Access-Control-Allow-Methods': 'GET, POST', 'Vary': 'Accept-Encoding', 'Content-Encoding': 'gzip', 'Server': 'nxfps', 'Referrer-policy': 'unsafe-url'}\n"
     ]
    }
   ],
   "source": [
    "import requests as rq\n",
    "\n",
    "url = 'http://blog.naver.com/pjt3591oo'\n",
    "\n",
    "res = rq.get(url)\n",
    "\n",
    "print(res)\n",
    "print(res.headers)"
   ]
  },
  {
   "cell_type": "markdown",
   "metadata": {},
   "source": [
    "### 6-9 특정 값 가져오기\n",
    ">* set_cookie를 이용하여 설전된 쿠키값을 볼 수 있음 => 쿠키값은 요청되는 pd,사용자에 따라 다르게 나타나므로, 값이 유동적으로 바뀜 \n",
    ">* 쿠기값 내에 expires는 쿠키만료기간으로 , 해당 쿠키가 expires 날짜까지 존재한다면 만료되어 다시 재발급"
   ]
  },
  {
   "cell_type": "code",
   "execution_count": 1,
   "metadata": {},
   "outputs": [
    {
     "name": "stdout",
     "output_type": "stream",
     "text": [
      "JSESSIONID=58C699010D38276C78DFDD2622717EF4.jvm1; Path=/; HttpOnly\n"
     ]
    }
   ],
   "source": [
    "import requests as rq\n",
    "\n",
    "url = 'http://blog.naver.com/pjt3591oo'\n",
    "\n",
    "res = rq.get(url)\n",
    "\n",
    "headers = res.headers\n",
    "print(headers['Set-Cookie'])"
   ]
  },
  {
   "cell_type": "markdown",
   "metadata": {},
   "source": [
    "### 6-10 헤더의 모든 요소 접근\n",
    ">* 크롤러를 만들 때 응답 객체의 헤더에서 가장 중요한 부분은 서버에서 쿠키값을 만들어 준 set-cookie 부분"
   ]
  },
  {
   "cell_type": "code",
   "execution_count": 19,
   "metadata": {},
   "outputs": [
    {
     "name": "stdout",
     "output_type": "stream",
     "text": [
      "<Response [200]>\n",
      "Thu, 20 Feb 2020 05:19:16 GMT\n",
      "text/html;charset=UTF-8\n",
      "chunked\n",
      "close\n",
      "no-cache\n",
      "Thu, 01 Jan 1970 00:00:00 GMT\n",
      "JSESSIONID=902DE6110A66153F2B98A1E51A8BFBDD.jvm1; Path=/; HttpOnly\n",
      "CP=\"ALL CURa ADMa DEVa TAIa OUR BUS IND PHY ONL UNI PUR FIN COM NAV INT DEM CNT STA POL HEA PRE LOC OTC\"\n",
      "true\n",
      "accept, content-type\n",
      "GET, POST\n",
      "Accept-Encoding\n",
      "gzip\n",
      "nxfps\n",
      "unsafe-url\n"
     ]
    }
   ],
   "source": [
    "import requests as rq\n",
    "\n",
    "url = 'http://blog.naver.com/pjt3591oo'\n",
    "\n",
    "res = rq.get(url)\n",
    "\n",
    "print(res)\n",
    "\n",
    "headers = res.headers\n",
    "\n",
    "for header in headers:\n",
    "    print(headers[header])"
   ]
  },
  {
   "cell_type": "markdown",
   "metadata": {},
   "source": [
    "### 6-11  쿠키 가져오기 1)\n",
    ">* 쿠키는 headers 속성에서 접근하지 않고 cookies 속성으로 바로 가져올 수 있음"
   ]
  },
  {
   "cell_type": "code",
   "execution_count": 21,
   "metadata": {},
   "outputs": [
    {
     "name": "stdout",
     "output_type": "stream",
     "text": [
      "<Response [200]>\n",
      "<RequestsCookieJar[<Cookie JSESSIONID=E1CA7B1FD48F8BB5CB4A1E7830172A5C.jvm1 for blog.naver.com/>]>\n"
     ]
    }
   ],
   "source": [
    "import requests as rq\n",
    "\n",
    "url = 'http://blog.naver.com/pjt3591oo'\n",
    "\n",
    "res = rq.get(url)\n",
    "\n",
    "print(res)\n",
    "\n",
    "cookies = res.cookies\n",
    "print(cookies)"
   ]
  },
  {
   "cell_type": "markdown",
   "metadata": {},
   "source": [
    "### 6-12 쿠키 가져오기 2)\n",
    ">* cookie 속성은 requestscookiejar 형태로 반환\n",
    ">* 이 경우 리스트와 같은 타입으로 변환한 후 사용하면 됨"
   ]
  },
  {
   "cell_type": "code",
   "execution_count": 22,
   "metadata": {},
   "outputs": [
    {
     "name": "stdout",
     "output_type": "stream",
     "text": [
      "<Response [200]>\n",
      "[Cookie(version=0, name='JSESSIONID', value='A482C6B8F6B22FCA539E21F7D508A87B.jvm1', port=None, port_specified=False, domain='blog.naver.com', domain_specified=False, domain_initial_dot=False, path='/', path_specified=True, secure=False, expires=None, discard=True, comment=None, comment_url=None, rest={'HttpOnly': None}, rfc2109=False)]\n"
     ]
    }
   ],
   "source": [
    "import requests as rq\n",
    "\n",
    "url = 'http://blog.naver.com/pjt3591oo'\n",
    "\n",
    "res = rq.get(url)\n",
    "\n",
    "print(res)\n",
    "\n",
    "cookies = res.cookies\n",
    "print(list(cookies))"
   ]
  },
  {
   "cell_type": "markdown",
   "metadata": {},
   "source": [
    "### 6-13 쿠키 가져오기 3)\n",
    ">* 튜플로 가져오기"
   ]
  },
  {
   "cell_type": "code",
   "execution_count": 23,
   "metadata": {},
   "outputs": [
    {
     "name": "stdout",
     "output_type": "stream",
     "text": [
      "<Response [200]>\n",
      "(Cookie(version=0, name='JSESSIONID', value='61F2E933D5CAD435F4BC81638D37D164.jvm1', port=None, port_specified=False, domain='blog.naver.com', domain_specified=False, domain_initial_dot=False, path='/', path_specified=True, secure=False, expires=None, discard=True, comment=None, comment_url=None, rest={'HttpOnly': None}, rfc2109=False),)\n"
     ]
    }
   ],
   "source": [
    "import requests as rq\n",
    "\n",
    "url = 'http://blog.naver.com/pjt3591oo'\n",
    "\n",
    "res = rq.get(url)\n",
    "print(res)\n",
    "\n",
    "cookies = res.cookies\n",
    "print(tuple(cookies))"
   ]
  },
  {
   "cell_type": "markdown",
   "metadata": {},
   "source": [
    "### 6-14 쿠키 가져오기 4)\n",
    ">* 딕셔너리 형태로 가져오기\n",
    ">* 이 경우 쿠키에 있는 name과 value를 name:value의 형태로 딕셔너리를 만듬"
   ]
  },
  {
   "cell_type": "code",
   "execution_count": 25,
   "metadata": {},
   "outputs": [
    {
     "name": "stdout",
     "output_type": "stream",
     "text": [
      "<Response [200]>\n",
      "{'JSESSIONID': 'F8CFE1602F47DD68DCF01D2CF6C27125.jvm1'}\n"
     ]
    }
   ],
   "source": [
    "import requests as rq\n",
    "\n",
    "url = 'http://blog.naver.com/pjt3591oo'\n",
    "\n",
    "res = rq.get(url)\n",
    "print(res)\n",
    "\n",
    "cookies = res.cookies\n",
    "print(dict(cookies))"
   ]
  },
  {
   "cell_type": "markdown",
   "metadata": {},
   "source": [
    "### 6-15 header 와 cookie 속성 비교\n",
    ">* cookie 속성이 headers보다 쿠키값의 정보를 더 자세히 볼 수 있음\n",
    ">* 또한 name 단위로 구분지어져 있기 때문에 headers보다 더 자세히 볼 수 있음"
   ]
  },
  {
   "cell_type": "code",
   "execution_count": 26,
   "metadata": {},
   "outputs": [
    {
     "name": "stdout",
     "output_type": "stream",
     "text": [
      "<Response [200]>\n",
      "cookies 속성\n",
      "<RequestsCookieJar[<Cookie JSESSIONID=900D2E7B995154B2496AABC54AD9620E.jvm1 for blog.naver.com/>]>\n",
      "\n",
      "header 속성\n",
      "JSESSIONID=900D2E7B995154B2496AABC54AD9620E.jvm1; Path=/; HttpOnly\n"
     ]
    }
   ],
   "source": [
    "import requests as rq\n",
    "\n",
    "url = 'http://blog.naver.com/pjt3591oo'\n",
    "\n",
    "res = rq.get(url)\n",
    "print(res)\n",
    "\n",
    "cookies = res.cookies\n",
    "headers_cookies = res.headers['Set-Cookie']\n",
    "\n",
    "print('cookies 속성')\n",
    "print(cookies)\n",
    "print('')\n",
    "print('header 속성')\n",
    "print(headers_cookies)"
   ]
  },
  {
   "cell_type": "markdown",
   "metadata": {},
   "source": [
    "### 6-16 html 속성 가져오기\n",
    ">* text 속성을 이용하면 html 코드를 가져올 수 있음"
   ]
  },
  {
   "cell_type": "code",
   "execution_count": 27,
   "metadata": {},
   "outputs": [
    {
     "name": "stdout",
     "output_type": "stream",
     "text": [
      "<!DOCTYPE html>\n",
      "<html lang=\"en\">\n",
      "\n",
      "  <head>\n",
      "  <meta charset=\"utf-8\">\n",
      "  <meta http-equiv=\"X-UA-Compatible\" content=\"IE=edge\">\n",
      "  <meta name=\"viewport\" content=\"width=device-width, initial-scale=1\">\n",
      "\n",
      "  <title>Home</title>\n",
      "  <meta name=\"description\" content=\"멍개의 개발 블로그입니다. 궁금하신 사항 혹은 전달하고 싶은 내용이 있으시면 메일로 문의 주세요.\">\n",
      "\n",
      "  <link rel=\"stylesheet\" href=\"/assets/main.css\">\n",
      "  <link rel=\"canonical\" href=\"/\">\n",
      "  <link rel=\"alternate\" type=\"application/rss+xml\" title=\"Home\" href=\"/feed.xml\">\n",
      "  \n",
      "  \n",
      "</head>\n",
      "\n",
      "\n",
      "  <body>\n",
      "\n",
      "    <header class=\"site-header\" role=\"banner\">\n",
      "\n",
      "  <div class=\"wrapper\">\n",
      "    \n",
      "    \n",
      "    <a class=\"site-title\" href=\"/\">Home</a>\n",
      "  \n",
      "    \n",
      "      <nav class=\"site-nav\">\n",
      "        <input type=\"checkbox\" id=\"nav-trigger\" class=\"nav-trigger\" />\n",
      "        <label for=\"nav-trigger\">\n",
      "          <span class=\"menu-icon\">\n",
      "            <svg viewBox=\"0 0 18 15\" width=\"18px\" height=\"15px\">\n",
      "              <path fill=\"#424242\" d=\"M18,1.484c0,0.82-0.665,1.484-1.484,1.484H1.484C0.665,2.969,0,2.304,0,1.484l0,0C0,0.665,0.665,0,1.484,0 h15.031C17.335,0,18,0.665,18,1.484L18,1.484z\"/>\n",
      "              <path fill=\"#424242\" d=\"M18,7.516C18,8.335,17.335,9,16.516,9H1.484C0.665,9,0,8.335,0,7.516l0,0c0-0.82,0.665-1.484,1.484-1.484 h15.031C17.335,6.031,18,6.696,18,7.516L18,7.516z\"/>\n",
      "              <path fill=\"#424242\" d=\"M18,13.516C18,14.335,17.335,15,16.516,15H1.484C0.665,15,0,14.335,0,13.516l0,0 c0-0.82,0.665-1.484,1.484-1.484h15.031C17.335,12.031,18,12.696,18,13.516L18,13.516z\"/>\n",
      "            </svg>\n",
      "          </span>\n",
      "        </label>\n",
      "\n",
      "        <div class=\"trigger\">\n",
      "          \n",
      "            \n",
      "            \n",
      "            <a class=\"page-link\" href=\"/about/\">About</a>\n",
      "            \n",
      "          \n",
      "            \n",
      "            \n",
      "            <a class=\"page-link\" href=\"/category.html\">Category</a>\n",
      "            \n",
      "          \n",
      "            \n",
      "            \n",
      "          \n",
      "            \n",
      "            \n",
      "          \n",
      "            \n",
      "            \n",
      "            <a class=\"page-link\" href=\"/play/\">Play</a>\n",
      "            \n",
      "          \n",
      "            \n",
      "            \n",
      "            <a class=\"page-link\" href=\"/search\">Search</a>\n",
      "            \n",
      "          \n",
      "            \n",
      "            \n",
      "          \n",
      "            \n",
      "            \n",
      "          \n",
      "            \n",
      "            \n",
      "          \n",
      "            \n",
      "            \n",
      "          \n",
      "            \n",
      "            \n",
      "          \n",
      "            \n",
      "            \n",
      "          \n",
      "        </div>\n",
      "      </nav>\n",
      "    \n",
      "  </div>\n",
      "</header>\n",
      "\n",
      "\n",
      "    <main class=\"page-content\" aria-label=\"Content\">\n",
      "      <div class=\"wrapper\">\n",
      "        <div class=\"home\">\n",
      "\n",
      "  <h1 class=\"page-heading\">Posts</h1>\n",
      "  \n",
      "  <meta name=\"viewport\" content=\"width=device-width, initial-scale=1\">\n",
      "\n",
      "<meta name=\"google-site-verification\" content=\"gvDodL2h5fymQPWMmUwyvwMfZp7AVufngf2P3jJlTho\" />\n",
      "<meta name=\"naver-site-verification\" content=\"4a511a171ff0cee5a8ea1f3e7cde66845b26b04c\"/>\n",
      "\n",
      "<link rel=\"stylesheet\" href=\"https://maxcdn.bootstrapcdn.com/bootstrap/3.3.7/css/bootstrap.min.css\">\n",
      "<script src=\"https://ajax.googleapis.com/ajax/libs/jquery/3.2.0/jquery.min.js\"></script>\n",
      "<script src=\"https://maxcdn.bootstrapcdn.com/bootstrap/3.3.7/js/bootstrap.min.js\"></script>\n",
      "\n",
      "<style>\n",
      "  .post-list{\n",
      "    display: none;\n",
      "  }\n",
      "  .pagination{\n",
      "    width:100%;\n",
      "    text-align: center;\n",
      "    margin-top:25px;\n",
      "    margin-bottom:50px;\n",
      "    font-size:17px;\n",
      "  }\n",
      "  li{\n",
      "    list-style: none;\n",
      "  }\n",
      "  /*c{*/\n",
      "    /*background-color: rgb(204, 204, 204);*/\n",
      "    /*border-radius: 5px;*/\n",
      "  /*}*/\n",
      "\n",
      "</style>\n",
      "\n",
      "\n",
      "  <div class=\"p\">\n",
      "      <h3 style=\"margin-top:50px\">\n",
      "          <a style=\"color:#4d5256; opacity: 0.8\" href=\"/blog/programming/2017/05/20/javascript_react_setting.html\">[programming] [react] react 작업환경 설</a>\n",
      "      </h3>\n",
      "      <h4 style=\"color:#4d5256; opacity: 0.6; margin-top:30px\">\n",
      "        react를 시작하기 전에 환경셋팅을 해보자\n",
      "      </h4>\n",
      "      <p class=\"author\">\n",
      "        <span style=\"color:#4d5256; opacity: 0.4\" class=\"date\">2017-05-20 06:29:05 +0000  &nbsp;&nbsp;|&nbsp;&nbsp;  박정태</span>\n",
      "      </p>\n",
      "      <hr style=\"margin-top:50px\">\n",
      "  </div>\n",
      "\n",
      "  <div class=\"p\">\n",
      "      <h3 style=\"margin-top:50px\">\n",
      "          <a style=\"color:#4d5256; opacity: 0.8\" href=\"/blog/programming/2017/05/09/javascript_drag_and_drop.html\">[programming] drag and drop을 이용하여 파일 업로드를 해보자</a>\n",
      "      </h3>\n",
      "      <h4 style=\"color:#4d5256; opacity: 0.6; margin-top:30px\">\n",
      "        query의 외부 라이브러리가 아닌 drag, drop 이벤트를 활용하여 기능 구현해보기\n",
      "      </h4>\n",
      "      <p class=\"author\">\n",
      "        <span style=\"color:#4d5256; opacity: 0.4\" class=\"date\">2017-05-09 23:47:05 +0000  &nbsp;&nbsp;|&nbsp;&nbsp;  박정태</span>\n",
      "      </p>\n",
      "      <hr style=\"margin-top:50px\">\n",
      "  </div>\n",
      "\n",
      "  <div class=\"p\">\n",
      "      <h3 style=\"margin-top:50px\">\n",
      "          <a style=\"color:#4d5256; opacity: 0.8\" href=\"/blog/database/2017/05/04/how_to_use_mysqldump.html\">[database] mysqldump를 이용하여 데이터 백업, 복원하기</a>\n",
      "      </h3>\n",
      "      <h4 style=\"color:#4d5256; opacity: 0.6; margin-top:30px\">\n",
      "        mysqldump를 이용하여 디비 백업과 source를 이용하여 데이터 복원을 해보자\n",
      "      </h4>\n",
      "      <p class=\"author\">\n",
      "        <span style=\"color:#4d5256; opacity: 0.4\" class=\"date\">2017-05-04 05:33:05 +0000  &nbsp;&nbsp;|&nbsp;&nbsp;  박정태</span>\n",
      "      </p>\n",
      "      <hr style=\"margin-top:50px\">\n",
      "  </div>\n",
      "\n",
      "  <div class=\"p\">\n",
      "      <h3 style=\"margin-top:50px\">\n",
      "          <a style=\"color:#4d5256; opacity: 0.8\" href=\"/blog/database/2017/05/03/abou_mysql_remote_connect.html\">[database] mysql 원격접속하는 방법</a>\n",
      "      </h3>\n",
      "      <h4 style=\"color:#4d5256; opacity: 0.6; margin-top:30px\">\n",
      "        mysql 디비설정, 유저설정을 통해 원격접속\n",
      "      </h4>\n",
      "      <p class=\"author\">\n",
      "        <span style=\"color:#4d5256; opacity: 0.4\" class=\"date\">2017-05-03 11:43:05 +0000  &nbsp;&nbsp;|&nbsp;&nbsp;  박정태</span>\n",
      "      </p>\n",
      "      <hr style=\"margin-top:50px\">\n",
      "  </div>\n",
      "\n",
      "  <div class=\"p\">\n",
      "      <h3 style=\"margin-top:50px\">\n",
      "          <a style=\"color:#4d5256; opacity: 0.8\" href=\"/blog/node.js/2017/05/01/file_convert2.html\">[node.js] 파일 리더기 만들기 - 사용 모듈 정리, pdf와 hwp 구조</a>\n",
      "      </h3>\n",
      "      <h4 style=\"color:#4d5256; opacity: 0.6; margin-top:30px\">\n",
      "        docx, hwp, pdf 파일\n",
      "      </h4>\n",
      "      <p class=\"author\">\n",
      "        <span style=\"color:#4d5256; opacity: 0.4\" class=\"date\">2017-05-01 06:02:05 +0000  &nbsp;&nbsp;|&nbsp;&nbsp;  박정태</span>\n",
      "      </p>\n",
      "      <hr style=\"margin-top:50px\">\n",
      "  </div>\n",
      "\n",
      "  <div class=\"p\">\n",
      "      <h3 style=\"margin-top:50px\">\n",
      "          <a style=\"color:#4d5256; opacity: 0.8\" href=\"/blog/node.js/2017/04/30/file_convert1.html\">[node.js] 파일 리더기 만들기 - pdf를 html로 변환, docx를 pdf로 변환</a>\n",
      "      </h3>\n",
      "      <h4 style=\"color:#4d5256; opacity: 0.6; margin-top:30px\">\n",
      "        pdf파일 html로 변경하기\n",
      "      </h4>\n",
      "      <p class=\"author\">\n",
      "        <span style=\"color:#4d5256; opacity: 0.4\" class=\"date\">2017-04-30 15:19:05 +0000  &nbsp;&nbsp;|&nbsp;&nbsp;  박정태</span>\n",
      "      </p>\n",
      "      <hr style=\"margin-top:50px\">\n",
      "  </div>\n",
      "\n",
      "  <div class=\"p\">\n",
      "      <h3 style=\"margin-top:50px\">\n",
      "          <a style=\"color:#4d5256; opacity: 0.8\" href=\"/blog/programming/2017/04/25/how_to_change_git_remote_origin.html\">[programming] git 원격 저장소 바꾸기</a>\n",
      "      </h3>\n",
      "      <h4 style=\"color:#4d5256; opacity: 0.6; margin-top:30px\">\n",
      "        remote set-url을 이용하여 원격 저장소를 바꾸자\n",
      "      </h4>\n",
      "      <p class=\"author\">\n",
      "        <span style=\"color:#4d5256; opacity: 0.4\" class=\"date\">2017-04-25 13:09:05 +0000  &nbsp;&nbsp;|&nbsp;&nbsp;  박정태</span>\n",
      "      </p>\n",
      "      <hr style=\"margin-top:50px\">\n",
      "  </div>\n",
      "\n",
      "  <div class=\"p\">\n",
      "      <h3 style=\"margin-top:50px\">\n",
      "          <a style=\"color:#4d5256; opacity: 0.8\" href=\"/blog/programming/2017/04/25/how_to_change_working_directory_on_python.html\">[programming] python working directory를 바꿔보자</a>\n",
      "      </h3>\n",
      "      <h4 style=\"color:#4d5256; opacity: 0.6; margin-top:30px\">\n",
      "        working directory설정을 하여 경로 문제를 해결하자\n",
      "      </h4>\n",
      "      <p class=\"author\">\n",
      "        <span style=\"color:#4d5256; opacity: 0.4\" class=\"date\">2017-04-25 09:19:05 +0000  &nbsp;&nbsp;|&nbsp;&nbsp;  박정태</span>\n",
      "      </p>\n",
      "      <hr style=\"margin-top:50px\">\n",
      "  </div>\n",
      "\n",
      "  <div class=\"p\">\n",
      "      <h3 style=\"margin-top:50px\">\n",
      "          <a style=\"color:#4d5256; opacity: 0.8\" href=\"/blog/server/2017/04/24/docker_commends.html\">[server] docker commends</a>\n",
      "      </h3>\n",
      "      <h4 style=\"color:#4d5256; opacity: 0.6; margin-top:30px\">\n",
      "        도커의 명령어들을 간단하게 알아보기\n",
      "      </h4>\n",
      "      <p class=\"author\">\n",
      "        <span style=\"color:#4d5256; opacity: 0.4\" class=\"date\">2017-04-24 23:19:05 +0000  &nbsp;&nbsp;|&nbsp;&nbsp;  박정태</span>\n",
      "      </p>\n",
      "      <hr style=\"margin-top:50px\">\n",
      "  </div>\n",
      "\n",
      "  <div class=\"p\">\n",
      "      <h3 style=\"margin-top:50px\">\n",
      "          <a style=\"color:#4d5256; opacity: 0.8\" href=\"/blog/programming/2017/04/24/utc_to_timestamp_change.html\">[programming] python utc를 timestamp로 바꾸는 방법</a>\n",
      "      </h3>\n",
      "      <h4 style=\"color:#4d5256; opacity: 0.6; margin-top:30px\">\n",
      "        python에서 utc를 timestamp로 바꾸는 방법\n",
      "      </h4>\n",
      "      <p class=\"author\">\n",
      "        <span style=\"color:#4d5256; opacity: 0.4\" class=\"date\">2017-04-24 13:19:05 +0000  &nbsp;&nbsp;|&nbsp;&nbsp;  박정태</span>\n",
      "      </p>\n",
      "      <hr style=\"margin-top:50px\">\n",
      "  </div>\n",
      "\n",
      "\n",
      "<!-- Pagination links -->\n",
      "\n",
      "<div class=\"pagination\">\n",
      "  <ul class=\"pager\">\n",
      "      \n",
      "        <span>Prev</span>\n",
      "      \n",
      "\n",
      "    \n",
      "      \n",
      "          <em>1</em>\n",
      "      \n",
      "    \n",
      "      \n",
      "          <a href=\"/page2/\">2</a>\n",
      "      \n",
      "    \n",
      "      \n",
      "          <a href=\"/page3/\">3</a>\n",
      "      \n",
      "    \n",
      "      \n",
      "          <a href=\"/page4/\">4</a>\n",
      "      \n",
      "    \n",
      "\n",
      "      \n",
      "        <li>\n",
      "          <a href=\"/page2/\">Next</a>\n",
      "        </li>\n",
      "      \n",
      "  </ul>\n",
      "</div>\n",
      "\n",
      "\n",
      "  <ul class=\"post-list\">\n",
      "    \n",
      "      <li>\n",
      "        \n",
      "        <span class=\"post-meta\">May 20, 2017</span>\n",
      "\n",
      "        <h2>\n",
      "          <a class=\"post-link\" href=\"/blog/programming/2017/05/20/javascript_react_setting.html\">[react] react 작업환경 설</a>\n",
      "        </h2>\n",
      "      </li>\n",
      "    \n",
      "      <li>\n",
      "        \n",
      "        <span class=\"post-meta\">May 9, 2017</span>\n",
      "\n",
      "        <h2>\n",
      "          <a class=\"post-link\" href=\"/blog/programming/2017/05/09/javascript_drag_and_drop.html\">drag and drop을 이용하여 파일 업로드를 해보자</a>\n",
      "        </h2>\n",
      "      </li>\n",
      "    \n",
      "      <li>\n",
      "        \n",
      "        <span class=\"post-meta\">May 4, 2017</span>\n",
      "\n",
      "        <h2>\n",
      "          <a class=\"post-link\" href=\"/blog/database/2017/05/04/how_to_use_mysqldump.html\">mysqldump를 이용하여 데이터 백업, 복원하기</a>\n",
      "        </h2>\n",
      "      </li>\n",
      "    \n",
      "      <li>\n",
      "        \n",
      "        <span class=\"post-meta\">May 3, 2017</span>\n",
      "\n",
      "        <h2>\n",
      "          <a class=\"post-link\" href=\"/blog/database/2017/05/03/abou_mysql_remote_connect.html\">mysql 원격접속하는 방법</a>\n",
      "        </h2>\n",
      "      </li>\n",
      "    \n",
      "      <li>\n",
      "        \n",
      "        <span class=\"post-meta\">May 1, 2017</span>\n",
      "\n",
      "        <h2>\n",
      "          <a class=\"post-link\" href=\"/blog/node.js/2017/05/01/file_convert2.html\">파일 리더기 만들기 - 사용 모듈 정리, pdf와 hwp 구조</a>\n",
      "        </h2>\n",
      "      </li>\n",
      "    \n",
      "      <li>\n",
      "        \n",
      "        <span class=\"post-meta\">Apr 30, 2017</span>\n",
      "\n",
      "        <h2>\n",
      "          <a class=\"post-link\" href=\"/blog/node.js/2017/04/30/file_convert1.html\">파일 리더기 만들기 - pdf를 html로 변환, docx를 pdf로 변환</a>\n",
      "        </h2>\n",
      "      </li>\n",
      "    \n",
      "      <li>\n",
      "        \n",
      "        <span class=\"post-meta\">Apr 25, 2017</span>\n",
      "\n",
      "        <h2>\n",
      "          <a class=\"post-link\" href=\"/blog/programming/2017/04/25/how_to_change_git_remote_origin.html\">git 원격 저장소 바꾸기</a>\n",
      "        </h2>\n",
      "      </li>\n",
      "    \n",
      "      <li>\n",
      "        \n",
      "        <span class=\"post-meta\">Apr 25, 2017</span>\n",
      "\n",
      "        <h2>\n",
      "          <a class=\"post-link\" href=\"/blog/programming/2017/04/25/how_to_change_working_directory_on_python.html\">python working directory를 바꿔보자</a>\n",
      "        </h2>\n",
      "      </li>\n",
      "    \n",
      "      <li>\n",
      "        \n",
      "        <span class=\"post-meta\">Apr 24, 2017</span>\n",
      "\n",
      "        <h2>\n",
      "          <a class=\"post-link\" href=\"/blog/server/2017/04/24/docker_commends.html\">docker commends</a>\n",
      "        </h2>\n",
      "      </li>\n",
      "    \n",
      "      <li>\n",
      "        \n",
      "        <span class=\"post-meta\">Apr 24, 2017</span>\n",
      "\n",
      "        <h2>\n",
      "          <a class=\"post-link\" href=\"/blog/programming/2017/04/24/utc_to_timestamp_change.html\">python utc를 timestamp로 바꾸는 방법</a>\n",
      "        </h2>\n",
      "      </li>\n",
      "    \n",
      "      <li>\n",
      "        \n",
      "        <span class=\"post-meta\">Apr 23, 2017</span>\n",
      "\n",
      "        <h2>\n",
      "          <a class=\"post-link\" href=\"/blog/programming/2017/04/23/how_to_install_php_on_ubuntu.html\">ubuntu에 php 개발환경 셋팅</a>\n",
      "        </h2>\n",
      "      </li>\n",
      "    \n",
      "      <li>\n",
      "        \n",
      "        <span class=\"post-meta\">Apr 22, 2017</span>\n",
      "\n",
      "        <h2>\n",
      "          <a class=\"post-link\" href=\"/blog/server/2017/04/22/how_to_use_azure.html\">azure-cli를 이용하여 azure 사용하기</a>\n",
      "        </h2>\n",
      "      </li>\n",
      "    \n",
      "      <li>\n",
      "        \n",
      "        <span class=\"post-meta\">Apr 21, 2017</span>\n",
      "\n",
      "        <h2>\n",
      "          <a class=\"post-link\" href=\"/blog/tools/2017/04/21/how_to_create_ssh_key.html\">ssh-keygen을 이용한 ssh 키 파일 생성</a>\n",
      "        </h2>\n",
      "      </li>\n",
      "    \n",
      "      <li>\n",
      "        \n",
      "        <span class=\"post-meta\">Apr 19, 2017</span>\n",
      "\n",
      "        <h2>\n",
      "          <a class=\"post-link\" href=\"/blog/programming/2017/04/19/python_generator.html\">제너레이터(generator)를 활용한 효율적인 코드작성</a>\n",
      "        </h2>\n",
      "      </li>\n",
      "    \n",
      "      <li>\n",
      "        \n",
      "        <span class=\"post-meta\">Apr 15, 2017</span>\n",
      "\n",
      "        <h2>\n",
      "          <a class=\"post-link\" href=\"/blog/node.js/2017/04/15/for_jade_template_engine.html\">Jade Template Engine을 활용한 효율적 관리</a>\n",
      "        </h2>\n",
      "      </li>\n",
      "    \n",
      "      <li>\n",
      "        \n",
      "        <span class=\"post-meta\">Apr 12, 2017</span>\n",
      "\n",
      "        <h2>\n",
      "          <a class=\"post-link\" href=\"/blog/tools/2017/04/12/vimrc_auto_setting.html\">vim 각종 설정들로 부터 귀차니즘을 벗어나자</a>\n",
      "        </h2>\n",
      "      </li>\n",
      "    \n",
      "      <li>\n",
      "        \n",
      "        <span class=\"post-meta\">Apr 9, 2017</span>\n",
      "\n",
      "        <h2>\n",
      "          <a class=\"post-link\" href=\"/blog/node.js/2017/04/09/sequelize_migrations.html\">sequelize - Migrations[번역]</a>\n",
      "        </h2>\n",
      "      </li>\n",
      "    \n",
      "      <li>\n",
      "        \n",
      "        <span class=\"post-meta\">Apr 9, 2017</span>\n",
      "\n",
      "        <h2>\n",
      "          <a class=\"post-link\" href=\"/blog/node.js/2017/04/09/sequelize_usage.html\">sequelize - Usage[번역]</a>\n",
      "        </h2>\n",
      "      </li>\n",
      "    \n",
      "      <li>\n",
      "        \n",
      "        <span class=\"post-meta\">Apr 9, 2017</span>\n",
      "\n",
      "        <h2>\n",
      "          <a class=\"post-link\" href=\"/blog/node.js/2017/04/09/sequelize_hooks.html\">sequelize - Hooks[번역]</a>\n",
      "        </h2>\n",
      "      </li>\n",
      "    \n",
      "      <li>\n",
      "        \n",
      "        <span class=\"post-meta\">Apr 9, 2017</span>\n",
      "\n",
      "        <h2>\n",
      "          <a class=\"post-link\" href=\"/blog/node.js/2017/04/09/sequelize_querying.html\">sequelize - Querying[번역]</a>\n",
      "        </h2>\n",
      "      </li>\n",
      "    \n",
      "      <li>\n",
      "        \n",
      "        <span class=\"post-meta\">Apr 9, 2017</span>\n",
      "\n",
      "        <h2>\n",
      "          <a class=\"post-link\" href=\"/blog/node.js/2017/04/09/sequelize_working_with_legacy_tables.html\">sequelize - Working With Legacy Tables[번역]</a>\n",
      "        </h2>\n",
      "      </li>\n",
      "    \n",
      "      <li>\n",
      "        \n",
      "        <span class=\"post-meta\">Apr 9, 2017</span>\n",
      "\n",
      "        <h2>\n",
      "          <a class=\"post-link\" href=\"/blog/node.js/2017/04/09/sequelize_Getting_Started_translation.html\">sequelize - Getting Started[번역]</a>\n",
      "        </h2>\n",
      "      </li>\n",
      "    \n",
      "      <li>\n",
      "        \n",
      "        <span class=\"post-meta\">Apr 9, 2017</span>\n",
      "\n",
      "        <h2>\n",
      "          <a class=\"post-link\" href=\"/blog/node.js/2017/04/09/sequelize_home.html\">sequelize - Home[번역]</a>\n",
      "        </h2>\n",
      "      </li>\n",
      "    \n",
      "      <li>\n",
      "        \n",
      "        <span class=\"post-meta\">Apr 8, 2017</span>\n",
      "\n",
      "        <h2>\n",
      "          <a class=\"post-link\" href=\"/blog/machine-learning/2017/04/08/Classification_Using_NaiveBayes.html\">Classification using Naive Bayes</a>\n",
      "        </h2>\n",
      "      </li>\n",
      "    \n",
      "      <li>\n",
      "        \n",
      "        <span class=\"post-meta\">Apr 8, 2017</span>\n",
      "\n",
      "        <h2>\n",
      "          <a class=\"post-link\" href=\"/blog/framework/2017/04/08/aiohttp_struct.html\">Structure aiohttp Of python</a>\n",
      "        </h2>\n",
      "      </li>\n",
      "    \n",
      "      <li>\n",
      "        \n",
      "        <span class=\"post-meta\">Apr 8, 2017</span>\n",
      "\n",
      "        <h2>\n",
      "          <a class=\"post-link\" href=\"/blog/framework/2017/04/08/express_struct.html\">Structure Express Of Node</a>\n",
      "        </h2>\n",
      "      </li>\n",
      "    \n",
      "      <li>\n",
      "        \n",
      "        <span class=\"post-meta\">Apr 8, 2017</span>\n",
      "\n",
      "        <h2>\n",
      "          <a class=\"post-link\" href=\"/blog/programming/2017/04/08/sync_async_and_promise.html\">Javascript Asynchronous, synchronous and Promise</a>\n",
      "        </h2>\n",
      "      </li>\n",
      "    \n",
      "      <li>\n",
      "        \n",
      "        <span class=\"post-meta\">Apr 6, 2017</span>\n",
      "\n",
      "        <h2>\n",
      "          <a class=\"post-link\" href=\"/blog/database/2017/04/06/about-database.html\">RDBMS vs NoSQL vs InMemory</a>\n",
      "        </h2>\n",
      "      </li>\n",
      "    \n",
      "      <li>\n",
      "        \n",
      "        <span class=\"post-meta\">Apr 5, 2017</span>\n",
      "\n",
      "        <h2>\n",
      "          <a class=\"post-link\" href=\"/blog/news/2017/04/05/django_111_release.html\">Django 1.11 Release</a>\n",
      "        </h2>\n",
      "      </li>\n",
      "    \n",
      "      <li>\n",
      "        \n",
      "        <span class=\"post-meta\">Apr 4, 2017</span>\n",
      "\n",
      "        <h2>\n",
      "          <a class=\"post-link\" href=\"/blog/programming/2017/04/04/javascript-arrow-function_AND_array.prototype_COMBINATE.html\">javascript arrow function과 array.prototype의 조합</a>\n",
      "        </h2>\n",
      "      </li>\n",
      "    \n",
      "      <li>\n",
      "        \n",
      "        <span class=\"post-meta\">Apr 4, 2017</span>\n",
      "\n",
      "        <h2>\n",
      "          <a class=\"post-link\" href=\"/blog/intro/2017/04/04/welcome-to-jekyll.html\">Welcome to mung</a>\n",
      "        </h2>\n",
      "      </li>\n",
      "    \n",
      "  </ul>\n",
      "\n",
      "  <p class=\"rss-subscribe\">subscribe <a href=\"/feed.xml\">via RSS</a></p>\n",
      "\n",
      "</div>\n",
      "\n",
      "      </div>\n",
      "    </main>\n",
      "\n",
      "    <footer class=\"site-footer\">\n",
      "\n",
      "  <div class=\"wrapper\">\n",
      "\n",
      "    <h2 class=\"footer-heading\">Home</h2>\n",
      "\n",
      "    <div class=\"footer-col-wrapper\">\n",
      "      <div class=\"footer-col footer-col-1\">\n",
      "        <ul class=\"contact-list\">\n",
      "          <li>\n",
      "            \n",
      "              Home\n",
      "            \n",
      "            </li>\n",
      "            \n",
      "            <li><a href=\"mailto:pjt3591oo@gmail.com\">pjt3591oo@gmail.com</a></li>\n",
      "            \n",
      "        </ul>\n",
      "      </div>\n",
      "\n",
      "      <div class=\"footer-col footer-col-2\">\n",
      "        <ul class=\"social-media-list\">\n",
      "          \n",
      "          <li>\n",
      "            <a href=\"https://github.com/jekyll\"><span class=\"icon icon--github\"><svg viewBox=\"0 0 16 16\" width=\"16px\" height=\"16px\"><path fill=\"#828282\" d=\"M7.999,0.431c-4.285,0-7.76,3.474-7.76,7.761 c0,3.428,2.223,6.337,5.307,7.363c0.388,0.071,0.53-0.168,0.53-0.374c0-0.184-0.007-0.672-0.01-1.32 c-2.159,0.469-2.614-1.04-2.614-1.04c-0.353-0.896-0.862-1.135-0.862-1.135c-0.705-0.481,0.053-0.472,0.053-0.472 c0.779,0.055,1.189,0.8,1.189,0.8c0.692,1.186,1.816,0.843,2.258,0.645c0.071-0.502,0.271-0.843,0.493-1.037 C4.86,11.425,3.049,10.76,3.049,7.786c0-0.847,0.302-1.54,0.799-2.082C3.768,5.507,3.501,4.718,3.924,3.65 c0,0,0.652-0.209,2.134,0.796C6.677,4.273,7.34,4.187,8,4.184c0.659,0.003,1.323,0.089,1.943,0.261 c1.482-1.004,2.132-0.796,2.132-0.796c0.423,1.068,0.157,1.857,0.077,2.054c0.497,0.542,0.798,1.235,0.798,2.082 c0,2.981-1.814,3.637-3.543,3.829c0.279,0.24,0.527,0.713,0.527,1.437c0,1.037-0.01,1.874-0.01,2.129 c0,0.208,0.14,0.449,0.534,0.373c3.081-1.028,5.302-3.935,5.302-7.362C15.76,3.906,12.285,0.431,7.999,0.431z\"/></svg>\n",
      "</span><span class=\"username\">jekyll</span></a>\n",
      "\n",
      "          </li>\n",
      "          \n",
      "\n",
      "          \n",
      "          <li>\n",
      "            <a href=\"https://twitter.com/jekyllrb\"><span class=\"icon icon--twitter\"><svg viewBox=\"0 0 16 16\" width=\"16px\" height=\"16px\"><path fill=\"#828282\" d=\"M15.969,3.058c-0.586,0.26-1.217,0.436-1.878,0.515c0.675-0.405,1.194-1.045,1.438-1.809c-0.632,0.375-1.332,0.647-2.076,0.793c-0.596-0.636-1.446-1.033-2.387-1.033c-1.806,0-3.27,1.464-3.27,3.27 c0,0.256,0.029,0.506,0.085,0.745C5.163,5.404,2.753,4.102,1.14,2.124C0.859,2.607,0.698,3.168,0.698,3.767 c0,1.134,0.577,2.135,1.455,2.722C1.616,6.472,1.112,6.325,0.671,6.08c0,0.014,0,0.027,0,0.041c0,1.584,1.127,2.906,2.623,3.206 C3.02,9.402,2.731,9.442,2.433,9.442c-0.211,0-0.416-0.021-0.615-0.059c0.416,1.299,1.624,2.245,3.055,2.271 c-1.119,0.877-2.529,1.4-4.061,1.4c-0.264,0-0.524-0.015-0.78-0.046c1.447,0.928,3.166,1.469,5.013,1.469 c6.015,0,9.304-4.983,9.304-9.304c0-0.142-0.003-0.283-0.009-0.423C14.976,4.29,15.531,3.714,15.969,3.058z\"/></svg>\n",
      "</span><span class=\"username\">jekyllrb</span></a>\n",
      "\n",
      "          </li>\n",
      "          \n",
      "        </ul>\n",
      "      </div>\n",
      "\n",
      "      <div class=\"footer-col footer-col-3\">\n",
      "        <p>멍개의 개발 블로그입니다. 궁금하신 사항 혹은 전달하고 싶은 내용이 있으시면 메일로 문의 주세요.\n",
      "</p>\n",
      "      </div>\n",
      "    </div>\n",
      "\n",
      "  </div>\n",
      "\n",
      "</footer>\n",
      "\n",
      "\n",
      "  </body>\n",
      "\n",
      "</html>\n",
      "\n"
     ]
    }
   ],
   "source": [
    "import requests as rq\n",
    "\n",
    "url = 'https://pjt3591oo.github.io/'\n",
    "\n",
    "res = rq.get(url)\n",
    "\n",
    "print(res.text)\n"
   ]
  },
  {
   "cell_type": "markdown",
   "metadata": {},
   "source": [
    "### 6-17 html 코드 가져오기 2)\n",
    ">* text 속성보다는 content속성으로 가져오는 것을 추천\n",
    ">* content는 한글이 깨지는 현상이 존재하면, 한글을 바이너리 형태(인코딩)로 바꾸므로 코드화 시켜서 가져옴. \n",
    ">* 즉 바이너리 형태로 html을 가져올 경우 text속성을 이용하였을 때 발생하는 한글문자가 깨지는 현상을 방지 할 수 있음"
   ]
  },
  {
   "cell_type": "code",
   "execution_count": 28,
   "metadata": {},
   "outputs": [
    {
     "name": "stdout",
     "output_type": "stream",
     "text": [
      "b'<!DOCTYPE html>\\n<html lang=\"en\">\\n\\n  <head>\\n  <meta charset=\"utf-8\">\\n  <meta http-equiv=\"X-UA-Compatible\" content=\"IE=edge\">\\n  <meta name=\"viewport\" content=\"width=device-width, initial-scale=1\">\\n\\n  <title>Home</title>\\n  <meta name=\"description\" content=\"\\xeb\\xa9\\x8d\\xea\\xb0\\x9c\\xec\\x9d\\x98 \\xea\\xb0\\x9c\\xeb\\xb0\\x9c \\xeb\\xb8\\x94\\xeb\\xa1\\x9c\\xea\\xb7\\xb8\\xec\\x9e\\x85\\xeb\\x8b\\x88\\xeb\\x8b\\xa4. \\xea\\xb6\\x81\\xea\\xb8\\x88\\xed\\x95\\x98\\xec\\x8b\\xa0 \\xec\\x82\\xac\\xed\\x95\\xad \\xed\\x98\\xb9\\xec\\x9d\\x80 \\xec\\xa0\\x84\\xeb\\x8b\\xac\\xed\\x95\\x98\\xea\\xb3\\xa0 \\xec\\x8b\\xb6\\xec\\x9d\\x80 \\xeb\\x82\\xb4\\xec\\x9a\\xa9\\xec\\x9d\\xb4 \\xec\\x9e\\x88\\xec\\x9c\\xbc\\xec\\x8b\\x9c\\xeb\\xa9\\xb4 \\xeb\\xa9\\x94\\xec\\x9d\\xbc\\xeb\\xa1\\x9c \\xeb\\xac\\xb8\\xec\\x9d\\x98 \\xec\\xa3\\xbc\\xec\\x84\\xb8\\xec\\x9a\\x94.\">\\n\\n  <link rel=\"stylesheet\" href=\"/assets/main.css\">\\n  <link rel=\"canonical\" href=\"/\">\\n  <link rel=\"alternate\" type=\"application/rss+xml\" title=\"Home\" href=\"/feed.xml\">\\n  \\n  \\n</head>\\n\\n\\n  <body>\\n\\n    <header class=\"site-header\" role=\"banner\">\\n\\n  <div class=\"wrapper\">\\n    \\n    \\n    <a class=\"site-title\" href=\"/\">Home</a>\\n  \\n    \\n      <nav class=\"site-nav\">\\n        <input type=\"checkbox\" id=\"nav-trigger\" class=\"nav-trigger\" />\\n        <label for=\"nav-trigger\">\\n          <span class=\"menu-icon\">\\n            <svg viewBox=\"0 0 18 15\" width=\"18px\" height=\"15px\">\\n              <path fill=\"#424242\" d=\"M18,1.484c0,0.82-0.665,1.484-1.484,1.484H1.484C0.665,2.969,0,2.304,0,1.484l0,0C0,0.665,0.665,0,1.484,0 h15.031C17.335,0,18,0.665,18,1.484L18,1.484z\"/>\\n              <path fill=\"#424242\" d=\"M18,7.516C18,8.335,17.335,9,16.516,9H1.484C0.665,9,0,8.335,0,7.516l0,0c0-0.82,0.665-1.484,1.484-1.484 h15.031C17.335,6.031,18,6.696,18,7.516L18,7.516z\"/>\\n              <path fill=\"#424242\" d=\"M18,13.516C18,14.335,17.335,15,16.516,15H1.484C0.665,15,0,14.335,0,13.516l0,0 c0-0.82,0.665-1.484,1.484-1.484h15.031C17.335,12.031,18,12.696,18,13.516L18,13.516z\"/>\\n            </svg>\\n          </span>\\n        </label>\\n\\n        <div class=\"trigger\">\\n          \\n            \\n            \\n            <a class=\"page-link\" href=\"/about/\">About</a>\\n            \\n          \\n            \\n            \\n            <a class=\"page-link\" href=\"/category.html\">Category</a>\\n            \\n          \\n            \\n            \\n          \\n            \\n            \\n          \\n            \\n            \\n            <a class=\"page-link\" href=\"/play/\">Play</a>\\n            \\n          \\n            \\n            \\n            <a class=\"page-link\" href=\"/search\">Search</a>\\n            \\n          \\n            \\n            \\n          \\n            \\n            \\n          \\n            \\n            \\n          \\n            \\n            \\n          \\n            \\n            \\n          \\n            \\n            \\n          \\n        </div>\\n      </nav>\\n    \\n  </div>\\n</header>\\n\\n\\n    <main class=\"page-content\" aria-label=\"Content\">\\n      <div class=\"wrapper\">\\n        <div class=\"home\">\\n\\n  <h1 class=\"page-heading\">Posts</h1>\\n  \\n  <meta name=\"viewport\" content=\"width=device-width, initial-scale=1\">\\n\\n<meta name=\"google-site-verification\" content=\"gvDodL2h5fymQPWMmUwyvwMfZp7AVufngf2P3jJlTho\" />\\n<meta name=\"naver-site-verification\" content=\"4a511a171ff0cee5a8ea1f3e7cde66845b26b04c\"/>\\n\\n<link rel=\"stylesheet\" href=\"https://maxcdn.bootstrapcdn.com/bootstrap/3.3.7/css/bootstrap.min.css\">\\n<script src=\"https://ajax.googleapis.com/ajax/libs/jquery/3.2.0/jquery.min.js\"></script>\\n<script src=\"https://maxcdn.bootstrapcdn.com/bootstrap/3.3.7/js/bootstrap.min.js\"></script>\\n\\n<style>\\n  .post-list{\\n    display: none;\\n  }\\n  .pagination{\\n    width:100%;\\n    text-align: center;\\n    margin-top:25px;\\n    margin-bottom:50px;\\n    font-size:17px;\\n  }\\n  li{\\n    list-style: none;\\n  }\\n  /*c{*/\\n    /*background-color: rgb(204, 204, 204);*/\\n    /*border-radius: 5px;*/\\n  /*}*/\\n\\n</style>\\n\\n\\n  <div class=\"p\">\\n      <h3 style=\"margin-top:50px\">\\n          <a style=\"color:#4d5256; opacity: 0.8\" href=\"/blog/programming/2017/05/20/javascript_react_setting.html\">[programming] [react] react \\xec\\x9e\\x91\\xec\\x97\\x85\\xed\\x99\\x98\\xea\\xb2\\xbd \\xec\\x84\\xa4</a>\\n      </h3>\\n      <h4 style=\"color:#4d5256; opacity: 0.6; margin-top:30px\">\\n        react\\xeb\\xa5\\xbc \\xec\\x8b\\x9c\\xec\\x9e\\x91\\xed\\x95\\x98\\xea\\xb8\\xb0 \\xec\\xa0\\x84\\xec\\x97\\x90 \\xed\\x99\\x98\\xea\\xb2\\xbd\\xec\\x85\\x8b\\xed\\x8c\\x85\\xec\\x9d\\x84 \\xed\\x95\\xb4\\xeb\\xb3\\xb4\\xec\\x9e\\x90\\n      </h4>\\n      <p class=\"author\">\\n        <span style=\"color:#4d5256; opacity: 0.4\" class=\"date\">2017-05-20 06:29:05 +0000  &nbsp;&nbsp;|&nbsp;&nbsp;  \\xeb\\xb0\\x95\\xec\\xa0\\x95\\xed\\x83\\x9c</span>\\n      </p>\\n      <hr style=\"margin-top:50px\">\\n  </div>\\n\\n  <div class=\"p\">\\n      <h3 style=\"margin-top:50px\">\\n          <a style=\"color:#4d5256; opacity: 0.8\" href=\"/blog/programming/2017/05/09/javascript_drag_and_drop.html\">[programming] drag and drop\\xec\\x9d\\x84 \\xec\\x9d\\xb4\\xec\\x9a\\xa9\\xed\\x95\\x98\\xec\\x97\\xac \\xed\\x8c\\x8c\\xec\\x9d\\xbc \\xec\\x97\\x85\\xeb\\xa1\\x9c\\xeb\\x93\\x9c\\xeb\\xa5\\xbc \\xed\\x95\\xb4\\xeb\\xb3\\xb4\\xec\\x9e\\x90</a>\\n      </h3>\\n      <h4 style=\"color:#4d5256; opacity: 0.6; margin-top:30px\">\\n        query\\xec\\x9d\\x98 \\xec\\x99\\xb8\\xeb\\xb6\\x80 \\xeb\\x9d\\xbc\\xec\\x9d\\xb4\\xeb\\xb8\\x8c\\xeb\\x9f\\xac\\xeb\\xa6\\xac\\xea\\xb0\\x80 \\xec\\x95\\x84\\xeb\\x8b\\x8c drag, drop \\xec\\x9d\\xb4\\xeb\\xb2\\xa4\\xed\\x8a\\xb8\\xeb\\xa5\\xbc \\xed\\x99\\x9c\\xec\\x9a\\xa9\\xed\\x95\\x98\\xec\\x97\\xac \\xea\\xb8\\xb0\\xeb\\x8a\\xa5 \\xea\\xb5\\xac\\xed\\x98\\x84\\xed\\x95\\xb4\\xeb\\xb3\\xb4\\xea\\xb8\\xb0\\n      </h4>\\n      <p class=\"author\">\\n        <span style=\"color:#4d5256; opacity: 0.4\" class=\"date\">2017-05-09 23:47:05 +0000  &nbsp;&nbsp;|&nbsp;&nbsp;  \\xeb\\xb0\\x95\\xec\\xa0\\x95\\xed\\x83\\x9c</span>\\n      </p>\\n      <hr style=\"margin-top:50px\">\\n  </div>\\n\\n  <div class=\"p\">\\n      <h3 style=\"margin-top:50px\">\\n          <a style=\"color:#4d5256; opacity: 0.8\" href=\"/blog/database/2017/05/04/how_to_use_mysqldump.html\">[database] mysqldump\\xeb\\xa5\\xbc \\xec\\x9d\\xb4\\xec\\x9a\\xa9\\xed\\x95\\x98\\xec\\x97\\xac \\xeb\\x8d\\xb0\\xec\\x9d\\xb4\\xed\\x84\\xb0 \\xeb\\xb0\\xb1\\xec\\x97\\x85, \\xeb\\xb3\\xb5\\xec\\x9b\\x90\\xed\\x95\\x98\\xea\\xb8\\xb0</a>\\n      </h3>\\n      <h4 style=\"color:#4d5256; opacity: 0.6; margin-top:30px\">\\n        mysqldump\\xeb\\xa5\\xbc \\xec\\x9d\\xb4\\xec\\x9a\\xa9\\xed\\x95\\x98\\xec\\x97\\xac \\xeb\\x94\\x94\\xeb\\xb9\\x84 \\xeb\\xb0\\xb1\\xec\\x97\\x85\\xea\\xb3\\xbc source\\xeb\\xa5\\xbc \\xec\\x9d\\xb4\\xec\\x9a\\xa9\\xed\\x95\\x98\\xec\\x97\\xac \\xeb\\x8d\\xb0\\xec\\x9d\\xb4\\xed\\x84\\xb0 \\xeb\\xb3\\xb5\\xec\\x9b\\x90\\xec\\x9d\\x84 \\xed\\x95\\xb4\\xeb\\xb3\\xb4\\xec\\x9e\\x90\\n      </h4>\\n      <p class=\"author\">\\n        <span style=\"color:#4d5256; opacity: 0.4\" class=\"date\">2017-05-04 05:33:05 +0000  &nbsp;&nbsp;|&nbsp;&nbsp;  \\xeb\\xb0\\x95\\xec\\xa0\\x95\\xed\\x83\\x9c</span>\\n      </p>\\n      <hr style=\"margin-top:50px\">\\n  </div>\\n\\n  <div class=\"p\">\\n      <h3 style=\"margin-top:50px\">\\n          <a style=\"color:#4d5256; opacity: 0.8\" href=\"/blog/database/2017/05/03/abou_mysql_remote_connect.html\">[database] mysql \\xec\\x9b\\x90\\xea\\xb2\\xa9\\xec\\xa0\\x91\\xec\\x86\\x8d\\xed\\x95\\x98\\xeb\\x8a\\x94 \\xeb\\xb0\\xa9\\xeb\\xb2\\x95</a>\\n      </h3>\\n      <h4 style=\"color:#4d5256; opacity: 0.6; margin-top:30px\">\\n        mysql \\xeb\\x94\\x94\\xeb\\xb9\\x84\\xec\\x84\\xa4\\xec\\xa0\\x95, \\xec\\x9c\\xa0\\xec\\xa0\\x80\\xec\\x84\\xa4\\xec\\xa0\\x95\\xec\\x9d\\x84 \\xed\\x86\\xb5\\xed\\x95\\xb4 \\xec\\x9b\\x90\\xea\\xb2\\xa9\\xec\\xa0\\x91\\xec\\x86\\x8d\\n      </h4>\\n      <p class=\"author\">\\n        <span style=\"color:#4d5256; opacity: 0.4\" class=\"date\">2017-05-03 11:43:05 +0000  &nbsp;&nbsp;|&nbsp;&nbsp;  \\xeb\\xb0\\x95\\xec\\xa0\\x95\\xed\\x83\\x9c</span>\\n      </p>\\n      <hr style=\"margin-top:50px\">\\n  </div>\\n\\n  <div class=\"p\">\\n      <h3 style=\"margin-top:50px\">\\n          <a style=\"color:#4d5256; opacity: 0.8\" href=\"/blog/node.js/2017/05/01/file_convert2.html\">[node.js] \\xed\\x8c\\x8c\\xec\\x9d\\xbc \\xeb\\xa6\\xac\\xeb\\x8d\\x94\\xea\\xb8\\xb0 \\xeb\\xa7\\x8c\\xeb\\x93\\xa4\\xea\\xb8\\xb0 - \\xec\\x82\\xac\\xec\\x9a\\xa9 \\xeb\\xaa\\xa8\\xeb\\x93\\x88 \\xec\\xa0\\x95\\xeb\\xa6\\xac, pdf\\xec\\x99\\x80 hwp \\xea\\xb5\\xac\\xec\\xa1\\xb0</a>\\n      </h3>\\n      <h4 style=\"color:#4d5256; opacity: 0.6; margin-top:30px\">\\n        docx, hwp, pdf \\xed\\x8c\\x8c\\xec\\x9d\\xbc\\n      </h4>\\n      <p class=\"author\">\\n        <span style=\"color:#4d5256; opacity: 0.4\" class=\"date\">2017-05-01 06:02:05 +0000  &nbsp;&nbsp;|&nbsp;&nbsp;  \\xeb\\xb0\\x95\\xec\\xa0\\x95\\xed\\x83\\x9c</span>\\n      </p>\\n      <hr style=\"margin-top:50px\">\\n  </div>\\n\\n  <div class=\"p\">\\n      <h3 style=\"margin-top:50px\">\\n          <a style=\"color:#4d5256; opacity: 0.8\" href=\"/blog/node.js/2017/04/30/file_convert1.html\">[node.js] \\xed\\x8c\\x8c\\xec\\x9d\\xbc \\xeb\\xa6\\xac\\xeb\\x8d\\x94\\xea\\xb8\\xb0 \\xeb\\xa7\\x8c\\xeb\\x93\\xa4\\xea\\xb8\\xb0 - pdf\\xeb\\xa5\\xbc html\\xeb\\xa1\\x9c \\xeb\\xb3\\x80\\xed\\x99\\x98, docx\\xeb\\xa5\\xbc pdf\\xeb\\xa1\\x9c \\xeb\\xb3\\x80\\xed\\x99\\x98</a>\\n      </h3>\\n      <h4 style=\"color:#4d5256; opacity: 0.6; margin-top:30px\">\\n        pdf\\xed\\x8c\\x8c\\xec\\x9d\\xbc html\\xeb\\xa1\\x9c \\xeb\\xb3\\x80\\xea\\xb2\\xbd\\xed\\x95\\x98\\xea\\xb8\\xb0\\n      </h4>\\n      <p class=\"author\">\\n        <span style=\"color:#4d5256; opacity: 0.4\" class=\"date\">2017-04-30 15:19:05 +0000  &nbsp;&nbsp;|&nbsp;&nbsp;  \\xeb\\xb0\\x95\\xec\\xa0\\x95\\xed\\x83\\x9c</span>\\n      </p>\\n      <hr style=\"margin-top:50px\">\\n  </div>\\n\\n  <div class=\"p\">\\n      <h3 style=\"margin-top:50px\">\\n          <a style=\"color:#4d5256; opacity: 0.8\" href=\"/blog/programming/2017/04/25/how_to_change_git_remote_origin.html\">[programming] git \\xec\\x9b\\x90\\xea\\xb2\\xa9 \\xec\\xa0\\x80\\xec\\x9e\\xa5\\xec\\x86\\x8c \\xeb\\xb0\\x94\\xea\\xbe\\xb8\\xea\\xb8\\xb0</a>\\n      </h3>\\n      <h4 style=\"color:#4d5256; opacity: 0.6; margin-top:30px\">\\n        remote set-url\\xec\\x9d\\x84 \\xec\\x9d\\xb4\\xec\\x9a\\xa9\\xed\\x95\\x98\\xec\\x97\\xac \\xec\\x9b\\x90\\xea\\xb2\\xa9 \\xec\\xa0\\x80\\xec\\x9e\\xa5\\xec\\x86\\x8c\\xeb\\xa5\\xbc \\xeb\\xb0\\x94\\xea\\xbe\\xb8\\xec\\x9e\\x90\\n      </h4>\\n      <p class=\"author\">\\n        <span style=\"color:#4d5256; opacity: 0.4\" class=\"date\">2017-04-25 13:09:05 +0000  &nbsp;&nbsp;|&nbsp;&nbsp;  \\xeb\\xb0\\x95\\xec\\xa0\\x95\\xed\\x83\\x9c</span>\\n      </p>\\n      <hr style=\"margin-top:50px\">\\n  </div>\\n\\n  <div class=\"p\">\\n      <h3 style=\"margin-top:50px\">\\n          <a style=\"color:#4d5256; opacity: 0.8\" href=\"/blog/programming/2017/04/25/how_to_change_working_directory_on_python.html\">[programming] python working directory\\xeb\\xa5\\xbc \\xeb\\xb0\\x94\\xea\\xbf\\x94\\xeb\\xb3\\xb4\\xec\\x9e\\x90</a>\\n      </h3>\\n      <h4 style=\"color:#4d5256; opacity: 0.6; margin-top:30px\">\\n        working directory\\xec\\x84\\xa4\\xec\\xa0\\x95\\xec\\x9d\\x84 \\xed\\x95\\x98\\xec\\x97\\xac \\xea\\xb2\\xbd\\xeb\\xa1\\x9c \\xeb\\xac\\xb8\\xec\\xa0\\x9c\\xeb\\xa5\\xbc \\xed\\x95\\xb4\\xea\\xb2\\xb0\\xed\\x95\\x98\\xec\\x9e\\x90\\n      </h4>\\n      <p class=\"author\">\\n        <span style=\"color:#4d5256; opacity: 0.4\" class=\"date\">2017-04-25 09:19:05 +0000  &nbsp;&nbsp;|&nbsp;&nbsp;  \\xeb\\xb0\\x95\\xec\\xa0\\x95\\xed\\x83\\x9c</span>\\n      </p>\\n      <hr style=\"margin-top:50px\">\\n  </div>\\n\\n  <div class=\"p\">\\n      <h3 style=\"margin-top:50px\">\\n          <a style=\"color:#4d5256; opacity: 0.8\" href=\"/blog/server/2017/04/24/docker_commends.html\">[server] docker commends</a>\\n      </h3>\\n      <h4 style=\"color:#4d5256; opacity: 0.6; margin-top:30px\">\\n        \\xeb\\x8f\\x84\\xec\\xbb\\xa4\\xec\\x9d\\x98 \\xeb\\xaa\\x85\\xeb\\xa0\\xb9\\xec\\x96\\xb4\\xeb\\x93\\xa4\\xec\\x9d\\x84 \\xea\\xb0\\x84\\xeb\\x8b\\xa8\\xed\\x95\\x98\\xea\\xb2\\x8c \\xec\\x95\\x8c\\xec\\x95\\x84\\xeb\\xb3\\xb4\\xea\\xb8\\xb0\\n      </h4>\\n      <p class=\"author\">\\n        <span style=\"color:#4d5256; opacity: 0.4\" class=\"date\">2017-04-24 23:19:05 +0000  &nbsp;&nbsp;|&nbsp;&nbsp;  \\xeb\\xb0\\x95\\xec\\xa0\\x95\\xed\\x83\\x9c</span>\\n      </p>\\n      <hr style=\"margin-top:50px\">\\n  </div>\\n\\n  <div class=\"p\">\\n      <h3 style=\"margin-top:50px\">\\n          <a style=\"color:#4d5256; opacity: 0.8\" href=\"/blog/programming/2017/04/24/utc_to_timestamp_change.html\">[programming] python utc\\xeb\\xa5\\xbc timestamp\\xeb\\xa1\\x9c \\xeb\\xb0\\x94\\xea\\xbe\\xb8\\xeb\\x8a\\x94 \\xeb\\xb0\\xa9\\xeb\\xb2\\x95</a>\\n      </h3>\\n      <h4 style=\"color:#4d5256; opacity: 0.6; margin-top:30px\">\\n        python\\xec\\x97\\x90\\xec\\x84\\x9c utc\\xeb\\xa5\\xbc timestamp\\xeb\\xa1\\x9c \\xeb\\xb0\\x94\\xea\\xbe\\xb8\\xeb\\x8a\\x94 \\xeb\\xb0\\xa9\\xeb\\xb2\\x95\\n      </h4>\\n      <p class=\"author\">\\n        <span style=\"color:#4d5256; opacity: 0.4\" class=\"date\">2017-04-24 13:19:05 +0000  &nbsp;&nbsp;|&nbsp;&nbsp;  \\xeb\\xb0\\x95\\xec\\xa0\\x95\\xed\\x83\\x9c</span>\\n      </p>\\n      <hr style=\"margin-top:50px\">\\n  </div>\\n\\n\\n<!-- Pagination links -->\\n\\n<div class=\"pagination\">\\n  <ul class=\"pager\">\\n      \\n        <span>Prev</span>\\n      \\n\\n    \\n      \\n          <em>1</em>\\n      \\n    \\n      \\n          <a href=\"/page2/\">2</a>\\n      \\n    \\n      \\n          <a href=\"/page3/\">3</a>\\n      \\n    \\n      \\n          <a href=\"/page4/\">4</a>\\n      \\n    \\n\\n      \\n        <li>\\n          <a href=\"/page2/\">Next</a>\\n        </li>\\n      \\n  </ul>\\n</div>\\n\\n\\n  <ul class=\"post-list\">\\n    \\n      <li>\\n        \\n        <span class=\"post-meta\">May 20, 2017</span>\\n\\n        <h2>\\n          <a class=\"post-link\" href=\"/blog/programming/2017/05/20/javascript_react_setting.html\">[react] react \\xec\\x9e\\x91\\xec\\x97\\x85\\xed\\x99\\x98\\xea\\xb2\\xbd \\xec\\x84\\xa4</a>\\n        </h2>\\n      </li>\\n    \\n      <li>\\n        \\n        <span class=\"post-meta\">May 9, 2017</span>\\n\\n        <h2>\\n          <a class=\"post-link\" href=\"/blog/programming/2017/05/09/javascript_drag_and_drop.html\">drag and drop\\xec\\x9d\\x84 \\xec\\x9d\\xb4\\xec\\x9a\\xa9\\xed\\x95\\x98\\xec\\x97\\xac \\xed\\x8c\\x8c\\xec\\x9d\\xbc \\xec\\x97\\x85\\xeb\\xa1\\x9c\\xeb\\x93\\x9c\\xeb\\xa5\\xbc \\xed\\x95\\xb4\\xeb\\xb3\\xb4\\xec\\x9e\\x90</a>\\n        </h2>\\n      </li>\\n    \\n      <li>\\n        \\n        <span class=\"post-meta\">May 4, 2017</span>\\n\\n        <h2>\\n          <a class=\"post-link\" href=\"/blog/database/2017/05/04/how_to_use_mysqldump.html\">mysqldump\\xeb\\xa5\\xbc \\xec\\x9d\\xb4\\xec\\x9a\\xa9\\xed\\x95\\x98\\xec\\x97\\xac \\xeb\\x8d\\xb0\\xec\\x9d\\xb4\\xed\\x84\\xb0 \\xeb\\xb0\\xb1\\xec\\x97\\x85, \\xeb\\xb3\\xb5\\xec\\x9b\\x90\\xed\\x95\\x98\\xea\\xb8\\xb0</a>\\n        </h2>\\n      </li>\\n    \\n      <li>\\n        \\n        <span class=\"post-meta\">May 3, 2017</span>\\n\\n        <h2>\\n          <a class=\"post-link\" href=\"/blog/database/2017/05/03/abou_mysql_remote_connect.html\">mysql \\xec\\x9b\\x90\\xea\\xb2\\xa9\\xec\\xa0\\x91\\xec\\x86\\x8d\\xed\\x95\\x98\\xeb\\x8a\\x94 \\xeb\\xb0\\xa9\\xeb\\xb2\\x95</a>\\n        </h2>\\n      </li>\\n    \\n      <li>\\n        \\n        <span class=\"post-meta\">May 1, 2017</span>\\n\\n        <h2>\\n          <a class=\"post-link\" href=\"/blog/node.js/2017/05/01/file_convert2.html\">\\xed\\x8c\\x8c\\xec\\x9d\\xbc \\xeb\\xa6\\xac\\xeb\\x8d\\x94\\xea\\xb8\\xb0 \\xeb\\xa7\\x8c\\xeb\\x93\\xa4\\xea\\xb8\\xb0 - \\xec\\x82\\xac\\xec\\x9a\\xa9 \\xeb\\xaa\\xa8\\xeb\\x93\\x88 \\xec\\xa0\\x95\\xeb\\xa6\\xac, pdf\\xec\\x99\\x80 hwp \\xea\\xb5\\xac\\xec\\xa1\\xb0</a>\\n        </h2>\\n      </li>\\n    \\n      <li>\\n        \\n        <span class=\"post-meta\">Apr 30, 2017</span>\\n\\n        <h2>\\n          <a class=\"post-link\" href=\"/blog/node.js/2017/04/30/file_convert1.html\">\\xed\\x8c\\x8c\\xec\\x9d\\xbc \\xeb\\xa6\\xac\\xeb\\x8d\\x94\\xea\\xb8\\xb0 \\xeb\\xa7\\x8c\\xeb\\x93\\xa4\\xea\\xb8\\xb0 - pdf\\xeb\\xa5\\xbc html\\xeb\\xa1\\x9c \\xeb\\xb3\\x80\\xed\\x99\\x98, docx\\xeb\\xa5\\xbc pdf\\xeb\\xa1\\x9c \\xeb\\xb3\\x80\\xed\\x99\\x98</a>\\n        </h2>\\n      </li>\\n    \\n      <li>\\n        \\n        <span class=\"post-meta\">Apr 25, 2017</span>\\n\\n        <h2>\\n          <a class=\"post-link\" href=\"/blog/programming/2017/04/25/how_to_change_git_remote_origin.html\">git \\xec\\x9b\\x90\\xea\\xb2\\xa9 \\xec\\xa0\\x80\\xec\\x9e\\xa5\\xec\\x86\\x8c \\xeb\\xb0\\x94\\xea\\xbe\\xb8\\xea\\xb8\\xb0</a>\\n        </h2>\\n      </li>\\n    \\n      <li>\\n        \\n        <span class=\"post-meta\">Apr 25, 2017</span>\\n\\n        <h2>\\n          <a class=\"post-link\" href=\"/blog/programming/2017/04/25/how_to_change_working_directory_on_python.html\">python working directory\\xeb\\xa5\\xbc \\xeb\\xb0\\x94\\xea\\xbf\\x94\\xeb\\xb3\\xb4\\xec\\x9e\\x90</a>\\n        </h2>\\n      </li>\\n    \\n      <li>\\n        \\n        <span class=\"post-meta\">Apr 24, 2017</span>\\n\\n        <h2>\\n          <a class=\"post-link\" href=\"/blog/server/2017/04/24/docker_commends.html\">docker commends</a>\\n        </h2>\\n      </li>\\n    \\n      <li>\\n        \\n        <span class=\"post-meta\">Apr 24, 2017</span>\\n\\n        <h2>\\n          <a class=\"post-link\" href=\"/blog/programming/2017/04/24/utc_to_timestamp_change.html\">python utc\\xeb\\xa5\\xbc timestamp\\xeb\\xa1\\x9c \\xeb\\xb0\\x94\\xea\\xbe\\xb8\\xeb\\x8a\\x94 \\xeb\\xb0\\xa9\\xeb\\xb2\\x95</a>\\n        </h2>\\n      </li>\\n    \\n      <li>\\n        \\n        <span class=\"post-meta\">Apr 23, 2017</span>\\n\\n        <h2>\\n          <a class=\"post-link\" href=\"/blog/programming/2017/04/23/how_to_install_php_on_ubuntu.html\">ubuntu\\xec\\x97\\x90 php \\xea\\xb0\\x9c\\xeb\\xb0\\x9c\\xed\\x99\\x98\\xea\\xb2\\xbd \\xec\\x85\\x8b\\xed\\x8c\\x85</a>\\n        </h2>\\n      </li>\\n    \\n      <li>\\n        \\n        <span class=\"post-meta\">Apr 22, 2017</span>\\n\\n        <h2>\\n          <a class=\"post-link\" href=\"/blog/server/2017/04/22/how_to_use_azure.html\">azure-cli\\xeb\\xa5\\xbc \\xec\\x9d\\xb4\\xec\\x9a\\xa9\\xed\\x95\\x98\\xec\\x97\\xac azure \\xec\\x82\\xac\\xec\\x9a\\xa9\\xed\\x95\\x98\\xea\\xb8\\xb0</a>\\n        </h2>\\n      </li>\\n    \\n      <li>\\n        \\n        <span class=\"post-meta\">Apr 21, 2017</span>\\n\\n        <h2>\\n          <a class=\"post-link\" href=\"/blog/tools/2017/04/21/how_to_create_ssh_key.html\">ssh-keygen\\xec\\x9d\\x84 \\xec\\x9d\\xb4\\xec\\x9a\\xa9\\xed\\x95\\x9c ssh \\xed\\x82\\xa4 \\xed\\x8c\\x8c\\xec\\x9d\\xbc \\xec\\x83\\x9d\\xec\\x84\\xb1</a>\\n        </h2>\\n      </li>\\n    \\n      <li>\\n        \\n        <span class=\"post-meta\">Apr 19, 2017</span>\\n\\n        <h2>\\n          <a class=\"post-link\" href=\"/blog/programming/2017/04/19/python_generator.html\">\\xec\\xa0\\x9c\\xeb\\x84\\x88\\xeb\\xa0\\x88\\xec\\x9d\\xb4\\xed\\x84\\xb0(generator)\\xeb\\xa5\\xbc \\xed\\x99\\x9c\\xec\\x9a\\xa9\\xed\\x95\\x9c \\xed\\x9a\\xa8\\xec\\x9c\\xa8\\xec\\xa0\\x81\\xec\\x9d\\xb8 \\xec\\xbd\\x94\\xeb\\x93\\x9c\\xec\\x9e\\x91\\xec\\x84\\xb1</a>\\n        </h2>\\n      </li>\\n    \\n      <li>\\n        \\n        <span class=\"post-meta\">Apr 15, 2017</span>\\n\\n        <h2>\\n          <a class=\"post-link\" href=\"/blog/node.js/2017/04/15/for_jade_template_engine.html\">Jade Template Engine\\xec\\x9d\\x84 \\xed\\x99\\x9c\\xec\\x9a\\xa9\\xed\\x95\\x9c \\xed\\x9a\\xa8\\xec\\x9c\\xa8\\xec\\xa0\\x81 \\xea\\xb4\\x80\\xeb\\xa6\\xac</a>\\n        </h2>\\n      </li>\\n    \\n      <li>\\n        \\n        <span class=\"post-meta\">Apr 12, 2017</span>\\n\\n        <h2>\\n          <a class=\"post-link\" href=\"/blog/tools/2017/04/12/vimrc_auto_setting.html\">vim \\xea\\xb0\\x81\\xec\\xa2\\x85 \\xec\\x84\\xa4\\xec\\xa0\\x95\\xeb\\x93\\xa4\\xeb\\xa1\\x9c \\xeb\\xb6\\x80\\xed\\x84\\xb0 \\xea\\xb7\\x80\\xec\\xb0\\xa8\\xeb\\x8b\\x88\\xec\\xa6\\x98\\xec\\x9d\\x84 \\xeb\\xb2\\x97\\xec\\x96\\xb4\\xeb\\x82\\x98\\xec\\x9e\\x90</a>\\n        </h2>\\n      </li>\\n    \\n      <li>\\n        \\n        <span class=\"post-meta\">Apr 9, 2017</span>\\n\\n        <h2>\\n          <a class=\"post-link\" href=\"/blog/node.js/2017/04/09/sequelize_migrations.html\">sequelize - Migrations[\\xeb\\xb2\\x88\\xec\\x97\\xad]</a>\\n        </h2>\\n      </li>\\n    \\n      <li>\\n        \\n        <span class=\"post-meta\">Apr 9, 2017</span>\\n\\n        <h2>\\n          <a class=\"post-link\" href=\"/blog/node.js/2017/04/09/sequelize_usage.html\">sequelize - Usage[\\xeb\\xb2\\x88\\xec\\x97\\xad]</a>\\n        </h2>\\n      </li>\\n    \\n      <li>\\n        \\n        <span class=\"post-meta\">Apr 9, 2017</span>\\n\\n        <h2>\\n          <a class=\"post-link\" href=\"/blog/node.js/2017/04/09/sequelize_hooks.html\">sequelize - Hooks[\\xeb\\xb2\\x88\\xec\\x97\\xad]</a>\\n        </h2>\\n      </li>\\n    \\n      <li>\\n        \\n        <span class=\"post-meta\">Apr 9, 2017</span>\\n\\n        <h2>\\n          <a class=\"post-link\" href=\"/blog/node.js/2017/04/09/sequelize_querying.html\">sequelize - Querying[\\xeb\\xb2\\x88\\xec\\x97\\xad]</a>\\n        </h2>\\n      </li>\\n    \\n      <li>\\n        \\n        <span class=\"post-meta\">Apr 9, 2017</span>\\n\\n        <h2>\\n          <a class=\"post-link\" href=\"/blog/node.js/2017/04/09/sequelize_working_with_legacy_tables.html\">sequelize - Working With Legacy Tables[\\xeb\\xb2\\x88\\xec\\x97\\xad]</a>\\n        </h2>\\n      </li>\\n    \\n      <li>\\n        \\n        <span class=\"post-meta\">Apr 9, 2017</span>\\n\\n        <h2>\\n          <a class=\"post-link\" href=\"/blog/node.js/2017/04/09/sequelize_Getting_Started_translation.html\">sequelize - Getting Started[\\xeb\\xb2\\x88\\xec\\x97\\xad]</a>\\n        </h2>\\n      </li>\\n    \\n      <li>\\n        \\n        <span class=\"post-meta\">Apr 9, 2017</span>\\n\\n        <h2>\\n          <a class=\"post-link\" href=\"/blog/node.js/2017/04/09/sequelize_home.html\">sequelize - Home[\\xeb\\xb2\\x88\\xec\\x97\\xad]</a>\\n        </h2>\\n      </li>\\n    \\n      <li>\\n        \\n        <span class=\"post-meta\">Apr 8, 2017</span>\\n\\n        <h2>\\n          <a class=\"post-link\" href=\"/blog/machine-learning/2017/04/08/Classification_Using_NaiveBayes.html\">Classification using Naive Bayes</a>\\n        </h2>\\n      </li>\\n    \\n      <li>\\n        \\n        <span class=\"post-meta\">Apr 8, 2017</span>\\n\\n        <h2>\\n          <a class=\"post-link\" href=\"/blog/framework/2017/04/08/aiohttp_struct.html\">Structure aiohttp Of python</a>\\n        </h2>\\n      </li>\\n    \\n      <li>\\n        \\n        <span class=\"post-meta\">Apr 8, 2017</span>\\n\\n        <h2>\\n          <a class=\"post-link\" href=\"/blog/framework/2017/04/08/express_struct.html\">Structure Express Of Node</a>\\n        </h2>\\n      </li>\\n    \\n      <li>\\n        \\n        <span class=\"post-meta\">Apr 8, 2017</span>\\n\\n        <h2>\\n          <a class=\"post-link\" href=\"/blog/programming/2017/04/08/sync_async_and_promise.html\">Javascript Asynchronous, synchronous and Promise</a>\\n        </h2>\\n      </li>\\n    \\n      <li>\\n        \\n        <span class=\"post-meta\">Apr 6, 2017</span>\\n\\n        <h2>\\n          <a class=\"post-link\" href=\"/blog/database/2017/04/06/about-database.html\">RDBMS vs NoSQL vs InMemory</a>\\n        </h2>\\n      </li>\\n    \\n      <li>\\n        \\n        <span class=\"post-meta\">Apr 5, 2017</span>\\n\\n        <h2>\\n          <a class=\"post-link\" href=\"/blog/news/2017/04/05/django_111_release.html\">Django 1.11 Release</a>\\n        </h2>\\n      </li>\\n    \\n      <li>\\n        \\n        <span class=\"post-meta\">Apr 4, 2017</span>\\n\\n        <h2>\\n          <a class=\"post-link\" href=\"/blog/programming/2017/04/04/javascript-arrow-function_AND_array.prototype_COMBINATE.html\">javascript arrow function\\xea\\xb3\\xbc array.prototype\\xec\\x9d\\x98 \\xec\\xa1\\xb0\\xed\\x95\\xa9</a>\\n        </h2>\\n      </li>\\n    \\n      <li>\\n        \\n        <span class=\"post-meta\">Apr 4, 2017</span>\\n\\n        <h2>\\n          <a class=\"post-link\" href=\"/blog/intro/2017/04/04/welcome-to-jekyll.html\">Welcome to mung</a>\\n        </h2>\\n      </li>\\n    \\n  </ul>\\n\\n  <p class=\"rss-subscribe\">subscribe <a href=\"/feed.xml\">via RSS</a></p>\\n\\n</div>\\n\\n      </div>\\n    </main>\\n\\n    <footer class=\"site-footer\">\\n\\n  <div class=\"wrapper\">\\n\\n    <h2 class=\"footer-heading\">Home</h2>\\n\\n    <div class=\"footer-col-wrapper\">\\n      <div class=\"footer-col footer-col-1\">\\n        <ul class=\"contact-list\">\\n          <li>\\n            \\n              Home\\n            \\n            </li>\\n            \\n            <li><a href=\"mailto:pjt3591oo@gmail.com\">pjt3591oo@gmail.com</a></li>\\n            \\n        </ul>\\n      </div>\\n\\n      <div class=\"footer-col footer-col-2\">\\n        <ul class=\"social-media-list\">\\n          \\n          <li>\\n            <a href=\"https://github.com/jekyll\"><span class=\"icon icon--github\"><svg viewBox=\"0 0 16 16\" width=\"16px\" height=\"16px\"><path fill=\"#828282\" d=\"M7.999,0.431c-4.285,0-7.76,3.474-7.76,7.761 c0,3.428,2.223,6.337,5.307,7.363c0.388,0.071,0.53-0.168,0.53-0.374c0-0.184-0.007-0.672-0.01-1.32 c-2.159,0.469-2.614-1.04-2.614-1.04c-0.353-0.896-0.862-1.135-0.862-1.135c-0.705-0.481,0.053-0.472,0.053-0.472 c0.779,0.055,1.189,0.8,1.189,0.8c0.692,1.186,1.816,0.843,2.258,0.645c0.071-0.502,0.271-0.843,0.493-1.037 C4.86,11.425,3.049,10.76,3.049,7.786c0-0.847,0.302-1.54,0.799-2.082C3.768,5.507,3.501,4.718,3.924,3.65 c0,0,0.652-0.209,2.134,0.796C6.677,4.273,7.34,4.187,8,4.184c0.659,0.003,1.323,0.089,1.943,0.261 c1.482-1.004,2.132-0.796,2.132-0.796c0.423,1.068,0.157,1.857,0.077,2.054c0.497,0.542,0.798,1.235,0.798,2.082 c0,2.981-1.814,3.637-3.543,3.829c0.279,0.24,0.527,0.713,0.527,1.437c0,1.037-0.01,1.874-0.01,2.129 c0,0.208,0.14,0.449,0.534,0.373c3.081-1.028,5.302-3.935,5.302-7.362C15.76,3.906,12.285,0.431,7.999,0.431z\"/></svg>\\n</span><span class=\"username\">jekyll</span></a>\\n\\n          </li>\\n          \\n\\n          \\n          <li>\\n            <a href=\"https://twitter.com/jekyllrb\"><span class=\"icon icon--twitter\"><svg viewBox=\"0 0 16 16\" width=\"16px\" height=\"16px\"><path fill=\"#828282\" d=\"M15.969,3.058c-0.586,0.26-1.217,0.436-1.878,0.515c0.675-0.405,1.194-1.045,1.438-1.809c-0.632,0.375-1.332,0.647-2.076,0.793c-0.596-0.636-1.446-1.033-2.387-1.033c-1.806,0-3.27,1.464-3.27,3.27 c0,0.256,0.029,0.506,0.085,0.745C5.163,5.404,2.753,4.102,1.14,2.124C0.859,2.607,0.698,3.168,0.698,3.767 c0,1.134,0.577,2.135,1.455,2.722C1.616,6.472,1.112,6.325,0.671,6.08c0,0.014,0,0.027,0,0.041c0,1.584,1.127,2.906,2.623,3.206 C3.02,9.402,2.731,9.442,2.433,9.442c-0.211,0-0.416-0.021-0.615-0.059c0.416,1.299,1.624,2.245,3.055,2.271 c-1.119,0.877-2.529,1.4-4.061,1.4c-0.264,0-0.524-0.015-0.78-0.046c1.447,0.928,3.166,1.469,5.013,1.469 c6.015,0,9.304-4.983,9.304-9.304c0-0.142-0.003-0.283-0.009-0.423C14.976,4.29,15.531,3.714,15.969,3.058z\"/></svg>\\n</span><span class=\"username\">jekyllrb</span></a>\\n\\n          </li>\\n          \\n        </ul>\\n      </div>\\n\\n      <div class=\"footer-col footer-col-3\">\\n        <p>\\xeb\\xa9\\x8d\\xea\\xb0\\x9c\\xec\\x9d\\x98 \\xea\\xb0\\x9c\\xeb\\xb0\\x9c \\xeb\\xb8\\x94\\xeb\\xa1\\x9c\\xea\\xb7\\xb8\\xec\\x9e\\x85\\xeb\\x8b\\x88\\xeb\\x8b\\xa4. \\xea\\xb6\\x81\\xea\\xb8\\x88\\xed\\x95\\x98\\xec\\x8b\\xa0 \\xec\\x82\\xac\\xed\\x95\\xad \\xed\\x98\\xb9\\xec\\x9d\\x80 \\xec\\xa0\\x84\\xeb\\x8b\\xac\\xed\\x95\\x98\\xea\\xb3\\xa0 \\xec\\x8b\\xb6\\xec\\x9d\\x80 \\xeb\\x82\\xb4\\xec\\x9a\\xa9\\xec\\x9d\\xb4 \\xec\\x9e\\x88\\xec\\x9c\\xbc\\xec\\x8b\\x9c\\xeb\\xa9\\xb4 \\xeb\\xa9\\x94\\xec\\x9d\\xbc\\xeb\\xa1\\x9c \\xeb\\xac\\xb8\\xec\\x9d\\x98 \\xec\\xa3\\xbc\\xec\\x84\\xb8\\xec\\x9a\\x94.\\n</p>\\n      </div>\\n    </div>\\n\\n  </div>\\n\\n</footer>\\n\\n\\n  </body>\\n\\n</html>\\n'\n"
     ]
    }
   ],
   "source": [
    "import requests as rq\n",
    "\n",
    "url = 'https://pjt3591oo.github.io/'\n",
    "\n",
    "res = rq.get(url)\n",
    "\n",
    "print(res.content)\n"
   ]
  },
  {
   "cell_type": "markdown",
   "metadata": {},
   "source": [
    "### 6-18 인코딩 확인"
   ]
  },
  {
   "cell_type": "code",
   "execution_count": 29,
   "metadata": {},
   "outputs": [
    {
     "name": "stdout",
     "output_type": "stream",
     "text": [
      "utf-8\n"
     ]
    }
   ],
   "source": [
    "import requests as rq\n",
    "\n",
    "url = 'https://pjt3591oo.github.io/'\n",
    "\n",
    "res = rq.get(url)\n",
    "\n",
    "print(res.encoding)\n"
   ]
  },
  {
   "cell_type": "markdown",
   "metadata": {},
   "source": [
    "### 6-19 쿼리스트링 생성 1)\n",
    ">* requests로 요청할 때 데이터를 실어 보낼 수 있는데, 쿼리 스트링의 경우 url에 직접 표현 할 수 있는지만 쿼리스트링을 만들어야 한다는 번거로움이 있음. \n",
    ">* 하지만 데이터를 딕셔너리로 만들어 보내는 방식으로 번거로움을 줄 일수 있음. \n",
    ">* 데이터뿐만 아니라 헤더 쿠키 같은 데이터도 원하는 값으로 변경하여 요청이 가능\n",
    ">* 요청할 때 필요한 데이터를 두번째 인자부터 넣을 수 있음\n",
    ">* 두번쨰 인자로 params를 넣어 쿼리스트링을 만들어 요청을 보냈음"
   ]
  },
  {
   "cell_type": "code",
   "execution_count": 30,
   "metadata": {},
   "outputs": [
    {
     "name": "stdout",
     "output_type": "stream",
     "text": [
      "https://pjt3591oo.github.io/?key1=values&key2=values\n"
     ]
    }
   ],
   "source": [
    "import requests as rq\n",
    "\n",
    "url = 'https://pjt3591oo.github.io/'\n",
    "\n",
    "res = rq.get(url, params ={'key1':'values', 'key2':'values'})\n",
    "\n",
    "print(res.url)\n"
   ]
  },
  {
   "cell_type": "markdown",
   "metadata": {},
   "source": [
    "### 6-20 쿼리스트링 생성 2)\n",
    ">* 6-19처럼 코드를 작성하지 않고 url로만 데이터를 보낼 경우에는 url에 파라미터 포함된 주소로 하면 됨\n",
    ">* 이렇게 하면 / 같은 것을 신경 써야 하므로 코드 관히를 하려면 6-19 처럼 하는게 더 좋음"
   ]
  },
  {
   "cell_type": "code",
   "execution_count": 31,
   "metadata": {},
   "outputs": [
    {
     "name": "stdout",
     "output_type": "stream",
     "text": [
      "https://pjt3591oo.github.io/?key1=values&key2=values\n"
     ]
    }
   ],
   "source": [
    "import requests as rq\n",
    "\n",
    "url = 'https://pjt3591oo.github.io/?key1=values&key2=values'\n",
    "\n",
    "res = rq.get(url)\n",
    "\n",
    "print(res.url)\n"
   ]
  },
  {
   "cell_type": "markdown",
   "metadata": {},
   "source": [
    "### 6-21 post 요청\n",
    ">* post요청을 할 때는 데이터가 url에 포함되어 있지 않고, header의 body에 포함되기 때문에 반드시 추가적인 인자를 넣어 보내야 함. \n",
    ">* 쿼리스트링은 params를 사용하지만, post는 body데이터를 추가할때 data를 이용"
   ]
  },
  {
   "cell_type": "code",
   "execution_count": 32,
   "metadata": {},
   "outputs": [
    {
     "name": "stdout",
     "output_type": "stream",
     "text": [
      "http://www.example.com/\n"
     ]
    }
   ],
   "source": [
    "import requests as rq\n",
    "\n",
    "url = 'http://www.example.com'\n",
    "\n",
    "res = rq.post(url, data={'key1':'value1', 'key2':'value2'})\n",
    "\n",
    "print(res.url)\n"
   ]
  },
  {
   "cell_type": "markdown",
   "metadata": {},
   "source": [
    "### 6-22 json 모듈을 활용한 post 요청\n",
    ">* data 키워드를 이용하여 post요청시 데이터를 포함하여 보낼 수 있음\n",
    ">* 하지만 단순희 data=dict()를 하면 정상적인 요청이 안 될 수 있음\n",
    ">* 이럴때눈 딕셔너리 형태를 유지한 문자열 형태로 데이터를 전달해야함. \n",
    ">* 이럴때 사용하는 모듈이 json 모듈!\n",
    ">* 결과는 달라지지 않았지만, data를 딕셔너리에서 문자열 형태로 바꾸어 보낸것\n",
    ">* json.dump(딕셔너리)를 하면 해당 딕셔너리의 형태를 유지하면서 문자열로 바꾸어 줌. "
   ]
  },
  {
   "cell_type": "code",
   "execution_count": 35,
   "metadata": {},
   "outputs": [
    {
     "name": "stdout",
     "output_type": "stream",
     "text": [
      "http://www.example.com/\n"
     ]
    }
   ],
   "source": [
    "import requests as rq\n",
    "import json\n",
    "\n",
    "url = 'http://www.example.com'\n",
    "\n",
    "res = rq.post(url, data=json.dumps({'key1':'value1', 'key2':'value2'}))\n",
    "\n",
    "print(res.url)\n"
   ]
  },
  {
   "cell_type": "markdown",
   "metadata": {},
   "source": [
    "### 6-23 json 모듈과 str의 차이\n",
    ">* 딕셔너리 형태로 유지하면서 문자열로 바꾸기 위해서는 큰타옴표로 키:값을 표현해야함.\n",
    ">* 그렇기 때문에 json.dump()를 확인하여 딕셔너리를 문자열 형태로 바꾸어 사용"
   ]
  },
  {
   "cell_type": "code",
   "execution_count": 38,
   "metadata": {},
   "outputs": [
    {
     "name": "stdout",
     "output_type": "stream",
     "text": [
      "{\"key1\": \"value1\", \"key2\": \"value2\"}\n",
      "{'key1': 'value1', 'key2': 'value2'}\n",
      "{\"key1\": \"value1\", \"key2\": \"value2\"}\n",
      "{'key1': 'value1', 'key2': 'value2'}\n"
     ]
    }
   ],
   "source": [
    "import json\n",
    "\n",
    "dict1 = {'key1':'value1', 'key2':'value2'}\n",
    "dict2 = {'key1':'value1', 'key2':'value2'}\n",
    "\n",
    "print(json.dumps(dict1))\n",
    "print(str(dict1))\n",
    "\n",
    "print(json.dumps(dict2))\n",
    "print(str(dict2))"
   ]
  },
  {
   "cell_type": "markdown",
   "metadata": {},
   "source": [
    "### 6-24 헤더 설정하기\n",
    ">* 헤더나 데이터를 보내는 경우 크롤러 입장에서는 달라지는 것이 없음"
   ]
  },
  {
   "cell_type": "code",
   "execution_count": 39,
   "metadata": {},
   "outputs": [
    {
     "name": "stdout",
     "output_type": "stream",
     "text": [
      "https://pjt3591oo.github.io/\n"
     ]
    }
   ],
   "source": [
    "import requests as rq\n",
    "\n",
    "url = 'https://pjt3591oo.github.io/'\n",
    "\n",
    "res = rq.get(url, headers ={\"User-Agent\": \"Mozilla/5.0 (Macintosh; Intel Mac OS X 10_12_5) AppleWebKit/537.36 (KHTML, like Gecko) Chrome/60.0.3112.113 Safari/537.36\"})\n",
    "\n",
    "print(res.url)"
   ]
  },
  {
   "cell_type": "markdown",
   "metadata": {},
   "source": [
    "### 6-25 requests 요청시 오류 발생\n",
    ">* url 명시시 http 혹은 https를 명시하지 않으면 mIssingSchema 오류 발생"
   ]
  },
  {
   "cell_type": "code",
   "execution_count": 41,
   "metadata": {
    "collapsed": true
   },
   "outputs": [
    {
     "ename": "MissingSchema",
     "evalue": "Invalid URL 'blog.naver.com/pjt3591oo': No schema supplied. Perhaps you meant http://blog.naver.com/pjt3591oo?",
     "output_type": "error",
     "traceback": [
      "\u001b[1;31m---------------------------------------------------------------------------\u001b[0m",
      "\u001b[1;31mMissingSchema\u001b[0m                             Traceback (most recent call last)",
      "\u001b[1;32m<ipython-input-41-bec2831a8758>\u001b[0m in \u001b[0;36m<module>\u001b[1;34m\u001b[0m\n\u001b[0;32m      2\u001b[0m \u001b[0murl\u001b[0m \u001b[1;33m=\u001b[0m \u001b[1;34m'blog.naver.com/pjt3591oo'\u001b[0m\u001b[1;33m\u001b[0m\u001b[1;33m\u001b[0m\u001b[0m\n\u001b[0;32m      3\u001b[0m \u001b[1;33m\u001b[0m\u001b[0m\n\u001b[1;32m----> 4\u001b[1;33m \u001b[0mres\u001b[0m \u001b[1;33m=\u001b[0m \u001b[0mrq\u001b[0m\u001b[1;33m.\u001b[0m\u001b[0mget\u001b[0m\u001b[1;33m(\u001b[0m\u001b[0murl\u001b[0m\u001b[1;33m)\u001b[0m\u001b[1;33m\u001b[0m\u001b[1;33m\u001b[0m\u001b[0m\n\u001b[0m",
      "\u001b[1;32mD:\\anaconda\\envs\\study\\lib\\site-packages\\requests\\api.py\u001b[0m in \u001b[0;36mget\u001b[1;34m(url, params, **kwargs)\u001b[0m\n\u001b[0;32m     73\u001b[0m \u001b[1;33m\u001b[0m\u001b[0m\n\u001b[0;32m     74\u001b[0m     \u001b[0mkwargs\u001b[0m\u001b[1;33m.\u001b[0m\u001b[0msetdefault\u001b[0m\u001b[1;33m(\u001b[0m\u001b[1;34m'allow_redirects'\u001b[0m\u001b[1;33m,\u001b[0m \u001b[1;32mTrue\u001b[0m\u001b[1;33m)\u001b[0m\u001b[1;33m\u001b[0m\u001b[1;33m\u001b[0m\u001b[0m\n\u001b[1;32m---> 75\u001b[1;33m     \u001b[1;32mreturn\u001b[0m \u001b[0mrequest\u001b[0m\u001b[1;33m(\u001b[0m\u001b[1;34m'get'\u001b[0m\u001b[1;33m,\u001b[0m \u001b[0murl\u001b[0m\u001b[1;33m,\u001b[0m \u001b[0mparams\u001b[0m\u001b[1;33m=\u001b[0m\u001b[0mparams\u001b[0m\u001b[1;33m,\u001b[0m \u001b[1;33m**\u001b[0m\u001b[0mkwargs\u001b[0m\u001b[1;33m)\u001b[0m\u001b[1;33m\u001b[0m\u001b[1;33m\u001b[0m\u001b[0m\n\u001b[0m\u001b[0;32m     76\u001b[0m \u001b[1;33m\u001b[0m\u001b[0m\n\u001b[0;32m     77\u001b[0m \u001b[1;33m\u001b[0m\u001b[0m\n",
      "\u001b[1;32mD:\\anaconda\\envs\\study\\lib\\site-packages\\requests\\api.py\u001b[0m in \u001b[0;36mrequest\u001b[1;34m(method, url, **kwargs)\u001b[0m\n\u001b[0;32m     58\u001b[0m     \u001b[1;31m# cases, and look like a memory leak in others.\u001b[0m\u001b[1;33m\u001b[0m\u001b[1;33m\u001b[0m\u001b[1;33m\u001b[0m\u001b[0m\n\u001b[0;32m     59\u001b[0m     \u001b[1;32mwith\u001b[0m \u001b[0msessions\u001b[0m\u001b[1;33m.\u001b[0m\u001b[0mSession\u001b[0m\u001b[1;33m(\u001b[0m\u001b[1;33m)\u001b[0m \u001b[1;32mas\u001b[0m \u001b[0msession\u001b[0m\u001b[1;33m:\u001b[0m\u001b[1;33m\u001b[0m\u001b[1;33m\u001b[0m\u001b[0m\n\u001b[1;32m---> 60\u001b[1;33m         \u001b[1;32mreturn\u001b[0m \u001b[0msession\u001b[0m\u001b[1;33m.\u001b[0m\u001b[0mrequest\u001b[0m\u001b[1;33m(\u001b[0m\u001b[0mmethod\u001b[0m\u001b[1;33m=\u001b[0m\u001b[0mmethod\u001b[0m\u001b[1;33m,\u001b[0m \u001b[0murl\u001b[0m\u001b[1;33m=\u001b[0m\u001b[0murl\u001b[0m\u001b[1;33m,\u001b[0m \u001b[1;33m**\u001b[0m\u001b[0mkwargs\u001b[0m\u001b[1;33m)\u001b[0m\u001b[1;33m\u001b[0m\u001b[1;33m\u001b[0m\u001b[0m\n\u001b[0m\u001b[0;32m     61\u001b[0m \u001b[1;33m\u001b[0m\u001b[0m\n\u001b[0;32m     62\u001b[0m \u001b[1;33m\u001b[0m\u001b[0m\n",
      "\u001b[1;32mD:\\anaconda\\envs\\study\\lib\\site-packages\\requests\\sessions.py\u001b[0m in \u001b[0;36mrequest\u001b[1;34m(self, method, url, params, data, headers, cookies, files, auth, timeout, allow_redirects, proxies, hooks, stream, verify, cert, json)\u001b[0m\n\u001b[0;32m    517\u001b[0m             \u001b[0mhooks\u001b[0m\u001b[1;33m=\u001b[0m\u001b[0mhooks\u001b[0m\u001b[1;33m,\u001b[0m\u001b[1;33m\u001b[0m\u001b[1;33m\u001b[0m\u001b[0m\n\u001b[0;32m    518\u001b[0m         )\n\u001b[1;32m--> 519\u001b[1;33m         \u001b[0mprep\u001b[0m \u001b[1;33m=\u001b[0m \u001b[0mself\u001b[0m\u001b[1;33m.\u001b[0m\u001b[0mprepare_request\u001b[0m\u001b[1;33m(\u001b[0m\u001b[0mreq\u001b[0m\u001b[1;33m)\u001b[0m\u001b[1;33m\u001b[0m\u001b[1;33m\u001b[0m\u001b[0m\n\u001b[0m\u001b[0;32m    520\u001b[0m \u001b[1;33m\u001b[0m\u001b[0m\n\u001b[0;32m    521\u001b[0m         \u001b[0mproxies\u001b[0m \u001b[1;33m=\u001b[0m \u001b[0mproxies\u001b[0m \u001b[1;32mor\u001b[0m \u001b[1;33m{\u001b[0m\u001b[1;33m}\u001b[0m\u001b[1;33m\u001b[0m\u001b[1;33m\u001b[0m\u001b[0m\n",
      "\u001b[1;32mD:\\anaconda\\envs\\study\\lib\\site-packages\\requests\\sessions.py\u001b[0m in \u001b[0;36mprepare_request\u001b[1;34m(self, request)\u001b[0m\n\u001b[0;32m    460\u001b[0m             \u001b[0mauth\u001b[0m\u001b[1;33m=\u001b[0m\u001b[0mmerge_setting\u001b[0m\u001b[1;33m(\u001b[0m\u001b[0mauth\u001b[0m\u001b[1;33m,\u001b[0m \u001b[0mself\u001b[0m\u001b[1;33m.\u001b[0m\u001b[0mauth\u001b[0m\u001b[1;33m)\u001b[0m\u001b[1;33m,\u001b[0m\u001b[1;33m\u001b[0m\u001b[1;33m\u001b[0m\u001b[0m\n\u001b[0;32m    461\u001b[0m             \u001b[0mcookies\u001b[0m\u001b[1;33m=\u001b[0m\u001b[0mmerged_cookies\u001b[0m\u001b[1;33m,\u001b[0m\u001b[1;33m\u001b[0m\u001b[1;33m\u001b[0m\u001b[0m\n\u001b[1;32m--> 462\u001b[1;33m             \u001b[0mhooks\u001b[0m\u001b[1;33m=\u001b[0m\u001b[0mmerge_hooks\u001b[0m\u001b[1;33m(\u001b[0m\u001b[0mrequest\u001b[0m\u001b[1;33m.\u001b[0m\u001b[0mhooks\u001b[0m\u001b[1;33m,\u001b[0m \u001b[0mself\u001b[0m\u001b[1;33m.\u001b[0m\u001b[0mhooks\u001b[0m\u001b[1;33m)\u001b[0m\u001b[1;33m,\u001b[0m\u001b[1;33m\u001b[0m\u001b[1;33m\u001b[0m\u001b[0m\n\u001b[0m\u001b[0;32m    463\u001b[0m         )\n\u001b[0;32m    464\u001b[0m         \u001b[1;32mreturn\u001b[0m \u001b[0mp\u001b[0m\u001b[1;33m\u001b[0m\u001b[1;33m\u001b[0m\u001b[0m\n",
      "\u001b[1;32mD:\\anaconda\\envs\\study\\lib\\site-packages\\requests\\models.py\u001b[0m in \u001b[0;36mprepare\u001b[1;34m(self, method, url, headers, files, data, params, auth, cookies, hooks, json)\u001b[0m\n\u001b[0;32m    311\u001b[0m \u001b[1;33m\u001b[0m\u001b[0m\n\u001b[0;32m    312\u001b[0m         \u001b[0mself\u001b[0m\u001b[1;33m.\u001b[0m\u001b[0mprepare_method\u001b[0m\u001b[1;33m(\u001b[0m\u001b[0mmethod\u001b[0m\u001b[1;33m)\u001b[0m\u001b[1;33m\u001b[0m\u001b[1;33m\u001b[0m\u001b[0m\n\u001b[1;32m--> 313\u001b[1;33m         \u001b[0mself\u001b[0m\u001b[1;33m.\u001b[0m\u001b[0mprepare_url\u001b[0m\u001b[1;33m(\u001b[0m\u001b[0murl\u001b[0m\u001b[1;33m,\u001b[0m \u001b[0mparams\u001b[0m\u001b[1;33m)\u001b[0m\u001b[1;33m\u001b[0m\u001b[1;33m\u001b[0m\u001b[0m\n\u001b[0m\u001b[0;32m    314\u001b[0m         \u001b[0mself\u001b[0m\u001b[1;33m.\u001b[0m\u001b[0mprepare_headers\u001b[0m\u001b[1;33m(\u001b[0m\u001b[0mheaders\u001b[0m\u001b[1;33m)\u001b[0m\u001b[1;33m\u001b[0m\u001b[1;33m\u001b[0m\u001b[0m\n\u001b[0;32m    315\u001b[0m         \u001b[0mself\u001b[0m\u001b[1;33m.\u001b[0m\u001b[0mprepare_cookies\u001b[0m\u001b[1;33m(\u001b[0m\u001b[0mcookies\u001b[0m\u001b[1;33m)\u001b[0m\u001b[1;33m\u001b[0m\u001b[1;33m\u001b[0m\u001b[0m\n",
      "\u001b[1;32mD:\\anaconda\\envs\\study\\lib\\site-packages\\requests\\models.py\u001b[0m in \u001b[0;36mprepare_url\u001b[1;34m(self, url, params)\u001b[0m\n\u001b[0;32m    385\u001b[0m             \u001b[0merror\u001b[0m \u001b[1;33m=\u001b[0m \u001b[0merror\u001b[0m\u001b[1;33m.\u001b[0m\u001b[0mformat\u001b[0m\u001b[1;33m(\u001b[0m\u001b[0mto_native_string\u001b[0m\u001b[1;33m(\u001b[0m\u001b[0murl\u001b[0m\u001b[1;33m,\u001b[0m \u001b[1;34m'utf8'\u001b[0m\u001b[1;33m)\u001b[0m\u001b[1;33m)\u001b[0m\u001b[1;33m\u001b[0m\u001b[1;33m\u001b[0m\u001b[0m\n\u001b[0;32m    386\u001b[0m \u001b[1;33m\u001b[0m\u001b[0m\n\u001b[1;32m--> 387\u001b[1;33m             \u001b[1;32mraise\u001b[0m \u001b[0mMissingSchema\u001b[0m\u001b[1;33m(\u001b[0m\u001b[0merror\u001b[0m\u001b[1;33m)\u001b[0m\u001b[1;33m\u001b[0m\u001b[1;33m\u001b[0m\u001b[0m\n\u001b[0m\u001b[0;32m    388\u001b[0m \u001b[1;33m\u001b[0m\u001b[0m\n\u001b[0;32m    389\u001b[0m         \u001b[1;32mif\u001b[0m \u001b[1;32mnot\u001b[0m \u001b[0mhost\u001b[0m\u001b[1;33m:\u001b[0m\u001b[1;33m\u001b[0m\u001b[1;33m\u001b[0m\u001b[0m\n",
      "\u001b[1;31mMissingSchema\u001b[0m: Invalid URL 'blog.naver.com/pjt3591oo': No schema supplied. Perhaps you meant http://blog.naver.com/pjt3591oo?"
     ]
    }
   ],
   "source": [
    "import requests as rq\n",
    "url = 'blog.naver.com/pjt3591oo'\n",
    "\n",
    "res = rq.get(url)"
   ]
  },
  {
   "cell_type": "markdown",
   "metadata": {},
   "source": [
    "### 6-26 에러 처리\n",
    ">* 코드단에서 처리 가능한 부분이기 때문에 이런 것들은 예외 처리를 하는 것은 좋지 않음\n",
    ">* tieout 같은 서버에 의한 에러들을 except 처리 하는 것이 좋음."
   ]
  },
  {
   "cell_type": "code",
   "execution_count": 42,
   "metadata": {},
   "outputs": [
    {
     "name": "stdout",
     "output_type": "stream",
     "text": [
      "MissingSchema 에러 발생\n"
     ]
    }
   ],
   "source": [
    "import requests as rq\n",
    "url = 'blog.naver.com/pjt3591oo'\n",
    "\n",
    "try:\n",
    "    res = rq.get(url)\n",
    "except rq.exceptions.MissingSchema:\n",
    "    print('MissingSchema 에러 발생')"
   ]
  },
  {
   "cell_type": "markdown",
   "metadata": {},
   "source": [
    "### 6-27  time 에러 발생시\n",
    ">* 서버측의 특수한 상황 때문에 timeout 에러가 발생 할 수 있음\n",
    ">* timeout은 서버가 일정 시간 동안 요청한 클라이언트에 응답하지 않았을 때 발생하는 에러\n",
    ">* 이럴때는 일정 시간 동안 잠시 기다렸다가 재요청을 하는 방법으로 해결 할 수 있음\n",
    ">* time을 임포트 한후 sleep() 함수를 호출하묜, 인자로 넘긴 값 만큼 코드가 정지\n",
    ">* 특정 코드를 다시 호출할 결우 retry 패턴을 이용하면 효율적인 관리 가능"
   ]
  },
  {
   "cell_type": "code",
   "execution_count": 43,
   "metadata": {},
   "outputs": [],
   "source": [
    "import requests as rq\n",
    "import time\n",
    "\n",
    "url ='http://blog.naver.com/pjt3591oo'\n",
    "delay_time = 1\n",
    "\n",
    "def connection(u):\n",
    "    return rq.get(u)\n",
    "try:\n",
    "    connection(url)\n",
    "    \n",
    "except rq.exceptions.Timeout:\n",
    "    time.sleep(delay_time)\n",
    "    connection(url)"
   ]
  },
  {
   "cell_type": "markdown",
   "metadata": {},
   "source": [
    "### 6-28 urllib 사용 방법\n",
    ">* urllib는 객체를 만들어 요청"
   ]
  },
  {
   "cell_type": "code",
   "execution_count": 45,
   "metadata": {},
   "outputs": [
    {
     "name": "stdout",
     "output_type": "stream",
     "text": [
      "<http.client.HTTPResponse object at 0x00000244CE4EE8C8>\n"
     ]
    }
   ],
   "source": [
    "from urllib.request import urlopen, Request\n",
    "\n",
    "url = 'https://pjt3591oo.github.io/'\n",
    "\n",
    "req = Request(url) # 요청 객체를 만드는 부분\n",
    "page = urlopen(req) # 만들어진 요청 객체를 이용하여 요청하는 부분\n",
    "\n",
    "print(page)"
   ]
  },
  {
   "cell_type": "markdown",
   "metadata": {},
   "source": [
    "### 6-29 다양한 정보 확인"
   ]
  },
  {
   "cell_type": "code",
   "execution_count": 46,
   "metadata": {},
   "outputs": [
    {
     "name": "stdout",
     "output_type": "stream",
     "text": [
      "<http.client.HTTPResponse object at 0x00000244CF3C7548>\n",
      "200\n",
      "Content-Type: text/html; charset=utf-8\n",
      "Server: GitHub.com\n",
      "Last-Modified: Sat, 20 May 2017 06:31:56 GMT\n",
      "ETag: \"591fe2dc-50f0\"\n",
      "Access-Control-Allow-Origin: *\n",
      "Expires: Wed, 19 Feb 2020 13:32:02 GMT\n",
      "Cache-Control: max-age=600\n",
      "X-Proxy-Cache: MISS\n",
      "X-GitHub-Request-Id: 4440:4513:14D35D:169B31:5E4D367A\n",
      "Content-Length: 20720\n",
      "Accept-Ranges: bytes\n",
      "Date: Thu, 20 Feb 2020 05:50:52 GMT\n",
      "Via: 1.1 varnish\n",
      "Age: 82\n",
      "Connection: close\n",
      "X-Served-By: cache-hnd18728-HND\n",
      "X-Cache: HIT\n",
      "X-Cache-Hits: 1\n",
      "X-Timer: S1582177853.880847,VS0,VE0\n",
      "Vary: Accept-Encoding\n",
      "X-Fastly-Request-ID: 8a519da89247a8d59231f7aba65bc5394c4ca74f\n",
      "\n",
      "\n",
      "https://pjt3591oo.github.io/\n",
      "utf-8\n"
     ]
    }
   ],
   "source": [
    "from urllib.request import urlopen, Request\n",
    "\n",
    "url = 'https://pjt3591oo.github.io/'\n",
    "\n",
    "req = Request(url)\n",
    "page = urlopen(req)\n",
    "\n",
    "print(page)\n",
    "print(page.code)\n",
    "print(page.headers)\n",
    "print(page.url)\n",
    "print(page.info().get_content_charset())"
   ]
  },
  {
   "cell_type": "markdown",
   "metadata": {},
   "source": [
    "### 6-30 html 코드 가져오기\n",
    ">* urllib는 read()함수를 이용하여 html을 바이너리 형태로 가져옴.\n",
    ">* 이는 requests의 content() 와 같은 기능을 함"
   ]
  },
  {
   "cell_type": "code",
   "execution_count": 47,
   "metadata": {
    "collapsed": true
   },
   "outputs": [
    {
     "name": "stdout",
     "output_type": "stream",
     "text": [
      "<http.client.HTTPResponse object at 0x00000244CF2FF3C8>\n",
      "b'<!DOCTYPE html>\\n<html lang=\"en\">\\n\\n  <head>\\n  <meta charset=\"utf-8\">\\n  <meta http-equiv=\"X-UA-Compatible\" content=\"IE=edge\">\\n  <meta name=\"viewport\" content=\"width=device-width, initial-scale=1\">\\n\\n  <title>Home</title>\\n  <meta name=\"description\" content=\"\\xeb\\xa9\\x8d\\xea\\xb0\\x9c\\xec\\x9d\\x98 \\xea\\xb0\\x9c\\xeb\\xb0\\x9c \\xeb\\xb8\\x94\\xeb\\xa1\\x9c\\xea\\xb7\\xb8\\xec\\x9e\\x85\\xeb\\x8b\\x88\\xeb\\x8b\\xa4. \\xea\\xb6\\x81\\xea\\xb8\\x88\\xed\\x95\\x98\\xec\\x8b\\xa0 \\xec\\x82\\xac\\xed\\x95\\xad \\xed\\x98\\xb9\\xec\\x9d\\x80 \\xec\\xa0\\x84\\xeb\\x8b\\xac\\xed\\x95\\x98\\xea\\xb3\\xa0 \\xec\\x8b\\xb6\\xec\\x9d\\x80 \\xeb\\x82\\xb4\\xec\\x9a\\xa9\\xec\\x9d\\xb4 \\xec\\x9e\\x88\\xec\\x9c\\xbc\\xec\\x8b\\x9c\\xeb\\xa9\\xb4 \\xeb\\xa9\\x94\\xec\\x9d\\xbc\\xeb\\xa1\\x9c \\xeb\\xac\\xb8\\xec\\x9d\\x98 \\xec\\xa3\\xbc\\xec\\x84\\xb8\\xec\\x9a\\x94.\">\\n\\n  <link rel=\"stylesheet\" href=\"/assets/main.css\">\\n  <link rel=\"canonical\" href=\"/\">\\n  <link rel=\"alternate\" type=\"application/rss+xml\" title=\"Home\" href=\"/feed.xml\">\\n  \\n  \\n</head>\\n\\n\\n  <body>\\n\\n    <header class=\"site-header\" role=\"banner\">\\n\\n  <div class=\"wrapper\">\\n    \\n    \\n    <a class=\"site-title\" href=\"/\">Home</a>\\n  \\n    \\n      <nav class=\"site-nav\">\\n        <input type=\"checkbox\" id=\"nav-trigger\" class=\"nav-trigger\" />\\n        <label for=\"nav-trigger\">\\n          <span class=\"menu-icon\">\\n            <svg viewBox=\"0 0 18 15\" width=\"18px\" height=\"15px\">\\n              <path fill=\"#424242\" d=\"M18,1.484c0,0.82-0.665,1.484-1.484,1.484H1.484C0.665,2.969,0,2.304,0,1.484l0,0C0,0.665,0.665,0,1.484,0 h15.031C17.335,0,18,0.665,18,1.484L18,1.484z\"/>\\n              <path fill=\"#424242\" d=\"M18,7.516C18,8.335,17.335,9,16.516,9H1.484C0.665,9,0,8.335,0,7.516l0,0c0-0.82,0.665-1.484,1.484-1.484 h15.031C17.335,6.031,18,6.696,18,7.516L18,7.516z\"/>\\n              <path fill=\"#424242\" d=\"M18,13.516C18,14.335,17.335,15,16.516,15H1.484C0.665,15,0,14.335,0,13.516l0,0 c0-0.82,0.665-1.484,1.484-1.484h15.031C17.335,12.031,18,12.696,18,13.516L18,13.516z\"/>\\n            </svg>\\n          </span>\\n        </label>\\n\\n        <div class=\"trigger\">\\n          \\n            \\n            \\n            <a class=\"page-link\" href=\"/about/\">About</a>\\n            \\n          \\n            \\n            \\n            <a class=\"page-link\" href=\"/category.html\">Category</a>\\n            \\n          \\n            \\n            \\n          \\n            \\n            \\n          \\n            \\n            \\n            <a class=\"page-link\" href=\"/play/\">Play</a>\\n            \\n          \\n            \\n            \\n            <a class=\"page-link\" href=\"/search\">Search</a>\\n            \\n          \\n            \\n            \\n          \\n            \\n            \\n          \\n            \\n            \\n          \\n            \\n            \\n          \\n            \\n            \\n          \\n            \\n            \\n          \\n        </div>\\n      </nav>\\n    \\n  </div>\\n</header>\\n\\n\\n    <main class=\"page-content\" aria-label=\"Content\">\\n      <div class=\"wrapper\">\\n        <div class=\"home\">\\n\\n  <h1 class=\"page-heading\">Posts</h1>\\n  \\n  <meta name=\"viewport\" content=\"width=device-width, initial-scale=1\">\\n\\n<meta name=\"google-site-verification\" content=\"gvDodL2h5fymQPWMmUwyvwMfZp7AVufngf2P3jJlTho\" />\\n<meta name=\"naver-site-verification\" content=\"4a511a171ff0cee5a8ea1f3e7cde66845b26b04c\"/>\\n\\n<link rel=\"stylesheet\" href=\"https://maxcdn.bootstrapcdn.com/bootstrap/3.3.7/css/bootstrap.min.css\">\\n<script src=\"https://ajax.googleapis.com/ajax/libs/jquery/3.2.0/jquery.min.js\"></script>\\n<script src=\"https://maxcdn.bootstrapcdn.com/bootstrap/3.3.7/js/bootstrap.min.js\"></script>\\n\\n<style>\\n  .post-list{\\n    display: none;\\n  }\\n  .pagination{\\n    width:100%;\\n    text-align: center;\\n    margin-top:25px;\\n    margin-bottom:50px;\\n    font-size:17px;\\n  }\\n  li{\\n    list-style: none;\\n  }\\n  /*c{*/\\n    /*background-color: rgb(204, 204, 204);*/\\n    /*border-radius: 5px;*/\\n  /*}*/\\n\\n</style>\\n\\n\\n  <div class=\"p\">\\n      <h3 style=\"margin-top:50px\">\\n          <a style=\"color:#4d5256; opacity: 0.8\" href=\"/blog/programming/2017/05/20/javascript_react_setting.html\">[programming] [react] react \\xec\\x9e\\x91\\xec\\x97\\x85\\xed\\x99\\x98\\xea\\xb2\\xbd \\xec\\x84\\xa4</a>\\n      </h3>\\n      <h4 style=\"color:#4d5256; opacity: 0.6; margin-top:30px\">\\n        react\\xeb\\xa5\\xbc \\xec\\x8b\\x9c\\xec\\x9e\\x91\\xed\\x95\\x98\\xea\\xb8\\xb0 \\xec\\xa0\\x84\\xec\\x97\\x90 \\xed\\x99\\x98\\xea\\xb2\\xbd\\xec\\x85\\x8b\\xed\\x8c\\x85\\xec\\x9d\\x84 \\xed\\x95\\xb4\\xeb\\xb3\\xb4\\xec\\x9e\\x90\\n      </h4>\\n      <p class=\"author\">\\n        <span style=\"color:#4d5256; opacity: 0.4\" class=\"date\">2017-05-20 06:29:05 +0000  &nbsp;&nbsp;|&nbsp;&nbsp;  \\xeb\\xb0\\x95\\xec\\xa0\\x95\\xed\\x83\\x9c</span>\\n      </p>\\n      <hr style=\"margin-top:50px\">\\n  </div>\\n\\n  <div class=\"p\">\\n      <h3 style=\"margin-top:50px\">\\n          <a style=\"color:#4d5256; opacity: 0.8\" href=\"/blog/programming/2017/05/09/javascript_drag_and_drop.html\">[programming] drag and drop\\xec\\x9d\\x84 \\xec\\x9d\\xb4\\xec\\x9a\\xa9\\xed\\x95\\x98\\xec\\x97\\xac \\xed\\x8c\\x8c\\xec\\x9d\\xbc \\xec\\x97\\x85\\xeb\\xa1\\x9c\\xeb\\x93\\x9c\\xeb\\xa5\\xbc \\xed\\x95\\xb4\\xeb\\xb3\\xb4\\xec\\x9e\\x90</a>\\n      </h3>\\n      <h4 style=\"color:#4d5256; opacity: 0.6; margin-top:30px\">\\n        query\\xec\\x9d\\x98 \\xec\\x99\\xb8\\xeb\\xb6\\x80 \\xeb\\x9d\\xbc\\xec\\x9d\\xb4\\xeb\\xb8\\x8c\\xeb\\x9f\\xac\\xeb\\xa6\\xac\\xea\\xb0\\x80 \\xec\\x95\\x84\\xeb\\x8b\\x8c drag, drop \\xec\\x9d\\xb4\\xeb\\xb2\\xa4\\xed\\x8a\\xb8\\xeb\\xa5\\xbc \\xed\\x99\\x9c\\xec\\x9a\\xa9\\xed\\x95\\x98\\xec\\x97\\xac \\xea\\xb8\\xb0\\xeb\\x8a\\xa5 \\xea\\xb5\\xac\\xed\\x98\\x84\\xed\\x95\\xb4\\xeb\\xb3\\xb4\\xea\\xb8\\xb0\\n      </h4>\\n      <p class=\"author\">\\n        <span style=\"color:#4d5256; opacity: 0.4\" class=\"date\">2017-05-09 23:47:05 +0000  &nbsp;&nbsp;|&nbsp;&nbsp;  \\xeb\\xb0\\x95\\xec\\xa0\\x95\\xed\\x83\\x9c</span>\\n      </p>\\n      <hr style=\"margin-top:50px\">\\n  </div>\\n\\n  <div class=\"p\">\\n      <h3 style=\"margin-top:50px\">\\n          <a style=\"color:#4d5256; opacity: 0.8\" href=\"/blog/database/2017/05/04/how_to_use_mysqldump.html\">[database] mysqldump\\xeb\\xa5\\xbc \\xec\\x9d\\xb4\\xec\\x9a\\xa9\\xed\\x95\\x98\\xec\\x97\\xac \\xeb\\x8d\\xb0\\xec\\x9d\\xb4\\xed\\x84\\xb0 \\xeb\\xb0\\xb1\\xec\\x97\\x85, \\xeb\\xb3\\xb5\\xec\\x9b\\x90\\xed\\x95\\x98\\xea\\xb8\\xb0</a>\\n      </h3>\\n      <h4 style=\"color:#4d5256; opacity: 0.6; margin-top:30px\">\\n        mysqldump\\xeb\\xa5\\xbc \\xec\\x9d\\xb4\\xec\\x9a\\xa9\\xed\\x95\\x98\\xec\\x97\\xac \\xeb\\x94\\x94\\xeb\\xb9\\x84 \\xeb\\xb0\\xb1\\xec\\x97\\x85\\xea\\xb3\\xbc source\\xeb\\xa5\\xbc \\xec\\x9d\\xb4\\xec\\x9a\\xa9\\xed\\x95\\x98\\xec\\x97\\xac \\xeb\\x8d\\xb0\\xec\\x9d\\xb4\\xed\\x84\\xb0 \\xeb\\xb3\\xb5\\xec\\x9b\\x90\\xec\\x9d\\x84 \\xed\\x95\\xb4\\xeb\\xb3\\xb4\\xec\\x9e\\x90\\n      </h4>\\n      <p class=\"author\">\\n        <span style=\"color:#4d5256; opacity: 0.4\" class=\"date\">2017-05-04 05:33:05 +0000  &nbsp;&nbsp;|&nbsp;&nbsp;  \\xeb\\xb0\\x95\\xec\\xa0\\x95\\xed\\x83\\x9c</span>\\n      </p>\\n      <hr style=\"margin-top:50px\">\\n  </div>\\n\\n  <div class=\"p\">\\n      <h3 style=\"margin-top:50px\">\\n          <a style=\"color:#4d5256; opacity: 0.8\" href=\"/blog/database/2017/05/03/abou_mysql_remote_connect.html\">[database] mysql \\xec\\x9b\\x90\\xea\\xb2\\xa9\\xec\\xa0\\x91\\xec\\x86\\x8d\\xed\\x95\\x98\\xeb\\x8a\\x94 \\xeb\\xb0\\xa9\\xeb\\xb2\\x95</a>\\n      </h3>\\n      <h4 style=\"color:#4d5256; opacity: 0.6; margin-top:30px\">\\n        mysql \\xeb\\x94\\x94\\xeb\\xb9\\x84\\xec\\x84\\xa4\\xec\\xa0\\x95, \\xec\\x9c\\xa0\\xec\\xa0\\x80\\xec\\x84\\xa4\\xec\\xa0\\x95\\xec\\x9d\\x84 \\xed\\x86\\xb5\\xed\\x95\\xb4 \\xec\\x9b\\x90\\xea\\xb2\\xa9\\xec\\xa0\\x91\\xec\\x86\\x8d\\n      </h4>\\n      <p class=\"author\">\\n        <span style=\"color:#4d5256; opacity: 0.4\" class=\"date\">2017-05-03 11:43:05 +0000  &nbsp;&nbsp;|&nbsp;&nbsp;  \\xeb\\xb0\\x95\\xec\\xa0\\x95\\xed\\x83\\x9c</span>\\n      </p>\\n      <hr style=\"margin-top:50px\">\\n  </div>\\n\\n  <div class=\"p\">\\n      <h3 style=\"margin-top:50px\">\\n          <a style=\"color:#4d5256; opacity: 0.8\" href=\"/blog/node.js/2017/05/01/file_convert2.html\">[node.js] \\xed\\x8c\\x8c\\xec\\x9d\\xbc \\xeb\\xa6\\xac\\xeb\\x8d\\x94\\xea\\xb8\\xb0 \\xeb\\xa7\\x8c\\xeb\\x93\\xa4\\xea\\xb8\\xb0 - \\xec\\x82\\xac\\xec\\x9a\\xa9 \\xeb\\xaa\\xa8\\xeb\\x93\\x88 \\xec\\xa0\\x95\\xeb\\xa6\\xac, pdf\\xec\\x99\\x80 hwp \\xea\\xb5\\xac\\xec\\xa1\\xb0</a>\\n      </h3>\\n      <h4 style=\"color:#4d5256; opacity: 0.6; margin-top:30px\">\\n        docx, hwp, pdf \\xed\\x8c\\x8c\\xec\\x9d\\xbc\\n      </h4>\\n      <p class=\"author\">\\n        <span style=\"color:#4d5256; opacity: 0.4\" class=\"date\">2017-05-01 06:02:05 +0000  &nbsp;&nbsp;|&nbsp;&nbsp;  \\xeb\\xb0\\x95\\xec\\xa0\\x95\\xed\\x83\\x9c</span>\\n      </p>\\n      <hr style=\"margin-top:50px\">\\n  </div>\\n\\n  <div class=\"p\">\\n      <h3 style=\"margin-top:50px\">\\n          <a style=\"color:#4d5256; opacity: 0.8\" href=\"/blog/node.js/2017/04/30/file_convert1.html\">[node.js] \\xed\\x8c\\x8c\\xec\\x9d\\xbc \\xeb\\xa6\\xac\\xeb\\x8d\\x94\\xea\\xb8\\xb0 \\xeb\\xa7\\x8c\\xeb\\x93\\xa4\\xea\\xb8\\xb0 - pdf\\xeb\\xa5\\xbc html\\xeb\\xa1\\x9c \\xeb\\xb3\\x80\\xed\\x99\\x98, docx\\xeb\\xa5\\xbc pdf\\xeb\\xa1\\x9c \\xeb\\xb3\\x80\\xed\\x99\\x98</a>\\n      </h3>\\n      <h4 style=\"color:#4d5256; opacity: 0.6; margin-top:30px\">\\n        pdf\\xed\\x8c\\x8c\\xec\\x9d\\xbc html\\xeb\\xa1\\x9c \\xeb\\xb3\\x80\\xea\\xb2\\xbd\\xed\\x95\\x98\\xea\\xb8\\xb0\\n      </h4>\\n      <p class=\"author\">\\n        <span style=\"color:#4d5256; opacity: 0.4\" class=\"date\">2017-04-30 15:19:05 +0000  &nbsp;&nbsp;|&nbsp;&nbsp;  \\xeb\\xb0\\x95\\xec\\xa0\\x95\\xed\\x83\\x9c</span>\\n      </p>\\n      <hr style=\"margin-top:50px\">\\n  </div>\\n\\n  <div class=\"p\">\\n      <h3 style=\"margin-top:50px\">\\n          <a style=\"color:#4d5256; opacity: 0.8\" href=\"/blog/programming/2017/04/25/how_to_change_git_remote_origin.html\">[programming] git \\xec\\x9b\\x90\\xea\\xb2\\xa9 \\xec\\xa0\\x80\\xec\\x9e\\xa5\\xec\\x86\\x8c \\xeb\\xb0\\x94\\xea\\xbe\\xb8\\xea\\xb8\\xb0</a>\\n      </h3>\\n      <h4 style=\"color:#4d5256; opacity: 0.6; margin-top:30px\">\\n        remote set-url\\xec\\x9d\\x84 \\xec\\x9d\\xb4\\xec\\x9a\\xa9\\xed\\x95\\x98\\xec\\x97\\xac \\xec\\x9b\\x90\\xea\\xb2\\xa9 \\xec\\xa0\\x80\\xec\\x9e\\xa5\\xec\\x86\\x8c\\xeb\\xa5\\xbc \\xeb\\xb0\\x94\\xea\\xbe\\xb8\\xec\\x9e\\x90\\n      </h4>\\n      <p class=\"author\">\\n        <span style=\"color:#4d5256; opacity: 0.4\" class=\"date\">2017-04-25 13:09:05 +0000  &nbsp;&nbsp;|&nbsp;&nbsp;  \\xeb\\xb0\\x95\\xec\\xa0\\x95\\xed\\x83\\x9c</span>\\n      </p>\\n      <hr style=\"margin-top:50px\">\\n  </div>\\n\\n  <div class=\"p\">\\n      <h3 style=\"margin-top:50px\">\\n          <a style=\"color:#4d5256; opacity: 0.8\" href=\"/blog/programming/2017/04/25/how_to_change_working_directory_on_python.html\">[programming] python working directory\\xeb\\xa5\\xbc \\xeb\\xb0\\x94\\xea\\xbf\\x94\\xeb\\xb3\\xb4\\xec\\x9e\\x90</a>\\n      </h3>\\n      <h4 style=\"color:#4d5256; opacity: 0.6; margin-top:30px\">\\n        working directory\\xec\\x84\\xa4\\xec\\xa0\\x95\\xec\\x9d\\x84 \\xed\\x95\\x98\\xec\\x97\\xac \\xea\\xb2\\xbd\\xeb\\xa1\\x9c \\xeb\\xac\\xb8\\xec\\xa0\\x9c\\xeb\\xa5\\xbc \\xed\\x95\\xb4\\xea\\xb2\\xb0\\xed\\x95\\x98\\xec\\x9e\\x90\\n      </h4>\\n      <p class=\"author\">\\n        <span style=\"color:#4d5256; opacity: 0.4\" class=\"date\">2017-04-25 09:19:05 +0000  &nbsp;&nbsp;|&nbsp;&nbsp;  \\xeb\\xb0\\x95\\xec\\xa0\\x95\\xed\\x83\\x9c</span>\\n      </p>\\n      <hr style=\"margin-top:50px\">\\n  </div>\\n\\n  <div class=\"p\">\\n      <h3 style=\"margin-top:50px\">\\n          <a style=\"color:#4d5256; opacity: 0.8\" href=\"/blog/server/2017/04/24/docker_commends.html\">[server] docker commends</a>\\n      </h3>\\n      <h4 style=\"color:#4d5256; opacity: 0.6; margin-top:30px\">\\n        \\xeb\\x8f\\x84\\xec\\xbb\\xa4\\xec\\x9d\\x98 \\xeb\\xaa\\x85\\xeb\\xa0\\xb9\\xec\\x96\\xb4\\xeb\\x93\\xa4\\xec\\x9d\\x84 \\xea\\xb0\\x84\\xeb\\x8b\\xa8\\xed\\x95\\x98\\xea\\xb2\\x8c \\xec\\x95\\x8c\\xec\\x95\\x84\\xeb\\xb3\\xb4\\xea\\xb8\\xb0\\n      </h4>\\n      <p class=\"author\">\\n        <span style=\"color:#4d5256; opacity: 0.4\" class=\"date\">2017-04-24 23:19:05 +0000  &nbsp;&nbsp;|&nbsp;&nbsp;  \\xeb\\xb0\\x95\\xec\\xa0\\x95\\xed\\x83\\x9c</span>\\n      </p>\\n      <hr style=\"margin-top:50px\">\\n  </div>\\n\\n  <div class=\"p\">\\n      <h3 style=\"margin-top:50px\">\\n          <a style=\"color:#4d5256; opacity: 0.8\" href=\"/blog/programming/2017/04/24/utc_to_timestamp_change.html\">[programming] python utc\\xeb\\xa5\\xbc timestamp\\xeb\\xa1\\x9c \\xeb\\xb0\\x94\\xea\\xbe\\xb8\\xeb\\x8a\\x94 \\xeb\\xb0\\xa9\\xeb\\xb2\\x95</a>\\n      </h3>\\n      <h4 style=\"color:#4d5256; opacity: 0.6; margin-top:30px\">\\n        python\\xec\\x97\\x90\\xec\\x84\\x9c utc\\xeb\\xa5\\xbc timestamp\\xeb\\xa1\\x9c \\xeb\\xb0\\x94\\xea\\xbe\\xb8\\xeb\\x8a\\x94 \\xeb\\xb0\\xa9\\xeb\\xb2\\x95\\n      </h4>\\n      <p class=\"author\">\\n        <span style=\"color:#4d5256; opacity: 0.4\" class=\"date\">2017-04-24 13:19:05 +0000  &nbsp;&nbsp;|&nbsp;&nbsp;  \\xeb\\xb0\\x95\\xec\\xa0\\x95\\xed\\x83\\x9c</span>\\n      </p>\\n      <hr style=\"margin-top:50px\">\\n  </div>\\n\\n\\n<!-- Pagination links -->\\n\\n<div class=\"pagination\">\\n  <ul class=\"pager\">\\n      \\n        <span>Prev</span>\\n      \\n\\n    \\n      \\n          <em>1</em>\\n      \\n    \\n      \\n          <a href=\"/page2/\">2</a>\\n      \\n    \\n      \\n          <a href=\"/page3/\">3</a>\\n      \\n    \\n      \\n          <a href=\"/page4/\">4</a>\\n      \\n    \\n\\n      \\n        <li>\\n          <a href=\"/page2/\">Next</a>\\n        </li>\\n      \\n  </ul>\\n</div>\\n\\n\\n  <ul class=\"post-list\">\\n    \\n      <li>\\n        \\n        <span class=\"post-meta\">May 20, 2017</span>\\n\\n        <h2>\\n          <a class=\"post-link\" href=\"/blog/programming/2017/05/20/javascript_react_setting.html\">[react] react \\xec\\x9e\\x91\\xec\\x97\\x85\\xed\\x99\\x98\\xea\\xb2\\xbd \\xec\\x84\\xa4</a>\\n        </h2>\\n      </li>\\n    \\n      <li>\\n        \\n        <span class=\"post-meta\">May 9, 2017</span>\\n\\n        <h2>\\n          <a class=\"post-link\" href=\"/blog/programming/2017/05/09/javascript_drag_and_drop.html\">drag and drop\\xec\\x9d\\x84 \\xec\\x9d\\xb4\\xec\\x9a\\xa9\\xed\\x95\\x98\\xec\\x97\\xac \\xed\\x8c\\x8c\\xec\\x9d\\xbc \\xec\\x97\\x85\\xeb\\xa1\\x9c\\xeb\\x93\\x9c\\xeb\\xa5\\xbc \\xed\\x95\\xb4\\xeb\\xb3\\xb4\\xec\\x9e\\x90</a>\\n        </h2>\\n      </li>\\n    \\n      <li>\\n        \\n        <span class=\"post-meta\">May 4, 2017</span>\\n\\n        <h2>\\n          <a class=\"post-link\" href=\"/blog/database/2017/05/04/how_to_use_mysqldump.html\">mysqldump\\xeb\\xa5\\xbc \\xec\\x9d\\xb4\\xec\\x9a\\xa9\\xed\\x95\\x98\\xec\\x97\\xac \\xeb\\x8d\\xb0\\xec\\x9d\\xb4\\xed\\x84\\xb0 \\xeb\\xb0\\xb1\\xec\\x97\\x85, \\xeb\\xb3\\xb5\\xec\\x9b\\x90\\xed\\x95\\x98\\xea\\xb8\\xb0</a>\\n        </h2>\\n      </li>\\n    \\n      <li>\\n        \\n        <span class=\"post-meta\">May 3, 2017</span>\\n\\n        <h2>\\n          <a class=\"post-link\" href=\"/blog/database/2017/05/03/abou_mysql_remote_connect.html\">mysql \\xec\\x9b\\x90\\xea\\xb2\\xa9\\xec\\xa0\\x91\\xec\\x86\\x8d\\xed\\x95\\x98\\xeb\\x8a\\x94 \\xeb\\xb0\\xa9\\xeb\\xb2\\x95</a>\\n        </h2>\\n      </li>\\n    \\n      <li>\\n        \\n        <span class=\"post-meta\">May 1, 2017</span>\\n\\n        <h2>\\n          <a class=\"post-link\" href=\"/blog/node.js/2017/05/01/file_convert2.html\">\\xed\\x8c\\x8c\\xec\\x9d\\xbc \\xeb\\xa6\\xac\\xeb\\x8d\\x94\\xea\\xb8\\xb0 \\xeb\\xa7\\x8c\\xeb\\x93\\xa4\\xea\\xb8\\xb0 - \\xec\\x82\\xac\\xec\\x9a\\xa9 \\xeb\\xaa\\xa8\\xeb\\x93\\x88 \\xec\\xa0\\x95\\xeb\\xa6\\xac, pdf\\xec\\x99\\x80 hwp \\xea\\xb5\\xac\\xec\\xa1\\xb0</a>\\n        </h2>\\n      </li>\\n    \\n      <li>\\n        \\n        <span class=\"post-meta\">Apr 30, 2017</span>\\n\\n        <h2>\\n          <a class=\"post-link\" href=\"/blog/node.js/2017/04/30/file_convert1.html\">\\xed\\x8c\\x8c\\xec\\x9d\\xbc \\xeb\\xa6\\xac\\xeb\\x8d\\x94\\xea\\xb8\\xb0 \\xeb\\xa7\\x8c\\xeb\\x93\\xa4\\xea\\xb8\\xb0 - pdf\\xeb\\xa5\\xbc html\\xeb\\xa1\\x9c \\xeb\\xb3\\x80\\xed\\x99\\x98, docx\\xeb\\xa5\\xbc pdf\\xeb\\xa1\\x9c \\xeb\\xb3\\x80\\xed\\x99\\x98</a>\\n        </h2>\\n      </li>\\n    \\n      <li>\\n        \\n        <span class=\"post-meta\">Apr 25, 2017</span>\\n\\n        <h2>\\n          <a class=\"post-link\" href=\"/blog/programming/2017/04/25/how_to_change_git_remote_origin.html\">git \\xec\\x9b\\x90\\xea\\xb2\\xa9 \\xec\\xa0\\x80\\xec\\x9e\\xa5\\xec\\x86\\x8c \\xeb\\xb0\\x94\\xea\\xbe\\xb8\\xea\\xb8\\xb0</a>\\n        </h2>\\n      </li>\\n    \\n      <li>\\n        \\n        <span class=\"post-meta\">Apr 25, 2017</span>\\n\\n        <h2>\\n          <a class=\"post-link\" href=\"/blog/programming/2017/04/25/how_to_change_working_directory_on_python.html\">python working directory\\xeb\\xa5\\xbc \\xeb\\xb0\\x94\\xea\\xbf\\x94\\xeb\\xb3\\xb4\\xec\\x9e\\x90</a>\\n        </h2>\\n      </li>\\n    \\n      <li>\\n        \\n        <span class=\"post-meta\">Apr 24, 2017</span>\\n\\n        <h2>\\n          <a class=\"post-link\" href=\"/blog/server/2017/04/24/docker_commends.html\">docker commends</a>\\n        </h2>\\n      </li>\\n    \\n      <li>\\n        \\n        <span class=\"post-meta\">Apr 24, 2017</span>\\n\\n        <h2>\\n          <a class=\"post-link\" href=\"/blog/programming/2017/04/24/utc_to_timestamp_change.html\">python utc\\xeb\\xa5\\xbc timestamp\\xeb\\xa1\\x9c \\xeb\\xb0\\x94\\xea\\xbe\\xb8\\xeb\\x8a\\x94 \\xeb\\xb0\\xa9\\xeb\\xb2\\x95</a>\\n        </h2>\\n      </li>\\n    \\n      <li>\\n        \\n        <span class=\"post-meta\">Apr 23, 2017</span>\\n\\n        <h2>\\n          <a class=\"post-link\" href=\"/blog/programming/2017/04/23/how_to_install_php_on_ubuntu.html\">ubuntu\\xec\\x97\\x90 php \\xea\\xb0\\x9c\\xeb\\xb0\\x9c\\xed\\x99\\x98\\xea\\xb2\\xbd \\xec\\x85\\x8b\\xed\\x8c\\x85</a>\\n        </h2>\\n      </li>\\n    \\n      <li>\\n        \\n        <span class=\"post-meta\">Apr 22, 2017</span>\\n\\n        <h2>\\n          <a class=\"post-link\" href=\"/blog/server/2017/04/22/how_to_use_azure.html\">azure-cli\\xeb\\xa5\\xbc \\xec\\x9d\\xb4\\xec\\x9a\\xa9\\xed\\x95\\x98\\xec\\x97\\xac azure \\xec\\x82\\xac\\xec\\x9a\\xa9\\xed\\x95\\x98\\xea\\xb8\\xb0</a>\\n        </h2>\\n      </li>\\n    \\n      <li>\\n        \\n        <span class=\"post-meta\">Apr 21, 2017</span>\\n\\n        <h2>\\n          <a class=\"post-link\" href=\"/blog/tools/2017/04/21/how_to_create_ssh_key.html\">ssh-keygen\\xec\\x9d\\x84 \\xec\\x9d\\xb4\\xec\\x9a\\xa9\\xed\\x95\\x9c ssh \\xed\\x82\\xa4 \\xed\\x8c\\x8c\\xec\\x9d\\xbc \\xec\\x83\\x9d\\xec\\x84\\xb1</a>\\n        </h2>\\n      </li>\\n    \\n      <li>\\n        \\n        <span class=\"post-meta\">Apr 19, 2017</span>\\n\\n        <h2>\\n          <a class=\"post-link\" href=\"/blog/programming/2017/04/19/python_generator.html\">\\xec\\xa0\\x9c\\xeb\\x84\\x88\\xeb\\xa0\\x88\\xec\\x9d\\xb4\\xed\\x84\\xb0(generator)\\xeb\\xa5\\xbc \\xed\\x99\\x9c\\xec\\x9a\\xa9\\xed\\x95\\x9c \\xed\\x9a\\xa8\\xec\\x9c\\xa8\\xec\\xa0\\x81\\xec\\x9d\\xb8 \\xec\\xbd\\x94\\xeb\\x93\\x9c\\xec\\x9e\\x91\\xec\\x84\\xb1</a>\\n        </h2>\\n      </li>\\n    \\n      <li>\\n        \\n        <span class=\"post-meta\">Apr 15, 2017</span>\\n\\n        <h2>\\n          <a class=\"post-link\" href=\"/blog/node.js/2017/04/15/for_jade_template_engine.html\">Jade Template Engine\\xec\\x9d\\x84 \\xed\\x99\\x9c\\xec\\x9a\\xa9\\xed\\x95\\x9c \\xed\\x9a\\xa8\\xec\\x9c\\xa8\\xec\\xa0\\x81 \\xea\\xb4\\x80\\xeb\\xa6\\xac</a>\\n        </h2>\\n      </li>\\n    \\n      <li>\\n        \\n        <span class=\"post-meta\">Apr 12, 2017</span>\\n\\n        <h2>\\n          <a class=\"post-link\" href=\"/blog/tools/2017/04/12/vimrc_auto_setting.html\">vim \\xea\\xb0\\x81\\xec\\xa2\\x85 \\xec\\x84\\xa4\\xec\\xa0\\x95\\xeb\\x93\\xa4\\xeb\\xa1\\x9c \\xeb\\xb6\\x80\\xed\\x84\\xb0 \\xea\\xb7\\x80\\xec\\xb0\\xa8\\xeb\\x8b\\x88\\xec\\xa6\\x98\\xec\\x9d\\x84 \\xeb\\xb2\\x97\\xec\\x96\\xb4\\xeb\\x82\\x98\\xec\\x9e\\x90</a>\\n        </h2>\\n      </li>\\n    \\n      <li>\\n        \\n        <span class=\"post-meta\">Apr 9, 2017</span>\\n\\n        <h2>\\n          <a class=\"post-link\" href=\"/blog/node.js/2017/04/09/sequelize_migrations.html\">sequelize - Migrations[\\xeb\\xb2\\x88\\xec\\x97\\xad]</a>\\n        </h2>\\n      </li>\\n    \\n      <li>\\n        \\n        <span class=\"post-meta\">Apr 9, 2017</span>\\n\\n        <h2>\\n          <a class=\"post-link\" href=\"/blog/node.js/2017/04/09/sequelize_usage.html\">sequelize - Usage[\\xeb\\xb2\\x88\\xec\\x97\\xad]</a>\\n        </h2>\\n      </li>\\n    \\n      <li>\\n        \\n        <span class=\"post-meta\">Apr 9, 2017</span>\\n\\n        <h2>\\n          <a class=\"post-link\" href=\"/blog/node.js/2017/04/09/sequelize_hooks.html\">sequelize - Hooks[\\xeb\\xb2\\x88\\xec\\x97\\xad]</a>\\n        </h2>\\n      </li>\\n    \\n      <li>\\n        \\n        <span class=\"post-meta\">Apr 9, 2017</span>\\n\\n        <h2>\\n          <a class=\"post-link\" href=\"/blog/node.js/2017/04/09/sequelize_querying.html\">sequelize - Querying[\\xeb\\xb2\\x88\\xec\\x97\\xad]</a>\\n        </h2>\\n      </li>\\n    \\n      <li>\\n        \\n        <span class=\"post-meta\">Apr 9, 2017</span>\\n\\n        <h2>\\n          <a class=\"post-link\" href=\"/blog/node.js/2017/04/09/sequelize_working_with_legacy_tables.html\">sequelize - Working With Legacy Tables[\\xeb\\xb2\\x88\\xec\\x97\\xad]</a>\\n        </h2>\\n      </li>\\n    \\n      <li>\\n        \\n        <span class=\"post-meta\">Apr 9, 2017</span>\\n\\n        <h2>\\n          <a class=\"post-link\" href=\"/blog/node.js/2017/04/09/sequelize_Getting_Started_translation.html\">sequelize - Getting Started[\\xeb\\xb2\\x88\\xec\\x97\\xad]</a>\\n        </h2>\\n      </li>\\n    \\n      <li>\\n        \\n        <span class=\"post-meta\">Apr 9, 2017</span>\\n\\n        <h2>\\n          <a class=\"post-link\" href=\"/blog/node.js/2017/04/09/sequelize_home.html\">sequelize - Home[\\xeb\\xb2\\x88\\xec\\x97\\xad]</a>\\n        </h2>\\n      </li>\\n    \\n      <li>\\n        \\n        <span class=\"post-meta\">Apr 8, 2017</span>\\n\\n        <h2>\\n          <a class=\"post-link\" href=\"/blog/machine-learning/2017/04/08/Classification_Using_NaiveBayes.html\">Classification using Naive Bayes</a>\\n        </h2>\\n      </li>\\n    \\n      <li>\\n        \\n        <span class=\"post-meta\">Apr 8, 2017</span>\\n\\n        <h2>\\n          <a class=\"post-link\" href=\"/blog/framework/2017/04/08/aiohttp_struct.html\">Structure aiohttp Of python</a>\\n        </h2>\\n      </li>\\n    \\n      <li>\\n        \\n        <span class=\"post-meta\">Apr 8, 2017</span>\\n\\n        <h2>\\n          <a class=\"post-link\" href=\"/blog/framework/2017/04/08/express_struct.html\">Structure Express Of Node</a>\\n        </h2>\\n      </li>\\n    \\n      <li>\\n        \\n        <span class=\"post-meta\">Apr 8, 2017</span>\\n\\n        <h2>\\n          <a class=\"post-link\" href=\"/blog/programming/2017/04/08/sync_async_and_promise.html\">Javascript Asynchronous, synchronous and Promise</a>\\n        </h2>\\n      </li>\\n    \\n      <li>\\n        \\n        <span class=\"post-meta\">Apr 6, 2017</span>\\n\\n        <h2>\\n          <a class=\"post-link\" href=\"/blog/database/2017/04/06/about-database.html\">RDBMS vs NoSQL vs InMemory</a>\\n        </h2>\\n      </li>\\n    \\n      <li>\\n        \\n        <span class=\"post-meta\">Apr 5, 2017</span>\\n\\n        <h2>\\n          <a class=\"post-link\" href=\"/blog/news/2017/04/05/django_111_release.html\">Django 1.11 Release</a>\\n        </h2>\\n      </li>\\n    \\n      <li>\\n        \\n        <span class=\"post-meta\">Apr 4, 2017</span>\\n\\n        <h2>\\n          <a class=\"post-link\" href=\"/blog/programming/2017/04/04/javascript-arrow-function_AND_array.prototype_COMBINATE.html\">javascript arrow function\\xea\\xb3\\xbc array.prototype\\xec\\x9d\\x98 \\xec\\xa1\\xb0\\xed\\x95\\xa9</a>\\n        </h2>\\n      </li>\\n    \\n      <li>\\n        \\n        <span class=\"post-meta\">Apr 4, 2017</span>\\n\\n        <h2>\\n          <a class=\"post-link\" href=\"/blog/intro/2017/04/04/welcome-to-jekyll.html\">Welcome to mung</a>\\n        </h2>\\n      </li>\\n    \\n  </ul>\\n\\n  <p class=\"rss-subscribe\">subscribe <a href=\"/feed.xml\">via RSS</a></p>\\n\\n</div>\\n\\n      </div>\\n    </main>\\n\\n    <footer class=\"site-footer\">\\n\\n  <div class=\"wrapper\">\\n\\n    <h2 class=\"footer-heading\">Home</h2>\\n\\n    <div class=\"footer-col-wrapper\">\\n      <div class=\"footer-col footer-col-1\">\\n        <ul class=\"contact-list\">\\n          <li>\\n            \\n              Home\\n            \\n            </li>\\n            \\n            <li><a href=\"mailto:pjt3591oo@gmail.com\">pjt3591oo@gmail.com</a></li>\\n            \\n        </ul>\\n      </div>\\n\\n      <div class=\"footer-col footer-col-2\">\\n        <ul class=\"social-media-list\">\\n          \\n          <li>\\n            <a href=\"https://github.com/jekyll\"><span class=\"icon icon--github\"><svg viewBox=\"0 0 16 16\" width=\"16px\" height=\"16px\"><path fill=\"#828282\" d=\"M7.999,0.431c-4.285,0-7.76,3.474-7.76,7.761 c0,3.428,2.223,6.337,5.307,7.363c0.388,0.071,0.53-0.168,0.53-0.374c0-0.184-0.007-0.672-0.01-1.32 c-2.159,0.469-2.614-1.04-2.614-1.04c-0.353-0.896-0.862-1.135-0.862-1.135c-0.705-0.481,0.053-0.472,0.053-0.472 c0.779,0.055,1.189,0.8,1.189,0.8c0.692,1.186,1.816,0.843,2.258,0.645c0.071-0.502,0.271-0.843,0.493-1.037 C4.86,11.425,3.049,10.76,3.049,7.786c0-0.847,0.302-1.54,0.799-2.082C3.768,5.507,3.501,4.718,3.924,3.65 c0,0,0.652-0.209,2.134,0.796C6.677,4.273,7.34,4.187,8,4.184c0.659,0.003,1.323,0.089,1.943,0.261 c1.482-1.004,2.132-0.796,2.132-0.796c0.423,1.068,0.157,1.857,0.077,2.054c0.497,0.542,0.798,1.235,0.798,2.082 c0,2.981-1.814,3.637-3.543,3.829c0.279,0.24,0.527,0.713,0.527,1.437c0,1.037-0.01,1.874-0.01,2.129 c0,0.208,0.14,0.449,0.534,0.373c3.081-1.028,5.302-3.935,5.302-7.362C15.76,3.906,12.285,0.431,7.999,0.431z\"/></svg>\\n</span><span class=\"username\">jekyll</span></a>\\n\\n          </li>\\n          \\n\\n          \\n          <li>\\n            <a href=\"https://twitter.com/jekyllrb\"><span class=\"icon icon--twitter\"><svg viewBox=\"0 0 16 16\" width=\"16px\" height=\"16px\"><path fill=\"#828282\" d=\"M15.969,3.058c-0.586,0.26-1.217,0.436-1.878,0.515c0.675-0.405,1.194-1.045,1.438-1.809c-0.632,0.375-1.332,0.647-2.076,0.793c-0.596-0.636-1.446-1.033-2.387-1.033c-1.806,0-3.27,1.464-3.27,3.27 c0,0.256,0.029,0.506,0.085,0.745C5.163,5.404,2.753,4.102,1.14,2.124C0.859,2.607,0.698,3.168,0.698,3.767 c0,1.134,0.577,2.135,1.455,2.722C1.616,6.472,1.112,6.325,0.671,6.08c0,0.014,0,0.027,0,0.041c0,1.584,1.127,2.906,2.623,3.206 C3.02,9.402,2.731,9.442,2.433,9.442c-0.211,0-0.416-0.021-0.615-0.059c0.416,1.299,1.624,2.245,3.055,2.271 c-1.119,0.877-2.529,1.4-4.061,1.4c-0.264,0-0.524-0.015-0.78-0.046c1.447,0.928,3.166,1.469,5.013,1.469 c6.015,0,9.304-4.983,9.304-9.304c0-0.142-0.003-0.283-0.009-0.423C14.976,4.29,15.531,3.714,15.969,3.058z\"/></svg>\\n</span><span class=\"username\">jekyllrb</span></a>\\n\\n          </li>\\n          \\n        </ul>\\n      </div>\\n\\n      <div class=\"footer-col footer-col-3\">\\n        <p>\\xeb\\xa9\\x8d\\xea\\xb0\\x9c\\xec\\x9d\\x98 \\xea\\xb0\\x9c\\xeb\\xb0\\x9c \\xeb\\xb8\\x94\\xeb\\xa1\\x9c\\xea\\xb7\\xb8\\xec\\x9e\\x85\\xeb\\x8b\\x88\\xeb\\x8b\\xa4. \\xea\\xb6\\x81\\xea\\xb8\\x88\\xed\\x95\\x98\\xec\\x8b\\xa0 \\xec\\x82\\xac\\xed\\x95\\xad \\xed\\x98\\xb9\\xec\\x9d\\x80 \\xec\\xa0\\x84\\xeb\\x8b\\xac\\xed\\x95\\x98\\xea\\xb3\\xa0 \\xec\\x8b\\xb6\\xec\\x9d\\x80 \\xeb\\x82\\xb4\\xec\\x9a\\xa9\\xec\\x9d\\xb4 \\xec\\x9e\\x88\\xec\\x9c\\xbc\\xec\\x8b\\x9c\\xeb\\xa9\\xb4 \\xeb\\xa9\\x94\\xec\\x9d\\xbc\\xeb\\xa1\\x9c \\xeb\\xac\\xb8\\xec\\x9d\\x98 \\xec\\xa3\\xbc\\xec\\x84\\xb8\\xec\\x9a\\x94.\\n</p>\\n      </div>\\n    </div>\\n\\n  </div>\\n\\n</footer>\\n\\n\\n  </body>\\n\\n</html>\\n'\n"
     ]
    }
   ],
   "source": [
    "from urllib.request import urlopen, Request\n",
    "\n",
    "url = 'https://pjt3591oo.github.io/'\n",
    "\n",
    "req = Request(url)\n",
    "page = urlopen(req)\n",
    "\n",
    "print(page)\n",
    "print(page.read())"
   ]
  },
  {
   "cell_type": "markdown",
   "metadata": {},
   "source": [
    "### 6-31 데이터 요청\n",
    ">* urllib는 requests()함수를 이용하여 요청객체를 만들때 두번째 인자에는 data, 세번째 인자에는 header가 들어감. \n",
    ">* 만약 두번째 인자 값이 존재한다면 post요청, 존재 안하면 get(get 요청일 때는 두번째 인자에 none을 넣거나 넣지 않으면 됨)\n",
    ">* data를 만들때는 encode() 함수를 바이너리 형태로 인코딩하여 보내야 함. "
   ]
  },
  {
   "cell_type": "code",
   "execution_count": 50,
   "metadata": {},
   "outputs": [
    {
     "name": "stdout",
     "output_type": "stream",
     "text": [
      "b'key1=value1&key2=value2'\n",
      "<http.client.HTTPResponse object at 0x00000244CED5FDC8>\n",
      "https://blog.naver.com/pjt3591oo\n",
      "<http.client.HTTPResponse object at 0x00000244CF08DE88>\n",
      "https://blog.naver.com/pjt3591oo?key1=value1&key2&value2\n"
     ]
    }
   ],
   "source": [
    "from urllib.request import urlopen, Request\n",
    "import urllib\n",
    "\n",
    "url = 'http://blog.naver.com/pjt3591oo'\n",
    "\n",
    "# post 요청시 보낼 데이터 만들기\n",
    "data = {'key1':'value1','key2':'value2'}\n",
    "data = urllib.parse.urlencode(data) # 딕셔너리를 쿼리스트링의 형태로 바꿔줌\n",
    "data = data.encode('utf-8') # 쿼리스트링 처럼 표현된 문자열을 utf-8로 인코딩하여 바이너리 형태로 바꿔줌\n",
    "\n",
    "print(data)\n",
    "\n",
    "#post 요청\n",
    "req_post = Request(url, data=data, headers={}) #2번째 인자 데이터, 세번째 인자 헤더\n",
    "page =  urlopen(req_post)\n",
    "\n",
    "print(page)\n",
    "print(page.url)\n",
    "\n",
    "# get요청\n",
    "req_get = Request(url+\"?key1=value1&key2&value2\", None, headers={}) #2번째 인자 데이터, 세번쨰 인자 헤더\n",
    "page = urlopen(req_get)\n",
    "\n",
    "print(page)\n",
    "print(page.url)"
   ]
  },
  {
   "cell_type": "markdown",
   "metadata": {},
   "source": [
    "### 6-32 없는 페이지 요청\n",
    ">* urllib는 requests와 다르게 잘못된 페이지 요청시 에러를 띄어줌"
   ]
  },
  {
   "cell_type": "code",
   "execution_count": 52,
   "metadata": {
    "collapsed": true
   },
   "outputs": [
    {
     "ename": "HTTPError",
     "evalue": "HTTP Error 404: Not Found",
     "output_type": "error",
     "traceback": [
      "\u001b[1;31m---------------------------------------------------------------------------\u001b[0m",
      "\u001b[1;31mHTTPError\u001b[0m                                 Traceback (most recent call last)",
      "\u001b[1;32m<ipython-input-52-628e857f21c4>\u001b[0m in \u001b[0;36m<module>\u001b[1;34m\u001b[0m\n\u001b[0;32m      4\u001b[0m \u001b[1;33m\u001b[0m\u001b[0m\n\u001b[0;32m      5\u001b[0m \u001b[0mreq_post\u001b[0m \u001b[1;33m=\u001b[0m \u001b[0mRequest\u001b[0m\u001b[1;33m(\u001b[0m\u001b[0murl\u001b[0m\u001b[1;33m)\u001b[0m\u001b[1;33m\u001b[0m\u001b[1;33m\u001b[0m\u001b[0m\n\u001b[1;32m----> 6\u001b[1;33m \u001b[0mpage\u001b[0m \u001b[1;33m=\u001b[0m \u001b[0murlopen\u001b[0m\u001b[1;33m(\u001b[0m\u001b[0mreq_post\u001b[0m\u001b[1;33m)\u001b[0m\u001b[1;33m\u001b[0m\u001b[1;33m\u001b[0m\u001b[0m\n\u001b[0m\u001b[0;32m      7\u001b[0m \u001b[1;33m\u001b[0m\u001b[0m\n\u001b[0;32m      8\u001b[0m \u001b[0mprint\u001b[0m\u001b[1;33m(\u001b[0m\u001b[0mpage\u001b[0m\u001b[1;33m)\u001b[0m\u001b[1;33m\u001b[0m\u001b[1;33m\u001b[0m\u001b[0m\n",
      "\u001b[1;32mD:\\anaconda\\envs\\study\\lib\\urllib\\request.py\u001b[0m in \u001b[0;36murlopen\u001b[1;34m(url, data, timeout, cafile, capath, cadefault, context)\u001b[0m\n\u001b[0;32m    220\u001b[0m     \u001b[1;32melse\u001b[0m\u001b[1;33m:\u001b[0m\u001b[1;33m\u001b[0m\u001b[1;33m\u001b[0m\u001b[0m\n\u001b[0;32m    221\u001b[0m         \u001b[0mopener\u001b[0m \u001b[1;33m=\u001b[0m \u001b[0m_opener\u001b[0m\u001b[1;33m\u001b[0m\u001b[1;33m\u001b[0m\u001b[0m\n\u001b[1;32m--> 222\u001b[1;33m     \u001b[1;32mreturn\u001b[0m \u001b[0mopener\u001b[0m\u001b[1;33m.\u001b[0m\u001b[0mopen\u001b[0m\u001b[1;33m(\u001b[0m\u001b[0murl\u001b[0m\u001b[1;33m,\u001b[0m \u001b[0mdata\u001b[0m\u001b[1;33m,\u001b[0m \u001b[0mtimeout\u001b[0m\u001b[1;33m)\u001b[0m\u001b[1;33m\u001b[0m\u001b[1;33m\u001b[0m\u001b[0m\n\u001b[0m\u001b[0;32m    223\u001b[0m \u001b[1;33m\u001b[0m\u001b[0m\n\u001b[0;32m    224\u001b[0m \u001b[1;32mdef\u001b[0m \u001b[0minstall_opener\u001b[0m\u001b[1;33m(\u001b[0m\u001b[0mopener\u001b[0m\u001b[1;33m)\u001b[0m\u001b[1;33m:\u001b[0m\u001b[1;33m\u001b[0m\u001b[1;33m\u001b[0m\u001b[0m\n",
      "\u001b[1;32mD:\\anaconda\\envs\\study\\lib\\urllib\\request.py\u001b[0m in \u001b[0;36mopen\u001b[1;34m(self, fullurl, data, timeout)\u001b[0m\n\u001b[0;32m    529\u001b[0m         \u001b[1;32mfor\u001b[0m \u001b[0mprocessor\u001b[0m \u001b[1;32min\u001b[0m \u001b[0mself\u001b[0m\u001b[1;33m.\u001b[0m\u001b[0mprocess_response\u001b[0m\u001b[1;33m.\u001b[0m\u001b[0mget\u001b[0m\u001b[1;33m(\u001b[0m\u001b[0mprotocol\u001b[0m\u001b[1;33m,\u001b[0m \u001b[1;33m[\u001b[0m\u001b[1;33m]\u001b[0m\u001b[1;33m)\u001b[0m\u001b[1;33m:\u001b[0m\u001b[1;33m\u001b[0m\u001b[1;33m\u001b[0m\u001b[0m\n\u001b[0;32m    530\u001b[0m             \u001b[0mmeth\u001b[0m \u001b[1;33m=\u001b[0m \u001b[0mgetattr\u001b[0m\u001b[1;33m(\u001b[0m\u001b[0mprocessor\u001b[0m\u001b[1;33m,\u001b[0m \u001b[0mmeth_name\u001b[0m\u001b[1;33m)\u001b[0m\u001b[1;33m\u001b[0m\u001b[1;33m\u001b[0m\u001b[0m\n\u001b[1;32m--> 531\u001b[1;33m             \u001b[0mresponse\u001b[0m \u001b[1;33m=\u001b[0m \u001b[0mmeth\u001b[0m\u001b[1;33m(\u001b[0m\u001b[0mreq\u001b[0m\u001b[1;33m,\u001b[0m \u001b[0mresponse\u001b[0m\u001b[1;33m)\u001b[0m\u001b[1;33m\u001b[0m\u001b[1;33m\u001b[0m\u001b[0m\n\u001b[0m\u001b[0;32m    532\u001b[0m \u001b[1;33m\u001b[0m\u001b[0m\n\u001b[0;32m    533\u001b[0m         \u001b[1;32mreturn\u001b[0m \u001b[0mresponse\u001b[0m\u001b[1;33m\u001b[0m\u001b[1;33m\u001b[0m\u001b[0m\n",
      "\u001b[1;32mD:\\anaconda\\envs\\study\\lib\\urllib\\request.py\u001b[0m in \u001b[0;36mhttp_response\u001b[1;34m(self, request, response)\u001b[0m\n\u001b[0;32m    639\u001b[0m         \u001b[1;32mif\u001b[0m \u001b[1;32mnot\u001b[0m \u001b[1;33m(\u001b[0m\u001b[1;36m200\u001b[0m \u001b[1;33m<=\u001b[0m \u001b[0mcode\u001b[0m \u001b[1;33m<\u001b[0m \u001b[1;36m300\u001b[0m\u001b[1;33m)\u001b[0m\u001b[1;33m:\u001b[0m\u001b[1;33m\u001b[0m\u001b[1;33m\u001b[0m\u001b[0m\n\u001b[0;32m    640\u001b[0m             response = self.parent.error(\n\u001b[1;32m--> 641\u001b[1;33m                 'http', request, response, code, msg, hdrs)\n\u001b[0m\u001b[0;32m    642\u001b[0m \u001b[1;33m\u001b[0m\u001b[0m\n\u001b[0;32m    643\u001b[0m         \u001b[1;32mreturn\u001b[0m \u001b[0mresponse\u001b[0m\u001b[1;33m\u001b[0m\u001b[1;33m\u001b[0m\u001b[0m\n",
      "\u001b[1;32mD:\\anaconda\\envs\\study\\lib\\urllib\\request.py\u001b[0m in \u001b[0;36merror\u001b[1;34m(self, proto, *args)\u001b[0m\n\u001b[0;32m    567\u001b[0m         \u001b[1;32mif\u001b[0m \u001b[0mhttp_err\u001b[0m\u001b[1;33m:\u001b[0m\u001b[1;33m\u001b[0m\u001b[1;33m\u001b[0m\u001b[0m\n\u001b[0;32m    568\u001b[0m             \u001b[0margs\u001b[0m \u001b[1;33m=\u001b[0m \u001b[1;33m(\u001b[0m\u001b[0mdict\u001b[0m\u001b[1;33m,\u001b[0m \u001b[1;34m'default'\u001b[0m\u001b[1;33m,\u001b[0m \u001b[1;34m'http_error_default'\u001b[0m\u001b[1;33m)\u001b[0m \u001b[1;33m+\u001b[0m \u001b[0morig_args\u001b[0m\u001b[1;33m\u001b[0m\u001b[1;33m\u001b[0m\u001b[0m\n\u001b[1;32m--> 569\u001b[1;33m             \u001b[1;32mreturn\u001b[0m \u001b[0mself\u001b[0m\u001b[1;33m.\u001b[0m\u001b[0m_call_chain\u001b[0m\u001b[1;33m(\u001b[0m\u001b[1;33m*\u001b[0m\u001b[0margs\u001b[0m\u001b[1;33m)\u001b[0m\u001b[1;33m\u001b[0m\u001b[1;33m\u001b[0m\u001b[0m\n\u001b[0m\u001b[0;32m    570\u001b[0m \u001b[1;33m\u001b[0m\u001b[0m\n\u001b[0;32m    571\u001b[0m \u001b[1;31m# XXX probably also want an abstract factory that knows when it makes\u001b[0m\u001b[1;33m\u001b[0m\u001b[1;33m\u001b[0m\u001b[1;33m\u001b[0m\u001b[0m\n",
      "\u001b[1;32mD:\\anaconda\\envs\\study\\lib\\urllib\\request.py\u001b[0m in \u001b[0;36m_call_chain\u001b[1;34m(self, chain, kind, meth_name, *args)\u001b[0m\n\u001b[0;32m    501\u001b[0m         \u001b[1;32mfor\u001b[0m \u001b[0mhandler\u001b[0m \u001b[1;32min\u001b[0m \u001b[0mhandlers\u001b[0m\u001b[1;33m:\u001b[0m\u001b[1;33m\u001b[0m\u001b[1;33m\u001b[0m\u001b[0m\n\u001b[0;32m    502\u001b[0m             \u001b[0mfunc\u001b[0m \u001b[1;33m=\u001b[0m \u001b[0mgetattr\u001b[0m\u001b[1;33m(\u001b[0m\u001b[0mhandler\u001b[0m\u001b[1;33m,\u001b[0m \u001b[0mmeth_name\u001b[0m\u001b[1;33m)\u001b[0m\u001b[1;33m\u001b[0m\u001b[1;33m\u001b[0m\u001b[0m\n\u001b[1;32m--> 503\u001b[1;33m             \u001b[0mresult\u001b[0m \u001b[1;33m=\u001b[0m \u001b[0mfunc\u001b[0m\u001b[1;33m(\u001b[0m\u001b[1;33m*\u001b[0m\u001b[0margs\u001b[0m\u001b[1;33m)\u001b[0m\u001b[1;33m\u001b[0m\u001b[1;33m\u001b[0m\u001b[0m\n\u001b[0m\u001b[0;32m    504\u001b[0m             \u001b[1;32mif\u001b[0m \u001b[0mresult\u001b[0m \u001b[1;32mis\u001b[0m \u001b[1;32mnot\u001b[0m \u001b[1;32mNone\u001b[0m\u001b[1;33m:\u001b[0m\u001b[1;33m\u001b[0m\u001b[1;33m\u001b[0m\u001b[0m\n\u001b[0;32m    505\u001b[0m                 \u001b[1;32mreturn\u001b[0m \u001b[0mresult\u001b[0m\u001b[1;33m\u001b[0m\u001b[1;33m\u001b[0m\u001b[0m\n",
      "\u001b[1;32mD:\\anaconda\\envs\\study\\lib\\urllib\\request.py\u001b[0m in \u001b[0;36mhttp_error_default\u001b[1;34m(self, req, fp, code, msg, hdrs)\u001b[0m\n\u001b[0;32m    647\u001b[0m \u001b[1;32mclass\u001b[0m \u001b[0mHTTPDefaultErrorHandler\u001b[0m\u001b[1;33m(\u001b[0m\u001b[0mBaseHandler\u001b[0m\u001b[1;33m)\u001b[0m\u001b[1;33m:\u001b[0m\u001b[1;33m\u001b[0m\u001b[1;33m\u001b[0m\u001b[0m\n\u001b[0;32m    648\u001b[0m     \u001b[1;32mdef\u001b[0m \u001b[0mhttp_error_default\u001b[0m\u001b[1;33m(\u001b[0m\u001b[0mself\u001b[0m\u001b[1;33m,\u001b[0m \u001b[0mreq\u001b[0m\u001b[1;33m,\u001b[0m \u001b[0mfp\u001b[0m\u001b[1;33m,\u001b[0m \u001b[0mcode\u001b[0m\u001b[1;33m,\u001b[0m \u001b[0mmsg\u001b[0m\u001b[1;33m,\u001b[0m \u001b[0mhdrs\u001b[0m\u001b[1;33m)\u001b[0m\u001b[1;33m:\u001b[0m\u001b[1;33m\u001b[0m\u001b[1;33m\u001b[0m\u001b[0m\n\u001b[1;32m--> 649\u001b[1;33m         \u001b[1;32mraise\u001b[0m \u001b[0mHTTPError\u001b[0m\u001b[1;33m(\u001b[0m\u001b[0mreq\u001b[0m\u001b[1;33m.\u001b[0m\u001b[0mfull_url\u001b[0m\u001b[1;33m,\u001b[0m \u001b[0mcode\u001b[0m\u001b[1;33m,\u001b[0m \u001b[0mmsg\u001b[0m\u001b[1;33m,\u001b[0m \u001b[0mhdrs\u001b[0m\u001b[1;33m,\u001b[0m \u001b[0mfp\u001b[0m\u001b[1;33m)\u001b[0m\u001b[1;33m\u001b[0m\u001b[1;33m\u001b[0m\u001b[0m\n\u001b[0m\u001b[0;32m    650\u001b[0m \u001b[1;33m\u001b[0m\u001b[0m\n\u001b[0;32m    651\u001b[0m \u001b[1;32mclass\u001b[0m \u001b[0mHTTPRedirectHandler\u001b[0m\u001b[1;33m(\u001b[0m\u001b[0mBaseHandler\u001b[0m\u001b[1;33m)\u001b[0m\u001b[1;33m:\u001b[0m\u001b[1;33m\u001b[0m\u001b[1;33m\u001b[0m\u001b[0m\n",
      "\u001b[1;31mHTTPError\u001b[0m: HTTP Error 404: Not Found"
     ]
    }
   ],
   "source": [
    "from urllib.request import urlopen, Request\n",
    "\n",
    "url = \"https://pjt3591oo.github.io/1\"\n",
    "\n",
    "req_post = Request(url)\n",
    "page = urlopen(req_post)\n",
    "\n",
    "print(page)\n",
    "print(page.url)"
   ]
  },
  {
   "cell_type": "markdown",
   "metadata": {},
   "source": [
    "### 6-33 bs4 import"
   ]
  },
  {
   "cell_type": "code",
   "execution_count": 58,
   "metadata": {},
   "outputs": [],
   "source": [
    "import bs4"
   ]
  },
  {
   "cell_type": "markdown",
   "metadata": {},
   "source": [
    "### 6-34 bs4 사용하기\n",
    ">* Beautifulsoup() 함수를 사용하여 문자열을 파이썬에서 사용가능한 객체로 만들어 줌"
   ]
  },
  {
   "cell_type": "code",
   "execution_count": 61,
   "metadata": {},
   "outputs": [],
   "source": [
    "import bs4 \n",
    "html = \"\"\"\"\"\"\n",
    "\n",
    "soup = bs4.BeautifulSoup(html)"
   ]
  },
  {
   "cell_type": "markdown",
   "metadata": {},
   "source": [
    "### 6-35 파서 선택\n",
    ">* BeautifulSoup(파이써 객체로 바꿀 스트링, 파서)\n",
    ">* 파서란 원시코드인 순수문자열 객체를 해석할 수 있도록 분석하는 것으로, 파이썬에서는 lxml/ html5lib/ html.parser 가 있음\n",
    ">* lxml은 xml 해석이 가능한 파서로, 파이썬 2.x와 3.x 모두 지원, 다른 파서에 비해 빠른 처리 가능, 그이유는 c로 구성되어 있기 때문\n",
    ">* html5lib는 웹 브라우저 방식으호 html을 해석, 하지만 처리 속도가 매우 느림, 그리고 2.x 버전 (아 그래서 내꺼에서 안되는구나)\n",
    ">* html.parser는 최신 버전의 파이썬 에서 사용 불가능"
   ]
  },
  {
   "cell_type": "code",
   "execution_count": 63,
   "metadata": {},
   "outputs": [],
   "source": [
    "import bs4 \n",
    "html = \"\"\"\"\"\"\n",
    "\n",
    "soup = bs4.BeautifulSoup(html, 'lxml')"
   ]
  },
  {
   "cell_type": "markdown",
   "metadata": {},
   "source": [
    "### 6-36 bs4 편리한 사용"
   ]
  },
  {
   "cell_type": "code",
   "execution_count": 66,
   "metadata": {},
   "outputs": [],
   "source": [
    "from bs4 import BeautifulSoup\n",
    "html = \"\"\"\"\"\"\n",
    "\n",
    "soup = BeautifulSoup(html, 'lxml')"
   ]
  },
  {
   "cell_type": "markdown",
   "metadata": {},
   "source": [
    "### 6-37 웹 브라우저 띄우기"
   ]
  },
  {
   "cell_type": "code",
   "execution_count": 70,
   "metadata": {},
   "outputs": [],
   "source": [
    "from selenium import webdriver\n",
    "\n",
    "driver = webdriver.Chrome('chromedriver') #윈도우용은 .exe 가 붙어 있음"
   ]
  },
  {
   "cell_type": "markdown",
   "metadata": {},
   "source": [
    "### 6-38 웹 드라이버를 잘못 명시할 경우 \n",
    ">*  해당 웹드라이버를 설치할 수 있는 사이트 띄움"
   ]
  },
  {
   "cell_type": "code",
   "execution_count": 71,
   "metadata": {},
   "outputs": [
    {
     "ename": "AttributeError",
     "evalue": "module 'selenium.webdriver' has no attribute 'le'",
     "output_type": "error",
     "traceback": [
      "\u001b[1;31m---------------------------------------------------------------------------\u001b[0m",
      "\u001b[1;31mAttributeError\u001b[0m                            Traceback (most recent call last)",
      "\u001b[1;32m<ipython-input-71-5296f93b5160>\u001b[0m in \u001b[0;36m<module>\u001b[1;34m\u001b[0m\n\u001b[0;32m      1\u001b[0m \u001b[1;32mfrom\u001b[0m \u001b[0mselenium\u001b[0m \u001b[1;32mimport\u001b[0m \u001b[0mwebdriver\u001b[0m\u001b[1;33m\u001b[0m\u001b[1;33m\u001b[0m\u001b[0m\n\u001b[0;32m      2\u001b[0m \u001b[1;33m\u001b[0m\u001b[0m\n\u001b[1;32m----> 3\u001b[1;33m \u001b[0mdriver\u001b[0m \u001b[1;33m=\u001b[0m \u001b[0mwebdriver\u001b[0m\u001b[1;33m.\u001b[0m\u001b[0mle\u001b[0m\u001b[1;33m(\u001b[0m\u001b[1;34m'chromedriver.exe'\u001b[0m\u001b[1;33m)\u001b[0m\u001b[1;33m\u001b[0m\u001b[1;33m\u001b[0m\u001b[0m\n\u001b[0m",
      "\u001b[1;31mAttributeError\u001b[0m: module 'selenium.webdriver' has no attribute 'le'"
     ]
    }
   ],
   "source": [
    "from selenium import webdriver\n",
    "\n",
    "driver = webdriver.le('chromedriver.exe')"
   ]
  },
  {
   "cell_type": "markdown",
   "metadata": {},
   "source": [
    "### 6-39 웹드라이버를 명시하지 않을 경우\n",
    ">* 6-38과 같은 에러가 발생할 수도 있고 실행 될수도 있기때문에 정확하게 웹드라이버 명시해주는게 좋다."
   ]
  },
  {
   "cell_type": "code",
   "execution_count": 73,
   "metadata": {
    "collapsed": true
   },
   "outputs": [
    {
     "ename": "WebDriverException",
     "evalue": "Message: 'IEDriverServer.exe' executable needs to be in PATH. Please download from http://selenium-release.storage.googleapis.com/index.html and read up at https://github.com/SeleniumHQ/selenium/wiki/InternetExplorerDriver\n",
     "output_type": "error",
     "traceback": [
      "\u001b[1;31m---------------------------------------------------------------------------\u001b[0m",
      "\u001b[1;31mFileNotFoundError\u001b[0m                         Traceback (most recent call last)",
      "\u001b[1;32mD:\\anaconda\\envs\\study\\lib\\site-packages\\selenium\\webdriver\\common\\service.py\u001b[0m in \u001b[0;36mstart\u001b[1;34m(self)\u001b[0m\n\u001b[0;32m     75\u001b[0m                                             \u001b[0mstderr\u001b[0m\u001b[1;33m=\u001b[0m\u001b[0mself\u001b[0m\u001b[1;33m.\u001b[0m\u001b[0mlog_file\u001b[0m\u001b[1;33m,\u001b[0m\u001b[1;33m\u001b[0m\u001b[1;33m\u001b[0m\u001b[0m\n\u001b[1;32m---> 76\u001b[1;33m                                             stdin=PIPE)\n\u001b[0m\u001b[0;32m     77\u001b[0m         \u001b[1;32mexcept\u001b[0m \u001b[0mTypeError\u001b[0m\u001b[1;33m:\u001b[0m\u001b[1;33m\u001b[0m\u001b[1;33m\u001b[0m\u001b[0m\n",
      "\u001b[1;32mD:\\anaconda\\envs\\study\\lib\\subprocess.py\u001b[0m in \u001b[0;36m__init__\u001b[1;34m(self, args, bufsize, executable, stdin, stdout, stderr, preexec_fn, close_fds, shell, cwd, env, universal_newlines, startupinfo, creationflags, restore_signals, start_new_session, pass_fds, encoding, errors, text)\u001b[0m\n\u001b[0;32m    799\u001b[0m                                 \u001b[0merrread\u001b[0m\u001b[1;33m,\u001b[0m \u001b[0merrwrite\u001b[0m\u001b[1;33m,\u001b[0m\u001b[1;33m\u001b[0m\u001b[1;33m\u001b[0m\u001b[0m\n\u001b[1;32m--> 800\u001b[1;33m                                 restore_signals, start_new_session)\n\u001b[0m\u001b[0;32m    801\u001b[0m         \u001b[1;32mexcept\u001b[0m\u001b[1;33m:\u001b[0m\u001b[1;33m\u001b[0m\u001b[1;33m\u001b[0m\u001b[0m\n",
      "\u001b[1;32mD:\\anaconda\\envs\\study\\lib\\subprocess.py\u001b[0m in \u001b[0;36m_execute_child\u001b[1;34m(self, args, executable, preexec_fn, close_fds, pass_fds, cwd, env, startupinfo, creationflags, shell, p2cread, p2cwrite, c2pread, c2pwrite, errread, errwrite, unused_restore_signals, unused_start_new_session)\u001b[0m\n\u001b[0;32m   1206\u001b[0m                                          \u001b[0mos\u001b[0m\u001b[1;33m.\u001b[0m\u001b[0mfspath\u001b[0m\u001b[1;33m(\u001b[0m\u001b[0mcwd\u001b[0m\u001b[1;33m)\u001b[0m \u001b[1;32mif\u001b[0m \u001b[0mcwd\u001b[0m \u001b[1;32mis\u001b[0m \u001b[1;32mnot\u001b[0m \u001b[1;32mNone\u001b[0m \u001b[1;32melse\u001b[0m \u001b[1;32mNone\u001b[0m\u001b[1;33m,\u001b[0m\u001b[1;33m\u001b[0m\u001b[1;33m\u001b[0m\u001b[0m\n\u001b[1;32m-> 1207\u001b[1;33m                                          startupinfo)\n\u001b[0m\u001b[0;32m   1208\u001b[0m             \u001b[1;32mfinally\u001b[0m\u001b[1;33m:\u001b[0m\u001b[1;33m\u001b[0m\u001b[1;33m\u001b[0m\u001b[0m\n",
      "\u001b[1;31mFileNotFoundError\u001b[0m: [WinError 2] 지정된 파일을 찾을 수 없습니다",
      "\nDuring handling of the above exception, another exception occurred:\n",
      "\u001b[1;31mWebDriverException\u001b[0m                        Traceback (most recent call last)",
      "\u001b[1;32m<ipython-input-73-bc9b10a9347e>\u001b[0m in \u001b[0;36m<module>\u001b[1;34m\u001b[0m\n\u001b[0;32m      1\u001b[0m \u001b[1;32mfrom\u001b[0m \u001b[0mselenium\u001b[0m \u001b[1;32mimport\u001b[0m \u001b[0mwebdriver\u001b[0m\u001b[1;33m\u001b[0m\u001b[1;33m\u001b[0m\u001b[0m\n\u001b[0;32m      2\u001b[0m \u001b[1;33m\u001b[0m\u001b[0m\n\u001b[1;32m----> 3\u001b[1;33m \u001b[0mdriver\u001b[0m \u001b[1;33m=\u001b[0m \u001b[0mwebdriver\u001b[0m\u001b[1;33m.\u001b[0m\u001b[0mIe\u001b[0m\u001b[1;33m(\u001b[0m\u001b[1;33m)\u001b[0m\u001b[1;33m\u001b[0m\u001b[1;33m\u001b[0m\u001b[0m\n\u001b[0m",
      "\u001b[1;32mD:\\anaconda\\envs\\study\\lib\\site-packages\\selenium\\webdriver\\ie\\webdriver.py\u001b[0m in \u001b[0;36m__init__\u001b[1;34m(self, executable_path, capabilities, port, timeout, host, log_level, service_log_path, options, ie_options, desired_capabilities, log_file, keep_alive)\u001b[0m\n\u001b[0;32m     89\u001b[0m             log_file=service_log_path)\n\u001b[0;32m     90\u001b[0m \u001b[1;33m\u001b[0m\u001b[0m\n\u001b[1;32m---> 91\u001b[1;33m         \u001b[0mself\u001b[0m\u001b[1;33m.\u001b[0m\u001b[0miedriver\u001b[0m\u001b[1;33m.\u001b[0m\u001b[0mstart\u001b[0m\u001b[1;33m(\u001b[0m\u001b[1;33m)\u001b[0m\u001b[1;33m\u001b[0m\u001b[1;33m\u001b[0m\u001b[0m\n\u001b[0m\u001b[0;32m     92\u001b[0m \u001b[1;33m\u001b[0m\u001b[0m\n\u001b[0;32m     93\u001b[0m         RemoteWebDriver.__init__(\n",
      "\u001b[1;32mD:\\anaconda\\envs\\study\\lib\\site-packages\\selenium\\webdriver\\common\\service.py\u001b[0m in \u001b[0;36mstart\u001b[1;34m(self)\u001b[0m\n\u001b[0;32m     81\u001b[0m                 raise WebDriverException(\n\u001b[0;32m     82\u001b[0m                     \"'%s' executable needs to be in PATH. %s\" % (\n\u001b[1;32m---> 83\u001b[1;33m                         os.path.basename(self.path), self.start_error_message)\n\u001b[0m\u001b[0;32m     84\u001b[0m                 )\n\u001b[0;32m     85\u001b[0m             \u001b[1;32melif\u001b[0m \u001b[0merr\u001b[0m\u001b[1;33m.\u001b[0m\u001b[0merrno\u001b[0m \u001b[1;33m==\u001b[0m \u001b[0merrno\u001b[0m\u001b[1;33m.\u001b[0m\u001b[0mEACCES\u001b[0m\u001b[1;33m:\u001b[0m\u001b[1;33m\u001b[0m\u001b[1;33m\u001b[0m\u001b[0m\n",
      "\u001b[1;31mWebDriverException\u001b[0m: Message: 'IEDriverServer.exe' executable needs to be in PATH. Please download from http://selenium-release.storage.googleapis.com/index.html and read up at https://github.com/SeleniumHQ/selenium/wiki/InternetExplorerDriver\n"
     ]
    }
   ],
   "source": [
    "from selenium import webdriver\n",
    "\n",
    "driver = webdriver.Ie()"
   ]
  },
  {
   "cell_type": "code",
   "execution_count": null,
   "metadata": {},
   "outputs": [],
   "source": []
  }
 ],
 "metadata": {
  "kernelspec": {
   "display_name": "Python 3",
   "language": "python",
   "name": "python3"
  },
  "language_info": {
   "codemirror_mode": {
    "name": "ipython",
    "version": 3
   },
   "file_extension": ".py",
   "mimetype": "text/x-python",
   "name": "python",
   "nbconvert_exporter": "python",
   "pygments_lexer": "ipython3",
   "version": "3.6.10"
  }
 },
 "nbformat": 4,
 "nbformat_minor": 4
}
