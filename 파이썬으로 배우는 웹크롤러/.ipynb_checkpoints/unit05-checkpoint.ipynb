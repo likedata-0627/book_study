{
 "cells": [
  {
   "cell_type": "markdown",
   "metadata": {},
   "source": [
    "### 5-1 함수 만들기"
   ]
  },
  {
   "cell_type": "code",
   "execution_count": 1,
   "metadata": {},
   "outputs": [],
   "source": [
    "def f(x):\n",
    "    return x"
   ]
  },
  {
   "cell_type": "markdown",
   "metadata": {},
   "source": [
    "### 5-2 함수 호출하기"
   ]
  },
  {
   "cell_type": "code",
   "execution_count": 3,
   "metadata": {},
   "outputs": [
    {
     "name": "stdout",
     "output_type": "stream",
     "text": [
      "10\n"
     ]
    }
   ],
   "source": [
    "def f(x):\n",
    "    return x\n",
    "var = f(10)\n",
    "print(var)"
   ]
  },
  {
   "cell_type": "markdown",
   "metadata": {},
   "source": [
    "### 5-3 함수를 이용한 홀짝 구분"
   ]
  },
  {
   "cell_type": "code",
   "execution_count": 6,
   "metadata": {},
   "outputs": [
    {
     "name": "stdout",
     "output_type": "stream",
     "text": [
      "False\n",
      "True\n"
     ]
    }
   ],
   "source": [
    "def division(x):\n",
    "    if x%2:\n",
    "        return True # return의 정의 =>  값반환, 함수 종료\n",
    "    else:\n",
    "        return False\n",
    "    print('running')\n",
    "    \n",
    "var1 = division(10)\n",
    "var2 = division(11)\n",
    "\n",
    "print(var1)\n",
    "print(var2)"
   ]
  },
  {
   "cell_type": "markdown",
   "metadata": {},
   "source": [
    "### 5-4 return이 없는 함수"
   ]
  },
  {
   "cell_type": "code",
   "execution_count": 8,
   "metadata": {},
   "outputs": [
    {
     "name": "stdout",
     "output_type": "stream",
     "text": [
      "running10\n",
      "None\n"
     ]
    }
   ],
   "source": [
    "def f(x):\n",
    "    print('running' + str(x))\n",
    "    \n",
    "var = f(10)\n",
    "print(var) # 반환이 없는 함수 호출시 none으로 반환"
   ]
  },
  {
   "cell_type": "markdown",
   "metadata": {},
   "source": [
    "### 5-5 인자를 맞추지 않고 호출시"
   ]
  },
  {
   "cell_type": "code",
   "execution_count": 9,
   "metadata": {},
   "outputs": [
    {
     "ename": "TypeError",
     "evalue": "f() missing 1 required positional argument: 'y'",
     "output_type": "error",
     "traceback": [
      "\u001b[1;31m---------------------------------------------------------------------------\u001b[0m",
      "\u001b[1;31mTypeError\u001b[0m                                 Traceback (most recent call last)",
      "\u001b[1;32m<ipython-input-9-515cf12b9235>\u001b[0m in \u001b[0;36m<module>\u001b[1;34m\u001b[0m\n\u001b[0;32m      3\u001b[0m     \u001b[1;32mreturn\u001b[0m \u001b[1;32mTrue\u001b[0m\u001b[1;33m\u001b[0m\u001b[1;33m\u001b[0m\u001b[0m\n\u001b[0;32m      4\u001b[0m \u001b[1;33m\u001b[0m\u001b[0m\n\u001b[1;32m----> 5\u001b[1;33m \u001b[0mvar1\u001b[0m\u001b[1;33m=\u001b[0m\u001b[0mf\u001b[0m\u001b[1;33m(\u001b[0m\u001b[1;36m10\u001b[0m\u001b[1;33m)\u001b[0m\u001b[1;33m\u001b[0m\u001b[1;33m\u001b[0m\u001b[0m\n\u001b[0m\u001b[0;32m      6\u001b[0m \u001b[0mprint\u001b[0m\u001b[1;33m(\u001b[0m\u001b[0mvar1\u001b[0m\u001b[1;33m)\u001b[0m\u001b[1;33m\u001b[0m\u001b[1;33m\u001b[0m\u001b[0m\n",
      "\u001b[1;31mTypeError\u001b[0m: f() missing 1 required positional argument: 'y'"
     ]
    }
   ],
   "source": [
    "def f(x,y):인자 2개\n",
    "    print('running' + str(x) + ' ' + str(y))\n",
    "    return True\n",
    "\n",
    "var1=f(10)\n",
    "print(var1) # Y호추 안됨 => 오류"
   ]
  },
  {
   "cell_type": "markdown",
   "metadata": {},
   "source": [
    "#### 5-6 함수 기본값 설정"
   ]
  },
  {
   "cell_type": "code",
   "execution_count": 20,
   "metadata": {},
   "outputs": [
    {
     "name": "stdout",
     "output_type": "stream",
     "text": [
      "running10 20\n",
      "running10 40\n",
      "30\n",
      "50\n"
     ]
    }
   ],
   "source": [
    "def f(x,y=20): # 인수의 기본값을 설정하면 \n",
    "    print('running' + str(x) + ' ' + str(y))\n",
    "    return x + y\n",
    "\n",
    "var1=f(10) # 호출시 인자값 안맞춰도 됨\n",
    "var2 = f(10, 40)\n",
    "print(var1)\n",
    "print(var2)"
   ]
  },
  {
   "cell_type": "markdown",
   "metadata": {},
   "source": [
    "### 5-7 캐릭터를 움직이는 함수"
   ]
  },
  {
   "cell_type": "code",
   "execution_count": 15,
   "metadata": {},
   "outputs": [],
   "source": [
    "def A_move():\n",
    "    print('A charactor moved')\n",
    "def B_move():\n",
    "    print('B charactor moved')"
   ]
  },
  {
   "cell_type": "markdown",
   "metadata": {},
   "source": [
    "### 5-8 클래스 생성"
   ]
  },
  {
   "cell_type": "code",
   "execution_count": 17,
   "metadata": {},
   "outputs": [],
   "source": [
    "class charactor:\n",
    "    def move(self): #함수를 메소드, 변수를 속성이라 부름\n",
    "        print('move')\n",
    "    def attack(self):\n",
    "        print('attack')"
   ]
  },
  {
   "cell_type": "markdown",
   "metadata": {},
   "source": [
    "### 5-9 객체 생성"
   ]
  },
  {
   "cell_type": "code",
   "execution_count": 18,
   "metadata": {},
   "outputs": [],
   "source": [
    "class charactor:\n",
    "    def move(self):\n",
    "        print('move')\n",
    "    def attack(self):\n",
    "        print('attack')\n",
    "        \n",
    "player_a = charactor() #클래스를 이용하여 객체를 만들기\n",
    "player_b = charactor()"
   ]
  },
  {
   "cell_type": "markdown",
   "metadata": {},
   "source": [
    "### 5-10 객체의 메소드 사용"
   ]
  },
  {
   "cell_type": "markdown",
   "metadata": {},
   "source": [
    "> * 객체가 메소드를 호출할 때는 생성된 객체가 직접 호출하기 때문에 self를 사용할 필요가 없습니다. 하지만 메소드를 호출하고 객체로부터 직접 호출된 메소드가 다른 메소드를 호출할 때는 self를 명시해 주어야 해당 객체의 속성을 사용할 수 있다."
   ]
  },
  {
   "cell_type": "code",
   "execution_count": 19,
   "metadata": {},
   "outputs": [
    {
     "name": "stdout",
     "output_type": "stream",
     "text": [
      "<__main__.charactor object at 0x000001EFFD71FA08> move\n",
      "<__main__.charactor object at 0x000001EFFD71FA08> attack\n",
      "<__main__.charactor object at 0x000001EFFD71F0C8> move\n",
      "<__main__.charactor object at 0x000001EFFD71F0C8> attack\n"
     ]
    }
   ],
   "source": [
    "class charactor:\n",
    "    def move(self):\n",
    "        print(self,'move')\n",
    "    def attack(self):\n",
    "        print(self,'attack')\n",
    "        \n",
    "player_a = charactor()\n",
    "player_b = charactor()\n",
    "\n",
    "# 객체가 메소드 및 속성을 호출할 때 마침표(.)를 이용\n",
    "player_a.move()\n",
    "player_a.attack()\n",
    "player_b.move()\n",
    "player_b.attack()"
   ]
  },
  {
   "cell_type": "markdown",
   "metadata": {},
   "source": [
    "### 5-11  호출된 메소드가 다른 메소드 호출"
   ]
  },
  {
   "cell_type": "code",
   "execution_count": null,
   "metadata": {},
   "outputs": [],
   "source": [
    "> * player_a와 player_b 객체가 move()메소드를 직접 호출"
   ]
  },
  {
   "cell_type": "code",
   "execution_count": 28,
   "metadata": {},
   "outputs": [
    {
     "name": "stdout",
     "output_type": "stream",
     "text": [
      "<__main__.charactor object at 0x000001EFFD995C48> move\n",
      "<__main__.charactor object at 0x000001EFFD995C48> attack\n",
      "<__main__.charactor object at 0x000001EFFD991B48> move\n",
      "<__main__.charactor object at 0x000001EFFD991B48> attack\n"
     ]
    }
   ],
   "source": [
    "class charactor:\n",
    "    def move(self):\n",
    "        print(self,'move')\n",
    "        self.attack()\n",
    "        \n",
    "    def attack(self):\n",
    "        print(self,'attack')\n",
    "        \n",
    "player_a = charactor()\n",
    "player_b = charactor()\n",
    "\n",
    "player_a.move()\n",
    "player_b.move()"
   ]
  },
  {
   "cell_type": "markdown",
   "metadata": {},
   "source": [
    "### 5-12 객체의 속성 설정\n",
    "\n",
    "> * create() 메소드를 이용해 속성을 초기화\n",
    "> * show_info() 메소드는 속성을 보기 좋게 보여주는 메소드"
   ]
  },
  {
   "cell_type": "code",
   "execution_count": 21,
   "metadata": {},
   "outputs": [
    {
     "name": "stdout",
     "output_type": "stream",
     "text": [
      "hp : 10, attack: 20, sefence: 30\n",
      "hp : 100, attack: 200, sefence: 300\n"
     ]
    }
   ],
   "source": [
    "class charactor:\n",
    "    \n",
    "    def create(self, hp, attack, defence):\n",
    "        self.hp = hp\n",
    "        self.attack = attack\n",
    "        self.defence = defence\n",
    "    \n",
    "    def move(self):\n",
    "        print(self,'move')\n",
    "        self.attack()\n",
    "        \n",
    "    def attack(self):\n",
    "        print(self,'attack')\n",
    "        \n",
    "    def show_info(self):\n",
    "        print(\"hp : %d, attack: %d, sefence: %d\" %(self.hp, self.attack, self.defence))\n",
    "        \n",
    "player_a = charactor()\n",
    "player_b = charactor()\n",
    "\n",
    "player_a.create(10,20,30)\n",
    "player_b.create(100,200,300)\n",
    "\n",
    "player_a.show_info()\n",
    "player_b.show_info()"
   ]
  },
  {
   "cell_type": "markdown",
   "metadata": {},
   "source": [
    "### 5-13 생성자 사용\n",
    ">* create()와 같은 메소드를 만드는 것은 매우 문제 => 프로그래머마다 초기화 시켜주는 메소드명을 다르게 작성할 수 있기 때문\n",
    ">* 그러므로 생성자와 소멸자를 사용하면 됨.\n",
    ">* __init__()는 객체가 생성될 때 자동으로 호출되는 함수\n",
    ">* __del__() 객체 삭제"
   ]
  },
  {
   "cell_type": "code",
   "execution_count": 23,
   "metadata": {},
   "outputs": [
    {
     "name": "stdout",
     "output_type": "stream",
     "text": [
      "hp : 10, attack: 20, sefence: 30\n",
      "hp : 100, attack: 200, sefence: 300\n"
     ]
    }
   ],
   "source": [
    "class charactor:\n",
    "    \n",
    "    def __init__(self, hp, attack, defence):\n",
    "        self.hp = hp\n",
    "        self.attack = attack\n",
    "        self.defence = defence\n",
    "        print('player가 생성되었습니다.')\n",
    "        \n",
    "    def move(self):\n",
    "        print(self,'move')\n",
    "        self.attack()\n",
    "        \n",
    "    def attack(self):\n",
    "        print(self,'attack')\n",
    "        \n",
    "    def show_info(self):\n",
    "        print(\"hp : %d, attack: %d, sefence: %d\" %(self.hp, self.attack, self.defence))\n",
    "        \n",
    "player_a.create(10,20,30)\n",
    "player_b.create(100,200,300)\n",
    "\n",
    "player_a.show_info()\n",
    "player_b.show_info()"
   ]
  },
  {
   "cell_type": "markdown",
   "metadata": {},
   "source": [
    "### 5-14 소멸자 사용"
   ]
  },
  {
   "cell_type": "code",
   "execution_count": 26,
   "metadata": {},
   "outputs": [
    {
     "name": "stdout",
     "output_type": "stream",
     "text": [
      "player가 생성되었습니다.\n",
      "player가 생성되었습니다.\n",
      "player가 생성되었습니다.\n",
      "hp : 10, attack: 20, sefence: 30\n",
      "hp : 100, attack: 200, sefence: 300\n",
      "hp : 100, attack: 200, sefence: 300\n",
      "player가 죽었습니다.\n",
      "player가 죽었습니다.\n",
      "=====program end ======\n"
     ]
    }
   ],
   "source": [
    "class charactor:\n",
    "    \n",
    "    def __init__(self, hp, attack, defence):\n",
    "        self.hp = hp\n",
    "        self.attack = attack\n",
    "        self.defence = defence\n",
    "        print('player가 생성되었습니다.')\n",
    "        \n",
    "    def move(self):\n",
    "        print(self,'move')\n",
    "        self.attack()\n",
    "        \n",
    "    def attack(self):\n",
    "        print(self,'attack')\n",
    "        \n",
    "    def show_info(self):\n",
    "        print(\"hp : %d, attack: %d, sefence: %d\" %(self.hp, self.attack, self.defence))\n",
    "    \n",
    "    def __del__(self):\n",
    "        print('player가 죽었습니다.')\n",
    "        \n",
    "player_a = charactor(10,20,30)\n",
    "player_b = charactor(100,200,300)\n",
    "player_c = charactor(100,200,300)\n",
    "\n",
    "player_a.show_info()\n",
    "player_b.show_info()\n",
    "player_c.show_info()\n",
    "\n",
    "del player_a\n",
    "del player_b\n",
    "\n",
    "print(\"=====program end ======\")"
   ]
  },
  {
   "cell_type": "markdown",
   "metadata": {},
   "source": [
    "### 5-15 call활용\n",
    ">* __call__()는 객체를 호출할 때 실행되는 메소드"
   ]
  },
  {
   "cell_type": "code",
   "execution_count": 27,
   "metadata": {},
   "outputs": [
    {
     "name": "stdout",
     "output_type": "stream",
     "text": [
      "player가 생성되었습니다.\n",
      "player가 생성되었습니다.\n",
      "hp : 10, attack: 20, sefence: 30\n",
      "hp : 100, attack: 200, sefence: 300\n"
     ]
    }
   ],
   "source": [
    "class charactor:\n",
    "    \n",
    "    def __init__(self, hp, attack, defence):\n",
    "        self.hp = hp\n",
    "        self.attack = attack\n",
    "        self.defence = defence\n",
    "        print('player가 생성되었습니다.')\n",
    "        \n",
    "    def __call__(self):\n",
    "        print(\"hp : %d, attack: %d, sefence: %d\" %(self.hp, self.attack, self.defence))\n",
    "        \n",
    "player_a = charactor(10,20,30)\n",
    "player_b = charactor(100,200,300)\n",
    "\n",
    "player_a()\n",
    "player_b()"
   ]
  },
  {
   "cell_type": "markdown",
   "metadata": {},
   "source": [
    "### 5-16 속성접근\n",
    ">* 속성도 메소드와 마찬가지로 마침표로 이용하여 접근이 가능"
   ]
  },
  {
   "cell_type": "code",
   "execution_count": 1,
   "metadata": {},
   "outputs": [
    {
     "name": "stdout",
     "output_type": "stream",
     "text": [
      "player가 생성되었습니다.\n",
      "player가 생성되었습니다.\n",
      "10\n",
      "20\n",
      "30\n",
      "100\n",
      "200\n",
      "300\n"
     ]
    }
   ],
   "source": [
    "class charactor:\n",
    "    \n",
    "    def __init__(self, hp, attack, defence):\n",
    "        self.hp = hp\n",
    "        self.attack = attack\n",
    "        self.defence = defence\n",
    "        print('player가 생성되었습니다.')\n",
    "        \n",
    "player_a = charactor(10,20,30)\n",
    "player_b = charactor(100,200,300)\n",
    "\n",
    "print(player_a.hp)\n",
    "print(player_a.attack)\n",
    "print(player_a.defence)\n",
    "print(player_b.hp)\n",
    "print(player_b.attack)\n",
    "print(player_b.defence)"
   ]
  },
  {
   "cell_type": "markdown",
   "metadata": {},
   "source": [
    "### 5-17 속송 접급\n",
    ">* 마침표로 접근을 하면 메소드와 헷갈릴 수 있으므로 딕셔너리에서 데이터를 사용하는 것처럼 [ ]를 사용하여 접근 가능"
   ]
  },
  {
   "cell_type": "code",
   "execution_count": 33,
   "metadata": {},
   "outputs": [
    {
     "name": "stdout",
     "output_type": "stream",
     "text": [
      "player가 생성되었습니다.\n",
      "hp\n",
      "None\n",
      "attack\n",
      "None\n",
      "defence\n",
      "None\n"
     ]
    }
   ],
   "source": [
    "class charactor:\n",
    "    \n",
    "    def __init__(self, hp, attack, defence):\n",
    "        self.hp = hp\n",
    "        self.attack = attack\n",
    "        self.defence = defence\n",
    "        print('player가 생성되었습니다.')\n",
    "        \n",
    "    def __call__(self):\n",
    "        print('hp:%d, attack:%d, defence:%d' %(self.hp, self.attack, self.defence))\n",
    "    \n",
    "    def __getitem__(self, name):\n",
    "        print(name)\n",
    "        \n",
    "player_a = charactor(10,20,30)\n",
    "\n",
    "print(player_a['hp'])\n",
    "print(player_a['attack'])\n",
    "print(player_a['defence'])"
   ]
  },
  {
   "cell_type": "markdown",
   "metadata": {},
   "source": [
    "### 5-18 속성접근\n",
    ">* __getitem__() 메소드는 속성에 접근할 때 호출되는 메소드로 ['']에 명시된 키 값을 인자로 받는다. 그리고 키에 대한 값을 직접 return시켜줘야 함!"
   ]
  },
  {
   "cell_type": "code",
   "execution_count": 35,
   "metadata": {},
   "outputs": [
    {
     "name": "stdout",
     "output_type": "stream",
     "text": [
      "player가 생성되었습니다.\n",
      "10\n",
      "20\n",
      "30\n",
      "존재하지 않는 키값입니다.\n"
     ]
    }
   ],
   "source": [
    "class charactor:\n",
    "    \n",
    "    def __init__(self, hp, attack, defence):\n",
    "        self.hp = hp\n",
    "        self.attack = attack\n",
    "        self.defence = defence\n",
    "        print('player가 생성되었습니다.')\n",
    "        \n",
    "    def __call__(self):\n",
    "        print('hp:%d, attack:%d, defence:%d' %(self.hp, self.attack, self.defence))\n",
    "    \n",
    "    def __getitem__(self, name):\n",
    "        if name =='hp':\n",
    "            return self.hp\n",
    "        elif name == 'attack':\n",
    "            return self.attack\n",
    "        elif name == 'defence':\n",
    "            return self.defence\n",
    "        else:\n",
    "            return \"존재하지 않는 키값입니다.\"\n",
    "                \n",
    "player_a = charactor(10,20,30)\n",
    "\n",
    "print(player_a['hp'])\n",
    "print(player_a['attack'])\n",
    "print(player_a['defence'])\n",
    "print(player_a['mung'])\n"
   ]
  },
  {
   "cell_type": "markdown",
   "metadata": {},
   "source": [
    "### 5-19  속성 접근\n",
    ">* 여러개의 키값으로 하나의 속성에 접근하기, 생성자에서 초기화 정보를 딕셔너리로 저장한 후 속성을 가져올 때 키가 존재하는지 검사하여 딕셔너리로부터 접근해서 return"
   ]
  },
  {
   "cell_type": "code",
   "execution_count": 36,
   "metadata": {},
   "outputs": [
    {
     "name": "stdout",
     "output_type": "stream",
     "text": [
      "player가 생성 되었습니다.\n",
      "player가 생성 되었습니다.\n",
      "10\n",
      "20\n",
      "30\n",
      "존재하지 않는 키값입니다.\n"
     ]
    }
   ],
   "source": [
    "class charactor:\n",
    "    \n",
    "    def __init__(self, hp, attack, defence):\n",
    "        self.info ={\n",
    "            'hp':hp,\n",
    "            'attack':attack,\n",
    "            'defence':defence\n",
    "        }\n",
    "        \n",
    "        print('player가 생성 되었습니다.')\n",
    "        \n",
    "    def __call__(self):\n",
    "        print('hp:%d, attack:%d, defence:%d' %(self.hp, self.attack, self.defence))\n",
    "    \n",
    "    def __getitem__(self, name):\n",
    "        if name in self.info.keys():\n",
    "            return self.info[name]\n",
    "        else:\n",
    "            return \"존재하지 않는 키값입니다.\"\n",
    "                \n",
    "player_a = charactor(10,20,30)\n",
    "player_b = charactor(100,200,300)\n",
    "\n",
    "\n",
    "print(player_a['hp'])\n",
    "print(player_a['attack'])\n",
    "print(player_a['defence'])\n",
    "print(player_a['mung'])\n"
   ]
  },
  {
   "cell_type": "markdown",
   "metadata": {},
   "source": [
    "### 5-20 스태틱 메소드\n",
    ">* 파이썬에서는 클래스를 객체생성 도구가 아닌 네임스페이스를 목적으로 사용할 수 있음\n",
    ">* 네임스페이스란 함수의 이름이 중복되는 것을 방지하기 위해 공간을 만드는 것을 의미\n",
    ">* 스태틱 메소드는 함수에 공간을 부여할 수 있고, 함수명이 겹치는 현상을 방지할 수 있음. "
   ]
  },
  {
   "cell_type": "code",
   "execution_count": 2,
   "metadata": {},
   "outputs": [
    {
     "name": "stdout",
     "output_type": "stream",
     "text": [
      "namespace1 s1스태틱 매소드\n",
      "namespace2 s2스태틱 매소드\n"
     ]
    }
   ],
   "source": [
    "class namespace1:\n",
    "    @staticmethod #메소드를 만들때 명시하면 클래스이름으로 해당메소드에 접근 가능\n",
    "    def s1():\n",
    "        print('namespace1 s1스태틱 매소드')\n",
    "    \n",
    "    @staticmethod\n",
    "    def s2():\n",
    "        print('namespace1 s2스태틱 매소드')\n",
    "    \n",
    "class namespace2:\n",
    "    @staticmethod\n",
    "    def s1():\n",
    "        print('namespace2 s1스태틱 매소드')\n",
    "    \n",
    "    @staticmethod\n",
    "    def s2():\n",
    "        print('namespace2 s2스태틱 매소드')\n",
    "\n",
    "namespace1.s1() #일반 메소드와 마찬가지로 마침표로 접근을 하면 됨\n",
    "namespace2.s2()\n",
    "    "
   ]
  },
  {
   "cell_type": "markdown",
   "metadata": {},
   "source": [
    "### 5-21 클래스 변수\n",
    ">* 클래스에서 변수를 만들때 객체마다 독립적으로 변수를 부여 할 수 있지만, 모든 객체에서 클래스에 생성된 변수에 접근할 수 있음 이를 클래스 변수라고 함.\n",
    ">* 클래스 변수에 접근하기 위해서는 self가 아니라 클래스명으로 해야함. \n",
    ">* 클래스 변수는 해당 객체에서 생성되는 것이 아니라 클래스 자체에서 한번 생성되기 때문에 클래스명으로 접근해야함. \n",
    ">* 클래스변수를 쓰는 가장 대표적인 예는 객체가 총 몇 개 생성되었는지 확인할 때 사용"
   ]
  },
  {
   "cell_type": "code",
   "execution_count": 6,
   "metadata": {},
   "outputs": [
    {
     "name": "stdout",
     "output_type": "stream",
     "text": [
      "player가 생성되었습니다. 생성된 유닛수 :1 \n",
      "player가 생성되었습니다. 생성된 유닛수 :2 \n",
      "player가 생성되었습니다. 생성된 유닛수 :3 \n",
      "player가 생성되었습니다. 생성된 유닛수 :4 \n",
      "player가 생성되었습니다. 생성된 유닛수 :5 \n",
      "program end\n"
     ]
    }
   ],
   "source": [
    "class charactor :\n",
    "    char_cnt = 0\n",
    "    \n",
    "    def __init__(self, hp, attack, defence):\n",
    "        self.info={\n",
    "            'hp':hp,\n",
    "            'attack':attack,\n",
    "            'defence':defence\n",
    "        }\n",
    "        \n",
    "        charactor.char_cnt += 1 # 클래스명으로 접근 \n",
    "        print('player가 생성되었습니다. 생성된 유닛수 :%d ' %(charactor.char_cnt))\n",
    "        \n",
    "    def __call__(self):\n",
    "        print('hp:%d, attack: %d, defence: %d ' %(self.info['hp'],self.info['attack'],self.info['defence']))\n",
    "        \n",
    "    def ___del__(self) :\n",
    "        charactor.char_cnt = -1\n",
    "        print('palyer가 제거 되었습니다. 생성되 유닛수 : %d' %(charactor.char_cnt))\n",
    "        \n",
    "player_a = charactor(10,20,30)\n",
    "player_b = charactor(100,200,300)\n",
    "player_c = charactor(100,200,300)\n",
    "player_d = charactor(100,200,300)\n",
    "player_e = charactor(100,200,300)\n",
    "\n",
    "del player_c\n",
    "\n",
    "print('program end')"
   ]
  },
  {
   "cell_type": "markdown",
   "metadata": {},
   "source": [
    "### 5-22 클래스 상속\n",
    ">* 상속을 받을 때는 클래스명옆 괄호에 부모클래스를 넣어주면 됨."
   ]
  },
  {
   "cell_type": "code",
   "execution_count": 9,
   "metadata": {},
   "outputs": [
    {
     "name": "stdout",
     "output_type": "stream",
     "text": [
      "bird 생성\n",
      "bird 생성\n",
      "bird 생성\n",
      "unit move\n",
      "0\n"
     ]
    }
   ],
   "source": [
    "class unit: # 부모클래스\n",
    "    unit_count = 0\n",
    "    \n",
    "    def __init__(self):\n",
    "        print('unit 생성')\n",
    "        unit.unit_count += 1\n",
    "        \n",
    "    def move(self):\n",
    "        print('unit move')\n",
    "        \n",
    "class bird(unit): # unit클래스를 상속받음 => 자식클래스\n",
    "    def __init__(self):\n",
    "        print('bird 생성')\n",
    "\n",
    "class ground(unit): # unit클래스를 상속받음 => 자식클래스\n",
    "    def __init__(Self):\n",
    "        print('ground 생성')\n",
    "        \n",
    "b1 = bird()\n",
    "b2 = bird()\n",
    "b3 = bird()\n",
    "\n",
    "b1.move()\n",
    "print(unit.unit_count)"
   ]
  },
  {
   "cell_type": "markdown",
   "metadata": {},
   "source": [
    "### 5-23 super 활용 상속\n",
    ">* super(해당클래스명, self).__init__()을 자식 생성자에 넣어주면 자식생성자 호출 될때마다 부모 생성자를 호출, 부모 생성자가 호출 될 때마다 unit_cnt 변수 1씩 증가하여 자식 생성자가 호출(생성)된 횟수를 알 수 있습니다. "
   ]
  },
  {
   "cell_type": "code",
   "execution_count": 12,
   "metadata": {},
   "outputs": [
    {
     "name": "stdout",
     "output_type": "stream",
     "text": [
      "bird 생성\n",
      "unit 생성\n",
      "bird 생성\n",
      "unit 생성\n",
      "unit move\n",
      "ground 생성\n",
      "unit 생성\n",
      "3\n"
     ]
    }
   ],
   "source": [
    "class unit:\n",
    "    unit_cnt = 0\n",
    "\n",
    "    def __init__(self):\n",
    "        print('unit 생성')\n",
    "        unit.unit_cnt += 1\n",
    "\n",
    "    def move(self):\n",
    "        print('unit move')\n",
    "\n",
    "\n",
    "class bird(unit):\n",
    "    def __init__(self):\n",
    "        print('bird 생성')\n",
    "        super(bird, self).__init__()\n",
    "\n",
    "\n",
    "class ground(unit):\n",
    "    def __init__(self):\n",
    "        print('ground 생성')\n",
    "        super(ground, self).__init__()\n",
    "\n",
    "b1 = bird()\n",
    "b3 = bird()\n",
    "\n",
    "b1.move()\n",
    "\n",
    "g1 = ground()\n",
    "\n",
    "print(unit.unit_cnt)\n"
   ]
  },
  {
   "cell_type": "code",
   "execution_count": null,
   "metadata": {},
   "outputs": [],
   "source": []
  },
  {
   "cell_type": "code",
   "execution_count": null,
   "metadata": {},
   "outputs": [],
   "source": []
  },
  {
   "cell_type": "code",
   "execution_count": null,
   "metadata": {},
   "outputs": [],
   "source": []
  },
  {
   "cell_type": "code",
   "execution_count": null,
   "metadata": {},
   "outputs": [],
   "source": []
  },
  {
   "cell_type": "code",
   "execution_count": null,
   "metadata": {},
   "outputs": [],
   "source": []
  },
  {
   "cell_type": "code",
   "execution_count": null,
   "metadata": {},
   "outputs": [],
   "source": []
  },
  {
   "cell_type": "code",
   "execution_count": null,
   "metadata": {},
   "outputs": [],
   "source": []
  },
  {
   "cell_type": "code",
   "execution_count": null,
   "metadata": {},
   "outputs": [],
   "source": []
  }
 ],
 "metadata": {
  "kernelspec": {
   "display_name": "Python 3",
   "language": "python",
   "name": "python3"
  },
  "language_info": {
   "codemirror_mode": {
    "name": "ipython",
    "version": 3
   },
   "file_extension": ".py",
   "mimetype": "text/x-python",
   "name": "python",
   "nbconvert_exporter": "python",
   "pygments_lexer": "ipython3",
   "version": "3.7.6"
  }
 },
 "nbformat": 4,
 "nbformat_minor": 4
}
