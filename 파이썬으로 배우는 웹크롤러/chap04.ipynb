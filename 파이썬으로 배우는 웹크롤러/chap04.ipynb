{
 "cells": [
  {
   "cell_type": "markdown",
   "metadata": {},
   "source": [
    "# 4-15 replace 사용법"
   ]
  },
  {
   "cell_type": "code",
   "execution_count": 3,
   "metadata": {},
   "outputs": [
    {
     "name": "stdout",
     "output_type": "stream",
     "text": [
      "hello world!\n",
      "hello world?\n"
     ]
    }
   ],
   "source": [
    "var = 'hello world!'\n",
    "print(var)\n",
    "var=var.replace('!','?') #replace('기존','새로운')\n",
    "print(var)"
   ]
  },
  {
   "cell_type": "code",
   "execution_count": 4,
   "metadata": {},
   "outputs": [
    {
     "name": "stdout",
     "output_type": "stream",
     "text": [
      "hello world\n"
     ]
    }
   ],
   "source": [
    "var = 'hello world?'\n",
    "var=var.replace('?','')\n",
    "print(var)"
   ]
  },
  {
   "cell_type": "code",
   "execution_count": 5,
   "metadata": {},
   "outputs": [
    {
     "name": "stdout",
     "output_type": "stream",
     "text": [
      "19000원\n",
      "19000\n"
     ]
    }
   ],
   "source": [
    "var ='19,000원'\n",
    "var = var.replace(',','')\n",
    "print(var)\n",
    "var= var.replace('원','')\n",
    "print(var)"
   ]
  },
  {
   "cell_type": "markdown",
   "metadata": {},
   "source": [
    "* 한줄로 표현하기"
   ]
  },
  {
   "cell_type": "code",
   "execution_count": 7,
   "metadata": {},
   "outputs": [
    {
     "name": "stdout",
     "output_type": "stream",
     "text": [
      "19000\n"
     ]
    }
   ],
   "source": [
    "var ='19,000원'\n",
    "var = var.replace(',','').replace('원','')\n",
    "print(var)"
   ]
  },
  {
   "cell_type": "markdown",
   "metadata": {},
   "source": [
    "* find() => 찾는 문자열이 없으면 -1, 있으면 문자열의 위치를 반환(0부터 시작인거 주의) "
   ]
  },
  {
   "cell_type": "code",
   "execution_count": 9,
   "metadata": {},
   "outputs": [
    {
     "name": "stdout",
     "output_type": "stream",
     "text": [
      "-1\n",
      "6\n"
     ]
    }
   ],
   "source": [
    "var1 = 'hello world'\n",
    "finded1 = var1.find('a')\n",
    "finded2 = var1.find('world')\n",
    "print(finded1) \n",
    "print(finded2)"
   ]
  },
  {
   "cell_type": "code",
   "execution_count": 10,
   "metadata": {},
   "outputs": [
    {
     "name": "stdout",
     "output_type": "stream",
     "text": [
      "h\n",
      "e\n",
      "hell\n"
     ]
    }
   ],
   "source": [
    "var = 'hello world'\n",
    "print(var[0])\n",
    "print(var[1])\n",
    "print(var[0:4])"
   ]
  },
  {
   "cell_type": "code",
   "execution_count": 11,
   "metadata": {},
   "outputs": [
    {
     "name": "stdout",
     "output_type": "stream",
     "text": [
      "hello world\n",
      "he\n",
      "llo world\n"
     ]
    }
   ],
   "source": [
    "var = 'hello world'\n",
    "print(var[:])\n",
    "print(var[:2])\n",
    "print(var[2:])"
   ]
  },
  {
   "cell_type": "code",
   "execution_count": 12,
   "metadata": {},
   "outputs": [
    {
     "name": "stdout",
     "output_type": "stream",
     "text": [
      "d\n",
      "l\n",
      "lo wor\n"
     ]
    }
   ],
   "source": [
    "var = 'hello world'\n",
    "print(var[-1])\n",
    "print(var[-2])\n",
    "print(var[3:-2])"
   ]
  },
  {
   "cell_type": "code",
   "execution_count": 13,
   "metadata": {},
   "outputs": [
    {
     "ename": "IndexError",
     "evalue": "string index out of range",
     "output_type": "error",
     "traceback": [
      "\u001b[1;31m---------------------------------------------------------------------------\u001b[0m",
      "\u001b[1;31mIndexError\u001b[0m                                Traceback (most recent call last)",
      "\u001b[1;32m<ipython-input-13-b1be6aa239c3>\u001b[0m in \u001b[0;36m<module>\u001b[1;34m\u001b[0m\n\u001b[0;32m      1\u001b[0m \u001b[0mvar\u001b[0m \u001b[1;33m=\u001b[0m\u001b[1;34m'hello world'\u001b[0m\u001b[1;33m\u001b[0m\u001b[1;33m\u001b[0m\u001b[0m\n\u001b[1;32m----> 2\u001b[1;33m \u001b[0mprint\u001b[0m\u001b[1;33m(\u001b[0m\u001b[0mvar\u001b[0m\u001b[1;33m[\u001b[0m\u001b[1;36m20\u001b[0m\u001b[1;33m]\u001b[0m\u001b[1;33m)\u001b[0m\u001b[1;33m\u001b[0m\u001b[1;33m\u001b[0m\u001b[0m\n\u001b[0m",
      "\u001b[1;31mIndexError\u001b[0m: string index out of range"
     ]
    }
   ],
   "source": [
    "var ='hello world'\n",
    "print(var[20])"
   ]
  },
  {
   "cell_type": "code",
   "execution_count": 14,
   "metadata": {},
   "outputs": [
    {
     "name": "stdout",
     "output_type": "stream",
     "text": [
      "['hello', 'world', '!@']\n"
     ]
    }
   ],
   "source": [
    "var = 'hello world !@'\n",
    "print(var.split()) #공백 기준으로 쪼개기"
   ]
  },
  {
   "cell_type": "code",
   "execution_count": 16,
   "metadata": {},
   "outputs": [
    {
     "name": "stdout",
     "output_type": "stream",
     "text": [
      "['he', '', 'o wor', 'd !@']\n"
     ]
    }
   ],
   "source": [
    "var = \"hello world !@\"\n",
    "print(var.split('l'))#ㅣ기준을 쪼개기 "
   ]
  },
  {
   "cell_type": "code",
   "execution_count": 17,
   "metadata": {},
   "outputs": [
    {
     "name": "stdout",
     "output_type": "stream",
     "text": [
      "HELLO WORLD\n",
      "hello world\n"
     ]
    }
   ],
   "source": [
    "var1 = 'hello world'\n",
    "var2 = 'HELLO WORLD'\n",
    "print(var1.upper()) # 대문자로\n",
    "print(var2.lower()) # 소문자로"
   ]
  },
  {
   "cell_type": "code",
   "execution_count": 18,
   "metadata": {},
   "outputs": [
    {
     "name": "stdout",
     "output_type": "stream",
     "text": [
      "11\n"
     ]
    }
   ],
   "source": [
    "var = 'hello world'\n",
    "print(len(var))"
   ]
  },
  {
   "cell_type": "code",
   "execution_count": 19,
   "metadata": {},
   "outputs": [
    {
     "name": "stdout",
     "output_type": "stream",
     "text": [
      "    hello world\n",
      "hello world    \n",
      "hello world\n"
     ]
    }
   ],
   "source": [
    "var = '    hello world    '\n",
    "print(var.rstrip()) # 우측 공백 제거\n",
    "print(var.lstrip()) # 좌측 공백 제거\n",
    "print(var.strip()) # 양쪽 공백 제거"
   ]
  },
  {
   "cell_type": "code",
   "execution_count": 22,
   "metadata": {},
   "outputs": [
    {
     "name": "stdout",
     "output_type": "stream",
     "text": [
      "I am 박정태\n",
      "I am 박정태\n",
      "I am 박정태\n",
      "I am 박정태 I am 정보 문화사\n"
     ]
    }
   ],
   "source": [
    "var0 = 'I am' + ' 박정태'\n",
    "print(var0)\n",
    "var1 = 'I am {name}'.format(name='박정태')\n",
    "print(var1)\n",
    "var2 = 'I am {0}'.format('박정태')\n",
    "print(var2)\n",
    "var3 = 'I am {0} I am {name}'.format('박정태',name='정보 문화사')\n",
    "print(var3)"
   ]
  },
  {
   "cell_type": "markdown",
   "metadata": {},
   "source": [
    "* 문자열 + 숫자 = 에러"
   ]
  },
  {
   "cell_type": "code",
   "execution_count": 23,
   "metadata": {},
   "outputs": [
    {
     "ename": "TypeError",
     "evalue": "can only concatenate str (not \"int\") to str",
     "output_type": "error",
     "traceback": [
      "\u001b[1;31m---------------------------------------------------------------------------\u001b[0m",
      "\u001b[1;31mTypeError\u001b[0m                                 Traceback (most recent call last)",
      "\u001b[1;32m<ipython-input-23-4f24e1358e75>\u001b[0m in \u001b[0;36m<module>\u001b[1;34m\u001b[0m\n\u001b[0;32m      1\u001b[0m \u001b[1;31m# 문자열 + 숫자 = 에러\u001b[0m\u001b[1;33m\u001b[0m\u001b[1;33m\u001b[0m\u001b[1;33m\u001b[0m\u001b[0m\n\u001b[1;32m----> 2\u001b[1;33m \u001b[0mvar0\u001b[0m \u001b[1;33m=\u001b[0m \u001b[1;34m'I am age '\u001b[0m \u001b[1;33m+\u001b[0m \u001b[1;36m25\u001b[0m\u001b[1;33m\u001b[0m\u001b[1;33m\u001b[0m\u001b[0m\n\u001b[0m\u001b[0;32m      3\u001b[0m \u001b[0mprint\u001b[0m\u001b[1;33m(\u001b[0m\u001b[0mvar0\u001b[0m\u001b[1;33m)\u001b[0m\u001b[1;33m\u001b[0m\u001b[1;33m\u001b[0m\u001b[0m\n",
      "\u001b[1;31mTypeError\u001b[0m: can only concatenate str (not \"int\") to str"
     ]
    }
   ],
   "source": [
    "var0 = 'I am age ' + 25\n",
    "print(var0)"
   ]
  },
  {
   "cell_type": "markdown",
   "metadata": {},
   "source": [
    "* 해결 1) str() 변환, 2) format 이용"
   ]
  },
  {
   "cell_type": "code",
   "execution_count": 24,
   "metadata": {},
   "outputs": [
    {
     "name": "stdout",
     "output_type": "stream",
     "text": [
      "I am age 25\n",
      "I am age 25\n"
     ]
    }
   ],
   "source": [
    "age = 25\n",
    "var0 = 'I am age ' + str(age)\n",
    "var1 = 'I am age {0}'.format(age)\n",
    "print(var0)\n",
    "print(var1)"
   ]
  },
  {
   "cell_type": "markdown",
   "metadata": {},
   "source": [
    "* join으로 리스트를 문자열 만들기 => 리스트 안에 타입이 문자형일때만 가능"
   ]
  },
  {
   "cell_type": "code",
   "execution_count": 25,
   "metadata": {},
   "outputs": [
    {
     "name": "stdout",
     "output_type": "stream",
     "text": [
      "1.2.3.4.5\n"
     ]
    }
   ],
   "source": [
    "a = ['1','2','3','4','5']\n",
    "b= '.'.join(a)\n",
    "print(b)"
   ]
  },
  {
   "cell_type": "markdown",
   "metadata": {},
   "source": [
    "* 숫자형이 포함된 리스트를 문자열로 만들기 => 에러"
   ]
  },
  {
   "cell_type": "code",
   "execution_count": 26,
   "metadata": {},
   "outputs": [
    {
     "ename": "TypeError",
     "evalue": "sequence item 0: expected str instance, int found",
     "output_type": "error",
     "traceback": [
      "\u001b[1;31m---------------------------------------------------------------------------\u001b[0m",
      "\u001b[1;31mTypeError\u001b[0m                                 Traceback (most recent call last)",
      "\u001b[1;32m<ipython-input-26-704973a89f25>\u001b[0m in \u001b[0;36m<module>\u001b[1;34m\u001b[0m\n\u001b[0;32m      1\u001b[0m \u001b[0ma\u001b[0m \u001b[1;33m=\u001b[0m \u001b[1;33m[\u001b[0m\u001b[1;36m1\u001b[0m\u001b[1;33m,\u001b[0m\u001b[1;34m'2'\u001b[0m\u001b[1;33m,\u001b[0m\u001b[1;36m3\u001b[0m\u001b[1;33m,\u001b[0m\u001b[1;34m'4'\u001b[0m\u001b[1;33m,\u001b[0m\u001b[1;34m'5'\u001b[0m\u001b[1;33m]\u001b[0m\u001b[1;33m\u001b[0m\u001b[1;33m\u001b[0m\u001b[0m\n\u001b[1;32m----> 2\u001b[1;33m \u001b[0mb\u001b[0m \u001b[1;33m=\u001b[0m \u001b[1;34m'.'\u001b[0m\u001b[1;33m.\u001b[0m\u001b[0mjoin\u001b[0m\u001b[1;33m(\u001b[0m\u001b[0ma\u001b[0m\u001b[1;33m)\u001b[0m\u001b[1;33m\u001b[0m\u001b[1;33m\u001b[0m\u001b[0m\n\u001b[0m\u001b[0;32m      3\u001b[0m \u001b[0mprint\u001b[0m\u001b[1;33m(\u001b[0m\u001b[0mb\u001b[0m\u001b[1;33m)\u001b[0m\u001b[1;33m\u001b[0m\u001b[1;33m\u001b[0m\u001b[0m\n",
      "\u001b[1;31mTypeError\u001b[0m: sequence item 0: expected str instance, int found"
     ]
    }
   ],
   "source": [
    "a = [1,'2',3,'4','5']\n",
    "b = '.'.join(a)\n",
    "print(b)"
   ]
  },
  {
   "cell_type": "markdown",
   "metadata": {},
   "source": [
    "* 리스트 요소 삭제하기\n",
    "* 1) del 2) [ ] 처리"
   ]
  },
  {
   "cell_type": "code",
   "execution_count": 28,
   "metadata": {},
   "outputs": [
    {
     "name": "stdout",
     "output_type": "stream",
     "text": [
      "[1, 3, 4, 5]\n",
      "[4, 5]\n"
     ]
    }
   ],
   "source": [
    "var1 = [1,2,3,4,5]\n",
    "var2 = [1,2,3,4,5]\n",
    "del var1[1]\n",
    "var2[0:3]=[]\n",
    "print(var1)\n",
    "print(var2)"
   ]
  },
  {
   "cell_type": "markdown",
   "metadata": {},
   "source": [
    "* pop() => 마지막 요소 반환하고 삭제"
   ]
  },
  {
   "cell_type": "code",
   "execution_count": 30,
   "metadata": {},
   "outputs": [
    {
     "name": "stdout",
     "output_type": "stream",
     "text": [
      "5\n",
      "[1, 2, 3, 4]\n"
     ]
    }
   ],
   "source": [
    "var=[1,2,3,4,5]\n",
    "print(var.pop()) #마지막요소\n",
    "print(var) # 삭제"
   ]
  },
  {
   "cell_type": "markdown",
   "metadata": {},
   "source": [
    "* remove => 특정값 제거"
   ]
  },
  {
   "cell_type": "code",
   "execution_count": 31,
   "metadata": {},
   "outputs": [
    {
     "name": "stdout",
     "output_type": "stream",
     "text": [
      "None\n",
      "[1, 2, 3, 5, 1, 2, 3, 4, 5]\n"
     ]
    }
   ],
   "source": [
    "var = [1,2,3,4,5,1,2,3,4,5]\n",
    "print(var.remove(4)) #none이 찍히는 이유는 반환을 안해주기 때문에 none임\n",
    "print(var)"
   ]
  },
  {
   "cell_type": "markdown",
   "metadata": {},
   "source": [
    "* sort() => 정렬, \n",
    "* 기본은 오름차순, reverse=True 하면 내림차순으로 정리\n",
    "* 순자랑 문자형 같이 정렬시 오류 발생"
   ]
  },
  {
   "cell_type": "code",
   "execution_count": 32,
   "metadata": {},
   "outputs": [
    {
     "name": "stdout",
     "output_type": "stream",
     "text": [
      "[1, 2, 3, 3, 4, 5, 12, 13]\n",
      "[13, 12, 5, 4, 3, 3, 2, 1]\n"
     ]
    }
   ],
   "source": [
    "var = [3,5,1,2,3,4,12,13]\n",
    "var.sort() \n",
    "print(var)\n",
    "var.sort(reverse=True)\n",
    "print(var)"
   ]
  },
  {
   "cell_type": "code",
   "execution_count": 33,
   "metadata": {},
   "outputs": [
    {
     "ename": "TypeError",
     "evalue": "'<' not supported between instances of 'str' and 'int'",
     "output_type": "error",
     "traceback": [
      "\u001b[1;31m---------------------------------------------------------------------------\u001b[0m",
      "\u001b[1;31mTypeError\u001b[0m                                 Traceback (most recent call last)",
      "\u001b[1;32m<ipython-input-33-0a7f226392a2>\u001b[0m in \u001b[0;36m<module>\u001b[1;34m\u001b[0m\n\u001b[0;32m      1\u001b[0m \u001b[0ma\u001b[0m \u001b[1;33m=\u001b[0m \u001b[1;33m[\u001b[0m\u001b[1;36m75\u001b[0m\u001b[1;33m,\u001b[0m\u001b[1;34m'a'\u001b[0m\u001b[1;33m,\u001b[0m\u001b[1;34m'A'\u001b[0m\u001b[1;33m,\u001b[0m\u001b[1;36m98\u001b[0m\u001b[1;33m,\u001b[0m\u001b[1;36m100\u001b[0m\u001b[1;33m]\u001b[0m\u001b[1;33m\u001b[0m\u001b[1;33m\u001b[0m\u001b[0m\n\u001b[1;32m----> 2\u001b[1;33m \u001b[0mprint\u001b[0m\u001b[1;33m(\u001b[0m\u001b[0ma\u001b[0m\u001b[1;33m.\u001b[0m\u001b[0msort\u001b[0m\u001b[1;33m(\u001b[0m\u001b[1;33m)\u001b[0m\u001b[1;33m)\u001b[0m\u001b[1;33m\u001b[0m\u001b[1;33m\u001b[0m\u001b[0m\n\u001b[0m",
      "\u001b[1;31mTypeError\u001b[0m: '<' not supported between instances of 'str' and 'int'"
     ]
    }
   ],
   "source": [
    "a = [75,'a','A',98,100]\n",
    "print(a.sort())"
   ]
  },
  {
   "cell_type": "code",
   "execution_count": 35,
   "metadata": {},
   "outputs": [
    {
     "name": "stdout",
     "output_type": "stream",
     "text": [
      "{'key1': 'value1', 'key2': 'value2'}\n",
      "{'key1': 'valaue1', 'key2': 'value2'}\n",
      "value1\n",
      "value2\n"
     ]
    }
   ],
   "source": [
    "var1 = dict({'key1':'value1','key2':'value2'})\n",
    "var2 = {'key1':'valaue1','key2':'value2'}\n",
    "print(var1)\n",
    "print(var2)\n",
    "print(var1['key1'])\n",
    "print(var2['key2'])"
   ]
  },
  {
   "cell_type": "code",
   "execution_count": 36,
   "metadata": {},
   "outputs": [
    {
     "ename": "KeyError",
     "evalue": "'key2'",
     "output_type": "error",
     "traceback": [
      "\u001b[1;31m---------------------------------------------------------------------------\u001b[0m",
      "\u001b[1;31mKeyError\u001b[0m                                  Traceback (most recent call last)",
      "\u001b[1;32m<ipython-input-36-8d6a519e82a8>\u001b[0m in \u001b[0;36m<module>\u001b[1;34m\u001b[0m\n\u001b[0;32m      1\u001b[0m \u001b[0mvar\u001b[0m \u001b[1;33m=\u001b[0m\u001b[1;33m{\u001b[0m\u001b[1;34m'key1'\u001b[0m\u001b[1;33m:\u001b[0m\u001b[1;34m'value1'\u001b[0m\u001b[1;33m}\u001b[0m\u001b[1;33m\u001b[0m\u001b[1;33m\u001b[0m\u001b[0m\n\u001b[1;32m----> 2\u001b[1;33m \u001b[0mprint\u001b[0m\u001b[1;33m(\u001b[0m\u001b[0mvar\u001b[0m\u001b[1;33m[\u001b[0m\u001b[1;34m'key2'\u001b[0m\u001b[1;33m]\u001b[0m\u001b[1;33m)\u001b[0m\u001b[1;33m\u001b[0m\u001b[1;33m\u001b[0m\u001b[0m\n\u001b[0m",
      "\u001b[1;31mKeyError\u001b[0m: 'key2'"
     ]
    }
   ],
   "source": [
    "var ={'key1':'value1'}\n",
    "print(var['key2'])"
   ]
  },
  {
   "cell_type": "markdown",
   "metadata": {},
   "source": [
    "* get() 함수는 키가 없으면 기본값을 설정할 수 있음\n",
    "* 첫번째 인자는 키, 두번쨰 인자는 기본값을 넘기면 됨\n",
    "* 두번째 인자는 첫번째 인자로 넘긴 키가 없으면 출력 되는 값"
   ]
  },
  {
   "cell_type": "code",
   "execution_count": 37,
   "metadata": {},
   "outputs": [
    {
     "name": "stdout",
     "output_type": "stream",
     "text": [
      "value1\n",
      "value1\n",
      "None\n",
      "default value\n"
     ]
    }
   ],
   "source": [
    "var={'key1':'value1'}\n",
    "print(var.get('key1'))\n",
    "print(var.get('key1','default value'))\n",
    "print(var.get('key2'))\n",
    "print(var.get('key2','default value'))"
   ]
  },
  {
   "cell_type": "code",
   "execution_count": 38,
   "metadata": {},
   "outputs": [
    {
     "name": "stdout",
     "output_type": "stream",
     "text": [
      "{}\n",
      "{'key1': 10}\n",
      "{'key1': 20, 'key2': 30}\n"
     ]
    }
   ],
   "source": [
    "var ={}\n",
    "print(var)\n",
    "var['key1']=10\n",
    "print(var)\n",
    "var['key1']=20\n",
    "var['key2']=30\n",
    "print(var)"
   ]
  },
  {
   "cell_type": "markdown",
   "metadata": {},
   "source": [
    "* setdefault() => 키가 없을 때는 키를 생성해서 값을 넣어주고, 키가 존재할 때는 어떤 작업도 하지 않는 경우가 있음"
   ]
  },
  {
   "cell_type": "code",
   "execution_count": 39,
   "metadata": {},
   "outputs": [
    {
     "name": "stdout",
     "output_type": "stream",
     "text": [
      "{}\n",
      "{'key1': 10}\n",
      "{'key1': 10, 'key2': 30}\n"
     ]
    }
   ],
   "source": [
    "var ={}\n",
    "print(var)\n",
    "var.setdefault('key1',10)\n",
    "print(var)\n",
    "var.setdefault('key1',20)\n",
    "var.setdefault('key2',30)\n",
    "print(var) # 그대로 유지됨"
   ]
  },
  {
   "cell_type": "markdown",
   "metadata": {},
   "source": [
    "#### keys(), values(), items() 모두 리스트는 아니라 인덱싱, 슬라이싱은 불가하나, 반복문은 돌릴수 있음. 이것을 이터레이터라고 함. 리스트로 만들고 싶으면 list()를 사용하면 됨"
   ]
  },
  {
   "cell_type": "markdown",
   "metadata": {},
   "source": [
    "* keys() 함수를 이용하면 키를 리스트처럼 만들 수 있음, 진짜 리스트는 아니므로 인덱싱 할 수 없음"
   ]
  },
  {
   "cell_type": "code",
   "execution_count": 40,
   "metadata": {},
   "outputs": [
    {
     "name": "stdout",
     "output_type": "stream",
     "text": [
      "dict_keys(['key1', 'key2', 'key3'])\n"
     ]
    }
   ],
   "source": [
    "var = {'key1':'value1','key2':'value2','key3':'value3'}\n",
    "print(var.keys())"
   ]
  },
  {
   "cell_type": "markdown",
   "metadata": {},
   "source": [
    "* values() 함수를 이용하면 value를 리스트처럼 만들수 있으나, 진짜 리스트는 아니므로 인뎃싱 불가"
   ]
  },
  {
   "cell_type": "code",
   "execution_count": 41,
   "metadata": {},
   "outputs": [
    {
     "name": "stdout",
     "output_type": "stream",
     "text": [
      "dict_values(['value1', 'value2', 'value3'])\n"
     ]
    }
   ],
   "source": [
    "var = {'key1':'value1','key2':'value2','key3':'value3'}\n",
    "print(var.values())"
   ]
  },
  {
   "cell_type": "markdown",
   "metadata": {},
   "source": [
    "* items() 함수를 이용하면 (key,value)를 리스트처럼 만들수 있으나, 리스트는 아니므로 인덱싱 불가\n"
   ]
  },
  {
   "cell_type": "code",
   "execution_count": 42,
   "metadata": {},
   "outputs": [
    {
     "name": "stdout",
     "output_type": "stream",
     "text": [
      "dict_items([('key1', 'value1'), ('key2', 'value2'), ('key3', 'value3')])\n"
     ]
    }
   ],
   "source": [
    "var = {'key1':'value1','key2':'value2','key3':'value3'}\n",
    "print(var.items())"
   ]
  },
  {
   "cell_type": "code",
   "execution_count": 46,
   "metadata": {},
   "outputs": [
    {
     "name": "stdout",
     "output_type": "stream",
     "text": [
      "dict_values(['value1', 'value2', 'value3'])\n"
     ]
    },
    {
     "ename": "TypeError",
     "evalue": "'dict_values' object is not subscriptable",
     "output_type": "error",
     "traceback": [
      "\u001b[1;31m---------------------------------------------------------------------------\u001b[0m",
      "\u001b[1;31mTypeError\u001b[0m                                 Traceback (most recent call last)",
      "\u001b[1;32m<ipython-input-46-b9344c39e57a>\u001b[0m in \u001b[0;36m<module>\u001b[1;34m\u001b[0m\n\u001b[0;32m      2\u001b[0m \u001b[0mvalues\u001b[0m \u001b[1;33m=\u001b[0m \u001b[0mvar\u001b[0m\u001b[1;33m.\u001b[0m\u001b[0mvalues\u001b[0m\u001b[1;33m(\u001b[0m\u001b[1;33m)\u001b[0m\u001b[1;33m\u001b[0m\u001b[1;33m\u001b[0m\u001b[0m\n\u001b[0;32m      3\u001b[0m \u001b[0mprint\u001b[0m\u001b[1;33m(\u001b[0m\u001b[0mvalues\u001b[0m\u001b[1;33m)\u001b[0m\u001b[1;33m\u001b[0m\u001b[1;33m\u001b[0m\u001b[0m\n\u001b[1;32m----> 4\u001b[1;33m \u001b[0mprint\u001b[0m\u001b[1;33m(\u001b[0m\u001b[0mvalues\u001b[0m\u001b[1;33m[\u001b[0m\u001b[1;36m0\u001b[0m\u001b[1;33m]\u001b[0m\u001b[1;33m)\u001b[0m\u001b[1;33m\u001b[0m\u001b[1;33m\u001b[0m\u001b[0m\n\u001b[0m",
      "\u001b[1;31mTypeError\u001b[0m: 'dict_values' object is not subscriptable"
     ]
    }
   ],
   "source": [
    "var = {'key1':'value1','key2':'value2','key3':'value3'}\n",
    "values = var.values() \n",
    "print(values)\n",
    "print(values[0]) # 진짜 리스트가 아니므로 인덱싱 불가"
   ]
  },
  {
   "cell_type": "code",
   "execution_count": 47,
   "metadata": {},
   "outputs": [
    {
     "name": "stdout",
     "output_type": "stream",
     "text": [
      "['value1', 'value2', 'value3']\n",
      "value1\n"
     ]
    }
   ],
   "source": [
    "var = {'key1':'value1','key2':'value2','key3':'value3'}\n",
    "values = list(var.values()) # 리스트로 만들 수 있음\n",
    "print(values)\n",
    "print(values[0]) # 그럼 인덱싱 가능"
   ]
  },
  {
   "cell_type": "markdown",
   "metadata": {},
   "source": [
    "* 키 존재 유무 검사"
   ]
  },
  {
   "cell_type": "code",
   "execution_count": 48,
   "metadata": {},
   "outputs": [
    {
     "name": "stdout",
     "output_type": "stream",
     "text": [
      "True\n",
      "False\n"
     ]
    }
   ],
   "source": [
    "var = {'key1':'value1','key2':'value2','key3':'value3'}\n",
    "print('key1' in var)\n",
    "print('hello' in var)"
   ]
  },
  {
   "cell_type": "markdown",
   "metadata": {},
   "source": [
    "* 튜플에 요소값이 하나일때는 ,를 꼭 써줘야함. 안 그러면 int로 인식"
   ]
  },
  {
   "cell_type": "code",
   "execution_count": 50,
   "metadata": {},
   "outputs": [
    {
     "name": "stdout",
     "output_type": "stream",
     "text": [
      "1\n",
      "<class 'int'>\n"
     ]
    }
   ],
   "source": [
    "var1 = (1)\n",
    "print(var1)\n",
    "print(type(var1))"
   ]
  },
  {
   "cell_type": "code",
   "execution_count": 51,
   "metadata": {},
   "outputs": [
    {
     "name": "stdout",
     "output_type": "stream",
     "text": [
      "(1,)\n",
      "<class 'tuple'>\n"
     ]
    }
   ],
   "source": [
    "var1 = (1,)\n",
    "print(var1)\n",
    "print(type(var1))"
   ]
  },
  {
   "cell_type": "code",
   "execution_count": 53,
   "metadata": {},
   "outputs": [
    {
     "name": "stdout",
     "output_type": "stream",
     "text": [
      "hello\n",
      "world\n",
      "last\n"
     ]
    }
   ],
   "source": [
    "condition_t = True\n",
    "condition_f = False\n",
    "\n",
    "if condition_t:\n",
    "    print('hello')\n",
    "    print('world')\n",
    "if condition_f:\n",
    "    print('HELLO')\n",
    "    print('WORLD')\n",
    "print('last')"
   ]
  },
  {
   "cell_type": "code",
   "execution_count": 54,
   "metadata": {},
   "outputs": [
    {
     "name": "stdout",
     "output_type": "stream",
     "text": [
      "첫번째 조건\n"
     ]
    }
   ],
   "source": [
    "condition1 = True\n",
    "condition2 = True\n",
    "condition3 = True\n",
    "\n",
    "if condition1:\n",
    "    print('첫번째 조건')\n",
    "elif condition2:\n",
    "    print('두번째 조건')\n",
    "elif condition3:\n",
    "    print('세번째 조건')\n",
    "else:\n",
    "    print('네번째 조건')"
   ]
  },
  {
   "cell_type": "code",
   "execution_count": 55,
   "metadata": {},
   "outputs": [
    {
     "name": "stdout",
     "output_type": "stream",
     "text": [
      "hello world에 h가 포함되어 있습니다.\n"
     ]
    }
   ],
   "source": [
    "if 'h' in 'hello world':\n",
    "    print('hello world에 h가 포함되어 있습니다.')\n",
    "if 1 in [11,22,33,44,55,66]:\n",
    "    print([11,22,33,44,55,66], '에 1이 포함됩니다.')"
   ]
  },
  {
   "cell_type": "code",
   "execution_count": 56,
   "metadata": {},
   "outputs": [
    {
     "name": "stdout",
     "output_type": "stream",
     "text": [
      "0 번째\n",
      "1 번째\n",
      "2 번째\n",
      "3 번째\n",
      "4 번째\n"
     ]
    }
   ],
   "source": [
    "count = 0\n",
    "while count <5:\n",
    "    print('%d 번째'%(count))\n",
    "    count +=1"
   ]
  },
  {
   "cell_type": "code",
   "execution_count": 57,
   "metadata": {},
   "outputs": [
    {
     "name": "stdout",
     "output_type": "stream",
     "text": [
      "0 번째\n",
      "1 번째\n",
      "2 번째\n",
      "3 번째\n",
      "4 번째\n"
     ]
    }
   ],
   "source": [
    "for i in range(0,5):\n",
    "    print('%d 번째'%(i))"
   ]
  },
  {
   "cell_type": "code",
   "execution_count": 58,
   "metadata": {},
   "outputs": [
    {
     "name": "stdout",
     "output_type": "stream",
     "text": [
      "h\n",
      "e\n",
      "l\n",
      "l\n",
      "o\n",
      " \n",
      "w\n",
      "o\n",
      "r\n",
      "l\n",
      "d\n"
     ]
    }
   ],
   "source": [
    "for i in 'hello world':\n",
    "    print(i)"
   ]
  },
  {
   "cell_type": "code",
   "execution_count": 59,
   "metadata": {},
   "outputs": [
    {
     "name": "stdout",
     "output_type": "stream",
     "text": [
      "11\n",
      "22\n",
      "33\n",
      "44\n",
      "55\n"
     ]
    }
   ],
   "source": [
    "for i in [11,22,33,44,55]:\n",
    "    print(i)"
   ]
  },
  {
   "cell_type": "code",
   "execution_count": 60,
   "metadata": {},
   "outputs": [
    {
     "name": "stdout",
     "output_type": "stream",
     "text": [
      "key1\n",
      "value1\n",
      "key2\n",
      "value2\n",
      "key3\n",
      "value3\n"
     ]
    }
   ],
   "source": [
    "var ={'key1':'value1','key2':'value2','key3':'value3'}\n",
    "for key in var:\n",
    "    print(key)\n",
    "    print(var[key])"
   ]
  },
  {
   "cell_type": "code",
   "execution_count": 61,
   "metadata": {},
   "outputs": [
    {
     "name": "stdout",
     "output_type": "stream",
     "text": [
      "2 * 2 =4\n",
      "2 * 3 =6\n",
      "2 * 4 =8\n",
      "3 * 2 =6\n",
      "3 * 3 =9\n",
      "3 * 4 =12\n",
      "4 * 2 =8\n",
      "4 * 3 =12\n",
      "4 * 4 =16\n"
     ]
    }
   ],
   "source": [
    "for i in range(2,5):\n",
    "    for j in range(2,5):\n",
    "        print('%d * %d =%d'%(i,j,i*j))"
   ]
  },
  {
   "cell_type": "markdown",
   "metadata": {},
   "source": [
    "* 문자열의 단어 등장 빈도수를 측정하는 코드"
   ]
  },
  {
   "cell_type": "code",
   "execution_count": 63,
   "metadata": {},
   "outputs": [],
   "source": [
    "var ='egoism,as a form of hedonism, is the doctirne which holds that we ought each of us to pursue our own greates gappiness as our ultimate end. the doctrine will , of course, admit that sometimes the best means to the end will be to give pleasure to others; we shall, for instance, by so doing , procure for ourselves the pleasure of sympathy, of freedom from interference, and of self- esteem; and these pleasures, which we may procure by something aiming directly at the happiness of other persons , may be greater than any we could otherwise get.'"
   ]
  },
  {
   "cell_type": "code",
   "execution_count": 65,
   "metadata": {},
   "outputs": [],
   "source": [
    "space_ps = var.split(' ')"
   ]
  },
  {
   "cell_type": "code",
   "execution_count": 67,
   "metadata": {},
   "outputs": [],
   "source": [
    "char_frequency ={}"
   ]
  },
  {
   "cell_type": "code",
   "execution_count": 68,
   "metadata": {},
   "outputs": [
    {
     "name": "stdout",
     "output_type": "stream",
     "text": [
      "{'egoism,as': 1, 'a': 1, 'form': 1, 'of': 7, 'hedonism,': 1, 'is': 1, 'the': 6, 'doctirne': 1, 'which': 2, 'holds': 1, 'that': 2, 'we': 4, 'ought': 1, 'each': 1, 'us': 1, 'to': 4, 'pursue': 1, 'our': 2, 'own': 1, 'greates': 1, 'gappiness': 1, 'as': 1, 'ultimate': 1, 'end.': 1, 'doctrine': 1, 'will': 2, ',': 3, 'course,': 1, 'admit': 1, 'sometimes': 1, 'best': 1, 'means': 1, 'end': 1, 'be': 2, 'give': 1, 'pleasure': 2, 'others;': 1, 'shall,': 1, 'for': 2, 'instance,': 1, 'by': 2, 'so': 1, 'doing': 1, 'procure': 2, 'ourselves': 1, 'sympathy,': 1, 'freedom': 1, 'from': 1, 'interference,': 1, 'and': 2, 'self-': 1, 'esteem;': 1, 'these': 1, 'pleasures,': 1, 'may': 2, 'something': 1, 'aiming': 1, 'directly': 1, 'at': 1, 'happiness': 1, 'other': 1, 'persons': 1, 'greater': 1, 'than': 1, 'any': 1, 'could': 1, 'otherwise': 1, 'get.': 1}\n"
     ]
    }
   ],
   "source": [
    "for char in space_ps:\n",
    "    char_frequency.setdefault(char,0)\n",
    "    char_frequency[char] +=1\n",
    "print(char_frequency)"
   ]
  },
  {
   "cell_type": "code",
   "execution_count": null,
   "metadata": {},
   "outputs": [],
   "source": []
  }
 ],
 "metadata": {
  "kernelspec": {
   "display_name": "Python 3",
   "language": "python",
   "name": "python3"
  },
  "language_info": {
   "codemirror_mode": {
    "name": "ipython",
    "version": 3
   },
   "file_extension": ".py",
   "mimetype": "text/x-python",
   "name": "python",
   "nbconvert_exporter": "python",
   "pygments_lexer": "ipython3",
   "version": "3.6.10"
  }
 },
 "nbformat": 4,
 "nbformat_minor": 2
}
