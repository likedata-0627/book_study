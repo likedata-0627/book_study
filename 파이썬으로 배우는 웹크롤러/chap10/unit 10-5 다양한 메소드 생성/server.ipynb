{
 "cells": [
  {
   "cell_type": "markdown",
   "metadata": {},
   "source": [
    ">* 클라이언트는 url을 통해 서버에 데이터를 요청할 수있다고 했음\n",
    ">* path에 실어 보내기, 쿼리스트링 이용하기, post요청일때 body에 포함해 보내기\n",
    ">* 서버에는 각각의 데이터를 사용할 수 있음\n",
    ">* "
   ]
  },
  {
   "cell_type": "code",
   "execution_count": null,
   "metadata": {},
   "outputs": [
    {
     "name": "stdout",
     "output_type": "stream",
     "text": [
      " * Serving Flask app \"__main__\" (lazy loading)\n",
      " * Environment: production\n",
      "   WARNING: This is a development server. Do not use it in a production deployment.\n",
      "   Use a production WSGI server instead.\n",
      " * Debug mode: off\n"
     ]
    },
    {
     "name": "stderr",
     "output_type": "stream",
     "text": [
      " * Running on http://127.0.0.1:5000/ (Press CTRL+C to quit)\n"
     ]
    }
   ],
   "source": [
    "from flask import Flask, request\n",
    "\n",
    "app = Flask(__name__)\n",
    "\n",
    "@app.route('/test/<data>', methods = ['GET'])\n",
    "def hi(data):\n",
    "    return data\n",
    "\n",
    "@app.route('/api1', methods = ['GET'])\n",
    "def test1():\n",
    "    return request.args.get('data')\n",
    "\n",
    "@app.route('/api2', methods = ['GET'])\n",
    "def test2():\n",
    "    return request.form('data')\n",
    "\n",
    "if __name__ == '__main__':\n",
    "    app.run()"
   ]
  }
 ],
 "metadata": {
  "kernelspec": {
   "display_name": "Python 3",
   "language": "python",
   "name": "python3"
  },
  "language_info": {
   "codemirror_mode": {
    "name": "ipython",
    "version": 3
   },
   "file_extension": ".py",
   "mimetype": "text/x-python",
   "name": "python",
   "nbconvert_exporter": "python",
   "pygments_lexer": "ipython3",
   "version": "3.7.6"
  }
 },
 "nbformat": 4,
 "nbformat_minor": 4
}
