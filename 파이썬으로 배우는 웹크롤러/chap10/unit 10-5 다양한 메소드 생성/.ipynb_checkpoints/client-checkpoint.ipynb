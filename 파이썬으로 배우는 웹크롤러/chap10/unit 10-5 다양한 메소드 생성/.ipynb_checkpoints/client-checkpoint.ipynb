{
 "cells": [
  {
   "cell_type": "markdown",
   "metadata": {},
   "source": [
    ">* 서버 url에서 path 자리에 데이터를 실어 보내고, 쿼리스트링에 실어보내고, post요청시 body에 데이터를 실어보내는 코드\n",
    ">* request를 이용하면 클라이언트가 요청한 데이터를 가져 올 수 있음\n",
    ">* 쿼리스트링은 request.args.get('데이터')을 이용"
   ]
  },
  {
   "cell_type": "code",
   "execution_count": 8,
   "metadata": {},
   "outputs": [
    {
     "name": "stdout",
     "output_type": "stream",
     "text": [
      "<Response [404]>\n",
      "<Response [404]>\n",
      "<Response [404]>\n",
      "http://127.0.0.1:5000/test/data\n",
      "http://127.0.0.1:5000/api1?data=get_data\n",
      "http://127.0.0.1:5000/api2\n",
      "b'<!DOCTYPE HTML PUBLIC \"-//W3C//DTD HTML 3.2 Final//EN\">\\n<title>404 Not Found</title>\\n<h1>Not Found</h1>\\n<p>The requested URL was not found on the server. If you entered the URL manually please check your spelling and try again.</p>\\n'\n",
      "b'<!DOCTYPE HTML PUBLIC \"-//W3C//DTD HTML 3.2 Final//EN\">\\n<title>404 Not Found</title>\\n<h1>Not Found</h1>\\n<p>The requested URL was not found on the server. If you entered the URL manually please check your spelling and try again.</p>\\n'\n",
      "b'<!DOCTYPE HTML PUBLIC \"-//W3C//DTD HTML 3.2 Final//EN\">\\n<title>404 Not Found</title>\\n<h1>Not Found</h1>\\n<p>The requested URL was not found on the server. If you entered the URL manually please check your spelling and try again.</p>\\n'\n"
     ]
    }
   ],
   "source": [
    "import requests as rq\n",
    "\n",
    "url = 'http://127.0.0.1:5000'\n",
    "\n",
    "res1 = rq.get(url + '/test/data')\n",
    "res2 = rq.get(url + '/api1', params={'data':'get_data'})\n",
    "res3 = rq.post(url + '/api2', data={'data':'post_data'})\n",
    "\n",
    "print(res1)\n",
    "print(res2)\n",
    "print(res3)\n",
    "\n",
    "print(res1.url)\n",
    "print(res2.url)\n",
    "print(res3.url)\n",
    "\n",
    "print(res1.content)\n",
    "print(res2.content)\n",
    "print(res3.content)"
   ]
  }
 ],
 "metadata": {
  "kernelspec": {
   "display_name": "Python 3",
   "language": "python",
   "name": "python3"
  },
  "language_info": {
   "codemirror_mode": {
    "name": "ipython",
    "version": 3
   },
   "file_extension": ".py",
   "mimetype": "text/x-python",
   "name": "python",
   "nbconvert_exporter": "python",
   "pygments_lexer": "ipython3",
   "version": "3.7.6"
  }
 },
 "nbformat": 4,
 "nbformat_minor": 4
}
