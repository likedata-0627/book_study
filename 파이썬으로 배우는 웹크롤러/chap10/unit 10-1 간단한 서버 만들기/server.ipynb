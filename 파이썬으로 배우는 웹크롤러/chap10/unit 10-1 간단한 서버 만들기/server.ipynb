{
 "cells": [
  {
   "cell_type": "markdown",
   "metadata": {},
   "source": [
    ">* flask를 이용하면 서버를 만들 수 있음, 파이썬에서 서버를 만들 수 있는 프레임워크 중 하나\n",
    ">* 127.0.0.1은 로컬 호스트, 루프백 주소라고 부르며, 해당 서버가 켜진 컴퓨터로 접속할 수 있는 ip 주소\n",
    ">* 즉 서버가 실행되고 있는 장비의 ip로 요청하는 것을 의미\n",
    ">* @app.route('/')은 파이썬에서 데코레이터라고 하는 문법으로 /로 요청이 들어오면 hi()함수가 함출된다고 이해하면 됨. \n",
    ">* 만약에 @app.route('/hi')였따면 /hi로 요청이 들어오면 hi함수가 호출됨."
   ]
  },
  {
   "cell_type": "code",
   "execution_count": null,
   "metadata": {},
   "outputs": [
    {
     "name": "stdout",
     "output_type": "stream",
     "text": [
      " * Serving Flask app \"__main__\" (lazy loading)\n",
      " * Environment: production\n",
      "   WARNING: This is a development server. Do not use it in a production deployment.\n",
      "   Use a production WSGI server instead.\n",
      " * Debug mode: off\n"
     ]
    },
    {
     "name": "stderr",
     "output_type": "stream",
     "text": [
      " * Running on http://127.0.0.1:5000/ (Press CTRL+C to quit)\n",
      "127.0.0.1 - - [22/Feb/2020 17:13:02] \"\u001b[37mGET / HTTP/1.1\u001b[0m\" 200 -\n",
      "127.0.0.1 - - [22/Feb/2020 17:13:11] \"\u001b[37mGET / HTTP/1.1\u001b[0m\" 200 -\n"
     ]
    }
   ],
   "source": [
    "from flask import Flask\n",
    "\n",
    "app = Flask(__name__)\n",
    "\n",
    "@app.route('/')\n",
    "def hi():\n",
    "    return 'Hello World'\n",
    "\n",
    "if __name__ == '__main__' :\n",
    "    app.run()"
   ]
  },
  {
   "cell_type": "code",
   "execution_count": null,
   "metadata": {},
   "outputs": [],
   "source": []
  }
 ],
 "metadata": {
  "kernelspec": {
   "display_name": "Python 3",
   "language": "python",
   "name": "python3"
  },
  "language_info": {
   "codemirror_mode": {
    "name": "ipython",
    "version": 3
   },
   "file_extension": ".py",
   "mimetype": "text/x-python",
   "name": "python",
   "nbconvert_exporter": "python",
   "pygments_lexer": "ipython3",
   "version": "3.7.6"
  }
 },
 "nbformat": 4,
 "nbformat_minor": 4
}
