{
 "cells": [
  {
   "cell_type": "markdown",
   "metadata": {},
   "source": [
    ">* request는 클라이언트가 요청한 정보를 가져오는데 필요한 함수\n",
    ">* request.method()를 print()로 출력을 하면 요청들어온 메소드를 출력 할 수있음"
   ]
  },
  {
   "cell_type": "code",
   "execution_count": 4,
   "metadata": {},
   "outputs": [
    {
     "name": "stdout",
     "output_type": "stream",
     "text": [
      "<Response [200]>\n",
      "<Response [404]>\n",
      "<Response [404]>\n",
      "b'Hello World'\n",
      "b'<!DOCTYPE HTML PUBLIC \"-//W3C//DTD HTML 3.2 Final//EN\">\\n<title>404 Not Found</title>\\n<h1>Not Found</h1>\\n<p>The requested URL was not found on the server. If you entered the URL manually please check your spelling and try again.</p>\\n'\n",
      "b'<!DOCTYPE HTML PUBLIC \"-//W3C//DTD HTML 3.2 Final//EN\">\\n<title>404 Not Found</title>\\n<h1>Not Found</h1>\\n<p>The requested URL was not found on the server. If you entered the URL manually please check your spelling and try again.</p>\\n'\n",
      "<Response [405]>\n",
      "<Response [404]>\n",
      "<Response [404]>\n",
      "b'<!DOCTYPE HTML PUBLIC \"-//W3C//DTD HTML 3.2 Final//EN\">\\n<title>405 Method Not Allowed</title>\\n<h1>Method Not Allowed</h1>\\n<p>The method is not allowed for the requested URL.</p>\\n'\n",
      "b'<!DOCTYPE HTML PUBLIC \"-//W3C//DTD HTML 3.2 Final//EN\">\\n<title>404 Not Found</title>\\n<h1>Not Found</h1>\\n<p>The requested URL was not found on the server. If you entered the URL manually please check your spelling and try again.</p>\\n'\n",
      "b'<!DOCTYPE HTML PUBLIC \"-//W3C//DTD HTML 3.2 Final//EN\">\\n<title>404 Not Found</title>\\n<h1>Not Found</h1>\\n<p>The requested URL was not found on the server. If you entered the URL manually please check your spelling and try again.</p>\\n'\n"
     ]
    }
   ],
   "source": [
    "import requests as rq\n",
    "\n",
    "url = 'http://127.0.0.1:5000'\n",
    "\n",
    "get_res1 = rq.get(url)\n",
    "get_res2 = rq.get(url + '/api1')\n",
    "get_res3 = rq.get(url + '/api2')\n",
    "\n",
    "post_res1 = rq.post(url)\n",
    "post_res2 = rq.post(url + '/api1')\n",
    "post_res3 = rq.post(url + '/api2')\n",
    "\n",
    "print(get_res1)\n",
    "print(get_res2)\n",
    "print(get_res3)\n",
    "\n",
    "print(get_res1.content)\n",
    "print(get_res2.content)\n",
    "print(get_res3.content)\n",
    "\n",
    "print(post_res1)\n",
    "print(post_res2)\n",
    "print(post_res3)\n",
    "\n",
    "print(post_res1.content)\n",
    "print(post_res2.content)\n",
    "print(post_res3.content)\n"
   ]
  },
  {
   "cell_type": "code",
   "execution_count": null,
   "metadata": {},
   "outputs": [],
   "source": []
  }
 ],
 "metadata": {
  "kernelspec": {
   "display_name": "Python 3",
   "language": "python",
   "name": "python3"
  },
  "language_info": {
   "codemirror_mode": {
    "name": "ipython",
    "version": 3
   },
   "file_extension": ".py",
   "mimetype": "text/x-python",
   "name": "python",
   "nbconvert_exporter": "python",
   "pygments_lexer": "ipython3",
   "version": "3.7.6"
  }
 },
 "nbformat": 4,
 "nbformat_minor": 4
}
