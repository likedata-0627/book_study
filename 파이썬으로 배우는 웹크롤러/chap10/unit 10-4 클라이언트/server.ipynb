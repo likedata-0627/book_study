{
 "cells": [
  {
   "cell_type": "markdown",
   "metadata": {},
   "source": [
    ">* flask는 해당API에 다른 메소드를 요청하면 405 등답 코드를 줌\n",
    ">* 405 응답코드는 해당 요청이 들어온 방법을 사용할 수없다는 의미\n",
    ">* 이것은 잘못된 메소드를 요청했다고 이해하면 됨.\n",
    ">* @api.route()를 이용해 해당 API로 어떤 메소드를 사용할 지 설정할 수 있음\n",
    ">* 이럴때는 methods라는 키워드를 이용하여 사용 메소드를 리스트 형태로 넣어줌\n",
    ">* @app.route('/', methods=['GET','POST'])는 get요청과 post요청 둘다 사용 가능하다는 의미"
   ]
  },
  {
   "cell_type": "code",
   "execution_count": null,
   "metadata": {},
   "outputs": [
    {
     "name": "stdout",
     "output_type": "stream",
     "text": [
      " * Serving Flask app \"__main__\" (lazy loading)\n",
      " * Environment: production\n",
      "   WARNING: This is a development server. Do not use it in a production deployment.\n",
      "   Use a production WSGI server instead.\n",
      " * Debug mode: off\n"
     ]
    },
    {
     "name": "stderr",
     "output_type": "stream",
     "text": [
      " * Running on http://127.0.0.1:5000/ (Press CTRL+C to quit)\n"
     ]
    }
   ],
   "source": [
    "from flask import Flask\n",
    "\n",
    "app = Flask(__name__)\n",
    "\n",
    "@app.route('/', methods=['GET','POST'])\n",
    "def hi():\n",
    "    print(request.method)\n",
    "    return 'Hello World'\n",
    "\n",
    "@app.route('/api1', methods=['GET'])\n",
    "def test1():\n",
    "    print(request.method)\n",
    "    return 'tset1'\n",
    "\n",
    "@app.route('/api2', methods=['POST'])\n",
    "def test2():\n",
    "    print(request.method)\n",
    "    return 'test2'\n",
    "\n",
    "if __name__ == '__main__':\n",
    "    app.run()"
   ]
  }
 ],
 "metadata": {
  "kernelspec": {
   "display_name": "Python 3",
   "language": "python",
   "name": "python3"
  },
  "language_info": {
   "codemirror_mode": {
    "name": "ipython",
    "version": 3
   },
   "file_extension": ".py",
   "mimetype": "text/x-python",
   "name": "python",
   "nbconvert_exporter": "python",
   "pygments_lexer": "ipython3",
   "version": "3.7.6"
  }
 },
 "nbformat": 4,
 "nbformat_minor": 4
}
