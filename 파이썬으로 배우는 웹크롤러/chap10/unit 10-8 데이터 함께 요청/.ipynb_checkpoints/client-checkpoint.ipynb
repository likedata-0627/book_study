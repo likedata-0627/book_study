{
 "cells": [
  {
   "cell_type": "code",
   "execution_count": 1,
   "metadata": {},
   "outputs": [
    {
     "name": "stdout",
     "output_type": "stream",
     "text": [
      "<Response [404]>\n",
      "<Response [404]>\n",
      "<Response [404]>\n",
      "http://127.0.0.1:5000/test.data\n",
      "http://127.0.0.1:5000/api1?data=get_data\n",
      "http://127.0.0.1:5000/api2\n",
      "b'<!DOCTYPE HTML PUBLIC \"-//W3C//DTD HTML 3.2 Final//EN\">\\n<title>404 Not Found</title>\\n<h1>Not Found</h1>\\n<p>The requested URL was not found on the server. If you entered the URL manually please check your spelling and try again.</p>\\n'\n",
      "b'<!DOCTYPE HTML PUBLIC \"-//W3C//DTD HTML 3.2 Final//EN\">\\n<title>404 Not Found</title>\\n<h1>Not Found</h1>\\n<p>The requested URL was not found on the server. If you entered the URL manually please check your spelling and try again.</p>\\n'\n",
      "b'<!DOCTYPE HTML PUBLIC \"-//W3C//DTD HTML 3.2 Final//EN\">\\n<title>404 Not Found</title>\\n<h1>Not Found</h1>\\n<p>The requested URL was not found on the server. If you entered the URL manually please check your spelling and try again.</p>\\n'\n"
     ]
    }
   ],
   "source": [
    "import requests as rq\n",
    "\n",
    "url = 'http://127.0.0.1:5000'\n",
    "\n",
    "res1 = rq.get(url + '/test.data')\n",
    "res2 = rq.get(url + '/api1', params = {'data':'get_data'})\n",
    "res3 = rq.get(url + '/api2', data = {'data':'post_data'})\n",
    "\n",
    "print(res1)\n",
    "print(res2)\n",
    "print(res3)\n",
    "\n",
    "print(res1.url)\n",
    "print(res2.url)\n",
    "print(res3.url)\n",
    "\n",
    "print(res1.content)\n",
    "print(res2.content)\n",
    "print(res3.content)"
   ]
  },
  {
   "cell_type": "code",
   "execution_count": null,
   "metadata": {},
   "outputs": [],
   "source": []
  }
 ],
 "metadata": {
  "kernelspec": {
   "display_name": "Python 3",
   "language": "python",
   "name": "python3"
  },
  "language_info": {
   "codemirror_mode": {
    "name": "ipython",
    "version": 3
   },
   "file_extension": ".py",
   "mimetype": "text/x-python",
   "name": "python",
   "nbconvert_exporter": "python",
   "pygments_lexer": "ipython3",
   "version": "3.7.6"
  }
 },
 "nbformat": 4,
 "nbformat_minor": 4
}
