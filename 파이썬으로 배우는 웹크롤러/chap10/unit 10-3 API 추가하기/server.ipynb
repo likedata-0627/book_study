{
 "cells": [
  {
   "cell_type": "markdown",
   "metadata": {},
   "source": [
    ">* 라우터를 추가할 때 @app.route() 하면 됨.\n",
    ">* API를 /,/api1,/api2 부분을 라우팅 된다고 표현\n",
    ">* 라우팅은 외부의 요청에 따라 특정 부분으로 연결하는 것을 의미\n",
    ">* 즉, 서버는 URL상태에 따라 특정 함수를 실행\n",
    ">* /,/api1,/api2 부분이 서버에 자원을 요청하는 의미로\n",
    ">* URL에 따라 서버는 다른 함수를 사용\n",
    ">* 여기에 정의되지 않은URL로 접근한다면 404응답 코드가 발생\n",
    ">* 404 응답 코드는 서버에 자원이 없을 때 응답하는 코드"
   ]
  },
  {
   "cell_type": "code",
   "execution_count": null,
   "metadata": {
    "scrolled": true
   },
   "outputs": [
    {
     "name": "stdout",
     "output_type": "stream",
     "text": [
      " * Serving Flask app \"__main__\" (lazy loading)\n",
      " * Environment: production\n",
      "   WARNING: This is a development server. Do not use it in a production deployment.\n",
      "   Use a production WSGI server instead.\n",
      " * Debug mode: off\n"
     ]
    },
    {
     "name": "stderr",
     "output_type": "stream",
     "text": [
      " * Running on http://127.0.0.1:5000/ (Press CTRL+C to quit)\n"
     ]
    }
   ],
   "source": [
    "from flask import Flask\n",
    "\n",
    "app = Flask(__name__)\n",
    "\n",
    "@app.route('/')\n",
    "def hi():\n",
    "    return 'Hello World!'\n",
    "\n",
    "@app.route('/api1')\n",
    "def test1():\n",
    "    return 'test1'\n",
    "\n",
    "@app.route('/api2')\n",
    "def test2():\n",
    "    return 'test2'\n",
    "\n",
    "if __name__ == '__main__':\n",
    "    app.run()\n"
   ]
  },
  {
   "cell_type": "code",
   "execution_count": null,
   "metadata": {},
   "outputs": [],
   "source": []
  }
 ],
 "metadata": {
  "kernelspec": {
   "display_name": "Python 3",
   "language": "python",
   "name": "python3"
  },
  "language_info": {
   "codemirror_mode": {
    "name": "ipython",
    "version": 3
   },
   "file_extension": ".py",
   "mimetype": "text/x-python",
   "name": "python",
   "nbconvert_exporter": "python",
   "pygments_lexer": "ipython3",
   "version": "3.7.6"
  }
 },
 "nbformat": 4,
 "nbformat_minor": 4
}
