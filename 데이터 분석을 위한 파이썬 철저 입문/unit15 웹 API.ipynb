{
 "cells": [
  {
   "cell_type": "markdown",
   "metadata": {},
   "source": [
    "# 15-1 웹 API의 이해"
   ]
  },
  {
   "cell_type": "markdown",
   "metadata": {},
   "source": [
    "## 웹 API의 데이터 획득 과정\n",
    "### 웹 APi의 인증방식\n",
    "### 응답 데이터의 형식 및 처리\n",
    "#### json 형식의 데이터 처리"
   ]
  },
  {
   "cell_type": "markdown",
   "metadata": {},
   "source": [
    "#### 웹 api로 요청해서 응답받은 데이터의 형식은 주로 json과 xml\n",
    "#### json과 xml은 웹 서버에 클라이언트로 데이터를 전달하기 위해 만든 구조화된 텍스트 형식. \n",
    "#### xml이 먼저 사용 되었는데  덱스트 크기가 크고 형식이ㅏ 복잡하다는 문제가 있었음\n",
    "#### json은 xml보완용으로 나왔는데 구조가 단순하고 덱스트의 크기가 작아서 인터넷상에서 데이터를 전송할 때 좀 더 빠르게 전송할 수 있으며 \n",
    "#### 데이터 추출을 위한 분석이 더 쉬움. "
   ]
  },
  {
   "cell_type": "markdown",
   "metadata": {},
   "source": [
    "#### json = javascript Object Notation\n",
    "#### 하나의 데이터 집합을 객체라고 하는데 기본적인 개체 구성은 '이름:값'으로 이루어진 쌍의 집합\n",
    "#### 객체는 중괄호{}로 감싸며, 이름: 값으로 이루어진 각쌍은 콤마로 구분"
   ]
  },
  {
   "cell_type": "code",
   "execution_count": 1,
   "metadata": {},
   "outputs": [
    {
     "data": {
      "text/plain": [
       "dict"
      ]
     },
     "execution_count": 1,
     "metadata": {},
     "output_type": "execute_result"
    }
   ],
   "source": [
    "import json\n",
    "\n",
    "python_dict={\n",
    "    \n",
    "    \"이름\":\"홍길동\",\n",
    "    \"나이\":25,\n",
    "    \"거주지\":\"서울\",\n",
    "    \"신체정보\":{\n",
    "        \"키\":175.4,\n",
    "        \"몸무게\":71.2\n",
    "    },\n",
    "    \"취미\":[\n",
    "        \"등산\",\n",
    "        \"자전거타기\",\n",
    "        \"독서\"\n",
    "    ]\n",
    "}\n",
    "\n",
    "type(python_dict)"
   ]
  },
  {
   "cell_type": "code",
   "execution_count": 2,
   "metadata": {},
   "outputs": [
    {
     "data": {
      "text/plain": [
       "str"
      ]
     },
     "execution_count": 2,
     "metadata": {},
     "output_type": "execute_result"
    }
   ],
   "source": [
    "json_data = json.dumps(python_dict)\n",
    "type(json_data)"
   ]
  },
  {
   "cell_type": "markdown",
   "metadata": {},
   "source": [
    "#### 파이썬 데이터를 json형태로 변환하려면 json.dumpps()\n",
    "#### json.dumps(pytho_data[, indent=n, sort_keys=True or False, ensure_ascii = True or False])\n",
    "#### indent = n은 n칸만큼 들여쓰겠다는 의미\n",
    "#### sort_keys 는 파이썬의 데이터가 딕셔너리 타입일 경우 키(key)값를 기준으로 정렬할지를 정하고, \n",
    "#### ensure_ascii는 ASCII 코드로 구성된 문자열인지를 성정, 파이썬 데이터에 한글이 있는 경우느 'ensure_ascii=False' 로 설정"
   ]
  },
  {
   "cell_type": "code",
   "execution_count": 3,
   "metadata": {},
   "outputs": [
    {
     "name": "stdout",
     "output_type": "stream",
     "text": [
      "{\"\\uc774\\ub984\": \"\\ud64d\\uae38\\ub3d9\", \"\\ub098\\uc774\": 25, \"\\uac70\\uc8fc\\uc9c0\": \"\\uc11c\\uc6b8\", \"\\uc2e0\\uccb4\\uc815\\ubcf4\": {\"\\ud0a4\": 175.4, \"\\ubab8\\ubb34\\uac8c\": 71.2}, \"\\ucde8\\ubbf8\": [\"\\ub4f1\\uc0b0\", \"\\uc790\\uc804\\uac70\\ud0c0\\uae30\", \"\\ub3c5\\uc11c\"]}\n"
     ]
    }
   ],
   "source": [
    "print(json_data)"
   ]
  },
  {
   "cell_type": "code",
   "execution_count": 4,
   "metadata": {},
   "outputs": [
    {
     "name": "stdout",
     "output_type": "stream",
     "text": [
      "{\n",
      "   \"거주지\": \"서울\",\n",
      "   \"나이\": 25,\n",
      "   \"신체정보\": {\n",
      "      \"몸무게\": 71.2,\n",
      "      \"키\": 175.4\n",
      "   },\n",
      "   \"이름\": \"홍길동\",\n",
      "   \"취미\": [\n",
      "      \"등산\",\n",
      "      \"자전거타기\",\n",
      "      \"독서\"\n",
      "   ]\n",
      "}\n"
     ]
    }
   ],
   "source": [
    "json_data = json.dumps(python_dict, indent=3, sort_keys=True, ensure_ascii = False)\n",
    "print(json_data)"
   ]
  },
  {
   "cell_type": "code",
   "execution_count": null,
   "metadata": {},
   "outputs": [],
   "source": [
    "#### json형태의 에이터를 파이썬에서 사용할 수 있도록 데이터 타입으로 변환하려면 json.loads()\n",
    "#### json.loads(json_data)"
   ]
  },
  {
   "cell_type": "code",
   "execution_count": 5,
   "metadata": {},
   "outputs": [
    {
     "data": {
      "text/plain": [
       "dict"
      ]
     },
     "execution_count": 5,
     "metadata": {},
     "output_type": "execute_result"
    }
   ],
   "source": [
    "json_dict = json.loads(json_data)\n",
    "type(json_dict)"
   ]
  },
  {
   "cell_type": "code",
   "execution_count": 6,
   "metadata": {},
   "outputs": [
    {
     "data": {
      "text/plain": [
       "71.2"
      ]
     },
     "execution_count": 6,
     "metadata": {},
     "output_type": "execute_result"
    }
   ],
   "source": [
    "json_dict['신체정보']['몸무게']"
   ]
  },
  {
   "cell_type": "code",
   "execution_count": 7,
   "metadata": {},
   "outputs": [
    {
     "data": {
      "text/plain": [
       "['등산', '자전거타기', '독서']"
      ]
     },
     "execution_count": 7,
     "metadata": {},
     "output_type": "execute_result"
    }
   ],
   "source": [
    "json_dict['취미']"
   ]
  },
  {
   "cell_type": "code",
   "execution_count": 8,
   "metadata": {},
   "outputs": [
    {
     "data": {
      "text/plain": [
       "'등산'"
      ]
     },
     "execution_count": 8,
     "metadata": {},
     "output_type": "execute_result"
    }
   ],
   "source": [
    "json_dict['취미'][0]"
   ]
  },
  {
   "cell_type": "markdown",
   "metadata": {},
   "source": [
    "### xml 형식의 데이터 처리"
   ]
  },
  {
   "cell_type": "markdown",
   "metadata": {},
   "source": [
    "#### xml은 데이터 저장 및 전달을 위해 만든 다목적 마크업 언어\n",
    "#### 마크업 언어는 일반적인 텍스트와 구분되는 태그를 이용해 문서나 데이터를 구조화 하는 언어 => html이 대표적\n",
    "#### xml은 자신이 태그를 정의해서 사용할 수 있음"
   ]
  },
  {
   "cell_type": "code",
   "execution_count": 9,
   "metadata": {},
   "outputs": [
    {
     "name": "stdout",
     "output_type": "stream",
     "text": [
      "<?xml version=\"1.0\" encoding=\"UTF-8\" ?>\n",
      "<사용자정보>    \n",
      "    <이름>홍길동</이름>\n",
      "    <나이>25</나이>\n",
      "    <거주지>서울</거주지>\n",
      "    <신체정보>\n",
      "        <키 unit=\"cm\">175.4</키>\n",
      "        <몸무게 unit=\"kg\">71.2</몸무게>\n",
      "    </신체정보>\n",
      "    <취미>등산</취미>\n",
      "    <취미>자전거타기</취미>\n",
      "    <취미>독서</취미>\n",
      "</사용자정보>\n",
      "\n"
     ]
    }
   ],
   "source": [
    "xml_data =\"\"\"\n",
    "<?xml version=\"1.0\" encoding=\"UTF-8\" ?>\n",
    "<사용자정보>    \n",
    "    <이름>홍길동</이름>\n",
    "    <나이>25</나이>\n",
    "    <거주지>서울</거주지>\n",
    "    <신체정보>\n",
    "        <키 unit=\"cm\">175.4</키>\n",
    "        <몸무게 unit=\"kg\">71.2</몸무게>\n",
    "    </신체정보>\n",
    "    <취미>등산</취미>\n",
    "    <취미>자전거타기</취미>\n",
    "    <취미>독서</취미>\n",
    "</사용자정보>\n",
    "\"\"\"\n",
    "print(xml_data)"
   ]
  },
  {
   "cell_type": "code",
   "execution_count": 10,
   "metadata": {
    "scrolled": false
   },
   "outputs": [
    {
     "name": "stdout",
     "output_type": "stream",
     "text": [
      "Requirement already satisfied: xmltodict in c:\\users\\kiminae\\anaconda3\\envs\\study\\lib\\site-packages (0.12.0)\n",
      "Note: you may need to restart the kernel to use updated packages.\n"
     ]
    }
   ],
   "source": [
    "pip install xmltodict"
   ]
  },
  {
   "cell_type": "markdown",
   "metadata": {},
   "source": [
    "### xml 데이터를 파이썬의 딕셔너리 타입으로 바로 변환하는 라이브러리 = xmltodict\n",
    "#### xmltodict.parse(xml_input [, xml_attribs=True 혹은 False]) => true가 기본값\n",
    "#### True면 딕셔너리 데이터에서 속성을 '변수[tag]['@name'] 형식으로 가져오고 \n",
    "#### 속성을 갖는 태그의 문자열은 '변수[tag]'-['#text'] 형식으로 가져옴"
   ]
  },
  {
   "cell_type": "code",
   "execution_count": 11,
   "metadata": {},
   "outputs": [
    {
     "data": {
      "text/plain": [
       "OrderedDict([('사용자정보',\n",
       "              OrderedDict([('이름', '홍길동'),\n",
       "                           ('나이', '25'),\n",
       "                           ('거주지', '서울'),\n",
       "                           ('신체정보',\n",
       "                            OrderedDict([('키',\n",
       "                                          OrderedDict([('@unit', 'cm'),\n",
       "                                                       ('#text', '175.4')])),\n",
       "                                         ('몸무게',\n",
       "                                          OrderedDict([('@unit', 'kg'),\n",
       "                                                       ('#text', '71.2')]))])),\n",
       "                           ('취미', ['등산', '자전거타기', '독서'])]))])"
      ]
     },
     "execution_count": 11,
     "metadata": {},
     "output_type": "execute_result"
    }
   ],
   "source": [
    "import xmltodict\n",
    "\n",
    "dict_data = xmltodict.parse(xml_data, xml_attribs =  True)\n",
    "dict_data"
   ]
  },
  {
   "cell_type": "code",
   "execution_count": 12,
   "metadata": {},
   "outputs": [
    {
     "data": {
      "text/plain": [
       "'홍길동'"
      ]
     },
     "execution_count": 12,
     "metadata": {},
     "output_type": "execute_result"
    }
   ],
   "source": [
    "dict_data['사용자정보']['이름']"
   ]
  },
  {
   "cell_type": "code",
   "execution_count": 13,
   "metadata": {},
   "outputs": [
    {
     "data": {
      "text/plain": [
       "OrderedDict([('키', OrderedDict([('@unit', 'cm'), ('#text', '175.4')])),\n",
       "             ('몸무게', OrderedDict([('@unit', 'kg'), ('#text', '71.2')]))])"
      ]
     },
     "execution_count": 13,
     "metadata": {},
     "output_type": "execute_result"
    }
   ],
   "source": [
    "dict_data['사용자정보']['신체정보']"
   ]
  },
  {
   "cell_type": "code",
   "execution_count": 14,
   "metadata": {},
   "outputs": [
    {
     "data": {
      "text/plain": [
       "'cm'"
      ]
     },
     "execution_count": 14,
     "metadata": {},
     "output_type": "execute_result"
    }
   ],
   "source": [
    "# 키의 속성 추출하고 싶을때 \n",
    "dict_data['사용자정보']['신체정보']['키']['@unit']"
   ]
  },
  {
   "cell_type": "code",
   "execution_count": 15,
   "metadata": {},
   "outputs": [
    {
     "data": {
      "text/plain": [
       "'175.4'"
      ]
     },
     "execution_count": 15,
     "metadata": {},
     "output_type": "execute_result"
    }
   ],
   "source": [
    "# 문자열을 추출\n",
    "dict_data['사용자정보']['신체정보']['키']['#text']"
   ]
  },
  {
   "cell_type": "code",
   "execution_count": 16,
   "metadata": {},
   "outputs": [
    {
     "name": "stdout",
     "output_type": "stream",
     "text": [
      "사용자 홍길동의 신체정보\n",
      "*키:175.4cm\n",
      "몸무게:71.2kg\n"
     ]
    }
   ],
   "source": [
    "import xmltodict\n",
    "\n",
    "dict_data = xmltodict.parse(xml_data)\n",
    "\n",
    "user_name = dict_data['사용자정보']['이름']\n",
    "body_data =dict_data['사용자정보']['신체정보']\n",
    "\n",
    "height = body_data['키']['#text']\n",
    "height_unit = body_data['키']['@unit']\n",
    "\n",
    "weight = body_data['몸무게']['#text']\n",
    "weight_unit = body_data['몸무게']['@unit']\n",
    "\n",
    "print(\"사용자 {0}의 신체정보\".format(user_name))\n",
    "print(\"*키:{0}{1}\".format(height, height_unit))\n",
    "print(\"몸무게:{0}{1}\".format(weight, weight_unit))"
   ]
  },
  {
   "cell_type": "code",
   "execution_count": 17,
   "metadata": {},
   "outputs": [
    {
     "data": {
      "text/plain": [
       "OrderedDict([('사용자정보',\n",
       "              OrderedDict([('이름', '홍길동'),\n",
       "                           ('나이', '25'),\n",
       "                           ('거주지', '서울'),\n",
       "                           ('신체정보',\n",
       "                            OrderedDict([('키', '175.4'), ('몸무게', '71.2')])),\n",
       "                           ('취미', ['등산', '자전거타기', '독서'])]))])"
      ]
     },
     "execution_count": 17,
     "metadata": {},
     "output_type": "execute_result"
    }
   ],
   "source": [
    "dict_data2 = xmltodict.parse(xml_data, xml_attribs = False)\n",
    "dict_data2"
   ]
  },
  {
   "cell_type": "markdown",
   "metadata": {},
   "source": [
    "## 웹 사이트 주소에 부가 정보 추가하기\n",
    "### 웹 사이트 주소에 경로 추가하기\n",
    "#### 기본웹사이트 주소는 유지하면서 그 웹사이트 내에서 경로를 변경해 가면서 데이터를 요청해야 할 경우는\n",
    "#### 다음과 같이 문자열을 연결하는 방법으로 기본웹사이트 주소에 경로를 추가한다."
   ]
  },
  {
   "cell_type": "code",
   "execution_count": 18,
   "metadata": {},
   "outputs": [
    {
     "name": "stdout",
     "output_type": "stream",
     "text": [
      "https://api.github.com/events\n"
     ]
    }
   ],
   "source": [
    "base_url = 'https://api.github.com/'\n",
    "sub_dir='events'\n",
    "url = base_url + sub_dir\n",
    "print(url)"
   ]
  },
  {
   "cell_type": "code",
   "execution_count": 19,
   "metadata": {},
   "outputs": [
    {
     "name": "stdout",
     "output_type": "stream",
     "text": [
      "https://api.github.com/events\n",
      "https://api.github.com/user\n",
      "https://api.github.com/emails\n"
     ]
    }
   ],
   "source": [
    "import requests\n",
    "\n",
    "base_url = 'https://api.github.com/'\n",
    "sub_dirs = ['events','user','emails']\n",
    "\n",
    "for sub_dir in sub_dirs:\n",
    "    url_dir = base_url+sub_dir\n",
    "    r = requests.get(url_dir)\n",
    "    print(r.url)"
   ]
  },
  {
   "cell_type": "markdown",
   "metadata": {},
   "source": [
    "### 웹 사이트 주소에 매개변수 추가하기\n",
    "#### ?를 이용해 매개변수를 보낼 수 있음 , 만약 전달하려는 매개변수가 두개 이상이면 &로 연결해 보낼 수 있음"
   ]
  },
  {
   "cell_type": "code",
   "execution_count": 20,
   "metadata": {},
   "outputs": [
    {
     "name": "stdout",
     "output_type": "stream",
     "text": [
      "http://api.openweathermap.org/data/2.5/weather?lat=37.57&lon=126.98&appid=b235c57pc357fb68acr1e81&units=metric\n"
     ]
    }
   ],
   "source": [
    "import requests\n",
    "\n",
    "LAT = '37.57' #위도\n",
    "LON = '126.98' #경도\n",
    "API_KEY ='b235c57pc357fb68acr1e81'\n",
    "UNIT = 'metric' #단위\n",
    "\n",
    "site_url =  'http://api.openweathermap.org/data/2.5/weather'\n",
    "parameter ='?lat=%s&lon=%s&appid=%s&units=%s'%(LAT, LON, API_KEY, UNIT)\n",
    "url_para = site_url + parameter\n",
    "r = requests.get(url_para)\n",
    "\n",
    "print(r.url)"
   ]
  },
  {
   "cell_type": "code",
   "execution_count": 21,
   "metadata": {},
   "outputs": [
    {
     "name": "stdout",
     "output_type": "stream",
     "text": [
      "http://api.openweathermap.org/data/2.5.weather?lat=37.57&lon=126.98&appid=b235c57pc357fb68acr1e81&units=metric\n"
     ]
    }
   ],
   "source": [
    "import requests\n",
    "\n",
    "LAT = '37.57' #위도\n",
    "LON = '126.98' #경도\n",
    "API_KEY = 'b235c57pc357fb68acr1e81'\n",
    "UNIT = 'metric'\n",
    "\n",
    "req_url = \"http://api.openweathermap.org/data/2.5.weather\"\n",
    "req_parameter ={'lat':LAT,'lon':LON,'appid':API_KEY, 'units':UNIT}\n",
    "r = requests.get(req_url, req_parameter)\n",
    "print(r.url)"
   ]
  },
  {
   "cell_type": "markdown",
   "metadata": {},
   "source": [
    "### 웹 사이트 주소의 인코딩과 디코딩\n",
    "#### 요청주소(url) 과 매개변수(params)를 분리해 requests.get()에 입력 시 주의사항 있음 => url인코딩\n",
    "##### requests.get()은 기본적으로 url인코딩이 되서 상관없으나, url인코딩된 결과가 api 키의 문자열로 제공되는 경우에\n",
    "##### api키를 원래의 api키의 문자열로 되돌린는 디코딩이 필요 => requests.utils.unquote()"
   ]
  },
  {
   "cell_type": "code",
   "execution_count": 24,
   "metadata": {},
   "outputs": [
    {
     "name": "stdout",
     "output_type": "stream",
     "text": [
      "Encoded url: et5piq3pfpqLEWPpCbvtSQ%2Bertertg%2Bx3evdvbaRBvhWEerg3efac2r3f3RfhDTERTw%2B9rkvoewRV%2Fovmrk3dq%3D%3D\n",
      "Decoded url: et5piq3pfpqLEWPpCbvtSQ+ertertg+x3evdvbaRBvhWEerg3efac2r3f3RfhDTERTw+9rkvoewRV/ovmrk3dq==\n"
     ]
    }
   ],
   "source": [
    "import requests\n",
    "\n",
    "APP_KEY = \"et5piq3pfpqLEWPpCbvtSQ%2Bertertg%2Bx3evdvbaRBvhWEerg3efac2r3f3RfhDTERTw%2B9rkvoewRV%2Fovmrk3dq%3D%3D\"\n",
    "\n",
    "APP_KEY_decode = requests.utils.unquote(APP_KEY)\n",
    "\n",
    "print(\"Encoded url:\", APP_KEY) # 인코딩한 앱키\n",
    "print(\"Decoded url:\", APP_KEY_decode) # 인코딩한 앱키를 원래대로 디코딩한 키"
   ]
  },
  {
   "cell_type": "code",
   "execution_count": 25,
   "metadata": {},
   "outputs": [
    {
     "name": "stdout",
     "output_type": "stream",
     "text": [
      "http://openapi.airkorea.or.kr/openapi/services/rest/MsrstnInfoInqireSvc/getNearbyMsrstnList?ServiceKey=et5piq3pfpqLEWPpCbvtSQ%2Bertertg%2Bx3evdvbaRBvhWEerg3efac2r3f3RfhDTERTw%2B9rkvoewRV%2Fovmrk3dq%3D%3D&tmX=244148.546388&tmY=412423.75772\n"
     ]
    }
   ],
   "source": [
    "req_url =\"http://openapi.airkorea.or.kr/openapi/services/rest/MsrstnInfoInqireSvc/getNearbyMsrstnList\"\n",
    "\n",
    "tm_x = 244148.546388\n",
    "tm_y = 412423.75772\n",
    "\n",
    "req_parameter = {'ServiceKey': APP_KEY_decode, 'tmX':tm_x, 'tmY':tm_y} #디코딩한 앱키 사용 \n",
    "\n",
    "r = requests.get(req_url, params = req_parameter)\n",
    "# 그럼 인코딩한 앱키가 파라미터의 값으로 들어가는 것을 확인\n",
    "print(r.url)\n"
   ]
  },
  {
   "cell_type": "code",
   "execution_count": 26,
   "metadata": {},
   "outputs": [
    {
     "name": "stdout",
     "output_type": "stream",
     "text": [
      "http://openapi.airkorea.or.kr/openapi/services/rest/MsrstnInfoInqireSvc/getNearbyMsrstnList?ServiceKey=b235c57pc357fb68acr1e81&tmX=244148.546388&tmY=412423.75772\n"
     ]
    }
   ],
   "source": [
    "req_parameter ={'ServiceKey':API_KEY, 'tmX':tm_x, 'tmY':tm_y}\n",
    "\n",
    "r = requests.get(req_url,params=req_parameter)\n",
    "# 인코딩한 앱키를 그대로 사용 => 파라미터에 기존 앱키와 다른것 이 들어감을 학인. \n",
    "print(r.url)"
   ]
  },
  {
   "cell_type": "markdown",
   "metadata": {},
   "source": [
    "# 15-2 API 키를 사용하지 않고 데이터 가져오기\n",
    "\n",
    "## 국제 우주 정거장 정보 가져오기"
   ]
  },
  {
   "cell_type": "code",
   "execution_count": 27,
   "metadata": {},
   "outputs": [
    {
     "name": "stdout",
     "output_type": "stream",
     "text": [
      "{\"timestamp\": 1581556244, \"iss_position\": {\"longitude\": \"-35.3336\", \"latitude\": \"-46.7209\"}, \"message\": \"success\"}\n"
     ]
    }
   ],
   "source": [
    "import requests\n",
    "import json\n",
    "\n",
    "url = 'http://api.open-notify.org/iss-now.json'\n",
    "\n",
    "r=requests.get(url)\n",
    "print(r.text) # json형태의 데이터를 가져오기"
   ]
  },
  {
   "cell_type": "code",
   "execution_count": 28,
   "metadata": {},
   "outputs": [
    {
     "data": {
      "text/plain": [
       "dict"
      ]
     },
     "execution_count": 28,
     "metadata": {},
     "output_type": "execute_result"
    }
   ],
   "source": [
    "json_to_dict = json.loads(r.text) #json 형태의 데이터를 딕셔너리 타입으로 변환\n",
    "type(json_to_dict)"
   ]
  },
  {
   "cell_type": "code",
   "execution_count": 29,
   "metadata": {},
   "outputs": [
    {
     "data": {
      "text/plain": [
       "dict"
      ]
     },
     "execution_count": 29,
     "metadata": {},
     "output_type": "execute_result"
    }
   ],
   "source": [
    "import requests\n",
    "\n",
    "url ='http://api.open-notify.org/iss-now.json'\n",
    "\n",
    "r=requests.get(url)\n",
    "json_to_dict = r.json() # r.text와 r.load를 한번에 r.json()으로 단순화\n",
    "type(json_to_dict)"
   ]
  },
  {
   "cell_type": "code",
   "execution_count": 30,
   "metadata": {},
   "outputs": [
    {
     "data": {
      "text/plain": [
       "{'timestamp': 1581556246,\n",
       " 'iss_position': {'longitude': '-35.2117', 'latitude': '-46.7620'},\n",
       " 'message': 'success'}"
      ]
     },
     "execution_count": 30,
     "metadata": {},
     "output_type": "execute_result"
    }
   ],
   "source": [
    "json_to_dict"
   ]
  },
  {
   "cell_type": "code",
   "execution_count": 31,
   "metadata": {},
   "outputs": [
    {
     "name": "stdout",
     "output_type": "stream",
     "text": [
      "{'longitude': '-35.2117', 'latitude': '-46.7620'}\n",
      "-46.7620\n",
      "-35.2117\n",
      "success\n",
      "1581556246\n"
     ]
    }
   ],
   "source": [
    "print(json_to_dict['iss_position'])\n",
    "print(json_to_dict['iss_position']['latitude'])\n",
    "print(json_to_dict['iss_position']['longitude'])\n",
    "print(json_to_dict['message'])\n",
    "print(json_to_dict['timestamp'])"
   ]
  },
  {
   "cell_type": "markdown",
   "metadata": {},
   "source": [
    "### 국제 우주 정거장의 위치 정보를 일정시간(10초) 마다 갱신하는 코드"
   ]
  },
  {
   "cell_type": "code",
   "execution_count": 32,
   "metadata": {},
   "outputs": [
    {
     "name": "stdout",
     "output_type": "stream",
     "text": [
      "{'longitude': '-35.2117', 'latitude': '-46.7620'}\n",
      "{'longitude': '-35.2117', 'latitude': '-46.7620'}\n",
      "{'longitude': '-35.2117', 'latitude': '-46.7620'}\n",
      "{'longitude': '-35.2117', 'latitude': '-46.7620'}\n",
      "{'longitude': '-35.2117', 'latitude': '-46.7620'}\n"
     ]
    }
   ],
   "source": [
    "import requests\n",
    "import time\n",
    "\n",
    "url = 'http://api.open-notify.org/iss-now.json'\n",
    "\n",
    "def ISS_Position(iss_position_api_url):\n",
    "    json_to_dit = requests.get(iss_position_api_url).json()\n",
    "    return json_to_dict['iss_position']\n",
    "\n",
    "for k in range(5):\n",
    "    print(ISS_Position(url))\n",
    "    time.sleep(10) #10 초 동안 코드 실행을 일시적으로 중단"
   ]
  },
  {
   "cell_type": "markdown",
   "metadata": {},
   "source": [
    "## 국가 정보 가져오기"
   ]
  },
  {
   "cell_type": "code",
   "execution_count": 33,
   "metadata": {},
   "outputs": [
    {
     "name": "stdout",
     "output_type": "stream",
     "text": [
      "[{\"name\":\"South Korea\",\"topLevelDomain\":[\".kr\"],\"alpha2Code\":\"KR\",\"alpha3Code\":\"KOR\",\"callingCodes\":[\"82\"],\"capital\":\"Seoul\",\"altSpellings\":[\"KR\",\"Republic of Korea\"],\"region\":\"Asia\",\"subregion\":\"Eastern Asia\",\"population\":51448183,\"latlng\":[37.0,127.5],\"demonym\":\"South Korean\",\"area\":100210.0,\"gini\":31.3,\"timezones\":[\"UTC+09:00\"],\"borders\":[\"PRK\"],\"nativeName\":\"대한민국\",\"numericCode\":\"410\",\"currencies\":[\"KRW\"],\"languages\":[\"ko\"],\"translations\":{\"de\":\"Südkorea\",\"es\":\"Corea del Sur\",\"fr\":\"Corée du Sud\",\"ja\":\"大韓民国\",\"it\":\"Corea del Sud\"},\"relevance\":\"1.5\"}]\n"
     ]
    }
   ],
   "source": [
    "import requests\n",
    "\n",
    "url_temp = 'https://restcountries.eu/rest/v1/name/'\n",
    "country = 'South Korea'\n",
    "url = url_temp + country\n",
    "\n",
    "r = requests.get(url)\n",
    "print(r.text)"
   ]
  },
  {
   "cell_type": "code",
   "execution_count": 34,
   "metadata": {},
   "outputs": [
    {
     "data": {
      "text/plain": [
       "[{'name': 'South Korea',\n",
       "  'topLevelDomain': ['.kr'],\n",
       "  'alpha2Code': 'KR',\n",
       "  'alpha3Code': 'KOR',\n",
       "  'callingCodes': ['82'],\n",
       "  'capital': 'Seoul',\n",
       "  'altSpellings': ['KR', 'Republic of Korea'],\n",
       "  'region': 'Asia',\n",
       "  'subregion': 'Eastern Asia',\n",
       "  'population': 51448183,\n",
       "  'latlng': [37.0, 127.5],\n",
       "  'demonym': 'South Korean',\n",
       "  'area': 100210.0,\n",
       "  'gini': 31.3,\n",
       "  'timezones': ['UTC+09:00'],\n",
       "  'borders': ['PRK'],\n",
       "  'nativeName': '대한민국',\n",
       "  'numericCode': '410',\n",
       "  'currencies': ['KRW'],\n",
       "  'languages': ['ko'],\n",
       "  'translations': {'de': 'Südkorea',\n",
       "   'es': 'Corea del Sur',\n",
       "   'fr': 'Corée du Sud',\n",
       "   'ja': '大韓民国',\n",
       "   'it': 'Corea del Sud'},\n",
       "  'relevance': '1.5'}]"
      ]
     },
     "execution_count": 34,
     "metadata": {},
     "output_type": "execute_result"
    }
   ],
   "source": [
    "json_to_list = requests.get(url).json()\n",
    "json_to_list"
   ]
  },
  {
   "cell_type": "code",
   "execution_count": 35,
   "metadata": {},
   "outputs": [
    {
     "data": {
      "text/plain": [
       "'Seoul'"
      ]
     },
     "execution_count": 35,
     "metadata": {},
     "output_type": "execute_result"
    }
   ],
   "source": [
    "json_to_list[0]['capital']"
   ]
  },
  {
   "cell_type": "code",
   "execution_count": 36,
   "metadata": {},
   "outputs": [
    {
     "name": "stdout",
     "output_type": "stream",
     "text": [
      "*South Korea: Seoul\n",
      "*United States of America: Washington, D.C.\n",
      "*United Kingdom: London\n",
      "*France: Paris\n",
      "*Germany: Berlin\n"
     ]
    }
   ],
   "source": [
    "import requests\n",
    "import json\n",
    "\n",
    "countries =[\"South Korea\", \"United States of America\", \"United Kingdom\", \"France\", \"Germany\"]\n",
    "\n",
    "def country_to_capital(country):\n",
    "    url_temp = \"https://restcountries.eu/rest/v1/name/\"\n",
    "    url = url_temp + country\n",
    "    json_to_list = requests.get(url).json()\n",
    "    return json_to_list[0][\"capital\"]\n",
    "    \n",
    "for country in countries:\n",
    "    capital = country_to_capital(country)\n",
    "    print(\"*{0}: {1}\".format(country, capital))"
   ]
  },
  {
   "cell_type": "markdown",
   "metadata": {},
   "source": [
    "# 15-4 정부의 공공 데이터 가져오기\n",
    "## 회원 가입 및 서비스 신청\n",
    "### 주소 및 우편번호 가져오기"
   ]
  },
  {
   "cell_type": "code",
   "execution_count": 37,
   "metadata": {},
   "outputs": [
    {
     "data": {
      "text/plain": [
       "'3qj757at2HSFB9lmWrix8U1NprnDRdR3+pfP+Bw9/FsWmGCfnn6o6eO64uyJPdWOlL9OPV7KTdlCEfy5nsk/mg=='"
      ]
     },
     "execution_count": 37,
     "metadata": {},
     "output_type": "execute_result"
    }
   ],
   "source": [
    "import requests\n",
    "\n",
    "API_KEY = '3qj757at2HSFB9lmWrix8U1NprnDRdR3%2BpfP%2BBw9%2FFsWmGCfnn6o6eO64uyJPdWOlL9OPV7KTdlCEfy5nsk%2Fmg%3D%3D'\n",
    "API_KEY_decode = requests.utils.unquote(API_KEY) #api 키  디코딩 작업\n",
    "API_KEY_decode"
   ]
  },
  {
   "cell_type": "code",
   "execution_count": 38,
   "metadata": {},
   "outputs": [
    {
     "name": "stdout",
     "output_type": "stream",
     "text": [
      "<?xml version=\"1.0\" encoding=\"UTF-8\" standalone=\"yes\"?><NewAddressListResponse><cmmMsgHeader><requestMsgId></requestMsgId><responseMsgId></responseMsgId><responseTime>20200213:101157589</responseTime><successYN>Y</successYN><returnCode>00</returnCode><errMsg></errMsg><totalCount>1</totalCount><countPerPage>10</countPerPage><totalPage>1</totalPage><currentPage></currentPage></cmmMsgHeader><newAddressListAreaCd><zipNo>06579</zipNo><lnmAdres>서울특별시 서초구 반포대로 201 (반포동, 국립중앙도서관)</lnmAdres><rnAdres>서울특별시 서초구 반포동 산60-1 국립중앙도서관</rnAdres></newAddressListAreaCd></NewAddressListResponse>\n"
     ]
    }
   ],
   "source": [
    "# 문서의 호출 url에서 매개변수 값은 뺀 기본 부분\n",
    "# http://openapi.epost.go.kr/postal/retrieveNewAdressAreaCdService/retrieveNewAdressAreaCdService/getNewAddressListAreaCd\n",
    "# ?ServiceKey=인증키&searchSe=road&srchwrd=세종로 17\n",
    "\n",
    "req_url = \"http://openapi.epost.go.kr/postal/retrieveNewAdressAreaCdService/retrieveNewAdressAreaCdService/getNewAddressListAreaCd\"\n",
    "\n",
    "# 요청변수 (매개변수)\n",
    "search_Se = 'road'\n",
    "srch_wrd = '반포대로 201'\n",
    "req_parameter = {'ServiceKey':API_KEY_decode, 'searchSe':search_Se, 'srchwrd':srch_wrd}\n",
    "\n",
    "r = requests.get(req_url, params = req_parameter)\n",
    "xml_data = r.text\n",
    "print(xml_data)"
   ]
  },
  {
   "cell_type": "code",
   "execution_count": 39,
   "metadata": {},
   "outputs": [
    {
     "data": {
      "text/plain": [
       "OrderedDict([('NewAddressListResponse',\n",
       "              OrderedDict([('cmmMsgHeader',\n",
       "                            OrderedDict([('requestMsgId', None),\n",
       "                                         ('responseMsgId', None),\n",
       "                                         ('responseTime',\n",
       "                                          '20200213:101157589'),\n",
       "                                         ('successYN', 'Y'),\n",
       "                                         ('returnCode', '00'),\n",
       "                                         ('errMsg', None),\n",
       "                                         ('totalCount', '1'),\n",
       "                                         ('countPerPage', '10'),\n",
       "                                         ('totalPage', '1'),\n",
       "                                         ('currentPage', None)])),\n",
       "                           ('newAddressListAreaCd',\n",
       "                            OrderedDict([('zipNo', '06579'),\n",
       "                                         ('lnmAdres',\n",
       "                                          '서울특별시 서초구 반포대로 201 (반포동, 국립중앙도서관)'),\n",
       "                                         ('rnAdres',\n",
       "                                          '서울특별시 서초구 반포동 산60-1 국립중앙도서관')]))]))])"
      ]
     },
     "execution_count": 39,
     "metadata": {},
     "output_type": "execute_result"
    }
   ],
   "source": [
    "import xmltodict #xml을 파이썬 딕셔너리 형태로 변환하는 라이브러리\n",
    "\n",
    "dict_data = xmltodict.parse(xml_data)\n",
    "dict_data"
   ]
  },
  {
   "cell_type": "code",
   "execution_count": 40,
   "metadata": {},
   "outputs": [
    {
     "name": "stdout",
     "output_type": "stream",
     "text": [
      "[입력한 도로명 주소] 반포대로 201\n",
      "[응답 데이터에서 추출한 결과]\n",
      "- 우편번호: 06579\n",
      "- 도로명 주소: 서울특별시 서초구 반포대로 201 (반포동, 국립중앙도서관)\n",
      "- 지번 주소: 서울특별시 서초구 반포동 산60-1 국립중앙도서관\n"
     ]
    }
   ],
   "source": [
    "adress_list = dict_data['NewAddressListResponse']['newAddressListAreaCd']\n",
    "\n",
    "print(\"[입력한 도로명 주소]\", srch_wrd)\n",
    "print('[응답 데이터에서 추출한 결과]')\n",
    "print('- 우편번호:', adress_list['zipNo'])\n",
    "print('- 도로명 주소:', adress_list['lnmAdres'])\n",
    "print('- 지번 주소:', adress_list['rnAdres'])"
   ]
  },
  {
   "cell_type": "markdown",
   "metadata": {},
   "source": [
    "## 날씨 정보 가져오기\n",
    "### 날씨 정보를 위한 서비스 신청\n",
    "### 날씨 실황 조회"
   ]
  },
  {
   "cell_type": "code",
   "execution_count": 14,
   "metadata": {},
   "outputs": [
    {
     "data": {
      "text/plain": [
       "'3qj757at2HSFB9lmWrix8U1NprnDRdR3+pfP+Bw9/FsWmGCfnn6o6eO64uyJPdWOlL9OPV7KTdlCEfy5nsk/mg=='"
      ]
     },
     "execution_count": 14,
     "metadata": {},
     "output_type": "execute_result"
    }
   ],
   "source": [
    "import requests\n",
    "\n",
    "API_KEY = '3qj757at2HSFB9lmWrix8U1NprnDRdR3%2BpfP%2BBw9%2FFsWmGCfnn6o6eO64uyJPdWOlL9OPV7KTdlCEfy5nsk%2Fmg%3D%3D'\n",
    "API_KEY_decode = requests.utils.unquote(API_KEY)\n",
    "API_KEY_decode"
   ]
  },
  {
   "cell_type": "code",
   "execution_count": 21,
   "metadata": {},
   "outputs": [
    {
     "ename": "JSONDecodeError",
     "evalue": "Expecting value: line 1 column 1 (char 0)",
     "output_type": "error",
     "traceback": [
      "\u001b[1;31m---------------------------------------------------------------------------\u001b[0m",
      "\u001b[1;31mJSONDecodeError\u001b[0m                           Traceback (most recent call last)",
      "\u001b[1;32m<ipython-input-21-edddde173249>\u001b[0m in \u001b[0;36m<module>\u001b[1;34m\u001b[0m\n\u001b[0;32m     39\u001b[0m \u001b[0mr\u001b[0m \u001b[1;33m=\u001b[0m \u001b[0mrequests\u001b[0m\u001b[1;33m.\u001b[0m\u001b[0mget\u001b[0m\u001b[1;33m(\u001b[0m\u001b[0mreq_url\u001b[0m\u001b[1;33m,\u001b[0m \u001b[0mparams\u001b[0m \u001b[1;33m=\u001b[0m \u001b[0mreq_parameter\u001b[0m\u001b[1;33m)\u001b[0m\u001b[1;33m\u001b[0m\u001b[1;33m\u001b[0m\u001b[0m\n\u001b[0;32m     40\u001b[0m \u001b[0mr_text\u001b[0m\u001b[1;33m=\u001b[0m\u001b[0mr\u001b[0m\u001b[1;33m.\u001b[0m\u001b[0mtext\u001b[0m\u001b[1;33m\u001b[0m\u001b[1;33m\u001b[0m\u001b[0m\n\u001b[1;32m---> 41\u001b[1;33m \u001b[0mr_json\u001b[0m\u001b[1;33m=\u001b[0m\u001b[0mjson\u001b[0m\u001b[1;33m.\u001b[0m\u001b[0mloads\u001b[0m\u001b[1;33m(\u001b[0m\u001b[0mr_text\u001b[0m\u001b[1;33m)\u001b[0m\u001b[1;33m.\u001b[0m\u001b[0mencode\u001b[0m\u001b[1;33m(\u001b[0m\u001b[1;34m'utf-8'\u001b[0m\u001b[1;33m)\u001b[0m\u001b[1;33m\u001b[0m\u001b[1;33m\u001b[0m\u001b[0m\n\u001b[0m\u001b[0;32m     42\u001b[0m \u001b[1;31m# [JSON 형태로 응답받은 데이터를 딕셔너리 데이터로 변환]\u001b[0m\u001b[1;33m\u001b[0m\u001b[1;33m\u001b[0m\u001b[1;33m\u001b[0m\u001b[0m\n\u001b[0;32m     43\u001b[0m \u001b[1;31m#dict_data = r.json()\u001b[0m\u001b[1;33m\u001b[0m\u001b[1;33m\u001b[0m\u001b[1;33m\u001b[0m\u001b[0m\n",
      "\u001b[1;32m~\\Anaconda3\\envs\\study\\lib\\json\\__init__.py\u001b[0m in \u001b[0;36mloads\u001b[1;34m(s, encoding, cls, object_hook, parse_float, parse_int, parse_constant, object_pairs_hook, **kw)\u001b[0m\n\u001b[0;32m    346\u001b[0m             \u001b[0mparse_int\u001b[0m \u001b[1;32mis\u001b[0m \u001b[1;32mNone\u001b[0m \u001b[1;32mand\u001b[0m \u001b[0mparse_float\u001b[0m \u001b[1;32mis\u001b[0m \u001b[1;32mNone\u001b[0m \u001b[1;32mand\u001b[0m\u001b[1;33m\u001b[0m\u001b[1;33m\u001b[0m\u001b[0m\n\u001b[0;32m    347\u001b[0m             parse_constant is None and object_pairs_hook is None and not kw):\n\u001b[1;32m--> 348\u001b[1;33m         \u001b[1;32mreturn\u001b[0m \u001b[0m_default_decoder\u001b[0m\u001b[1;33m.\u001b[0m\u001b[0mdecode\u001b[0m\u001b[1;33m(\u001b[0m\u001b[0ms\u001b[0m\u001b[1;33m)\u001b[0m\u001b[1;33m\u001b[0m\u001b[1;33m\u001b[0m\u001b[0m\n\u001b[0m\u001b[0;32m    349\u001b[0m     \u001b[1;32mif\u001b[0m \u001b[0mcls\u001b[0m \u001b[1;32mis\u001b[0m \u001b[1;32mNone\u001b[0m\u001b[1;33m:\u001b[0m\u001b[1;33m\u001b[0m\u001b[1;33m\u001b[0m\u001b[0m\n\u001b[0;32m    350\u001b[0m         \u001b[0mcls\u001b[0m \u001b[1;33m=\u001b[0m \u001b[0mJSONDecoder\u001b[0m\u001b[1;33m\u001b[0m\u001b[1;33m\u001b[0m\u001b[0m\n",
      "\u001b[1;32m~\\Anaconda3\\envs\\study\\lib\\json\\decoder.py\u001b[0m in \u001b[0;36mdecode\u001b[1;34m(self, s, _w)\u001b[0m\n\u001b[0;32m    335\u001b[0m \u001b[1;33m\u001b[0m\u001b[0m\n\u001b[0;32m    336\u001b[0m         \"\"\"\n\u001b[1;32m--> 337\u001b[1;33m         \u001b[0mobj\u001b[0m\u001b[1;33m,\u001b[0m \u001b[0mend\u001b[0m \u001b[1;33m=\u001b[0m \u001b[0mself\u001b[0m\u001b[1;33m.\u001b[0m\u001b[0mraw_decode\u001b[0m\u001b[1;33m(\u001b[0m\u001b[0ms\u001b[0m\u001b[1;33m,\u001b[0m \u001b[0midx\u001b[0m\u001b[1;33m=\u001b[0m\u001b[0m_w\u001b[0m\u001b[1;33m(\u001b[0m\u001b[0ms\u001b[0m\u001b[1;33m,\u001b[0m \u001b[1;36m0\u001b[0m\u001b[1;33m)\u001b[0m\u001b[1;33m.\u001b[0m\u001b[0mend\u001b[0m\u001b[1;33m(\u001b[0m\u001b[1;33m)\u001b[0m\u001b[1;33m)\u001b[0m\u001b[1;33m\u001b[0m\u001b[1;33m\u001b[0m\u001b[0m\n\u001b[0m\u001b[0;32m    338\u001b[0m         \u001b[0mend\u001b[0m \u001b[1;33m=\u001b[0m \u001b[0m_w\u001b[0m\u001b[1;33m(\u001b[0m\u001b[0ms\u001b[0m\u001b[1;33m,\u001b[0m \u001b[0mend\u001b[0m\u001b[1;33m)\u001b[0m\u001b[1;33m.\u001b[0m\u001b[0mend\u001b[0m\u001b[1;33m(\u001b[0m\u001b[1;33m)\u001b[0m\u001b[1;33m\u001b[0m\u001b[1;33m\u001b[0m\u001b[0m\n\u001b[0;32m    339\u001b[0m         \u001b[1;32mif\u001b[0m \u001b[0mend\u001b[0m \u001b[1;33m!=\u001b[0m \u001b[0mlen\u001b[0m\u001b[1;33m(\u001b[0m\u001b[0ms\u001b[0m\u001b[1;33m)\u001b[0m\u001b[1;33m:\u001b[0m\u001b[1;33m\u001b[0m\u001b[1;33m\u001b[0m\u001b[0m\n",
      "\u001b[1;32m~\\Anaconda3\\envs\\study\\lib\\json\\decoder.py\u001b[0m in \u001b[0;36mraw_decode\u001b[1;34m(self, s, idx)\u001b[0m\n\u001b[0;32m    353\u001b[0m             \u001b[0mobj\u001b[0m\u001b[1;33m,\u001b[0m \u001b[0mend\u001b[0m \u001b[1;33m=\u001b[0m \u001b[0mself\u001b[0m\u001b[1;33m.\u001b[0m\u001b[0mscan_once\u001b[0m\u001b[1;33m(\u001b[0m\u001b[0ms\u001b[0m\u001b[1;33m,\u001b[0m \u001b[0midx\u001b[0m\u001b[1;33m)\u001b[0m\u001b[1;33m\u001b[0m\u001b[1;33m\u001b[0m\u001b[0m\n\u001b[0;32m    354\u001b[0m         \u001b[1;32mexcept\u001b[0m \u001b[0mStopIteration\u001b[0m \u001b[1;32mas\u001b[0m \u001b[0merr\u001b[0m\u001b[1;33m:\u001b[0m\u001b[1;33m\u001b[0m\u001b[1;33m\u001b[0m\u001b[0m\n\u001b[1;32m--> 355\u001b[1;33m             \u001b[1;32mraise\u001b[0m \u001b[0mJSONDecodeError\u001b[0m\u001b[1;33m(\u001b[0m\u001b[1;34m\"Expecting value\"\u001b[0m\u001b[1;33m,\u001b[0m \u001b[0ms\u001b[0m\u001b[1;33m,\u001b[0m \u001b[0merr\u001b[0m\u001b[1;33m.\u001b[0m\u001b[0mvalue\u001b[0m\u001b[1;33m)\u001b[0m \u001b[1;32mfrom\u001b[0m \u001b[1;32mNone\u001b[0m\u001b[1;33m\u001b[0m\u001b[1;33m\u001b[0m\u001b[0m\n\u001b[0m\u001b[0;32m    356\u001b[0m         \u001b[1;32mreturn\u001b[0m \u001b[0mobj\u001b[0m\u001b[1;33m,\u001b[0m \u001b[0mend\u001b[0m\u001b[1;33m\u001b[0m\u001b[1;33m\u001b[0m\u001b[0m\n",
      "\u001b[1;31mJSONDecodeError\u001b[0m: Expecting value: line 1 column 1 (char 0)"
     ]
    }
   ],
   "source": [
    "import json\n",
    "import datetime\n",
    "\n",
    "# [날짜 및 시간 설정]\n",
    "now = datetime.datetime.now() # 현재 날짜 및 시간 반환\n",
    "\n",
    "# baseDate에 날짜를 입력하기 위해 날짜를 출력 형식을 지정해 변수에 할당\n",
    "date = \"{:%Y%m%d}\".format(now) \n",
    "\n",
    "# baseTime에 시간(정시)를 입력하기 위해 출력 형식을 지정해 시간만 변수에 할당\n",
    "time = \"{:%H00}\".format(now)\n",
    "\n",
    "# 현재 분이 30분 이전이면 이전 시간(정시)을 설정\n",
    "if (now.minute >= 30):\n",
    "    time = \"{0}00\".format(now.hour)\n",
    "else:\n",
    "    time = \"{0}00\".format(now.hour-1)\n",
    "\n",
    "# [요청 주소 및 요청 변수 지정]\n",
    "req_url = 'http://apis.data.go.kr/1360000/VilageFcstInfoService/getUltraSrtNcst'\n",
    "baseDate = date # 발표 일자 지정\n",
    "baseTime = time  # 발표 시간 지정(정시로 지정)\n",
    "\n",
    "nx_val = 60 # 예보지점 X 좌표(서울시 종로구 사직동)\n",
    "ny_val = 127 # 예보지점 Y 좌표(서울시 종로구 사직동)\n",
    "\n",
    "num_of_rows = 6 # 한 페이지에 포함된 결과 수\n",
    "page_no = 1 # 페이지 번호\n",
    "\n",
    "output_type = \"json\" # 응답 데이터 형식 지정\n",
    "\n",
    "req_parameter = {\"serviceKey\":API_KEY_decode, \n",
    "                 \"nx\":nx_val, \"ny\": ny_val, \n",
    "                 \"base_date\":baseDate, \"base_time\":baseTime, \n",
    "                 \"pageNo\":page_no, \"numOfRows\":num_of_rows, \n",
    "                 \"_type\":output_type}\n",
    "\n",
    "# [데이터 요청]\n",
    "r = requests.get(req_url, params = req_parameter)\n",
    "r_text=r.text\n",
    "r_json=json.loads(r_text).encode('utf-8')\n",
    "# [JSON 형태로 응답받은 데이터를 딕셔너리 데이터로 변환]\n",
    "#dict_data = r.json()\n",
    "dict_data = r_json\n",
    "dict_data"
   ]
  },
  {
   "cell_type": "code",
   "execution_count": null,
   "metadata": {},
   "outputs": [],
   "source": [
    "# 딕셔너리 데이터를 분석해서 원하는 값 추출\n",
    "\n",
    "weather_items = dict_data['response']['body']['items']['item']\n",
    "\n",
    "sky_cond = ['맑음','구름 조금',' 구름 많음',' 흐림']\n",
    "rain_type = ['없음','비','진눈개비','눈']\n",
    "\n",
    "print('[발표날짜:{}]'.format(weather_items[0]['baseDate']))\n",
    "print('[발표시간:{}]'.format(weather_items[0]['baseTime']))\n",
    "\n",
    "for k in range(len(weather_items)):\n",
    "    weather_item = weather_items[k]\n",
    "    obsrValue = weather_items['obsValue']\n",
    "    if (weather_item['category']=='T1H'):\n",
    "        print(\"* 기온:{} 도\".format(obsrValue))\n",
    "    elif(weather_item['category']=='REH'):\n",
    "        print(\"* 습도:{} 퍼센트\".format(obsrValue))\n",
    "    elif(weather_item['category']=='REH'):\n",
    "        print(\"* 하늘:{}\".format(sky_cond[obsrValue-1]))\n",
    "    elif(weather_item['category']=='REH'):\n",
    "        print(\"* 강수:{}\".format(rain_type[obsrValue]))"
   ]
  },
  {
   "cell_type": "markdown",
   "metadata": {},
   "source": [
    "### 일기 예보 조회"
   ]
  },
  {
   "cell_type": "code",
   "execution_count": null,
   "metadata": {},
   "outputs": [],
   "source": [
    "import json\n",
    "import datetime\n",
    "\n",
    "# [날짜 및 시간 설정]\n",
    "now = datetime.datetime.now() # 현재 날짜 및 시간 반환\n",
    "\n",
    "# baseDate에 날짜를 입력하기 위해 날짜를 출력 형식을 지정해 변수에 할당\n",
    "date = \"{:%Y%m%d}\".format(now) \n",
    "\n",
    "# baseTime에 시간(정시)를 입력하기 위해 출력 형식을 지정해 시간만 변수에 할당\n",
    "time = \"{:%H00}\".format(now)\n",
    "\n",
    "# 현재 분이 30분 이전이면 이전 시간(정시)을 설정\n",
    "if (now.minute >= 30):\n",
    "    time = \"{0}00\".format(now.hour)\n",
    "else:\n",
    "    time = \"{0}00\".format(now.hour-1)\n",
    "\n",
    "# [요청 주소 및 요청 변수 지정]\n",
    "req_url = \"http://newsky2.kma.go.kr/service/SecndSrtpdFrcstInfoService2/ForecastGrib\"\n",
    "\n",
    "baseDate = date # 발표 일자 지정\n",
    "baseTime = time  # 발표 시간 지정(정시로 지정)\n",
    "\n",
    "nx_val = 60 # 예보지점 X 좌표(서울시 종로구 사직동)\n",
    "ny_val = 127 # 예보지점 Y 좌표(서울시 종로구 사직동)\n",
    "\n",
    "num_of_rows = 6 # 한 페이지에 포함된 결과 수\n",
    "page_no = 1 # 페이지 번호\n",
    "\n",
    "output_type = \"json\" # 응답 데이터 형식 지정\n",
    "\n",
    "req_parameter = {\"ServiceKey\":API_KEY_decode, \n",
    "                 \"nx\":nx_val, \"ny\": ny_val, \n",
    "                 \"base_date\":baseDate, \"base_time\":baseTime, \n",
    "                 \"pageNo\":page_no, \"numOfRows\":num_of_rows, \n",
    "                 \"_type\":output_type}\n",
    "\n",
    "# [데이터 요청]\n",
    "r = requests.get(req_url, params = req_parameter)\n",
    "\n",
    "# [JSON 형태로 응답받은 데이터를 딕셔너리 데이터로 변환]\n",
    "dict_data = r.json()\n",
    "\n",
    "# 딕셔너리 데이터를 분석해서 원하는 값 추출\n",
    "\n",
    "weather_items = dict_data['response']['body']['items']['item']\n",
    "\n",
    "sky_cond = ['맑음','구름 조금',' 구름 많음',' 흐림']\n",
    "rain_type = ['없음','비','진눈개비','눈']\n",
    "\n",
    "print('[발표날짜:{}]'.format(weather_items[0]['baseDate']))\n",
    "print('[발표시간:{}]'.format(weather_items[0]['baseTime']))\n",
    "\n",
    "for k in range(len(weather_items)):\n",
    "    weather_item = weather_items[k]\n",
    "    obsrValue = weather_items['obsValue']\n",
    "    if (weather_item['category']=='T1H'):\n",
    "        print(\"* 기온:{} 도\".format(obsrValue))\n",
    "    elif(weather_item['category']=='REH'):\n",
    "        print(\"* 습도:{} 퍼센트\".format(obsrValue))\n",
    "    elif(weather_item['category']=='REH'):\n",
    "        print(\"* 하늘:{}\".format(sky_cond[obsrValue-1]))\n",
    "    elif(weather_item['category']=='REH'):\n",
    "        print(\"* 강수:{}\".format(rain_type[obsrValue]))"
   ]
  },
  {
   "cell_type": "markdown",
   "metadata": {},
   "source": [
    "## 대기 오염 정보 가져오기\n",
    "### 대기 오염 정보를 위한 서비스 신청\n",
    "### 근접 측정치 목록 조회하기"
   ]
  },
  {
   "cell_type": "code",
   "execution_count": 22,
   "metadata": {},
   "outputs": [
    {
     "data": {
      "text/plain": [
       "'3qj757at2HSFB9lmWrix8U1NprnDRdR3+pfP+Bw9/FsWmGCfnn6o6eO64uyJPdWOlL9OPV7KTdlCEfy5nsk/mg=='"
      ]
     },
     "execution_count": 22,
     "metadata": {},
     "output_type": "execute_result"
    }
   ],
   "source": [
    "import requests\n",
    "\n",
    "API_KEY = '3qj757at2HSFB9lmWrix8U1NprnDRdR3%2BpfP%2BBw9%2FFsWmGCfnn6o6eO64uyJPdWOlL9OPV7KTdlCEfy5nsk%2Fmg%3D%3D'\n",
    "API_KEY_decode = requests.utils.unquote(API_KEY)\n",
    "API_KEY_decode"
   ]
  },
  {
   "cell_type": "code",
   "execution_count": 24,
   "metadata": {},
   "outputs": [
    {
     "data": {
      "text/plain": [
       "2"
      ]
     },
     "execution_count": 24,
     "metadata": {},
     "output_type": "execute_result"
    }
   ],
   "source": [
    "req_url = \"http://openapi.airkorea.or.kr/openapi/services/rest/MsrstnInfoInqireSvc/getTMStdrCrdnt\"\n",
    "\n",
    "umd_name = \"논현동\" #읍, 면, 동 지정\n",
    "num_of_rows = 10 # 한 페이지에 포함된 결과 수\n",
    "page_no = 1 # 페이지 번호\n",
    "\n",
    "output_type = \"json\"\n",
    "\n",
    "req_parameter = {\"ServiceKey\":API_KEY_decode, \"umdName\":umd_name, \n",
    "                  \"pageNo\":page_no, \"numOfRows\":num_of_rows, \n",
    "                 \"_returnType\":output_type}\n",
    "\n",
    "dict_data = requests.get(req_url, params = req_parameter).json()\n",
    "dict_data['totalCount'] # 전체 결과의 개수"
   ]
  },
  {
   "cell_type": "code",
   "execution_count": 25,
   "metadata": {},
   "outputs": [
    {
     "name": "stdout",
     "output_type": "stream",
     "text": [
      "[입력한 읍/면/동명] 논현동\n",
      "[TM 기준 좌표 조회 결과]\n",
      "- 위치: 서울특별시 강남구 논현동\n",
      "- k = 0, TM 좌표(X, Y): 202733.974301, 445717.50469\n",
      "\n",
      "- 위치: 인천광역시 남동구 논현동\n",
      "- k = 1, TM 좌표(X, Y): 175850.136025, 434153.586394\n",
      "\n"
     ]
    }
   ],
   "source": [
    "print(\"[입력한 읍/면/동명]\", umd_name)\n",
    "print(\"[TM 기준 좌표 조회 결과]\")\n",
    "\n",
    "for k in range(dict_data['totalCount']):\n",
    "    sido = dict_data['list'][k]['sidoName']\n",
    "    sgg = dict_data['list'][k]['sggName']\n",
    "    umd = dict_data['list'][k]['umdName']\n",
    "    tmX = dict_data['list'][k]['tmX']\n",
    "    tmY = dict_data['list'][k]['tmY']\n",
    "    \n",
    "    print(\"- 위치: {0} {1} {2}\".format(sido, sgg, umd))\n",
    "    print(\"- k = {0}, TM 좌표(X, Y): {1}, {2}\\n\".format(k, tmX, tmY))"
   ]
  },
  {
   "cell_type": "code",
   "execution_count": 27,
   "metadata": {},
   "outputs": [
    {
     "name": "stdout",
     "output_type": "stream",
     "text": [
      "TM 좌표(x,y):202733.974301,445717.50469\n"
     ]
    }
   ],
   "source": [
    "k = 0 #원하는 위치 선택(여기서는 첫번째 위치)\n",
    "TM_X = dict_data['list'][k]['tmX'] #TM X의 좌표\n",
    "TM_Y = dict_data['list'][k]['tmY'] #TM Y의 좌표\n",
    "print(\"TM 좌표(x,y):{0},{1}\".format(TM_X, TM_Y))"
   ]
  },
  {
   "cell_type": "code",
   "execution_count": 30,
   "metadata": {},
   "outputs": [
    {
     "name": "stdout",
     "output_type": "stream",
     "text": [
      "해당 지역 근처에 있는 측정소의 개수: 3\n"
     ]
    }
   ],
   "source": [
    "req_url = \"http://openapi.airkorea.or.kr/openapi/services/rest/MsrstnInfoInqireSvc/getNearbyMsrstnList\"\n",
    "\n",
    "x_value = TM_X #TM 측정방식 X 좌표\n",
    "y_value = TM_Y #TM 측정방식 Y 좌표\n",
    "\n",
    "num_of_rows = 10 #한페이지 에 포함된 결과 수\n",
    "page_no = 1 #페이지 번호\n",
    "\n",
    "outpuy_type = 'json'\n",
    "req_parameter = {\"ServiceKey\":API_KEY_decode, \n",
    "                 \"tmX\":x_value, \"tmY\":y_value,\n",
    "                 \"pageNo\":page_no, \"numOfRows\":num_of_rows, \n",
    "                 \"_returnType\":output_type}\n",
    "\n",
    "dict_data = requests.get(req_url, params = req_parameter).json()\n",
    "\n",
    "print('해당 지역 근처에 있는 측정소의 개수:', dict_data['totalCount'])"
   ]
  },
  {
   "cell_type": "code",
   "execution_count": 31,
   "metadata": {},
   "outputs": [
    {
     "name": "stdout",
     "output_type": "stream",
     "text": [
      "[측정소 정보]\n",
      "- 측정소 이름:도산대로, 거리:1.1[km]\n",
      "- 측정소 주소:서울 강남구 도산대로 104신사역2번출구 앞 \n",
      "\n",
      "- 측정소 이름:강남구, 거리:1.4[km]\n",
      "- 측정소 주소:서울 강남구 학동로 426강남구청 별관 1동 \n",
      "\n",
      "- 측정소 이름:강변북로, 거리:2.9[km]\n",
      "- 측정소 주소:서울 성동구 강변북로 257한강사업본부 옆 \n",
      "\n"
     ]
    }
   ],
   "source": [
    "print(\"[측정소 정보]\")\n",
    "\n",
    "for k in range(dict_data['totalCount']):\n",
    "    \n",
    "    stationNAme = dict_data['list'][k]['stationName']\n",
    "    distance = dict_data['list'][k]['tm']\n",
    "    addr = dict_data['list'][k]['addr']\n",
    "    \n",
    "    print(\"- 측정소 이름:{0}, 거리:{1}[km]\".format(stationNAme, distance))\n",
    "    print(\"- 측정소 주소:{0} \\n\".format(addr))"
   ]
  },
  {
   "cell_type": "markdown",
   "metadata": {},
   "source": [
    "### 측정 정보 가져오기"
   ]
  },
  {
   "cell_type": "code",
   "execution_count": 34,
   "metadata": {},
   "outputs": [
    {
     "data": {
      "text/plain": [
       "{'_returnType': 'json',\n",
       " 'coGrade': '1',\n",
       " 'coValue': '1.3',\n",
       " 'dataTerm': '',\n",
       " 'dataTime': '2020-02-14 17:00',\n",
       " 'khaiGrade': '3',\n",
       " 'khaiValue': '201',\n",
       " 'mangName': '도로변대기',\n",
       " 'no2Grade': '3',\n",
       " 'no2Value': '0.066',\n",
       " 'numOfRows': '10',\n",
       " 'o3Grade': '1',\n",
       " 'o3Value': '0.012',\n",
       " 'pageNo': '1',\n",
       " 'pm10Grade': '2',\n",
       " 'pm10Grade1h': '3',\n",
       " 'pm10Value': '86',\n",
       " 'pm10Value24': '71',\n",
       " 'pm25Grade': '3',\n",
       " 'pm25Grade1h': '3',\n",
       " 'pm25Value': '57',\n",
       " 'pm25Value24': '49',\n",
       " 'resultCode': '',\n",
       " 'resultMsg': '',\n",
       " 'rnum': 0,\n",
       " 'serviceKey': '',\n",
       " 'sidoName': '',\n",
       " 'so2Grade': '1',\n",
       " 'so2Value': '0.002',\n",
       " 'stationCode': '',\n",
       " 'stationName': '',\n",
       " 'totalCount': '',\n",
       " 'ver': ''}"
      ]
     },
     "execution_count": 34,
     "metadata": {},
     "output_type": "execute_result"
    }
   ],
   "source": [
    "req_url = \"http://openapi.airkorea.or.kr/openapi/services/rest/ArpltnInforInqireSvc/getMsrstnAcctoRltmMesureDnsty\"\n",
    "\n",
    "station_name = '도산대로'\n",
    "data_term ='DAILY'\n",
    "num_of_rows = 10\n",
    "page_no = 1\n",
    "version = 1.3\n",
    "output_type ='json'\n",
    "\n",
    "req_parameter = {\"ServiceKey\": API_KEY_decode,\n",
    "                 \"stationName\": station_name,\n",
    "                 \"dataTerm\":data_term, \"ver\": version,\n",
    "                 \"pageNo\": page_no, \"numOfRows\" : num_of_rows,\n",
    "                 \"_returnType\": output_type}\n",
    "\n",
    "\n",
    "dict_data = requests.get(req_url, params=req_parameter).json()\n",
    "dict_data['list'][0]"
   ]
  },
  {
   "cell_type": "code",
   "execution_count": 40,
   "metadata": {},
   "outputs": [
    {
     "name": "stdout",
     "output_type": "stream",
     "text": [
      "[측정고(도산대로)에서 측정된 대기 오염 상태]\n",
      "- 측정 시간:2020-02-14 17:00\n",
      "- 지수아황산가스:1, 일산화탄소:1, 오존:1, 이산화질소:3\n",
      "미세 먼지:3, 초미세 먼지:3, 통합대기환경:3\n"
     ]
    }
   ],
   "source": [
    "dataTime = dict_data['list'][0]['dataTime']\n",
    "\n",
    "so2Grade = dict_data['list'][0]['so2Grade']\n",
    "coGrade = dict_data['list'][0]['coGrade']\n",
    "o3Grade = dict_data['list'][0]['o3Grade']\n",
    "no2Grade = dict_data['list'][0]['no2Grade']\n",
    "\n",
    "pm10Grade1h = dict_data['list'][0]['pm10Grade1h']\n",
    "pm25Grade1h = dict_data['list'][0]['pm25Grade1h']\n",
    "khaiGrade = dict_data['list'][0]['khaiGrade']\n",
    "\n",
    "print(\"[측정고({0})에서 측정된 대기 오염 상태]\".format(station_name))\n",
    "print(\"- 측정 시간:{0}\".format(dataTime))\n",
    "\n",
    "print(\"- 지수\", end ='')\n",
    "print(\"아황산가스:{0}, 일산화탄소:{1}, 오존:{2}, 이산화질소:{3}\".format(so2Grade, coGrade, o3Grade, no2Grade))\n",
    "\n",
    "print(\"미세 먼지:{0}, 초미세 먼지:{1}, 통합대기환경:{2}\".format(pm10Grade1h, pm25Grade1h, khaiGrade))"
   ]
  },
  {
   "cell_type": "code",
   "execution_count": 45,
   "metadata": {},
   "outputs": [
    {
     "name": "stdout",
     "output_type": "stream",
     "text": [
      "[측정소(도산대로)에서 측정된 대기 오염 상태]\n",
      "- 측정 시간:2020-02-14 17:00\n",
      "- 아황산가스:좋음, 일산화탄소:좋음, 오존:좋음, 이산화질소:나쁨\n",
      "- 미세먼지:나쁨, 초미세먼지:나쁨, 통합대기환경:나쁨\n"
     ]
    }
   ],
   "source": [
    "gradeNum2str = {\"1\":\"좋음\", \"2\":\"보통\", \"3\":\"나쁨\", \"4\":\"매우나쁨\"}\n",
    "\n",
    "print('[측정소({0})에서 측정된 대기 오염 상태]'.format(station_name))\n",
    "print(\"- 측정 시간:{0}\".format(dataTime))\n",
    "\n",
    "print(\"- 아황산가스:{0}, 일산화탄소:{1}, 오존:{2}, 이산화질소:{3}\".\n",
    "      format(gradeNum2str[so2Grade], gradeNum2str[coGrade],\n",
    "            gradeNum2str[o3Grade], gradeNum2str[no2Grade]))\n",
    "print(\"- 미세먼지:{0}, 초미세먼지:{1}, 통합대기환경:{2}\".format(gradeNum2str[pm10Grade1h],gradeNum2str[pm25Grade1h],gradeNum2str[khaiGrade]))"
   ]
  },
  {
   "cell_type": "code",
   "execution_count": null,
   "metadata": {},
   "outputs": [],
   "source": []
  },
  {
   "cell_type": "code",
   "execution_count": null,
   "metadata": {},
   "outputs": [],
   "source": []
  }
 ],
 "metadata": {
  "kernelspec": {
   "display_name": "Python 3",
   "language": "python",
   "name": "python3"
  },
  "language_info": {
   "codemirror_mode": {
    "name": "ipython",
    "version": 3
   },
   "file_extension": ".py",
   "mimetype": "text/x-python",
   "name": "python",
   "nbconvert_exporter": "python",
   "pygments_lexer": "ipython3",
   "version": "3.7.6"
  }
 },
 "nbformat": 4,
 "nbformat_minor": 2
}
