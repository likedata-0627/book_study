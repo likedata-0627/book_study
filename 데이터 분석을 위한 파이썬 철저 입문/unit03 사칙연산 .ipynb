{
 "cells": [
  {
   "cell_type": "markdown",
   "metadata": {},
   "source": [
    "# 3. 파이썬을 계산기처럼 이용해보자"
   ]
  },
  {
   "cell_type": "markdown",
   "metadata": {},
   "source": [
    "## 3-1.간단한 사칙 연산"
   ]
  },
  {
   "cell_type": "code",
   "execution_count": 1,
   "metadata": {},
   "outputs": [
    {
     "name": "stdout",
     "output_type": "stream",
     "text": [
      "2\n",
      "3\n",
      "30\n",
      "5.0\n"
     ]
    },
    {
     "data": {
      "text/plain": [
       "int"
      ]
     },
     "execution_count": 1,
     "metadata": {},
     "output_type": "execute_result"
    }
   ],
   "source": [
    "#정수 연산\n",
    "print(1+1)\n",
    "print(5-2)\n",
    "print(15*2)\n",
    "print(10/2)\n",
    "#데이터 타입 확인하기\n",
    "type(3)"
   ]
  },
  {
   "cell_type": "code",
   "execution_count": 2,
   "metadata": {},
   "outputs": [
    {
     "name": "stdout",
     "output_type": "stream",
     "text": [
      "6.5\n",
      "-1.5\n",
      "2.8\n",
      "2.5\n"
     ]
    },
    {
     "data": {
      "text/plain": [
       "float"
      ]
     },
     "execution_count": 2,
     "metadata": {},
     "output_type": "execute_result"
    }
   ],
   "source": [
    "# 실수 연산\n",
    "print(1.2+5.3)\n",
    "print(3.5-5.0)\n",
    "print(1.4*2)\n",
    "print(5/2)\n",
    "#데이터 타입 확인하기\n",
    "type(1.2)"
   ]
  },
  {
   "cell_type": "code",
   "execution_count": 3,
   "metadata": {},
   "outputs": [
    {
     "name": "stdout",
     "output_type": "stream",
     "text": [
      "14\n",
      "3.5\n",
      "8.0\n",
      "11\n"
     ]
    }
   ],
   "source": [
    "#복합 연산\n",
    "print(2+3*4)\n",
    "print(3/2*4-5/2)\n",
    "print(10/5+(5-2)*2)\n",
    "print((5*4-15)+(5-2)*(9-7))"
   ]
  },
  {
   "cell_type": "markdown",
   "metadata": {},
   "source": [
    "## 3-2 거듭제곱과 나머지"
   ]
  },
  {
   "cell_type": "code",
   "execution_count": 4,
   "metadata": {},
   "outputs": [
    {
     "name": "stdout",
     "output_type": "stream",
     "text": [
      "32\n",
      "32\n",
      "3.0\n",
      "1.4142135623730951\n",
      "3\n",
      "2\n"
     ]
    }
   ],
   "source": [
    "print(2*2*2*2*2)\n",
    "print(2**5) \n",
    "print(1.5*2) #2의 5승\n",
    "print(2**(1/2))\n",
    "print(13%5) #나머지 구하기\n",
    "print(13//5) #몫 구하기"
   ]
  },
  {
   "cell_type": "markdown",
   "metadata": {},
   "source": [
    "## 3-3 과학적 표기법"
   ]
  },
  {
   "cell_type": "code",
   "execution_count": 5,
   "metadata": {},
   "outputs": [
    {
     "name": "stdout",
     "output_type": "stream",
     "text": [
      "300000000\n",
      "300000000.0\n",
      "1000000000000000.0\n",
      "1e+16\n",
      "0.0001\n",
      "1e-05\n"
     ]
    }
   ],
   "source": [
    "print(3*10**8)\n",
    "print(3e8) #en은 여기서 n은 0의 개수에 따라 달라짐. \n",
    "print(1e15)\n",
    "print(1e16)\n",
    "print(1e-4) #음수는 소수점으로 생각하세요. \n",
    "print(1e-5)"
   ]
  },
  {
   "cell_type": "markdown",
   "metadata": {},
   "source": [
    "## 3-4 진수 표현과 변환"
   ]
  },
  {
   "cell_type": "code",
   "execution_count": 6,
   "metadata": {},
   "outputs": [
    {
     "name": "stdout",
     "output_type": "stream",
     "text": [
      "17\n",
      "17\n",
      "17\n",
      "17\n"
     ]
    }
   ],
   "source": [
    "# 파이썬은 10진법 외에 2집번, 8진법, 16진법으로 숫자를 입출력하면 변환하는 방법을 제공\n",
    "print(17) #10진수\n",
    "print(0b10001) # 2진수\n",
    "print(0o21) #8진수\n",
    "print(0x11) # 16진수"
   ]
  },
  {
   "cell_type": "code",
   "execution_count": 7,
   "metadata": {},
   "outputs": [
    {
     "name": "stdout",
     "output_type": "stream",
     "text": [
      "0b10001\n",
      "0o21\n",
      "0x11\n",
      "<class 'str'>\n",
      "<class 'str'>\n",
      "<class 'str'>\n"
     ]
    }
   ],
   "source": [
    "# bin() => 2진수로 출력함수, oct() => 8진수, hex() => 16진수로 출력\n",
    "print(bin(17))\n",
    "print(oct(17))\n",
    "print(hex(17))\n",
    "# 데이터 타입이 문자열이므로 산술연상에 이용할 수 없다. 고로 연산이 모두 끝난 후에 해야함. \n",
    "print(type(bin(17)))\n",
    "print(type(oct(17)))\n",
    "print(type(hex(17)))"
   ]
  },
  {
   "cell_type": "markdown",
   "metadata": {},
   "source": [
    "## 3-4 논리 연산 및 비교 연산"
   ]
  },
  {
   "cell_type": "code",
   "execution_count": 8,
   "metadata": {},
   "outputs": [
    {
     "name": "stdout",
     "output_type": "stream",
     "text": [
      "True\n",
      "False\n",
      "<class 'bool'>\n",
      "<class 'bool'>\n"
     ]
    }
   ],
   "source": [
    "print(True)\n",
    "print(False)\n",
    "print(type(True))\n",
    "print(type(False))"
   ]
  },
  {
   "cell_type": "code",
   "execution_count": 9,
   "metadata": {},
   "outputs": [
    {
     "name": "stdout",
     "output_type": "stream",
     "text": [
      "False\n",
      "True\n",
      "False\n"
     ]
    }
   ],
   "source": [
    "print(True and False)\n",
    "print(True or False)\n",
    "print(not True)"
   ]
  },
  {
   "cell_type": "code",
   "execution_count": 10,
   "metadata": {},
   "outputs": [
    {
     "name": "stdout",
     "output_type": "stream",
     "text": [
      "False\n",
      "True\n",
      "False\n",
      "True\n",
      "False\n",
      "True\n"
     ]
    }
   ],
   "source": [
    "print(5==3)\n",
    "print(5!=3)\n",
    "print(5<3)\n",
    "print(5>3)\n",
    "print(5<=3)\n",
    "print(5>=3)"
   ]
  },
  {
   "cell_type": "code",
   "execution_count": 11,
   "metadata": {},
   "outputs": [
    {
     "name": "stdout",
     "output_type": "stream",
     "text": [
      "True\n",
      "False\n",
      "True\n",
      "True\n"
     ]
    }
   ],
   "source": [
    "print(1>0 and -2 <0)\n",
    "print((3<0) and ((-5>0) and(1>5)))\n",
    "print((3>0) or ((-5>0) and(1>5)))\n",
    "print((3>0) or ((-5>0) and(4>8) or (3<0)))"
   ]
  }
 ],
 "metadata": {
  "kernelspec": {
   "display_name": "Python 3",
   "language": "python",
   "name": "python3"
  },
  "language_info": {
   "codemirror_mode": {
    "name": "ipython",
    "version": 3
   },
   "file_extension": ".py",
   "mimetype": "text/x-python",
   "name": "python",
   "nbconvert_exporter": "python",
   "pygments_lexer": "ipython3",
   "version": "3.7.6"
  }
 },
 "nbformat": 4,
 "nbformat_minor": 2
}
