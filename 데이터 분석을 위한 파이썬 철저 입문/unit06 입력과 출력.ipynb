{
 "cells": [
  {
   "cell_type": "markdown",
   "metadata": {},
   "source": [
    "## 6-1 화면 출력"
   ]
  },
  {
   "cell_type": "code",
   "execution_count": 1,
   "metadata": {},
   "outputs": [],
   "source": [
    "# 기본 출력\n",
    "print('Hello Python')\n",
    "print(\"Best\",\"python\",\"book\")\n",
    "print(\"Best\",\"python\",\"book\", sep=\"-.:*:-\") # sep은 빈칸 설정 할 수 있는 것\n",
    "print('abcd'+'efg')\n",
    "print(\"Best\",\"python\",\"book\"+':'+'This book')\n",
    "x = 10\n",
    "print(x)\n",
    "name = 'James'\n",
    "ID_num =789\n",
    "print(\"Name:\",name+\",\", \"ID Number:\", ID_num)\n",
    "print(\"James is my friend.\\n\\nHe is Korean\") #\\n은 줄바꿈\n",
    "print('Welcome to')\n",
    "print(\"python!\")\n",
    "print('Welcome to ', end='') # end는 줄바꿈 없애기\n",
    "print(\"python!\")"
   ]
  },
  {
   "cell_type": "code",
   "execution_count": 2,
   "metadata": {},
   "outputs": [],
   "source": [
    "# 형식 지정 출력\n",
    "# 나머지 연산자 % 를 이용한 형식 및 위치지정=> %s 문자열, %d, %i는 정수, %f,%F는 실수(소수점 6자리까지)\n",
    "name = '광재'\n",
    "print('%s는 나의 친구 입니다.' %name)"
   ]
  },
  {
   "cell_type": "code",
   "execution_count": 3,
   "metadata": {},
   "outputs": [],
   "source": [
    "r = 3\n",
    "PI = 3.14159265358979\n",
    "print(\"반지름:%d 원주율:%f\" %(r, PI))"
   ]
  },
  {
   "cell_type": "code",
   "execution_count": 4,
   "metadata": {},
   "outputs": [],
   "source": [
    "#형식 지정 문자열에서 출력 위치 지정\n",
    "animal_0='cat'\n",
    "animal_1='dog'\n",
    "animal_2='fox'\n",
    "\n",
    "print('Animal: {0}'.format(animal_0))\n",
    "print('Animal: {0},{1},{2}'.format(animal_0,animal_1,animal_2))\n",
    "print('Animal: {1},{2},{0}'.format(animal_0,animal_1,animal_2))\n",
    "print('Animal: {0},{2}'.format(animal_0,animal_1,animal_2))\n",
    "print('Animal: {},{},{}'.format(animal_0,animal_1,animal_2))"
   ]
  },
  {
   "cell_type": "code",
   "execution_count": 5,
   "metadata": {},
   "outputs": [],
   "source": [
    "name =\"Tomas\"\n",
    "age = 10\n",
    "a = 0.1234567890123456789\n",
    "fmt_string = \"string: {0}.Integer Number:{1}.Floating Number:{2}\"\n",
    "print(fmt_string.format(name,age,a))"
   ]
  },
  {
   "cell_type": "code",
   "execution_count": 6,
   "metadata": {},
   "outputs": [],
   "source": [
    "# 형식 지정 문자열에서 숫자 출력 형식 지정\n",
    "a = 0.1234567890123456789\n",
    "print(\"{0:.2f}, {0:.5f}\".format(a))"
   ]
  },
  {
   "cell_type": "markdown",
   "metadata": {},
   "source": [
    "## 6-2 키보드 입력"
   ]
  },
  {
   "cell_type": "code",
   "execution_count": null,
   "metadata": {},
   "outputs": [],
   "source": [
    "yourName = input('당신의 의름은? ')\n",
    "print('당신은 {}이군요.'.format(yourName))"
   ]
  },
  {
   "cell_type": "code",
   "execution_count": null,
   "metadata": {},
   "outputs": [],
   "source": [
    "num = input(\"숫자를 입력하세요.: \")\n",
    "print('당신이 입력한 숫자는 {} 입니다. '.format(num))"
   ]
  },
  {
   "cell_type": "code",
   "execution_count": null,
   "metadata": {},
   "outputs": [],
   "source": [
    "a = input('정사각형 한변의 길이는?: ')\n",
    "area = int(a)**2\n",
    "print('정사각형의 넓이: {}'.format(area))"
   ]
  },
  {
   "cell_type": "code",
   "execution_count": null,
   "metadata": {},
   "outputs": [],
   "source": [
    "b = input(\"정사각형 한변의 길이는? : \")\n",
    "area = float(b) **2\n",
    "print('정사각형의 넓이:{}'.format(area))"
   ]
  },
  {
   "cell_type": "code",
   "execution_count": null,
   "metadata": {},
   "outputs": [],
   "source": [
    "c = input('정사각형 한 변의 길이는 ?: ')\n",
    "area = float(c)**2\n",
    "print(\"정사각형의 넓이:{}\".format(area))"
   ]
  },
  {
   "cell_type": "markdown",
   "metadata": {},
   "source": [
    "## 6-3 파일 읽고 쓰기"
   ]
  },
  {
   "cell_type": "code",
   "execution_count": 4,
   "metadata": {},
   "outputs": [],
   "source": [
    "#파일 열기\n",
    "#파일 열기의 속성 => r(읽기 모드), w(쓰기 모드)\n",
    "f = open('filename','mode')"
   ]
  },
  {
   "cell_type": "code",
   "execution_count": 20,
   "metadata": {},
   "outputs": [],
   "source": [
    "f = open('myFile.txt', 'w')           # (1)'myFile.txt' 파일 쓰기 모드로 열기\n",
    "f.write('This is my first file.')     # (2) 연 파일에 문자열 쓰기\n",
    "f.close()                             # (3) 파일 닫기"
   ]
  },
  {
   "cell_type": "code",
   "execution_count": 23,
   "metadata": {},
   "outputs": [
    {
     "name": "stdout",
     "output_type": "stream",
     "text": [
      "This is my first file.\n"
     ]
    }
   ],
   "source": [
    "f = open('myFile.txt', 'r')           # (1)'myFile.txt' 파일 쓰기 모드로 열기\n",
    "test = f.read()\n",
    "f.close()                             # (3) 파일 닫기\n",
    "print(test)"
   ]
  },
  {
   "cell_type": "markdown",
   "metadata": {},
   "source": [
    "## 6-4 반복문을 이용해 파일 읽고 쓰기"
   ]
  },
  {
   "cell_type": "code",
   "execution_count": 5,
   "metadata": {},
   "outputs": [],
   "source": [
    "f= open('two_times_table.txt','w')\n",
    "for num in range(1,6):\n",
    "    format_string = '2X{0}={1}\\n'.format(num,2*num)\n",
    "    f.write(format_string)\n",
    "f.close()"
   ]
  },
  {
   "cell_type": "code",
   "execution_count": 6,
   "metadata": {},
   "outputs": [
    {
     "name": "stdout",
     "output_type": "stream",
     "text": [
      "2X1=2\n",
      "2X2=4\n"
     ]
    }
   ],
   "source": [
    "# 파일에서 문자열 한줄씩 읽기\n",
    "# readline() => 파일에서 한줄씩 읽기\n",
    "f =open(\"two_times_table.txt\")\n",
    "line1 = f.readline()\n",
    "line2 = f.readline()\n",
    "f.close()\n",
    "print(line1, end='')\n",
    "print(line2, end='')"
   ]
  },
  {
   "cell_type": "code",
   "execution_count": 7,
   "metadata": {},
   "outputs": [
    {
     "name": "stdout",
     "output_type": "stream",
     "text": [
      "2X1=2\n",
      "2X2=4\n",
      "2X3=6\n",
      "2X4=8\n",
      "2X5=10\n"
     ]
    }
   ],
   "source": [
    "f =open(\"two_times_table.txt\")\n",
    "line = f.readline()\n",
    "while line:\n",
    "    print(line, end='')\n",
    "    line=f.readline()\n",
    "f.close()"
   ]
  },
  {
   "cell_type": "code",
   "execution_count": 8,
   "metadata": {},
   "outputs": [
    {
     "name": "stdout",
     "output_type": "stream",
     "text": [
      "['2X1=2\\n', '2X2=4\\n', '2X3=6\\n', '2X4=8\\n', '2X5=10\\n']\n"
     ]
    }
   ],
   "source": [
    "# readlines() => 파일 전체의 모든 줄을 읽어서 한줄씩을 요소로 갖는 리스트 타입으로 반환\n",
    "f =open(\"two_times_table.txt\")\n",
    "lines = f.readlines()\n",
    "f.close()\n",
    "print(lines)"
   ]
  },
  {
   "cell_type": "code",
   "execution_count": 9,
   "metadata": {},
   "outputs": [
    {
     "name": "stdout",
     "output_type": "stream",
     "text": [
      "2X1=2\n",
      "2X2=4\n",
      "2X3=6\n",
      "2X4=8\n",
      "2X5=10\n"
     ]
    }
   ],
   "source": [
    "f =open(\"two_times_table.txt\")\n",
    "lines = f.readlines()\n",
    "f.close()\n",
    "for line in lines:\n",
    "    print(line, end='') # 줄바꿈 안하기"
   ]
  },
  {
   "cell_type": "code",
   "execution_count": 10,
   "metadata": {},
   "outputs": [
    {
     "name": "stdout",
     "output_type": "stream",
     "text": [
      "2X1=2\n",
      "2X2=4\n",
      "2X3=6\n",
      "2X4=8\n",
      "2X5=10\n"
     ]
    }
   ],
   "source": [
    "f =open(\"two_times_table.txt\")\n",
    "for line in f.readlines():\n",
    "    print(line, end='')\n",
    "f.close()"
   ]
  },
  {
   "cell_type": "code",
   "execution_count": 11,
   "metadata": {},
   "outputs": [
    {
     "name": "stdout",
     "output_type": "stream",
     "text": [
      "2X1=2\n",
      "2X2=4\n",
      "2X3=6\n",
      "2X4=8\n",
      "2X5=10\n"
     ]
    }
   ],
   "source": [
    "f =open(\"two_times_table.txt\")\n",
    "for line in f:\n",
    "    print(line, end='')\n",
    "f.close()"
   ]
  },
  {
   "cell_type": "code",
   "execution_count": 12,
   "metadata": {},
   "outputs": [],
   "source": [
    "# 6-5 with문을 활용해 파일 읽고 쓰기\n",
    "f=open('myTextFile.txt','w') # 파일 열기\n",
    "f.write('File write/read test. ') #파일 쓰기\n",
    "f.close() #파일 닫기a"
   ]
  },
  {
   "cell_type": "code",
   "execution_count": 13,
   "metadata": {},
   "outputs": [
    {
     "name": "stdout",
     "output_type": "stream",
     "text": [
      "File write/read test. \n"
     ]
    }
   ],
   "source": [
    "f=open('myTextFile.txt','r') # 파일 열기\n",
    "test = f.read()\n",
    "f.close() #파일 닫기\n",
    "print(test)"
   ]
  },
  {
   "cell_type": "code",
   "execution_count": 15,
   "metadata": {},
   "outputs": [],
   "source": [
    "# with 문의 활용 => close를 수행 안해도 됨. 자동으로 닫힘\n",
    "# 기본 구조 => with open('file_name','mode') as f: 코드블럭\n",
    "with open('./myTextFile2.txt', 'w') as f: # (1) 파일 열기\n",
    "    #f.write('왜 안써지냐 조까따')\n",
    "    f.write('File read/write test2: line1\\n')        # (2) 파일 쓰기\n",
    "    f.write('File read/write test2: line2\\n')\n",
    "    f.write('File read/write test2: line3\\n')"
   ]
  },
  {
   "cell_type": "code",
   "execution_count": 17,
   "metadata": {},
   "outputs": [
    {
     "name": "stdout",
     "output_type": "stream",
     "text": [
      "File read/write test2: line1\n",
      "File read/write test2: line2\n",
      "File read/write test2: line3\n",
      "\n"
     ]
    }
   ],
   "source": [
    "with open('./myTextFile2.txt') as f:\n",
    "    file_string = f.read()\n",
    "    print(file_string)"
   ]
  },
  {
   "cell_type": "code",
   "execution_count": 18,
   "metadata": {},
   "outputs": [],
   "source": [
    "with open('./myTextFile3.txt','w') as f:\n",
    "     for num in range(1,6):             # for문에서 num이 1~5까지 반복\n",
    "        format_string = \"3 x {0} = {1}\\n\".format(num,3*num) # 문자열 생성\n",
    "        f.write(format_string)         # 파일에 문자열 쓰기"
   ]
  },
  {
   "cell_type": "code",
   "execution_count": 19,
   "metadata": {},
   "outputs": [
    {
     "name": "stdout",
     "output_type": "stream",
     "text": [
      "3 x 1 = 3\n",
      "3 x 2 = 6\n",
      "3 x 3 = 9\n",
      "3 x 4 = 12\n",
      "3 x 5 = 15\n"
     ]
    }
   ],
   "source": [
    "with open('./myTextFile3.txt','r') as f:\n",
    "     for line in f:\n",
    "            print(line, end=\"\")"
   ]
  }
 ],
 "metadata": {
  "kernelspec": {
   "display_name": "Python 3",
   "language": "python",
   "name": "python3"
  },
  "language_info": {
   "codemirror_mode": {
    "name": "ipython",
    "version": 3
   },
   "file_extension": ".py",
   "mimetype": "text/x-python",
   "name": "python",
   "nbconvert_exporter": "python",
   "pygments_lexer": "ipython3",
   "version": "3.7.6"
  }
 },
 "nbformat": 4,
 "nbformat_minor": 2
}
