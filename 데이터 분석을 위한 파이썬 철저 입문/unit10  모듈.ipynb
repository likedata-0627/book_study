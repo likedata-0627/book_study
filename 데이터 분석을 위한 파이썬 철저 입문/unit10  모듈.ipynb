{
 "cells": [
  {
   "cell_type": "markdown",
   "metadata": {},
   "source": [
    "# 10-1 모듈을 사용하는 이유"
   ]
  },
  {
   "cell_type": "code",
   "execution_count": 19,
   "metadata": {
    "scrolled": true
   },
   "outputs": [],
   "source": [
    "# 모듈 생성 및 호출\n",
    "# 모듈만들기\n",
    "# 모듈: 상수, 변수, 함수, 클래스를 포함하는 코드가 저장된 함수"
   ]
  },
  {
   "cell_type": "code",
   "execution_count": 1,
   "metadata": {},
   "outputs": [
    {
     "name": "stdout",
     "output_type": "stream",
     "text": [
      "Writing D:\\Python_Project\\python_beginner\\my_first_module.py\n"
     ]
    }
   ],
   "source": [
    "# %%writefile 코드를 파일로 저장\n",
    "# %%writefile [-a]fil.py => -a는 같은 이름의 파일이 있으면 덮어씀\n",
    "# %load file.py는 파이썬 코드불어오기\n",
    "# %run file.py는 코드파일을 실행하기\n",
    "\n",
    "%%writefile D:\\Python_Project\\python_beginner\\my_first_module.py\n",
    "# File name: my_first_module.py\n",
    "\n",
    "def my_function():\n",
    "    print('This is my first module.')"
   ]
  },
  {
   "cell_type": "code",
   "execution_count": 2,
   "metadata": {},
   "outputs": [
    {
     "name": "stdout",
     "output_type": "stream",
     "text": [
      "# File name: my_first_module.py\n",
      "\n",
      "def my_function():\n",
      "    print('This is my first module.')\n"
     ]
    }
   ],
   "source": [
    "!type D:\\Python_Project\\python_beginner\\my_first_module.py"
   ]
  },
  {
   "cell_type": "code",
   "execution_count": 3,
   "metadata": {},
   "outputs": [
    {
     "name": "stdout",
     "output_type": "stream",
     "text": [
      "This is my first module.\n"
     ]
    }
   ],
   "source": [
    "#모듈 불러오기\n",
    "import my_first_module\n",
    "\n",
    "my_first_module.my_function()"
   ]
  },
  {
   "cell_type": "code",
   "execution_count": 4,
   "metadata": {},
   "outputs": [
    {
     "name": "stdout",
     "output_type": "stream",
     "text": [
      "%PYTHONPATH%\n"
     ]
    }
   ],
   "source": [
    "!echo %PYTHONPATH%"
   ]
  },
  {
   "cell_type": "code",
   "execution_count": 5,
   "metadata": {},
   "outputs": [
    {
     "name": "stdout",
     "output_type": "stream",
     "text": [
      "Writing D:\\Python_Project\\python_beginner\\my_area.py\n"
     ]
    }
   ],
   "source": [
    "# 모듈 만들기\n",
    "%%writefile D:\\Python_Project\\python_beginner\\my_area.py\n",
    "\n",
    "PI = 3.14 #변수\n",
    "def square_area(a): #정사각형의넓이 반환\n",
    "    return a**2\n",
    "\n",
    "def circle_area(r): #원의 넓이 반환\n",
    "    return PI * r **2"
   ]
  },
  {
   "cell_type": "code",
   "execution_count": 6,
   "metadata": {},
   "outputs": [
    {
     "name": "stdout",
     "output_type": "stream",
     "text": [
      "D:\\Python_Project\\python_beginner\n"
     ]
    }
   ],
   "source": [
    "cd D:\\Python_Project\\python_beginner"
   ]
  },
  {
   "cell_type": "code",
   "execution_count": 7,
   "metadata": {},
   "outputs": [
    {
     "name": "stdout",
     "output_type": "stream",
     "text": [
      "pi= 3.14\n",
      "square area= 25\n",
      "circle area= 12.56\n"
     ]
    }
   ],
   "source": [
    "import my_area # 모듈 불러오기\n",
    "\n",
    "print('pi=', my_area.PI) # 모듈 변수 이용\n",
    "print('square area=', my_area.square_area(5)) #모듈의 함수 이용\n",
    "print('circle area=', my_area.circle_area(2)) #모듈명.함수명()"
   ]
  },
  {
   "cell_type": "code",
   "execution_count": 8,
   "metadata": {},
   "outputs": [
    {
     "name": "stdout",
     "output_type": "stream",
     "text": [
      "pi = 3.14\n"
     ]
    }
   ],
   "source": [
    "# 모듈을 불러오는 다른 형식\n",
    "# 모듈의 내용 바로 선언\n",
    "# from 모듈명 import 변수명\n",
    "from my_area import PI # 모듈 변수 바로 불러오기\n",
    "print('pi =', PI) # 모듈의 변수 이용"
   ]
  },
  {
   "cell_type": "code",
   "execution_count": 10,
   "metadata": {},
   "outputs": [
    {
     "name": "stdout",
     "output_type": "stream",
     "text": [
      "square crea= 25\n",
      "circle crea= 12.56\n"
     ]
    }
   ],
   "source": [
    "# from 모듈명 import 함수명\n",
    "from my_area import square_area\n",
    "from my_area import circle_area\n",
    "\n",
    "print('square crea=', square_area(5)) #모듈의 함수 이용\n",
    "print('circle crea=', circle_area(2)) #모듈의 함수 이용"
   ]
  },
  {
   "cell_type": "code",
   "execution_count": 11,
   "metadata": {},
   "outputs": [
    {
     "name": "stdout",
     "output_type": "stream",
     "text": [
      "pi = 3.14\n",
      "square crea= 25\n",
      "circle crea= 12.56\n"
     ]
    }
   ],
   "source": [
    "# 여러개를 한번에 불러올 수도 있음, 콤마로 구분해서 가져오면됨\n",
    "from my_area import PI, square_area, circle_area\n",
    "\n",
    "print('pi =', PI) #모듈의 변수 이용\n",
    "print('square crea=', square_area(5)) #모듈의 함수 이용\n",
    "print('circle crea=', circle_area(2)) #모듈의 함수 이용"
   ]
  },
  {
   "cell_type": "code",
   "execution_count": 12,
   "metadata": {},
   "outputs": [
    {
     "name": "stdout",
     "output_type": "stream",
     "text": [
      "pi = 3.14\n",
      "square crea= 25\n",
      "circle crea= 12.56\n"
     ]
    }
   ],
   "source": [
    "# 모듈 내의 모든 변수, 함수, 클래스 불러오기\n",
    "from my_area import *\n",
    "print('pi =', PI) #모듈의 변수 이용\n",
    "print('square crea=', square_area(5)) #모듈의 함수 이용\n",
    "print('circle crea=', circle_area(2)) #모듈의 함수 이용"
   ]
  },
  {
   "cell_type": "code",
   "execution_count": 13,
   "metadata": {},
   "outputs": [
    {
     "name": "stdout",
     "output_type": "stream",
     "text": [
      "Writing D:\\Python_Project\\python_beginner\\my_module1.py\n"
     ]
    }
   ],
   "source": [
    "%%writefile D:\\Python_Project\\python_beginner\\my_module1.py\n",
    "    \n",
    "def func1():\n",
    "    print(\"func1 in my_module1 \")\n",
    "\n",
    "def func2():\n",
    "    print(\"func2 in my_module1 \")"
   ]
  },
  {
   "cell_type": "code",
   "execution_count": 14,
   "metadata": {},
   "outputs": [
    {
     "name": "stdout",
     "output_type": "stream",
     "text": [
      "Writing D:\\Python_Project\\python_beginner\\my_module2.py\n"
     ]
    }
   ],
   "source": [
    "%%writefile D:\\Python_Project\\python_beginner\\my_module2.py\n",
    "    \n",
    "def func2():\n",
    "    print(\"func2 in my_module2 \")\n",
    "\n",
    "def func3():\n",
    "    print(\"func3 in my_module2 \")"
   ]
  },
  {
   "cell_type": "code",
   "execution_count": 15,
   "metadata": {},
   "outputs": [
    {
     "name": "stdout",
     "output_type": "stream",
     "text": [
      "func1 in my_module1 \n",
      "func2 in my_module2 \n",
      "func3 in my_module2 \n"
     ]
    }
   ],
   "source": [
    "# import *을 사용시 주의해야하는 점 \n",
    "# 모듈명.함수명이 아니라 함수명으로 불러올 경우에\n",
    "# func2()는 모듈에서 두번 쓰였기 때문에\n",
    "# 어떤 모듈을 먼저 쓰느냐에 따라 결과값이 달라짐. \n",
    "# 고로 import * 를 불러서 쓸 경우에는 함수쓸 때 주의\n",
    "from my_module1 import *\n",
    "from my_module2 import *\n",
    "\n",
    "func1()\n",
    "func2()\n",
    "func3()"
   ]
  },
  {
   "cell_type": "code",
   "execution_count": 16,
   "metadata": {},
   "outputs": [
    {
     "name": "stdout",
     "output_type": "stream",
     "text": [
      "func1 in my_module1 \n",
      "func2 in my_module1 \n",
      "func3 in my_module2 \n"
     ]
    }
   ],
   "source": [
    "from my_module2 import *\n",
    "from my_module1 import *\n",
    "\n",
    "func1()\n",
    "func2()\n",
    "func3()"
   ]
  },
  {
   "cell_type": "code",
   "execution_count": 17,
   "metadata": {},
   "outputs": [
    {
     "name": "stdout",
     "output_type": "stream",
     "text": [
      "pi= 3.14\n",
      "square area= 25\n",
      "circle area= 12.56\n"
     ]
    }
   ],
   "source": [
    "# 모듈명 별명으로 선언하기 =\n",
    "import my_area as area # 모듈명(my_area)에 별명(area)을 붙임\n",
    "\n",
    "print('pi=', area.PI) #모듈명 대신 별명 이용\n",
    "print('square area=', area.square_area(5)) \n",
    "print('circle area=', area.circle_area(2) ) "
   ]
  },
  {
   "cell_type": "code",
   "execution_count": 18,
   "metadata": {},
   "outputs": [
    {
     "name": "stdout",
     "output_type": "stream",
     "text": [
      "pi= 3.14\n",
      "square area= 25\n",
      "circle area= 12.56\n"
     ]
    }
   ],
   "source": [
    "from my_area import PI as pi\n",
    "from my_area import square_area as square\n",
    "from my_area import circle_area as circle\n",
    "\n",
    "print('pi=', pi) #모듈명 대신 별명 이용\n",
    "print('square area=', square(5)) \n",
    "print('circle area=', circle(2) ) "
   ]
  },
  {
   "cell_type": "markdown",
   "metadata": {},
   "source": [
    "#  10-3 모듈을 직접 실행하는 경우와 임포트 한 후 실행하는 경우 구분하기"
   ]
  },
  {
   "cell_type": "code",
   "execution_count": 30,
   "metadata": {},
   "outputs": [
    {
     "name": "stdout",
     "output_type": "stream",
     "text": [
      "Overwriting D:\\Python_Project\\python_beginner\\my_module_test1.py\n"
     ]
    }
   ],
   "source": [
    "%%writefile D:\\Python_Project\\python_beginner\\my_module_test1.py\n",
    "\n",
    "def func(a):\n",
    "    print(\"입력숫자:\", a)\n",
    "    \n",
    "func(3) #모듈을 만들때 함수나 클래스가 잘 작성되었는지 확인하기 위해서 모듈 내에서 함수나 클래스를 직접 호출"
   ]
  },
  {
   "cell_type": "code",
   "execution_count": 10,
   "metadata": {},
   "outputs": [
    {
     "name": "stdout",
     "output_type": "stream",
     "text": [
      "입력숫자: 3\n"
     ]
    }
   ],
   "source": [
    "%run my_module_test1.py"
   ]
  },
  {
   "cell_type": "code",
   "execution_count": 32,
   "metadata": {},
   "outputs": [],
   "source": [
    "import my_module_test1"
   ]
  },
  {
   "cell_type": "code",
   "execution_count": 33,
   "metadata": {},
   "outputs": [
    {
     "name": "stdout",
     "output_type": "stream",
     "text": [
      "Overwriting D:\\Python_Project\\python_beginner\\my_module_test2.py\n"
     ]
    }
   ],
   "source": [
    "#모듈을 만들때 함수나 클래스가 잘 작성되었는지 확인하기 위해서 \n",
    "#모듈 내에서 함수나 클래스를 직접 호출\n",
    "#=> \n",
    "%%writefile D:\\Python_Project\\python_beginner\\my_module_test2.py\n",
    "\n",
    "# 임포트해서 사용\n",
    "def func(a):\n",
    "    print(\"입력 숫자:\", a)\n",
    "    \n",
    "if __name__ == \"__main__\": #직접 수행할 때만 수행되는 코드\n",
    "    print(\"모듈을 직접 실행\")\n",
    "    func(3)\n",
    "    func(4)"
   ]
  },
  {
   "cell_type": "code",
   "execution_count": 11,
   "metadata": {},
   "outputs": [
    {
     "name": "stdout",
     "output_type": "stream",
     "text": [
      "모듈을 직접 실행\n",
      "입력 숫자: 3\n",
      "입력 숫자: 4\n"
     ]
    }
   ],
   "source": [
    "%run my_module_test2.py"
   ]
  },
  {
   "cell_type": "code",
   "execution_count": 14,
   "metadata": {},
   "outputs": [],
   "source": [
    "import my_module_test2"
   ]
  },
  {
   "cell_type": "code",
   "execution_count": 15,
   "metadata": {},
   "outputs": [
    {
     "name": "stdout",
     "output_type": "stream",
     "text": [
      "Overwriting D:/Python_Project/python_beginner/my_module_test3.py\n"
     ]
    }
   ],
   "source": [
    "%%writefile D:/Python_Project/python_beginner/my_module_test3.py\n",
    "    \n",
    "def func(a):\n",
    "    print(\"입력 숫자:\",a)\n",
    "if __name__ ==\"__main__\": #직접 실행할때만 수행되는 코드\n",
    "    print(\"모듈을 직접 실행\")\n",
    "    func(3)\n",
    "    func(4)\n",
    "else: # 임포트됐을 때만 실행되는 코드\n",
    "    print(\"모듈을 임포트해서 실행\")"
   ]
  },
  {
   "cell_type": "code",
   "execution_count": 16,
   "metadata": {},
   "outputs": [
    {
     "name": "stdout",
     "output_type": "stream",
     "text": [
      "모듈을 직접 실행\n",
      "입력 숫자: 3\n",
      "입력 숫자: 4\n"
     ]
    }
   ],
   "source": [
    "%run my_module_test3.py"
   ]
  },
  {
   "cell_type": "code",
   "execution_count": 17,
   "metadata": {},
   "outputs": [],
   "source": [
    "import my_module_test3"
   ]
  },
  {
   "cell_type": "markdown",
   "metadata": {},
   "source": [
    "# 10-4 내장 모듈"
   ]
  },
  {
   "cell_type": "code",
   "execution_count": 41,
   "metadata": {},
   "outputs": [
    {
     "data": {
      "text/plain": [
       "0.414558622772462"
      ]
     },
     "execution_count": 41,
     "metadata": {},
     "output_type": "execute_result"
    }
   ],
   "source": [
    "# 난수 발생 모듈\n",
    "import random \n",
    "# random() #0.0 <= 실수 <1.0  범위의 임의의 실수를 반환\n",
    "random.random() #0.0 <= 실수 <1.0  범위의 임의의 실수를 반환"
   ]
  },
  {
   "cell_type": "code",
   "execution_count": 42,
   "metadata": {},
   "outputs": [
    {
     "name": "stdout",
     "output_type": "stream",
     "text": [
      "주사위 두개의 숫자: 4, 1\n"
     ]
    }
   ],
   "source": [
    "import random\n",
    "# randint(a,b) => a <= 정수 <=b 의 범위의 임의의 정수를 반환\n",
    "dice1 = random.randint(1,6) # 임의의 정수가 생성\n",
    "dice2 = random.randint(1,6)  #임의의 정수가 생성\n",
    "\n",
    "print(\"주사위 두개의 숫자: {0}, {1}\".format(dice1, dice2))"
   ]
  },
  {
   "cell_type": "code",
   "execution_count": 43,
   "metadata": {},
   "outputs": [
    {
     "data": {
      "text/plain": [
       "8"
      ]
     },
     "execution_count": 43,
     "metadata": {},
     "output_type": "execute_result"
    }
   ],
   "source": [
    "import random\n",
    "#randrange([start, stop [,step]]) => 임의의 정수를 반환\n",
    "random.randrange(0,11,2)"
   ]
  },
  {
   "cell_type": "code",
   "execution_count": 44,
   "metadata": {},
   "outputs": [
    {
     "name": "stdout",
     "output_type": "stream",
     "text": [
      "num1:7, num2:81\n"
     ]
    }
   ],
   "source": [
    "import random\n",
    "\n",
    "num1 = random.randrange(1,10,2) # 1~9(10-1) 중 임의의 홀수 선택\n",
    "num2 = random.randrange(1,100,10) # 0~99(100-1) 중 임의의  10단위 숫자 선택\n",
    "print('num1:{0}, num2:{1}'.format(num1, num2))"
   ]
  },
  {
   "cell_type": "code",
   "execution_count": 45,
   "metadata": {},
   "outputs": [
    {
     "data": {
      "text/plain": [
       "'된장찌개'"
      ]
     },
     "execution_count": 45,
     "metadata": {},
     "output_type": "execute_result"
    }
   ],
   "source": [
    "import random\n",
    "#coice(seq) => 공백이 아닌 시퀀스에서 임의의 항목을 반복\n",
    "menu = ['비빔밥','된장찌개','볶음밥','불고기','스파게티','피자','탕수육']\n",
    "random.choice(menu)"
   ]
  },
  {
   "cell_type": "code",
   "execution_count": 46,
   "metadata": {},
   "outputs": [
    {
     "data": {
      "text/plain": [
       "[3, 5]"
      ]
     },
     "execution_count": 46,
     "metadata": {},
     "output_type": "execute_result"
    }
   ],
   "source": [
    "import random\n",
    "#sample(population, k) => 시퀀스로 이뤄진 모집단(population)에서 중복되지 않는 k의 인자를 반환\n",
    "random.sample([1,2,3,4,5],2) #모집단에서 두개의 인자 선택"
   ]
  },
  {
   "cell_type": "code",
   "execution_count": 47,
   "metadata": {},
   "outputs": [
    {
     "name": "stdout",
     "output_type": "stream",
     "text": [
      "2019-03-01\n"
     ]
    }
   ],
   "source": [
    "#날짜 및 시간 관련 처치 모듈\n",
    "import datetime\n",
    "\n",
    "set_day = datetime.date(2019,3,1)\n",
    "print(set_day)"
   ]
  },
  {
   "cell_type": "code",
   "execution_count": 48,
   "metadata": {},
   "outputs": [
    {
     "name": "stdout",
     "output_type": "stream",
     "text": [
      "2019/3/1\n"
     ]
    }
   ],
   "source": [
    "print('{0}/{1}/{2}'.format(set_day.year,set_day.month,set_day.day))"
   ]
  },
  {
   "cell_type": "code",
   "execution_count": 49,
   "metadata": {},
   "outputs": [
    {
     "name": "stdout",
     "output_type": "stream",
     "text": [
      "100 days, 0:00:00\n"
     ]
    }
   ],
   "source": [
    "import datetime\n",
    "\n",
    "day1 = datetime.date(2019,4,1)\n",
    "day2 = datetime.date(2019,7,10)\n",
    "diff_day = day2-day1\n",
    "print(diff_day)"
   ]
  },
  {
   "cell_type": "code",
   "execution_count": 51,
   "metadata": {},
   "outputs": [
    {
     "data": {
      "text/plain": [
       "datetime.date"
      ]
     },
     "execution_count": 51,
     "metadata": {},
     "output_type": "execute_result"
    }
   ],
   "source": [
    "type(day1)"
   ]
  },
  {
   "cell_type": "code",
   "execution_count": 52,
   "metadata": {},
   "outputs": [
    {
     "data": {
      "text/plain": [
       "datetime.timedelta"
      ]
     },
     "execution_count": 52,
     "metadata": {},
     "output_type": "execute_result"
    }
   ],
   "source": [
    "type(diff_day)"
   ]
  },
  {
   "cell_type": "code",
   "execution_count": 53,
   "metadata": {},
   "outputs": [
    {
     "name": "stdout",
     "output_type": "stream",
     "text": [
      "**지정된 두 날짜의 차이는 100일 입니다. **.\n"
     ]
    }
   ],
   "source": [
    "print(\"**지정된 두 날짜의 차이는 {}일 입니다. **.\".format(diff_day.days))"
   ]
  },
  {
   "cell_type": "code",
   "execution_count": 54,
   "metadata": {},
   "outputs": [
    {
     "name": "stdout",
     "output_type": "stream",
     "text": [
      "2020-02-07\n"
     ]
    }
   ],
   "source": [
    "import datetime\n",
    "print(datetime.date.today())"
   ]
  },
  {
   "cell_type": "code",
   "execution_count": 55,
   "metadata": {},
   "outputs": [
    {
     "name": "stdout",
     "output_type": "stream",
     "text": [
      "-403 days, 0:00:00\n"
     ]
    }
   ],
   "source": [
    "import datetime\n",
    "\n",
    "today = datetime.date.today()\n",
    "special_day = datetime.date(2018, 12, 31)\n",
    "print(special_day - today)"
   ]
  },
  {
   "cell_type": "code",
   "execution_count": 56,
   "metadata": {},
   "outputs": [
    {
     "name": "stdout",
     "output_type": "stream",
     "text": [
      "15:30:45\n"
     ]
    }
   ],
   "source": [
    "import datetime\n",
    "\n",
    "set_time = datetime.time(15,30,45)\n",
    "print(set_time)"
   ]
  },
  {
   "cell_type": "code",
   "execution_count": 57,
   "metadata": {},
   "outputs": [
    {
     "name": "stdout",
     "output_type": "stream",
     "text": [
      "15:30:45\n"
     ]
    }
   ],
   "source": [
    "print('{0}:{1}:{2}'.format(set_time.hour,set_time.minute,set_time.second))"
   ]
  },
  {
   "cell_type": "code",
   "execution_count": 58,
   "metadata": {},
   "outputs": [
    {
     "name": "stdout",
     "output_type": "stream",
     "text": [
      "2018-10-09 10:20:00\n"
     ]
    }
   ],
   "source": [
    "import datetime\n",
    "set_dt = datetime.datetime(2018,10,9,10,20,0)\n",
    "print(set_dt)"
   ]
  },
  {
   "cell_type": "code",
   "execution_count": 60,
   "metadata": {},
   "outputs": [
    {
     "name": "stdout",
     "output_type": "stream",
     "text": [
      "날짜 2018/10/9\n",
      "시각 10:20:0\n"
     ]
    }
   ],
   "source": [
    "print('날짜 {0}/{1}/{2}'.format(set_dt.year, set_dt.month, set_dt.day))\n",
    "print('시각 {0}:{1}:{2}'.format(set_dt.hour, set_dt.minute, set_dt.second))"
   ]
  },
  {
   "cell_type": "code",
   "execution_count": 61,
   "metadata": {},
   "outputs": [
    {
     "name": "stdout",
     "output_type": "stream",
     "text": [
      "2020-02-07 12:21:37.861597\n"
     ]
    }
   ],
   "source": [
    "import datetime\n",
    "now = datetime.datetime.now()\n",
    "print(now)"
   ]
  },
  {
   "cell_type": "code",
   "execution_count": 62,
   "metadata": {},
   "outputs": [
    {
     "name": "stdout",
     "output_type": "stream",
     "text": [
      "date: 2020, 02, 07\n",
      "time: 12, 21, 37\n"
     ]
    }
   ],
   "source": [
    "print(\"date: {:%Y, %m, %d}\".format(now))\n",
    "print(\"time: {:%H, %M, %S}\".format(now))"
   ]
  },
  {
   "cell_type": "code",
   "execution_count": 64,
   "metadata": {},
   "outputs": [
    {
     "name": "stdout",
     "output_type": "stream",
     "text": [
      "2019-07-01\n",
      "2020-02-07\n",
      "15:30:45\n",
      "2020-02-14 18:10:50\n",
      "2020-02-07 12:23:40.362941\n"
     ]
    }
   ],
   "source": [
    "from datetime import date, time, datetime\n",
    "print(date(2019,7,1))\n",
    "print(date.today())\n",
    "print(time(15,30,45))\n",
    "print(datetime(2020,2,14,18,10,50))\n",
    "print(datetime.now())"
   ]
  },
  {
   "cell_type": "code",
   "execution_count": 65,
   "metadata": {
    "collapsed": true
   },
   "outputs": [
    {
     "name": "stdout",
     "output_type": "stream",
     "text": [
      "                                  2018\n",
      "\n",
      "      January                   February                   March\n",
      "Mo Tu We Th Fr Sa Su      Mo Tu We Th Fr Sa Su      Mo Tu We Th Fr Sa Su\n",
      " 1  2  3  4  5  6  7                1  2  3  4                1  2  3  4\n",
      " 8  9 10 11 12 13 14       5  6  7  8  9 10 11       5  6  7  8  9 10 11\n",
      "15 16 17 18 19 20 21      12 13 14 15 16 17 18      12 13 14 15 16 17 18\n",
      "22 23 24 25 26 27 28      19 20 21 22 23 24 25      19 20 21 22 23 24 25\n",
      "29 30 31                  26 27 28                  26 27 28 29 30 31\n",
      "\n",
      "       April                      May                       June\n",
      "Mo Tu We Th Fr Sa Su      Mo Tu We Th Fr Sa Su      Mo Tu We Th Fr Sa Su\n",
      "                   1          1  2  3  4  5  6                   1  2  3\n",
      " 2  3  4  5  6  7  8       7  8  9 10 11 12 13       4  5  6  7  8  9 10\n",
      " 9 10 11 12 13 14 15      14 15 16 17 18 19 20      11 12 13 14 15 16 17\n",
      "16 17 18 19 20 21 22      21 22 23 24 25 26 27      18 19 20 21 22 23 24\n",
      "23 24 25 26 27 28 29      28 29 30 31               25 26 27 28 29 30\n",
      "30\n",
      "\n",
      "        July                     August                  September\n",
      "Mo Tu We Th Fr Sa Su      Mo Tu We Th Fr Sa Su      Mo Tu We Th Fr Sa Su\n",
      "                   1             1  2  3  4  5                      1  2\n",
      " 2  3  4  5  6  7  8       6  7  8  9 10 11 12       3  4  5  6  7  8  9\n",
      " 9 10 11 12 13 14 15      13 14 15 16 17 18 19      10 11 12 13 14 15 16\n",
      "16 17 18 19 20 21 22      20 21 22 23 24 25 26      17 18 19 20 21 22 23\n",
      "23 24 25 26 27 28 29      27 28 29 30 31            24 25 26 27 28 29 30\n",
      "30 31\n",
      "\n",
      "      October                   November                  December\n",
      "Mo Tu We Th Fr Sa Su      Mo Tu We Th Fr Sa Su      Mo Tu We Th Fr Sa Su\n",
      " 1  2  3  4  5  6  7                1  2  3  4                      1  2\n",
      " 8  9 10 11 12 13 14       5  6  7  8  9 10 11       3  4  5  6  7  8  9\n",
      "15 16 17 18 19 20 21      12 13 14 15 16 17 18      10 11 12 13 14 15 16\n",
      "22 23 24 25 26 27 28      19 20 21 22 23 24 25      17 18 19 20 21 22 23\n",
      "29 30 31                  26 27 28 29 30            24 25 26 27 28 29 30\n",
      "                                                    31\n",
      "\n"
     ]
    }
   ],
   "source": [
    "# 달력 생성 및 처리 모듈\n",
    "import calendar\n",
    "print(calendar.calendar(2018))"
   ]
  },
  {
   "cell_type": "code",
   "execution_count": 66,
   "metadata": {},
   "outputs": [
    {
     "name": "stdout",
     "output_type": "stream",
     "text": [
      "                                               2019\n",
      "\n",
      "      January                   February                   March                     April\n",
      "Mo Tu We Th Fr Sa Su      Mo Tu We Th Fr Sa Su      Mo Tu We Th Fr Sa Su      Mo Tu We Th Fr Sa Su\n",
      "    1  2  3  4  5  6                   1  2  3                   1  2  3       1  2  3  4  5  6  7\n",
      " 7  8  9 10 11 12 13       4  5  6  7  8  9 10       4  5  6  7  8  9 10       8  9 10 11 12 13 14\n",
      "14 15 16 17 18 19 20      11 12 13 14 15 16 17      11 12 13 14 15 16 17      15 16 17 18 19 20 21\n",
      "21 22 23 24 25 26 27      18 19 20 21 22 23 24      18 19 20 21 22 23 24      22 23 24 25 26 27 28\n",
      "28 29 30 31               25 26 27 28               25 26 27 28 29 30 31      29 30\n",
      "\n",
      "        May                       June                      July                     August\n",
      "Mo Tu We Th Fr Sa Su      Mo Tu We Th Fr Sa Su      Mo Tu We Th Fr Sa Su      Mo Tu We Th Fr Sa Su\n",
      "       1  2  3  4  5                      1  2       1  2  3  4  5  6  7                1  2  3  4\n",
      " 6  7  8  9 10 11 12       3  4  5  6  7  8  9       8  9 10 11 12 13 14       5  6  7  8  9 10 11\n",
      "13 14 15 16 17 18 19      10 11 12 13 14 15 16      15 16 17 18 19 20 21      12 13 14 15 16 17 18\n",
      "20 21 22 23 24 25 26      17 18 19 20 21 22 23      22 23 24 25 26 27 28      19 20 21 22 23 24 25\n",
      "27 28 29 30 31            24 25 26 27 28 29 30      29 30 31                  26 27 28 29 30 31\n",
      "\n",
      "     September                  October                   November                  December\n",
      "Mo Tu We Th Fr Sa Su      Mo Tu We Th Fr Sa Su      Mo Tu We Th Fr Sa Su      Mo Tu We Th Fr Sa Su\n",
      "                   1          1  2  3  4  5  6                   1  2  3                         1\n",
      " 2  3  4  5  6  7  8       7  8  9 10 11 12 13       4  5  6  7  8  9 10       2  3  4  5  6  7  8\n",
      " 9 10 11 12 13 14 15      14 15 16 17 18 19 20      11 12 13 14 15 16 17       9 10 11 12 13 14 15\n",
      "16 17 18 19 20 21 22      21 22 23 24 25 26 27      18 19 20 21 22 23 24      16 17 18 19 20 21 22\n",
      "23 24 25 26 27 28 29      28 29 30 31               25 26 27 28 29 30         23 24 25 26 27 28 29\n",
      "30                                                                            30 31\n",
      "\n"
     ]
    }
   ],
   "source": [
    "# 지정된 연도의 전체달역을 문자열로 반환 (기본형식은 3개의 열)\n",
    "print(calendar.calendar(2019, m=4)) # 4개의 열로 반환"
   ]
  },
  {
   "cell_type": "code",
   "execution_count": 69,
   "metadata": {},
   "outputs": [
    {
     "name": "stdout",
     "output_type": "stream",
     "text": [
      "   September 2020\n",
      "Mo Tu We Th Fr Sa Su\n",
      "    1  2  3  4  5  6\n",
      " 7  8  9 10 11 12 13\n",
      "14 15 16 17 18 19 20\n",
      "21 22 23 24 25 26 27\n",
      "28 29 30\n",
      "\n"
     ]
    }
   ],
   "source": [
    "#연도의 특정 열만 반환\n",
    "print(calendar.month(2020,9))"
   ]
  },
  {
   "cell_type": "code",
   "execution_count": 70,
   "metadata": {},
   "outputs": [
    {
     "name": "stdout",
     "output_type": "stream",
     "text": [
      "(3, 28)\n"
     ]
    }
   ],
   "source": [
    "# 그달 1일이 시작하는 요일과 그 달의 날짜의 수를 확인\n",
    "print(calendar.monthrange(2018,2))\n",
    "# 일 => 0/ 월 =>1 / 화=>2 / 수=>3/ 목 => 4 / 금=> 5/토 =>6/ 일=>7"
   ]
  },
  {
   "cell_type": "code",
   "execution_count": 72,
   "metadata": {},
   "outputs": [
    {
     "name": "stdout",
     "output_type": "stream",
     "text": [
      "0\n"
     ]
    }
   ],
   "source": [
    "# 일요일의 시작 요일을 구하기\n",
    "print(calendar.firstweekday())"
   ]
  },
  {
   "cell_type": "code",
   "execution_count": 74,
   "metadata": {},
   "outputs": [
    {
     "name": "stdout",
     "output_type": "stream",
     "text": [
      "   September 2020\n",
      "Su Mo Tu We Th Fr Sa\n",
      "       1  2  3  4  5\n",
      " 6  7  8  9 10 11 12\n",
      "13 14 15 16 17 18 19\n",
      "20 21 22 23 24 25 26\n",
      "27 28 29 30\n",
      "\n"
     ]
    }
   ],
   "source": [
    "# 일주일의 시작 요일을 변경하고 싶을떄 => setfirstweekday\n",
    "calendar.setfirstweekday(calendar.SUNDAY)\n",
    "print(calendar.month(2020,9))"
   ]
  },
  {
   "cell_type": "code",
   "execution_count": 75,
   "metadata": {},
   "outputs": [
    {
     "name": "stdout",
     "output_type": "stream",
     "text": [
      "6\n"
     ]
    }
   ],
   "source": [
    "# 해당 날짜의 요일을 반환\n",
    "print(calendar.weekday(2018,10,14))"
   ]
  },
  {
   "cell_type": "code",
   "execution_count": 77,
   "metadata": {},
   "outputs": [
    {
     "name": "stdout",
     "output_type": "stream",
     "text": [
      "False\n",
      "True\n"
     ]
    }
   ],
   "source": [
    "# isleap(year)을 이용해 어떤 연도가 윤년인지 반환\n",
    "print(calendar.isleap(2018))\n",
    "print(calendar.isleap(2020))"
   ]
  },
  {
   "cell_type": "markdown",
   "metadata": {},
   "source": [
    "# 10-5 패키지 "
   ]
  },
  {
   "cell_type": "code",
   "execution_count": null,
   "metadata": {},
   "outputs": [],
   "source": [
    "#패키지의 구조\n",
    "#패키지 만들기\n",
    "# 패키지 => 모듈을 모은것"
   ]
  },
  {
   "cell_type": "code",
   "execution_count": 127,
   "metadata": {},
   "outputs": [],
   "source": [
    "mkdir D:\\Python_Project\\packages\\image; D:\\Python_Project\\packages\\image\\io_file"
   ]
  },
  {
   "cell_type": "code",
   "execution_count": 128,
   "metadata": {},
   "outputs": [
    {
     "name": "stdout",
     "output_type": "stream",
     "text": [
      "Writing D:\\Python_Project\\packages\\image\\__init__.py\n"
     ]
    }
   ],
   "source": [
    "%%writefile D:\\Python_Project\\packages\\image\\__init__.py\n",
    "# File name: __init__.py"
   ]
  },
  {
   "cell_type": "code",
   "execution_count": 129,
   "metadata": {},
   "outputs": [
    {
     "name": "stdout",
     "output_type": "stream",
     "text": [
      "Writing D:\\Python_Project\\packages\\image\\io_file\\__init__.py\n"
     ]
    }
   ],
   "source": [
    "%%writefile D:\\Python_Project\\packages\\image\\io_file\\__init__.py\n",
    "# File name: __init__.py"
   ]
  },
  {
   "cell_type": "code",
   "execution_count": 130,
   "metadata": {},
   "outputs": [
    {
     "name": "stdout",
     "output_type": "stream",
     "text": [
      "Writing D:\\Python_Project\\packages\\image\\io_file\\imgread.py\n"
     ]
    }
   ],
   "source": [
    "%%writefile D:\\Python_Project\\packages\\image\\io_file\\imgread.py\n",
    "    \n",
    "    \n",
    "def pngread():\n",
    "    print(\"pngread in imgread module\")\n",
    "\n",
    "def jpgread():\n",
    "    print(\"jpgread in imgread module\")\n"
   ]
  },
  {
   "cell_type": "code",
   "execution_count": 134,
   "metadata": {},
   "outputs": [
    {
     "name": "stdout",
     "output_type": "stream",
     "text": [
      "Data 볼륨에 대한 폴더 경로의 목록입니다.\n",
      "볼륨 일련 번호는 20B8-773B입니다.\n",
      "D:\\PYTHON_PROJECT\\PACKAGES\n",
      "└─image\n",
      "    │  __init__.py\n",
      "    │  \n",
      "    └─io_file\n",
      "            imgread.py\n",
      "            __init__.py\n",
      "            \n"
     ]
    }
   ],
   "source": [
    "# tree /F => 폴더구조와 파일목록 까지 보여줌\n",
    "!tree /F D:\\Python_Project\\packages"
   ]
  },
  {
   "cell_type": "code",
   "execution_count": 1,
   "metadata": {},
   "outputs": [
    {
     "name": "stdout",
     "output_type": "stream",
     "text": [
      "pngread in imgread module\n",
      "jpgread in imgread module\n"
     ]
    }
   ],
   "source": [
    "# 패키지 사용하기\n",
    "import image.io_file.imgread # image 패키지 io_file 폴더의 imgread 모듈 임포트\n",
    "#from image.io_file import imgread\n",
    "image.io_file.imgread.pngread() # imgread 모듈 내의 pngread() 함수 호출\n",
    "image.io_file.imgread.jpgread() # imgread 모듈 내의 jpgread() 함수 호출"
   ]
  },
  {
   "cell_type": "code",
   "execution_count": 2,
   "metadata": {},
   "outputs": [
    {
     "name": "stdout",
     "output_type": "stream",
     "text": [
      "pngread in imgread module\n",
      "jpgread in imgread module\n"
     ]
    }
   ],
   "source": [
    "from image.io_file import imgread\n",
    "\n",
    "imgread.pngread()\n",
    "imgread.jpgread()"
   ]
  },
  {
   "cell_type": "code",
   "execution_count": 4,
   "metadata": {},
   "outputs": [
    {
     "name": "stdout",
     "output_type": "stream",
     "text": [
      "pngread in imgread module\n"
     ]
    }
   ],
   "source": [
    "from image.io_file.imgread import pngread\n",
    "pngread()"
   ]
  },
  {
   "cell_type": "code",
   "execution_count": 6,
   "metadata": {},
   "outputs": [
    {
     "name": "stdout",
     "output_type": "stream",
     "text": [
      "pngread in imgread module\n",
      "jpgread in imgread module\n"
     ]
    }
   ],
   "source": [
    "from image.io_file.imgread import *\n",
    "pngread()\n",
    "jpgread()"
   ]
  },
  {
   "cell_type": "code",
   "execution_count": 7,
   "metadata": {},
   "outputs": [
    {
     "name": "stdout",
     "output_type": "stream",
     "text": [
      "pngread in imgread module\n",
      "jpgread in imgread module\n"
     ]
    }
   ],
   "source": [
    "from image.io_file.imgread import pngread, jpgread\n",
    "\n",
    "pngread()\n",
    "jpgread()"
   ]
  },
  {
   "cell_type": "code",
   "execution_count": 8,
   "metadata": {},
   "outputs": [
    {
     "name": "stdout",
     "output_type": "stream",
     "text": [
      "pngread in imgread module\n",
      "jpgread in imgread module\n"
     ]
    }
   ],
   "source": [
    "from image.io_file import imgread as img\n",
    "img.pngread()\n",
    "img.jpgread()"
   ]
  },
  {
   "cell_type": "code",
   "execution_count": 9,
   "metadata": {},
   "outputs": [
    {
     "name": "stdout",
     "output_type": "stream",
     "text": [
      "pngread in imgread module\n",
      "jpgread in imgread module\n"
     ]
    }
   ],
   "source": [
    "from image.io_file.imgread import pngread as pread\n",
    "from image.io_file.imgread import jpgread as jread\n",
    "\n",
    "pread()\n",
    "jread()"
   ]
  },
  {
   "cell_type": "code",
   "execution_count": null,
   "metadata": {},
   "outputs": [],
   "source": []
  }
 ],
 "metadata": {
  "kernelspec": {
   "display_name": "Python 3",
   "language": "python",
   "name": "python3"
  },
  "language_info": {
   "codemirror_mode": {
    "name": "ipython",
    "version": 3
   },
   "file_extension": ".py",
   "mimetype": "text/x-python",
   "name": "python",
   "nbconvert_exporter": "python",
   "pygments_lexer": "ipython3",
   "version": "3.7.6"
  }
 },
 "nbformat": 4,
 "nbformat_minor": 2
}
