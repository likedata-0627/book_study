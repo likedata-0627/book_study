{
 "cells": [
  {
   "cell_type": "markdown",
   "metadata": {},
   "source": [
    "# 9-1 문자열 다루기"
   ]
  },
  {
   "cell_type": "code",
   "execution_count": 2,
   "metadata": {},
   "outputs": [
    {
     "data": {
      "text/plain": [
       "['에스프레소', ' 아메리카노', ' 카페라뗴', ' 카푸치노']"
      ]
     },
     "execution_count": 2,
     "metadata": {},
     "output_type": "execute_result"
    }
   ],
   "source": [
    "# 문자열 분리하기\n",
    "# str.split([sep]) => [] 는 생략이 가능, sep없이 쓰면 모든 공백과 개항 문자를 제거\n",
    "coffee_menu_str ='에스프레소, 아메리카노, 카페라뗴, 카푸치노'\n",
    "coffee_menu_str.split(',')"
   ]
  },
  {
   "cell_type": "code",
   "execution_count": 3,
   "metadata": {},
   "outputs": [
    {
     "data": {
      "text/plain": [
       "['에스프레소', ' 아메리카노', ' 카페라뗴', ' 카푸치노']"
      ]
     },
     "execution_count": 3,
     "metadata": {},
     "output_type": "execute_result"
    }
   ],
   "source": [
    "# 변수 할당안하고 직접 쓰기도 함. \n",
    "'에스프레소, 아메리카노, 카페라뗴, 카푸치노'.split(',')"
   ]
  },
  {
   "cell_type": "code",
   "execution_count": 4,
   "metadata": {},
   "outputs": [
    {
     "data": {
      "text/plain": [
       "['에스프레소,', '아메리카노,', '카페라뗴,', '카푸치노']"
      ]
     },
     "execution_count": 4,
     "metadata": {},
     "output_type": "execute_result"
    }
   ],
   "source": [
    "'에스프레소, 아메리카노, 카페라뗴, 카푸치노'.split(' ')"
   ]
  },
  {
   "cell_type": "code",
   "execution_count": 5,
   "metadata": {},
   "outputs": [
    {
     "data": {
      "text/plain": [
       "['에스프레소,', '아메리카노,', '카페라뗴,', '카푸치노']"
      ]
     },
     "execution_count": 5,
     "metadata": {},
     "output_type": "execute_result"
    }
   ],
   "source": [
    "'에스프레소, 아메리카노, 카페라뗴, 카푸치노'.split()"
   ]
  },
  {
   "cell_type": "code",
   "execution_count": 6,
   "metadata": {},
   "outputs": [
    {
     "data": {
      "text/plain": [
       "['에스프레소', '아메리카노', '카페라뗴', '카푸치노']"
      ]
     },
     "execution_count": 6,
     "metadata": {},
     "output_type": "execute_result"
    }
   ],
   "source": [
    "'    에스프레소 \\n\\n 아메리카노 \\n 카페라뗴     카푸치노 \\n\\n'.split()"
   ]
  },
  {
   "cell_type": "code",
   "execution_count": 7,
   "metadata": {},
   "outputs": [
    {
     "data": {
      "text/plain": [
       "['에스프레소', '아메리카노', '카페라뗴 카푸치노']"
      ]
     },
     "execution_count": 7,
     "metadata": {},
     "output_type": "execute_result"
    }
   ],
   "source": [
    "# 원하는 횟수만큼 문자열 분리하는 것도 가능\n",
    "'에스프레소 아메리카노 카페라뗴 카푸치노'.split(maxsplit=2)"
   ]
  },
  {
   "cell_type": "code",
   "execution_count": 9,
   "metadata": {},
   "outputs": [
    {
     "name": "stdout",
     "output_type": "stream",
     "text": [
      "['+82', '01-2345-6789']\n",
      "국내전화번호: 01-2345-6789\n"
     ]
    }
   ],
   "source": [
    "phone_number = \"+82-01-2345-6789\" #국가 번호가 포함된 전화번호\n",
    "split_num = phone_number.split(\"-\",1) #국가 번호와 나머지 번호 분리=> 구분자, 원하는 횟수\n",
    "\n",
    "print(split_num)\n",
    "print(\"국내전화번호: {0}\".format(split_num[1]))"
   ]
  },
  {
   "cell_type": "code",
   "execution_count": 10,
   "metadata": {},
   "outputs": [
    {
     "data": {
      "text/plain": [
       "'Python'"
      ]
     },
     "execution_count": 10,
     "metadata": {},
     "output_type": "execute_result"
    }
   ],
   "source": [
    "# 필요없는 문자열 삭제하기\n",
    "# str.strip([cahrs]) \n",
    "#=> 문자열(str) 앞과 뒤에서 시작해서 지정한 문자(chars)외의 다른 문자를 만날때까지 지정한 문자(chars)를 삭제 후 반환\n",
    "'aaaaPythonaaa'.strip('a')"
   ]
  },
  {
   "cell_type": "code",
   "execution_count": 11,
   "metadata": {},
   "outputs": [
    {
     "data": {
      "text/plain": [
       "'bbPythonbbb'"
      ]
     },
     "execution_count": 11,
     "metadata": {},
     "output_type": "execute_result"
    }
   ],
   "source": [
    "test_str = 'aaabbPythonbbbaa'\n",
    "temp1 =test_str.strip('a') #문자열 앞뒤의 a제거\n",
    "temp1"
   ]
  },
  {
   "cell_type": "code",
   "execution_count": 12,
   "metadata": {},
   "outputs": [
    {
     "data": {
      "text/plain": [
       "'Python'"
      ]
     },
     "execution_count": 12,
     "metadata": {},
     "output_type": "execute_result"
    }
   ],
   "source": [
    "temp1.strip('b') # 문자열 앞뒤의 'b' 제거"
   ]
  },
  {
   "cell_type": "code",
   "execution_count": 15,
   "metadata": {},
   "outputs": [
    {
     "data": {
      "text/plain": [
       "'Python'"
      ]
     },
     "execution_count": 15,
     "metadata": {},
     "output_type": "execute_result"
    }
   ],
   "source": [
    "test_str.strip('ab') #문자열 앞뒤의 'a'와 'b'  제거"
   ]
  },
  {
   "cell_type": "code",
   "execution_count": 16,
   "metadata": {},
   "outputs": [
    {
     "data": {
      "text/plain": [
       "'Python'"
      ]
     },
     "execution_count": 16,
     "metadata": {},
     "output_type": "execute_result"
    }
   ],
   "source": [
    "test_str.strip('ba') # 문자열 여러개 지울때는 순서 상관없이 써도 됨. "
   ]
  },
  {
   "cell_type": "code",
   "execution_count": 17,
   "metadata": {},
   "outputs": [
    {
     "data": {
      "text/plain": [
       "'Python is powerful.!... $$'"
      ]
     },
     "execution_count": 17,
     "metadata": {},
     "output_type": "execute_result"
    }
   ],
   "source": [
    "test_str_mull = '##***!!!##....  Python is powerful.!... $$!#..   '\n",
    "test_str_mull.strip('*.#! %')"
   ]
  },
  {
   "cell_type": "code",
   "execution_count": 18,
   "metadata": {},
   "outputs": [
    {
     "data": {
      "text/plain": [
       "'Python is powerful.!... $$'"
      ]
     },
     "execution_count": 18,
     "metadata": {},
     "output_type": "execute_result"
    }
   ],
   "source": [
    "test_str_mull.strip('%* !#.')"
   ]
  },
  {
   "cell_type": "code",
   "execution_count": 20,
   "metadata": {},
   "outputs": [
    {
     "data": {
      "text/plain": [
       "'Python'"
      ]
     },
     "execution_count": 20,
     "metadata": {},
     "output_type": "execute_result"
    }
   ],
   "source": [
    "\"   Python   \".strip(' ') # 앞뒤 공백 제거"
   ]
  },
  {
   "cell_type": "code",
   "execution_count": 25,
   "metadata": {},
   "outputs": [
    {
     "data": {
      "text/plain": [
       "'python'"
      ]
     },
     "execution_count": 25,
     "metadata": {},
     "output_type": "execute_result"
    }
   ],
   "source": [
    "'\\n  python  \\n\\n'.strip(' \\n') #공백과 개행 문자를 지욱 싶을때"
   ]
  },
  {
   "cell_type": "code",
   "execution_count": 22,
   "metadata": {},
   "outputs": [
    {
     "data": {
      "text/plain": [
       "'python'"
      ]
     },
     "execution_count": 22,
     "metadata": {},
     "output_type": "execute_result"
    }
   ],
   "source": [
    "#지정 문자 없이 수행하면 문자열 앞과 뒤의 모든 공백과 개행문자(\\n)을 삭제후 반환\n",
    "'\\n  python  \\n\\n'.strip() "
   ]
  },
  {
   "cell_type": "code",
   "execution_count": 23,
   "metadata": {},
   "outputs": [
    {
     "data": {
      "text/plain": [
       "'Ball'"
      ]
     },
     "execution_count": 23,
     "metadata": {},
     "output_type": "execute_result"
    }
   ],
   "source": [
    "'aaaBallaaa'.strip('a')"
   ]
  },
  {
   "cell_type": "code",
   "execution_count": 24,
   "metadata": {},
   "outputs": [
    {
     "data": {
      "text/plain": [
       "'This is very \\n fast.'"
      ]
     },
     "execution_count": 24,
     "metadata": {},
     "output_type": "execute_result"
    }
   ],
   "source": [
    "#문자열 사이의 공백과 개행 문자는 삭제 안됨\n",
    "'\\n This is very \\n fast. \\n\\n'.strip() "
   ]
  },
  {
   "cell_type": "code",
   "execution_count": 25,
   "metadata": {},
   "outputs": [
    {
     "name": "stdout",
     "output_type": "stream",
     "text": [
      "Python is easy to learn.\n",
      "Python is easy to learn.000\n",
      "000Python is easy to learn.\n"
     ]
    }
   ],
   "source": [
    "str_lr = '000Python is easy to learn.000'\n",
    "print(str_lr.strip('0'))\n",
    "print(str_lr.lstrip('0')) #문자열 왼쪽만 삭제 하려면 lstrip\n",
    "print(str_lr.rstrip('0')) #문자열 오른쪽만 삭제하려면 rstrip"
   ]
  },
  {
   "cell_type": "code",
   "execution_count": 26,
   "metadata": {},
   "outputs": [
    {
     "data": {
      "text/plain": [
       "['에스프레소', ' 아메리카노', '   카페라뗴   ', ' 카푸치노  ']"
      ]
     },
     "execution_count": 26,
     "metadata": {},
     "output_type": "execute_result"
    }
   ],
   "source": [
    "coffee_menu = '에스프레소, 아메리카노,   카페라뗴   , 카푸치노  '\n",
    "coffee_menu_list = coffee_menu.split(',') # 콤마를 기준자로 리스트로 반환\n",
    "coffee_menu_list"
   ]
  },
  {
   "cell_type": "code",
   "execution_count": 27,
   "metadata": {},
   "outputs": [
    {
     "name": "stdout",
     "output_type": "stream",
     "text": [
      "['에스프레소', '아메리카노', '카페라뗴', '카푸치노']\n"
     ]
    }
   ],
   "source": [
    "coffee_list = []\n",
    "for coffee in coffee_menu_list:\n",
    "    temp = coffee.strip() #문자열 공백 제거\n",
    "    coffee_list.append(temp) #리스트 변수에 공백이 제거된 문자열이 추가\n",
    "print(coffee_list) #최종문자열 리스트 출력"
   ]
  },
  {
   "cell_type": "code",
   "execution_count": 28,
   "metadata": {},
   "outputs": [
    {
     "name": "stdout",
     "output_type": "stream",
     "text": [
      "철수님, 주소와 전화 번호를 입력해 주세요.\n",
      "영미님, 주소와 전화 번호를 입력해 주세요.\n"
     ]
    }
   ],
   "source": [
    "#문자열 연결하기\n",
    "name1 = '철수'\n",
    "name2= '영미'\n",
    "# 더하기 (+) 연산자로 문자열 연결\n",
    "hello = '님, 주소와 전화 번호를 입력해 주세요.'\n",
    "print(name1 + hello)\n",
    "print(name2 + hello)"
   ]
  },
  {
   "cell_type": "code",
   "execution_count": 27,
   "metadata": {},
   "outputs": [
    {
     "data": {
      "text/plain": [
       "['서울시', '서초구', '반포대로', '201(반포동)']"
      ]
     },
     "execution_count": 27,
     "metadata": {},
     "output_type": "execute_result"
    }
   ],
   "source": [
    "address_list = [\"서울시\",'서초구', '반포대로','201(반포동)']\n",
    "address_list"
   ]
  },
  {
   "cell_type": "code",
   "execution_count": 28,
   "metadata": {},
   "outputs": [
    {
     "data": {
      "text/plain": [
       "'서울시 서초구 반포대로 201(반포동)'"
      ]
     },
     "execution_count": 28,
     "metadata": {},
     "output_type": "execute_result"
    }
   ],
   "source": [
    "#join()메서드 => 리스트의 모든 항목을 하나의 문자열로 만들기.\n",
    "# str.join(Seq)\n",
    "a=\" \"# 공백으로 연결해서 \n",
    "a.join(address_list) # 모든 항목을 하나의 문자열로 만들기"
   ]
  },
  {
   "cell_type": "code",
   "execution_count": 31,
   "metadata": {},
   "outputs": [
    {
     "data": {
      "text/plain": [
       "'서울시 서초구 반포대로 201(반포동)'"
      ]
     },
     "execution_count": 31,
     "metadata": {},
     "output_type": "execute_result"
    }
   ],
   "source": [
    "\" \".join(address_list)"
   ]
  },
  {
   "cell_type": "code",
   "execution_count": 32,
   "metadata": {},
   "outputs": [
    {
     "data": {
      "text/plain": [
       "'서울시*^-^*서초구*^-^*반포대로*^-^*201(반포동)'"
      ]
     },
     "execution_count": 32,
     "metadata": {},
     "output_type": "execute_result"
    }
   ],
   "source": [
    "\"*^-^*\".join(address_list)"
   ]
  },
  {
   "cell_type": "code",
   "execution_count": 33,
   "metadata": {},
   "outputs": [
    {
     "name": "stdout",
     "output_type": "stream",
     "text": [
      "찾는 문자열의 위치: 0\n",
      "찾는 문자열의 위치: 7\n",
      "찾는 문자열의 위치: 5\n",
      "찾는 문자열의 위치: -1\n"
     ]
    }
   ],
   "source": [
    "#문자열 찾기\n",
    "str_f = \"Python code\"\n",
    "#str.find(seaech_str) \n",
    "#=> 문자열의 위치는 0부터 시작, 만약 문자열 못찾으면 -1로 반환\n",
    "# str.find(search_str, strt, end) => 시작위치와 끝위치 설정 가능\n",
    "\n",
    "print(\"찾는 문자열의 위치:\", str_f.find(\"Python\"))\n",
    "print(\"찾는 문자열의 위치:\", str_f.find(\"code\"))\n",
    "print(\"찾는 문자열의 위치:\", str_f.find(\"n\"))\n",
    "print(\"찾는 문자열의 위치:\", str_f.find(\"easy\"))"
   ]
  },
  {
   "cell_type": "code",
   "execution_count": 35,
   "metadata": {},
   "outputs": [
    {
     "name": "stdout",
     "output_type": "stream",
     "text": [
      "Python의 개수는 ?: 3\n",
      "powerful의 개수는 ?: 1\n",
      "lPython의 개수는 ?: 0\n"
     ]
    }
   ],
   "source": [
    "str_c = \"Python is powerful. Python is easy to learn. Python is open.\"\n",
    "#해당 문자열이 몇번 나오는지 알고싶을 때\n",
    "#str.count(Search_str) / str.count(Search_str, start)/ #str.count(Search_str, start, end)\n",
    "print(\"Python의 개수는 ?:\", str_c.count(\"Python\"))\n",
    "print(\"powerful의 개수는 ?:\", str_c.count(\"powerful\"))\n",
    "print(\"lPython의 개수는 ?:\", str_c.count(\"lPython\"))"
   ]
  },
  {
   "cell_type": "code",
   "execution_count": 38,
   "metadata": {},
   "outputs": [
    {
     "name": "stdout",
     "output_type": "stream",
     "text": [
      "Python으로 시작?: True\n",
      "is로 시작?: False\n",
      ".으로 시작?: True\n",
      "learn으로 시작?: False\n"
     ]
    }
   ],
   "source": [
    "str_se = \"Python is powerful. Python is easy to learn.\"\n",
    "# 각각 문자열이 지정된 문자열로 시작하는지, 끝나는지를 검사\n",
    "# str.startswith(prefix) / str.startswith(prefix, start) / str.startswith(prefix, start, end)\n",
    "# str.endswith(prefix) / str.endswith(prefix, start) / str.endswith(prefix, start, end\n",
    "print(\"Python으로 시작?:\", str_se.startswith(\"Python\"))\n",
    "print(\"is로 시작?:\", str_se.startswith(\"is\"))\n",
    "print(\".으로 시작?:\", str_se.endswith(\".\"))\n",
    "print(\"learn으로 시작?:\", str_se.endswith(\"learn\"))"
   ]
  },
  {
   "cell_type": "code",
   "execution_count": 40,
   "metadata": {},
   "outputs": [
    {
     "name": "stdout",
     "output_type": "stream",
     "text": [
      "iPython is fast. iPython is friend;y. iPython is open.\n",
      "iPython is fast. iPython is friend;y. Python is open.\n"
     ]
    }
   ],
   "source": [
    "# 문자열 바꾸기\n",
    "# str.replace(old, new[, count])\n",
    "# 문자열에서 지정한 문자 (old)를 찾아서 새로운 문자열(new)로 바꿉니다. \n",
    "# 여기서 count는 문자열(str)에서 지정된 문자열을 찾아서 바꾸는 횟수\n",
    "# 만약에 횟수를 지정하지 않으면 전체에서 찾아서 바꿈\n",
    "str_a = \"Python is fast. Python is friend;y. Python is open.\"\n",
    "print(str_a.replace(\"Python\", 'iPython'))\n",
    "print(str_a.replace(\"Python\", 'iPython',2))"
   ]
  },
  {
   "cell_type": "code",
   "execution_count": 42,
   "metadata": {},
   "outputs": [
    {
     "name": "stdout",
     "output_type": "stream",
     "text": [
      "[Python][is][fast]\n",
      "Python]is]fast]\n",
      "[Python[is[fast\n"
     ]
    }
   ],
   "source": [
    "str_b = '[Python][is][fast]'\n",
    "str_b1 = str_b.replace('[', '') #문자열에서 '[' 를 제거\n",
    "str_b2 = str_b.replace(']', '')  #문자열에서 ']' 를 제거\n",
    "\n",
    "print(str_b)\n",
    "print(str_b1)\n",
    "print(str_b2)"
   ]
  },
  {
   "cell_type": "code",
   "execution_count": 1,
   "metadata": {},
   "outputs": [
    {
     "name": "stdout",
     "output_type": "stream",
     "text": [
      "True\n",
      "False\n"
     ]
    }
   ],
   "source": [
    "# 문자열 구성확인\n",
    "# .isalpha() => 문자열이 숫자, 특수문자, 공백이 아닌 문자로 구성되어있을 때 True\n",
    "print('Python'.isalpha()) # 문자열에 공백, 특수문자, 숫자가 없음\n",
    "print('Ver .3.x'.isalpha()) # 공백, 특수문자, 숫자 중 하나가 있음"
   ]
  },
  {
   "cell_type": "code",
   "execution_count": 3,
   "metadata": {},
   "outputs": [
    {
     "name": "stdout",
     "output_type": "stream",
     "text": [
      "True\n",
      "False\n"
     ]
    }
   ],
   "source": [
    "# .indigit() => 문자열이 모두 숫자로 구성되어 있으면 True\n",
    "print('12345'.isdigit()) #문자열이 모두 숫자로만 구성\n",
    "print('12345abc'.isdigit()) #문자열이 모두 숫자로만 구성되지 않음"
   ]
  },
  {
   "cell_type": "code",
   "execution_count": 4,
   "metadata": {},
   "outputs": [
    {
     "name": "stdout",
     "output_type": "stream",
     "text": [
      "True\n",
      "False\n"
     ]
    }
   ],
   "source": [
    "#isalnum() => 문자열이 특수문자나 공백이 아닌 문자와 숫자로 구성되어있으면 True\n",
    "print('abc123'.isalnum()) #특수 문자나 공백이 아닌 문자와 숫자로 구성\n",
    "print('   abc123'.isalnum()) # 문자열이 공백이 있음"
   ]
  },
  {
   "cell_type": "code",
   "execution_count": 5,
   "metadata": {},
   "outputs": [
    {
     "name": "stdout",
     "output_type": "stream",
     "text": [
      "True\n",
      "False\n"
     ]
    }
   ],
   "source": [
    "#isspace() => 문자열이 공백으로만 구성되어 있을때 True \n",
    "print('    '.isspace()) # 문자열이 공백으로만 구성되어있음\n",
    "print('  1  '.isspace()) # 문자열이 공백 외에 다른 문자가 있음"
   ]
  },
  {
   "cell_type": "code",
   "execution_count": 7,
   "metadata": {},
   "outputs": [
    {
     "name": "stdout",
     "output_type": "stream",
     "text": [
      "True\n",
      "False\n",
      "True\n",
      "False\n"
     ]
    }
   ],
   "source": [
    "# .isupper() => 문자열이 모두 로마 대문자로만 구성 되어있을때 True\n",
    "# .islower() => 문자열이 모두 로마 소문자로만 구성 되어있을때 True\n",
    "print('PYTHON'.isupper()) #문자열이 모두 대문자로 구성됨\n",
    "print('Python'.isupper()) #문자열이 대문자와 소문자로 구성됨\n",
    "print('python'.islower()) #문자열이 모두 소문자로 구성됨\n",
    "print('Python'.islower()) #문자열이 대문자와 소문자로 구성됨"
   ]
  },
  {
   "cell_type": "code",
   "execution_count": 8,
   "metadata": {},
   "outputs": [
    {
     "name": "stdout",
     "output_type": "stream",
     "text": [
      "python is powerful. python is easy to learn.\n",
      "PYTHON IS POWERFUL. PYTHON IS EASY TO LEARN.\n"
     ]
    }
   ],
   "source": [
    "# 대소문자로 변경하기\n",
    "# .lower() => 소문자로 변경\n",
    "# .upper() => 대문자로 변경\n",
    "string1 = 'Python is powerful. PYTHON IS EASY TO LEARN.'\n",
    "print(string1.lower())\n",
    "print(string1.upper())"
   ]
  },
  {
   "cell_type": "code",
   "execution_count": 9,
   "metadata": {},
   "outputs": [
    {
     "data": {
      "text/plain": [
       "False"
      ]
     },
     "execution_count": 9,
     "metadata": {},
     "output_type": "execute_result"
    }
   ],
   "source": [
    "'Python' == 'python'"
   ]
  },
  {
   "cell_type": "code",
   "execution_count": 12,
   "metadata": {},
   "outputs": [
    {
     "name": "stdout",
     "output_type": "stream",
     "text": [
      "True\n",
      "True\n"
     ]
    }
   ],
   "source": [
    "print('Python'.lower() == 'python'.lower())\n",
    "print('Python'.upper() == 'python'.upper())"
   ]
  },
  {
   "cell_type": "markdown",
   "metadata": {},
   "source": [
    "# 9-2 덱스트 파일의 데이터를 읽고 처리하기"
   ]
  },
  {
   "cell_type": "code",
   "execution_count": 16,
   "metadata": {},
   "outputs": [
    {
     "name": "stdout",
     "output_type": "stream",
     "text": [
      "날짜    에스프레소  아메리카노  카페라테  카푸치노\n",
      "10.15       10  \t50         45       20   \n",
      "10.16       12\t\t45         41       18\n",
      "10.17       11\t\t53         32       25\n",
      "10.18       15\t\t49         38       22"
     ]
    }
   ],
   "source": [
    "# 데이터 파일 준비 및 읽기\n",
    "file_name = 'D:\\Python_Project\\데이터분석을 위한 파이썬 철저 입문\\python-for-data-analysis-master\\data\\coffeeShopSales.txt'\n",
    "f= open(file_name) # 파일 열기\n",
    "for line in f: # 한줄씩 읽기\n",
    "    print(line, end='') # 한줄씩 출력\n",
    "f.close() # 파일 닫기"
   ]
  },
  {
   "cell_type": "code",
   "execution_count": 20,
   "metadata": {},
   "outputs": [
    {
     "data": {
      "text/plain": [
       "'날짜    에스프레소  아메리카노  카페라테  카푸치노\\n'"
      ]
     },
     "execution_count": 20,
     "metadata": {},
     "output_type": "execute_result"
    }
   ],
   "source": [
    "# 파일에서 읽은 문자열 데이터 처리\n",
    "f = open(file_name)\n",
    "header = f.readline() # 데이터의 첫번째 줄을 읽음\n",
    "f.close() # 파일 닫기\n",
    "header"
   ]
  },
  {
   "cell_type": "code",
   "execution_count": 21,
   "metadata": {},
   "outputs": [
    {
     "data": {
      "text/plain": [
       "['날짜', '에스프레소', '아메리카노', '카페라테', '카푸치노']"
      ]
     },
     "execution_count": 21,
     "metadata": {},
     "output_type": "execute_result"
    }
   ],
   "source": [
    "header_list = header.split() # 첫출의 문자열을 분리한 후 리스트로 변환\n",
    "header_list"
   ]
  },
  {
   "cell_type": "code",
   "execution_count": 22,
   "metadata": {},
   "outputs": [
    {
     "name": "stdout",
     "output_type": "stream",
     "text": [
      "['10.15', '10', '50', '45', '20']\n",
      "['10.16', '12', '45', '41', '18']\n",
      "['10.17', '11', '53', '32', '25']\n",
      "['10.18', '15', '49', '38', '22']\n"
     ]
    }
   ],
   "source": [
    "f = open(file_name) #파일 열기\n",
    "header = f.readline() #데이터의 첫번째 줄을 읽음\n",
    "header_list = header.split() #첫줄의 문자열을 분리한 후 리스트로 변환\n",
    "\n",
    "for line in f: #두번째 줄부터 데이터를 읽어와서 반복적으로 처리\n",
    "    data_list = line.split()  #문자열을 분리해서 리스트로 변환\n",
    "    print(data_list) # 결과 확인을 위해 리스트로 출력\n",
    "f.close() # 파일 닫기"
   ]
  },
  {
   "cell_type": "code",
   "execution_count": 23,
   "metadata": {},
   "outputs": [
    {
     "name": "stdout",
     "output_type": "stream",
     "text": [
      "에스프레소:[10, 12, 11, 15]\n",
      "에스프레소:[50, 45, 53, 49]\n",
      "에스프레소:[45, 41, 32, 38]\n",
      "에스프레소:[20, 18, 25, 22]\n"
     ]
    }
   ],
   "source": [
    "f = open(file_name) #파일 열기\n",
    "header = f.readline() #데이터의 첫번째 줄을 읽음\n",
    "headerList = header.split() #첫줄의 문자열을 분리한 후 리스트로 변환\n",
    "\n",
    "espresso= []\n",
    "americano =[]\n",
    "cafelatte =[]\n",
    "cappucino = []\n",
    "\n",
    "for line in f: #두번째 줄부터 데이터를 읽어와서 반복적으로 처리\n",
    "    dataList = line.split()  #문자열을 분리해서 리스트로 변환\n",
    "    \n",
    "    #커피 종류별로 정수로 변환한 후, 리스트의 항목으로 추가\n",
    "    espresso.append(int(dataList[1]))\n",
    "    americano.append(int(dataList[2]))\n",
    "    cafelatte.append(int(dataList[3]))\n",
    "    cappucino.append(int(dataList[4]))\n",
    "  \n",
    "f.close() # 파일 닫기\n",
    "\n",
    "print(\"{0}:{1}\".format(headerList[1], espresso)) #변수에 할당된 값을 출력\n",
    "print(\"{0}:{1}\".format(headerList[1], americano))\n",
    "print(\"{0}:{1}\".format(headerList[1], cafelatte))\n",
    "print(\"{0}:{1}\".format(headerList[1], cappucino))"
   ]
  },
  {
   "cell_type": "code",
   "execution_count": 24,
   "metadata": {},
   "outputs": [
    {
     "name": "stdout",
     "output_type": "stream",
     "text": [
      "[에스프레소]판매량\n",
      "-나흘 전체:48, 하루평균:12.0\n",
      "[아메리카노]판매량\n",
      "-나흘 전체:197, 하루평균:49.25\n",
      "[카페라테]판매량\n",
      "-나흘 전체:156, 하루평균:39.0\n",
      "[카푸치노]판매량\n",
      "-나흘 전체:85, 하루평균:21.25\n"
     ]
    }
   ],
   "source": [
    "total_sum = [sum(espresso), sum(americano), sum(cafelatte), sum(cappucino)]\n",
    "total_mean = [sum(espresso)/len(espresso), sum(americano)/len(americano), sum(cafelatte)/len(cafelatte), sum(cappucino)/len(cappucino)]\n",
    "\n",
    "for k in range(len(total_sum)):\n",
    "    print('[{0}]판매량'.format(headerList[k+1]))\n",
    "    print('-나흘 전체:{0}, 하루평균:{1}'.format(total_sum[k], total_mean[k]))"
   ]
  }
 ],
 "metadata": {
  "kernelspec": {
   "display_name": "Python 3",
   "language": "python",
   "name": "python3"
  },
  "language_info": {
   "codemirror_mode": {
    "name": "ipython",
    "version": 3
   },
   "file_extension": ".py",
   "mimetype": "text/x-python",
   "name": "python",
   "nbconvert_exporter": "python",
   "pygments_lexer": "ipython3",
   "version": "3.6.10"
  }
 },
 "nbformat": 4,
 "nbformat_minor": 2
}
