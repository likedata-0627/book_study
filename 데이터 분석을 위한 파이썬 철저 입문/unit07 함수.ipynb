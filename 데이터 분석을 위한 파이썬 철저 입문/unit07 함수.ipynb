{
 "cells": [
  {
   "cell_type": "markdown",
   "metadata": {},
   "source": [
    "# 7-1 함수 정의와 호출"
   ]
  },
  {
   "cell_type": "code",
   "execution_count": 6,
   "metadata": {},
   "outputs": [],
   "source": [
    "#함수의 기본구조\n",
    "#인자도 반환 값도 없는 함수\n",
    "def my_func() :\n",
    "    print(\"my first function\")\n",
    "    print(\"this is a function\")"
   ]
  },
  {
   "cell_type": "code",
   "execution_count": 9,
   "metadata": {},
   "outputs": [
    {
     "name": "stdout",
     "output_type": "stream",
     "text": [
      "my first function\n",
      "this is a function\n"
     ]
    }
   ],
   "source": [
    "my_func()"
   ]
  },
  {
   "cell_type": "code",
   "execution_count": 12,
   "metadata": {},
   "outputs": [],
   "source": [
    "# 인자는 있으나 반환값이 없는 함수\n",
    "def my_friend(friendName):\n",
    "    print(\"{}는 나의 친구 입니다. \".format(friendName))"
   ]
  },
  {
   "cell_type": "code",
   "execution_count": 13,
   "metadata": {},
   "outputs": [
    {
     "name": "stdout",
     "output_type": "stream",
     "text": [
      "철수는 나의 친구 입니다. \n",
      "영미는 나의 친구 입니다. \n"
     ]
    }
   ],
   "source": [
    "my_friend('철수')\n",
    "my_friend('영미')"
   ]
  },
  {
   "cell_type": "code",
   "execution_count": 14,
   "metadata": {},
   "outputs": [],
   "source": [
    "def my_student_info(name, school_ID, phoneNumber):\n",
    "    print(\"---------------------\")\n",
    "    print(\"-학생이름:\", name)\n",
    "    print(\"-학급번호:\", school_ID)\n",
    "    print(\"-전화번호:\", phoneNumber)\n",
    "    "
   ]
  },
  {
   "cell_type": "code",
   "execution_count": 15,
   "metadata": {},
   "outputs": [
    {
     "name": "stdout",
     "output_type": "stream",
     "text": [
      "---------------------\n",
      "-학생이름: 현아\n",
      "-학급번호: 01\n",
      "-전화번호: 01-235-6789\n",
      "---------------------\n",
      "-학생이름: 진수\n",
      "-학급번호: 02\n",
      "-전화번호: 01-987-6543\n"
     ]
    }
   ],
   "source": [
    "my_student_info('현아','01','01-235-6789')\n",
    "my_student_info('진수','02','01-987-6543')"
   ]
  },
  {
   "cell_type": "code",
   "execution_count": 16,
   "metadata": {},
   "outputs": [],
   "source": [
    "#인자도 있고 반환값도 있는 함수\n",
    "def my_calc(x,y):\n",
    "    z = x*y\n",
    "    return z"
   ]
  },
  {
   "cell_type": "code",
   "execution_count": 17,
   "metadata": {},
   "outputs": [
    {
     "data": {
      "text/plain": [
       "12"
      ]
     },
     "execution_count": 17,
     "metadata": {},
     "output_type": "execute_result"
    }
   ],
   "source": [
    "my_calc(3,4)"
   ]
  },
  {
   "cell_type": "code",
   "execution_count": 18,
   "metadata": {},
   "outputs": [],
   "source": [
    "def my_student_info_list(student_info):\n",
    "    print(\"------------------------\")\n",
    "    print(\"*학생이름\", student_info[0])\n",
    "    print(\"*학급번호\", student_info[1])\n",
    "    print(\"*전호번호\", student_info[2])\n",
    "    print(\"------------------------\")"
   ]
  },
  {
   "cell_type": "code",
   "execution_count": 19,
   "metadata": {},
   "outputs": [
    {
     "name": "stdout",
     "output_type": "stream",
     "text": [
      "------------------------\n",
      "*학생이름 현아\n",
      "*학급번호 01\n",
      "*전호번호 01235-6789\n",
      "------------------------\n"
     ]
    }
   ],
   "source": [
    "student1_info = [\"현아\",'01','01235-6789']\n",
    "my_student_info_list(student1_info)"
   ]
  },
  {
   "cell_type": "code",
   "execution_count": null,
   "metadata": {},
   "outputs": [],
   "source": [
    "my_student_info_list(['진수','02','01-987-6543'])"
   ]
  },
  {
   "cell_type": "code",
   "execution_count": 77,
   "metadata": {},
   "outputs": [],
   "source": [
    "# 7-2 변수의 유효 범위\n",
    "a = 5 #전역범수\n",
    "def func1():\n",
    "    a =1 # 지역변수\n",
    "    print('[func1] 지역변수 a =', a)\n",
    "def func2():\n",
    "    a =2 # 지역변수\n",
    "    print('[func2] 지역변수 a =', a)\n",
    "def func3():\n",
    "    print('[func3] 지역변수 a =', a)\n",
    "def func4():\n",
    "    global a # 함수 내엥서 전역 변수 변경 위해 선언\n",
    "    a = 4\n",
    "    print('[func4] 전역변수 a =', a)"
   ]
  },
  {
   "cell_type": "code",
   "execution_count": 78,
   "metadata": {},
   "outputs": [
    {
     "name": "stdout",
     "output_type": "stream",
     "text": [
      "[func1] 지역변수 a = 1\n",
      "[func2] 지역변수 a = 2\n",
      "전역변수 a =  5\n"
     ]
    }
   ],
   "source": [
    "func1()\n",
    "func2()\n",
    "print(\"전역변수 a = \", a)"
   ]
  },
  {
   "cell_type": "code",
   "execution_count": 79,
   "metadata": {},
   "outputs": [
    {
     "name": "stdout",
     "output_type": "stream",
     "text": [
      "[func3] 지역변수 a = 5\n",
      "[func4] 전역변수 a = 4\n",
      "[func3] 지역변수 a = 4\n"
     ]
    }
   ],
   "source": [
    "# 함수안에서 정의된 지역변수는 같은 이름의 전역변수보다 먼저 사용사용되고\n",
    "#함수가 끝나면 그 효력이 즉시 사라짐. \n",
    "# 함수를 호출하지 않고 변수를 이용하면 전역 변수를 참조\n",
    "func3() \n",
    "func4()\n",
    "func3()"
   ]
  },
  {
   "cell_type": "markdown",
   "metadata": {},
   "source": [
    "# 7-3 람다 함수 : 한줄로 표현하는 함수"
   ]
  },
  {
   "cell_type": "code",
   "execution_count": 28,
   "metadata": {},
   "outputs": [
    {
     "data": {
      "text/plain": [
       "9"
      ]
     },
     "execution_count": 28,
     "metadata": {},
     "output_type": "execute_result"
    }
   ],
   "source": [
    "# 기본구조\n",
    "# lambda <인자> : <인자 활용 수행코드>\n",
    "(lambda x : x**2) (3)"
   ]
  },
  {
   "cell_type": "code",
   "execution_count": 32,
   "metadata": {},
   "outputs": [
    {
     "name": "stdout",
     "output_type": "stream",
     "text": [
      "4\n",
      "25\n"
     ]
    }
   ],
   "source": [
    "my_square = lambda x : x**2\n",
    "print(my_square(2))\n",
    "print(my_square(5))"
   ]
  },
  {
   "cell_type": "code",
   "execution_count": 33,
   "metadata": {},
   "outputs": [
    {
     "data": {
      "text/plain": [
       "11"
      ]
     },
     "execution_count": 33,
     "metadata": {},
     "output_type": "execute_result"
    }
   ],
   "source": [
    "mySimpleFunc = lambda x,y,z : 2*x+3*y+z\n",
    "mySimpleFunc(1,2,3)"
   ]
  },
  {
   "cell_type": "markdown",
   "metadata": {},
   "source": [
    "# 7-4 유용한 내장 함수"
   ]
  },
  {
   "cell_type": "code",
   "execution_count": 34,
   "metadata": {},
   "outputs": [
    {
     "data": {
      "text/plain": [
       "[0, 3, -1]"
      ]
     },
     "execution_count": 34,
     "metadata": {},
     "output_type": "execute_result"
    }
   ],
   "source": [
    "# 형 변환 함수\n",
    "# 정수형으로 변환\n",
    "[int(0.123), int(3.5123456), int(-1.312367)]"
   ]
  },
  {
   "cell_type": "code",
   "execution_count": 36,
   "metadata": {},
   "outputs": [
    {
     "data": {
      "text/plain": [
       "[1234, 5678, -9012]"
      ]
     },
     "execution_count": 36,
     "metadata": {},
     "output_type": "execute_result"
    }
   ],
   "source": [
    "[int('1234'),int('5678'),int('-9012')] "
   ]
  },
  {
   "cell_type": "code",
   "execution_count": 37,
   "metadata": {},
   "outputs": [
    {
     "data": {
      "text/plain": [
       "[0.0, 123.0, -567.0]"
      ]
     },
     "execution_count": 37,
     "metadata": {},
     "output_type": "execute_result"
    }
   ],
   "source": [
    "# 실수형으로 변환\n",
    "[float(0), float(123), float(-567)]"
   ]
  },
  {
   "cell_type": "code",
   "execution_count": 38,
   "metadata": {},
   "outputs": [
    {
     "data": {
      "text/plain": [
       "[10.0, 0.123, -567.89]"
      ]
     },
     "execution_count": 38,
     "metadata": {},
     "output_type": "execute_result"
    }
   ],
   "source": [
    "[float('10'), float('0.123'), float('-567.89')]"
   ]
  },
  {
   "cell_type": "code",
   "execution_count": 39,
   "metadata": {},
   "outputs": [
    {
     "data": {
      "text/plain": [
       "['123', '45678', '-987']"
      ]
     },
     "execution_count": 39,
     "metadata": {},
     "output_type": "execute_result"
    }
   ],
   "source": [
    "#문자형으로 변환\n",
    "[str(123), str(45678), str(-987)]"
   ]
  },
  {
   "cell_type": "code",
   "execution_count": 40,
   "metadata": {},
   "outputs": [
    {
     "data": {
      "text/plain": [
       "['0.123', '345.678', '-5.987']"
      ]
     },
     "execution_count": 40,
     "metadata": {},
     "output_type": "execute_result"
    }
   ],
   "source": [
    "[str(0.123), str(345.678), str(-5.987)]"
   ]
  },
  {
   "cell_type": "code",
   "execution_count": 41,
   "metadata": {},
   "outputs": [],
   "source": [
    "# 리스트, 튜플, 세트형으로 변환\n",
    "list_data = ['abc',1,2,'def']\n",
    "tuple_data = ('abc',1,2,'def')\n",
    "set_data = {'abc',1,2,'def'}"
   ]
  },
  {
   "cell_type": "code",
   "execution_count": 42,
   "metadata": {},
   "outputs": [
    {
     "data": {
      "text/plain": [
       "(list, tuple, set)"
      ]
     },
     "execution_count": 42,
     "metadata": {},
     "output_type": "execute_result"
    }
   ],
   "source": [
    "type(list_data), type(tuple_data), type(set_data)"
   ]
  },
  {
   "cell_type": "code",
   "execution_count": 43,
   "metadata": {},
   "outputs": [
    {
     "name": "stdout",
     "output_type": "stream",
     "text": [
      "리스트로 변환:  ['abc', 1, 2, 'def'] [1, 2, 'def', 'abc']\n",
      "튜플로 변환:  ('abc', 1, 2, 'def') [1, 2, 'def', 'abc']\n",
      "세트로 변환:  {1, 2, 'def', 'abc'} ['abc', 1, 2, 'def']\n"
     ]
    }
   ],
   "source": [
    "print(\"리스트로 변환: \", list(tuple_data), list(set_data))\n",
    "print(\"튜플로 변환: \", tuple(list_data), list(set_data))\n",
    "print(\"세트로 변환: \", set(list_data), list(tuple_data))"
   ]
  },
  {
   "cell_type": "code",
   "execution_count": 45,
   "metadata": {},
   "outputs": [
    {
     "name": "stdout",
     "output_type": "stream",
     "text": [
      "False\n",
      "True\n",
      "True\n",
      "True\n",
      "True\n"
     ]
    }
   ],
   "source": [
    "# bool 함수\n",
    "# 숫자를 인자로 bool함수 호출\n",
    "print(bool(0)) #인자: 숫자0\n",
    "print(bool(1)) #인자: 양의 정수\n",
    "print(bool(-10)) #인자: 음의 정수\n",
    "print(bool(5.12)) #인자: 양의 실수\n",
    "print(bool(-3.26)) #인자: 음의 실수"
   ]
  },
  {
   "cell_type": "code",
   "execution_count": 49,
   "metadata": {},
   "outputs": [
    {
     "name": "stdout",
     "output_type": "stream",
     "text": [
      "True\n",
      "True\n",
      "False\n",
      "False\n"
     ]
    }
   ],
   "source": [
    "#문자열을 인자로 bool함수 호출\n",
    "print(bool('a')) #인자: 문자열'a'\n",
    "print(bool(' '))  #인자: 빈 문자열(공백)\n",
    "print(bool(''))  #인자: 문자열 없음\n",
    "print(bool(None))  #인자: None"
   ]
  },
  {
   "cell_type": "code",
   "execution_count": 50,
   "metadata": {},
   "outputs": [
    {
     "data": {
      "text/plain": [
       "False"
      ]
     },
     "execution_count": 50,
     "metadata": {},
     "output_type": "execute_result"
    }
   ],
   "source": [
    "# 리스트, 튜플, 세트를 인자로 bool 함수 호출\n",
    "myFriends=[]\n",
    "bool(myFriends) # 인자: 항목이 없는 빈 리스트"
   ]
  },
  {
   "cell_type": "code",
   "execution_count": 51,
   "metadata": {},
   "outputs": [
    {
     "data": {
      "text/plain": [
       "True"
      ]
     },
     "execution_count": 51,
     "metadata": {},
     "output_type": "execute_result"
    }
   ],
   "source": [
    "myFriends = ['James','Robert','Lisa','Mary']\n",
    "bool(myFriends) #인자 : 항목이 있는 리스트"
   ]
  },
  {
   "cell_type": "code",
   "execution_count": 52,
   "metadata": {},
   "outputs": [
    {
     "data": {
      "text/plain": [
       "False"
      ]
     },
     "execution_count": 52,
     "metadata": {},
     "output_type": "execute_result"
    }
   ],
   "source": [
    "myNum =()\n",
    "bool(myNum) #d인자 : 항목이 없는 빈 튜플"
   ]
  },
  {
   "cell_type": "code",
   "execution_count": 53,
   "metadata": {},
   "outputs": [
    {
     "data": {
      "text/plain": [
       "True"
      ]
     },
     "execution_count": 53,
     "metadata": {},
     "output_type": "execute_result"
    }
   ],
   "source": [
    "myNum =(1,2,3)\n",
    "bool(myNum) #인자 : 항목이 있는 튜플"
   ]
  },
  {
   "cell_type": "code",
   "execution_count": 54,
   "metadata": {},
   "outputs": [
    {
     "data": {
      "text/plain": [
       "False"
      ]
     },
     "execution_count": 54,
     "metadata": {},
     "output_type": "execute_result"
    }
   ],
   "source": [
    "mySetA ={}\n",
    "bool(mySetA) #인자 : 항목이 없는 빈세트"
   ]
  },
  {
   "cell_type": "code",
   "execution_count": 55,
   "metadata": {},
   "outputs": [
    {
     "data": {
      "text/plain": [
       "True"
      ]
     },
     "execution_count": 55,
     "metadata": {},
     "output_type": "execute_result"
    }
   ],
   "source": [
    "mySetA ={10,20,30}\n",
    "bool(mySetA) #인자 : 항목이 있는 세트"
   ]
  },
  {
   "cell_type": "code",
   "execution_count": 56,
   "metadata": {},
   "outputs": [],
   "source": [
    "# bool 함수의 활용\n",
    "def print_name(name):\n",
    "    if bool(name):\n",
    "        print(\"입력된 이름:\", name)\n",
    "    else:\n",
    "        print(\"입력된 이름이 없습니다.\")"
   ]
  },
  {
   "cell_type": "code",
   "execution_count": 57,
   "metadata": {},
   "outputs": [
    {
     "name": "stdout",
     "output_type": "stream",
     "text": [
      "입력된 이름: James\n"
     ]
    }
   ],
   "source": [
    "print_name(\"James\")"
   ]
  },
  {
   "cell_type": "code",
   "execution_count": 58,
   "metadata": {},
   "outputs": [
    {
     "name": "stdout",
     "output_type": "stream",
     "text": [
      "입력된 이름이 없습니다.\n"
     ]
    }
   ],
   "source": [
    "print_name(\"\")"
   ]
  },
  {
   "cell_type": "code",
   "execution_count": 60,
   "metadata": {},
   "outputs": [
    {
     "data": {
      "text/plain": [
       "[0, 99.5]"
      ]
     },
     "execution_count": 60,
     "metadata": {},
     "output_type": "execute_result"
    }
   ],
   "source": [
    "# 최솟값과 최대값을 구하는 함수\n",
    "myNum = [10,5,12,0,3.5,99.5,42]\n",
    "[min(myNum), max(myNum)]"
   ]
  },
  {
   "cell_type": "code",
   "execution_count": 61,
   "metadata": {},
   "outputs": [
    {
     "data": {
      "text/plain": [
       "['a', 'z']"
      ]
     },
     "execution_count": 61,
     "metadata": {},
     "output_type": "execute_result"
    }
   ],
   "source": [
    "myStr ='zxyabc'\n",
    "[min(myStr), max(myStr)]"
   ]
  },
  {
   "cell_type": "code",
   "execution_count": 62,
   "metadata": {},
   "outputs": [
    {
     "data": {
      "text/plain": [
       "[0, 99.5]"
      ]
     },
     "execution_count": 62,
     "metadata": {},
     "output_type": "execute_result"
    }
   ],
   "source": [
    "myNum = (10,5,12,0,3.5,99.5,42)\n",
    "[min(myNum), max(myNum)]"
   ]
  },
  {
   "cell_type": "code",
   "execution_count": 64,
   "metadata": {},
   "outputs": [
    {
     "data": {
      "text/plain": [
       "['ABC', 'efg']"
      ]
     },
     "execution_count": 64,
     "metadata": {},
     "output_type": "execute_result"
    }
   ],
   "source": [
    "myNum={'ABC','abc','bcd','efg'}\n",
    "[min(myNum), max(myNum)]"
   ]
  },
  {
   "cell_type": "code",
   "execution_count": 65,
   "metadata": {},
   "outputs": [
    {
     "data": {
      "text/plain": [
       "[10, 10]"
      ]
     },
     "execution_count": 65,
     "metadata": {},
     "output_type": "execute_result"
    }
   ],
   "source": [
    "# 절대값과 전체합을 구하는 함수\n",
    "[abs(10), abs(-10)]"
   ]
  },
  {
   "cell_type": "code",
   "execution_count": 66,
   "metadata": {},
   "outputs": [
    {
     "data": {
      "text/plain": [
       "[2.45, 2.45]"
      ]
     },
     "execution_count": 66,
     "metadata": {},
     "output_type": "execute_result"
    }
   ],
   "source": [
    "[abs(2.45), abs(-2.45)]"
   ]
  },
  {
   "cell_type": "code",
   "execution_count": 67,
   "metadata": {},
   "outputs": [
    {
     "data": {
      "text/plain": [
       "55"
      ]
     },
     "execution_count": 67,
     "metadata": {},
     "output_type": "execute_result"
    }
   ],
   "source": [
    "sumList = [1,2,3,4,5,6,7,8,9,10]\n",
    "sum(sumList)"
   ]
  },
  {
   "cell_type": "code",
   "execution_count": 72,
   "metadata": {},
   "outputs": [
    {
     "name": "stdout",
     "output_type": "stream",
     "text": [
      "5\n",
      "8\n",
      "5\n",
      "3\n"
     ]
    }
   ],
   "source": [
    "# 항목의 개수를 구하는 함tn\n",
    "print(len('ab cd')) #문자열\n",
    "print(len([1,2,3,4,5,6,7,8])) # 리스트\n",
    "print(len((1,2,3,4,5))) # 튜플\n",
    "print(len({1:\"Thomas\",2:\"Edward\",3:\"henry\"})) # 딕셔너리"
   ]
  },
  {
   "cell_type": "code",
   "execution_count": 73,
   "metadata": {},
   "outputs": [
    {
     "name": "stdout",
     "output_type": "stream",
     "text": [
      "총점:350, 평균:87.5\n"
     ]
    }
   ],
   "source": [
    "# 내장 함수의 활용\n",
    "scores = [90,80,95,85]\n",
    "\n",
    "score_sum  =0\n",
    "subject_num = 0\n",
    "for score in scores:\n",
    "    score_sum = score_sum + score\n",
    "    subject_num = subject_num +1\n",
    "\n",
    "average = score_sum / subject_num\n",
    "print(\"총점:{0}, 평균:{1}\".format(score_sum, average))"
   ]
  },
  {
   "cell_type": "code",
   "execution_count": 75,
   "metadata": {},
   "outputs": [
    {
     "name": "stdout",
     "output_type": "stream",
     "text": [
      "총점:350, 평균:87.5\n"
     ]
    }
   ],
   "source": [
    "scores = [90,80,95,85]\n",
    "print(\"총점:{0}, 평균:{1}\".format(sum(scores), sum(scores)/len(scores)))"
   ]
  },
  {
   "cell_type": "code",
   "execution_count": 76,
   "metadata": {},
   "outputs": [
    {
     "name": "stdout",
     "output_type": "stream",
     "text": [
      "최하점수:80, 최고점수:[1]\n"
     ]
    }
   ],
   "source": [
    "print(\"최하점수:{0}, 최고점수:[1]\".format(min(scores), max(scores)))"
   ]
  }
 ],
 "metadata": {
  "kernelspec": {
   "display_name": "Python 3",
   "language": "python",
   "name": "python3"
  },
  "language_info": {
   "codemirror_mode": {
    "name": "ipython",
    "version": 3
   },
   "file_extension": ".py",
   "mimetype": "text/x-python",
   "name": "python",
   "nbconvert_exporter": "python",
   "pygments_lexer": "ipython3",
   "version": "3.7.6"
  }
 },
 "nbformat": 4,
 "nbformat_minor": 2
}
